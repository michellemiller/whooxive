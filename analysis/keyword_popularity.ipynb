{
 "cells": [
  {
   "cell_type": "markdown",
   "metadata": {},
   "source": [
    "Historic changes: how do the 'top' keywords change in time, and how do pairings of words change? E.g., 'ultracold' and 'lattice' should surge in popularity at some point.\n",
    "\n",
    "This notebooks focuses on atom-ph"
   ]
  },
  {
   "cell_type": "code",
   "execution_count": 2,
   "metadata": {
    "collapsed": true
   },
   "outputs": [],
   "source": [
    "#Need to add parent directoy to sys.path to find 'metadataDB'\n",
    "import sys\n",
    "sys.path.append('../')\n",
    "\n",
    "%matplotlib inline\n",
    "import matplotlib.pyplot as plt \n",
    "import time\n",
    "import numpy as np\n",
    "from datetime import date\n",
    "from dateutil.relativedelta import relativedelta\n",
    "\n",
    "# Natural language processing toolkit\n",
    "# To use this, run nltk.download() and download 'stopwords'\n",
    "from nltk.corpus import stopwords\n",
    "s=stopwords.words('english') + ['']\n",
    "\n",
    "# SQL\n",
    "from sqlalchemy import create_engine\n",
    "from sqlalchemy.orm import sessionmaker\n",
    "from metadataDB.declareDatabase import *\n",
    "from sqlalchemy import or_, and_\n",
    "\n",
    "engine = create_engine(\"sqlite:///../arXiv_metadata.db\", echo=False)\n",
    "Base.metadata.bind = engine\n",
    "DBsession = sessionmaker(bind=engine)\n",
    "session = DBsession()"
   ]
  },
  {
   "cell_type": "code",
   "execution_count": 3,
   "metadata": {
    "collapsed": false
   },
   "outputs": [
    {
     "name": "stdout",
     "output_type": "stream",
     "text": [
      "2075\n"
     ]
    }
   ],
   "source": [
    "query = session.query(Article_Category)\\\n",
    "                    .join(Category)\\\n",
    "                    .join(Article)\\\n",
    "                    .filter(Category.name.like('%atom-ph')).order_by(Article.created)\n",
    "results = query.all()\n",
    "print len(results)"
   ]
  },
  {
   "cell_type": "markdown",
   "metadata": {},
   "source": [
    "Bin by quarter ('created', NOT oai's datestamp)"
   ]
  },
  {
   "cell_type": "code",
   "execution_count": 4,
   "metadata": {
    "collapsed": false
   },
   "outputs": [],
   "source": [
    "first = results[0].article.created\n",
    "last = results[-1].article.created\n",
    "currentDate = date(first.year, first.month - (first.month % 3), 1)\n",
    "datelist = []\n",
    "\n",
    "while currentDate < (last + relativedelta(months=3)):\n",
    "    datelist.append(currentDate)\n",
    "    currentDate += relativedelta(months=3)\n"
   ]
  },
  {
   "cell_type": "code",
   "execution_count": 22,
   "metadata": {
    "collapsed": false
   },
   "outputs": [
    {
     "name": "stdout",
     "output_type": "stream",
     "text": [
      "47 articles per second (2075 articles, 43 seconds)\n"
     ]
    }
   ],
   "source": [
    "abstracts = []\n",
    "\n",
    "start = time.time()\n",
    "for (fromdate, todate) in zip(datelist[0:-1], datelist[1:]):\n",
    "#     print(fromdate, todate)\n",
    "    currentResult = query.filter(Article.created >= fromdate, Article.created < todate).all()\n",
    "    currentWordList = dict()\n",
    "    \n",
    "    for item in currentResult:\n",
    "        for word in set((item.article.abstract).replace('\\n',' ') \\\n",
    "                                       .replace('\\\\','') \\\n",
    "                                       .replace('(','') \\\n",
    "                                       .replace(')','') \\\n",
    "                                       .lower() \\\n",
    "                                       .split(' ')):\n",
    "            if (word not in s) and (word.isalpha()):\n",
    "                if word in currentWordList.keys():\n",
    "                    currentWordList[word] += 1\n",
    "                else:\n",
    "                    currentWordList[word] = 1\n",
    "    abstracts.append(currentWordList)\n",
    "total_time = time.time() - start\n",
    "print \"%0.0f articles per second (%i articles, %i seconds)\" \\\n",
    "    % ( len(results)/total_time, len(results), total_time )"
   ]
  },
  {
   "cell_type": "markdown",
   "metadata": {},
   "source": [
    "How often do particular words show up over time? This should be replaced with an algorithm that chooses the most common words."
   ]
  },
  {
   "cell_type": "code",
   "execution_count": 63,
   "metadata": {
    "collapsed": false
   },
   "outputs": [],
   "source": [
    "favorite_words = ['ultracold', 'ultrafast', 'attosecond', 'lattice', 'nuclear','quantum']\n",
    "word_frequency = dict([(x, []) for x in favorite_words])\n",
    "\n",
    "for item in abstracts:\n",
    "    for word in favorite_words:\n",
    "        numWords = 0\n",
    "        if word in item.keys():\n",
    "            numWords += item[word]\n",
    "#        word_frequency[word].append(numWords)\n",
    "        word_frequency[word].append(numWords*1./sum(item.values()))\n"
   ]
  },
  {
   "cell_type": "code",
   "execution_count": 64,
   "metadata": {
    "collapsed": false
   },
   "outputs": [
    {
     "data": {
      "text/plain": [
       "<matplotlib.legend.Legend at 0x10df4dbd0>"
      ]
     },
     "execution_count": 64,
     "metadata": {},
     "output_type": "execute_result"
    },
    {
     "data": {
      "image/png": "[encoded data removed]",
      "text/plain": [
       "<matplotlib.figure.Figure at 0x10df4df50>"
      ]
     },
     "metadata": {},
     "output_type": "display_data"
    }
   ],
   "source": [
    "for key, val in word_frequency.iteritems():\n",
    "    plt.plot(datelist[:-1], val, label=key)\n",
    "plt.legend(loc=0)"
   ]
  },
  {
   "cell_type": "code",
   "execution_count": null,
   "metadata": {
    "collapsed": true
   },
   "outputs": [],
   "source": []
  },
  {
   "cell_type": "code",
   "execution_count": null,
   "metadata": {
    "collapsed": true
   },
   "outputs": [],
   "source": []
  },
  {
   "cell_type": "code",
   "execution_count": null,
   "metadata": {
    "collapsed": true
   },
   "outputs": [],
   "source": []
  },
  {
   "cell_type": "code",
   "execution_count": 44,
   "metadata": {
    "collapsed": false
   },
   "outputs": [
    {
     "name": "stdout",
     "output_type": "stream",
     "text": [
      "(u'compared', 4)\n",
      "(u'atomic', 7)\n",
      "(u'states', 6)\n",
      "(u'using', 5)\n",
      "(u'energy', 2)\n",
      "(u'energy', 2)\n",
      "(u'nuclear', 4)\n",
      "(u'results', 2)\n",
      "(u'quantum', 3)\n",
      "(u'quantum', 4)\n",
      "(u'energy', 4)\n",
      "(u'atomic', 5)\n",
      "(u'theory', 5)\n",
      "(u'also', 5)\n",
      "(u'compared', 5)\n",
      "(u'results', 3)\n",
      "(u'states', 8)\n",
      "(u'atomic', 7)\n",
      "(u'atomic', 7)\n",
      "(u'atoms', 10)\n",
      "(u'energy', 9)\n",
      "(u'using', 9)\n",
      "(u'theoretical', 8)\n",
      "(u'interaction', 10)\n",
      "(u'atomic', 8)\n",
      "(u'quantum', 12)\n",
      "(u'atoms', 12)\n",
      "(u'quantum', 7)\n",
      "(u'using', 12)\n",
      "(u'quantum', 6)\n",
      "(u'atoms', 8)\n",
      "(u'atoms', 8)\n",
      "(u'state', 13)\n",
      "(u'states', 13)\n",
      "(u'atomic', 11)\n",
      "(u'atoms', 13)\n",
      "(u'results', 11)\n",
      "(u'atoms', 15)\n",
      "(u'atoms', 11)\n",
      "(u'results', 9)\n",
      "(u'atomic', 16)\n",
      "(u'atoms', 16)\n",
      "(u'used', 11)\n",
      "(u'results', 14)\n",
      "(u'energy', 14)\n",
      "(u'state', 17)\n",
      "(u'atoms', 28)\n",
      "(u'using', 41)\n",
      "(u'using', 35)\n",
      "(u'atoms', 33)\n",
      "(u'laser', 27)\n",
      "(u'using', 27)\n",
      "(u'using', 39)\n",
      "(u'using', 35)\n",
      "(u'using', 18)\n",
      "(u'atoms', 17)\n",
      "(u'also', 15)\n",
      "(u'field', 3)\n"
     ]
    }
   ],
   "source": [
    "for item in abstracts:\n",
    "    print sorted(zip(item.keys(), item.values()), key=lambda x: -x[1])[0]\n",
    "#     for word in favorite_words:\n",
    "#         numWords = 0\n",
    "#         if word in item.keys():\n",
    "#             numWords += item[word]\n",
    "#         word_frequency[word].append(numWords)\n",
    "        \n"
   ]
  },
  {
   "cell_type": "code",
   "execution_count": null,
   "metadata": {
    "collapsed": true
   },
   "outputs": [],
   "source": []
  }
 ],
 "metadata": {
  "kernelspec": {
   "display_name": "Python 2",
   "language": "python",
   "name": "python2"
  },
  "language_info": {
   "codemirror_mode": {
    "name": "ipython",
    "version": 2
   },
   "file_extension": ".py",
   "mimetype": "text/x-python",
   "name": "python",
   "nbconvert_exporter": "python",
   "pygments_lexer": "ipython2",
   "version": "2.7.11"
  }
 },
 "nbformat": 4,
 "nbformat_minor": 0
}
