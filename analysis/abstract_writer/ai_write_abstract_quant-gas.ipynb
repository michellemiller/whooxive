{
 "cells": [
  {
   "cell_type": "code",
   "execution_count": 4,
   "metadata": {
    "collapsed": true
   },
   "outputs": [],
   "source": [
    "#Need to add parent directoy to sys.path to find 'metadataDB'\n",
    "import sys\n",
    "sys.path.append('../')\n",
    "\n",
    "%matplotlib inline\n",
    "# import matplotlib.pyplot as plt \n",
    "import time\n",
    "# import numpy as np\n",
    "# import scipy as sp\n",
    "import re\n",
    "from collections import Counter\n",
    "import random\n",
    "\n",
    "# Natural language processing toolkit\n",
    "# To use this, run nltk.download() and download 'stopwords'\n",
    "# from nltk.corpus import stopwords\n",
    "# s=stopwords.words('english') + ['']\n",
    "\n",
    "# Machine learning\n",
    "# from sklearn.feature_extraction.text import CountVectorizer\n",
    "# from sklearn.feature_extraction.text import TfidfTransformer\n",
    "# from sklearn.naive_bayes import MultinomialNB\n",
    "# from sklearn.linear_model import LogisticRegression\n",
    "# from sklearn.svm import LinearSVC, SVC\n",
    "# from sklearn.pipeline import Pipeline\n",
    "# from sklearn import metrics\n",
    "\n",
    "# SQL\n",
    "from sqlalchemy import create_engine\n",
    "from sqlalchemy.orm import sessionmaker\n",
    "from metadataDB.declareDatabase import *\n",
    "from sqlalchemy import or_, and_\n",
    "\n",
    "engine = create_engine(\"sqlite:///../arXiv_metadata.db\", echo=False)\n",
    "Base.metadata.bind = engine\n",
    "DBsession = sessionmaker(bind=engine)\n",
    "session = DBsession()"
   ]
  },
  {
   "cell_type": "code",
   "execution_count": 5,
   "metadata": {
    "collapsed": true
   },
   "outputs": [],
   "source": [
    "query = session.query(Article_Category)\\\n",
    "                    .join(Category)\\\n",
    "                    .join(Article)\\\n",
    "                    .filter(Category.name.like('%quant-gas'))\n",
    "resultPRL = query.all()\n",
    "abstract_all = [x.article.abstract for x in query.all()]\n",
    "session.close_all()"
   ]
  },
  {
   "cell_type": "code",
   "execution_count": 6,
   "metadata": {
    "collapsed": false
   },
   "outputs": [
    {
     "name": "stdout",
     "output_type": "stream",
     "text": [
      "9107\n"
     ]
    }
   ],
   "source": [
    "abstract_train = abstract_all\n",
    "print len(abstract_train)"
   ]
  },
  {
   "cell_type": "markdown",
   "metadata": {},
   "source": [
    "CountVectorizer might do a cleaner job."
   ]
  },
  {
   "cell_type": "code",
   "execution_count": 7,
   "metadata": {
    "collapsed": false
   },
   "outputs": [],
   "source": [
    "class AbstractWriter:\n",
    "    '''This class will take a specific n-gram and learn to write abstracts from a few words.'''\n",
    "    _data = dict()\n",
    "    _abstracts = []\n",
    "    \n",
    "    def __init__(self, ngram, randomize=False, seed=None, maxWords=200):\n",
    "        self.ngram = ngram\n",
    "        self.randomize = randomize\n",
    "        self.seed = seed\n",
    "        self.maxWords = maxWords\n",
    "        if seed is not None:\n",
    "            random.seed(seed)\n",
    "\n",
    "    \n",
    "    def fit(self, train):\n",
    "        data_list = []\n",
    "        for item in train:\n",
    "            ind = 0\n",
    "            textlist = self.__cleanup_text(item)\n",
    "            self._abstracts.append(' '.join(textlist))\n",
    "            while ind + self.ngram - 1 < len(textlist):\n",
    "                currentTuple = tuple(textlist[ind:(ind+self.ngram-1)])\n",
    "                nextWord = textlist[ind+self.ngram-1]\n",
    "                data_list.append((tuple(textlist[ind:(ind+self.ngram-1)]),\n",
    "                                        textlist[ind+self.ngram-1]))\n",
    "                ind += 1\n",
    "        data_list.sort()\n",
    "        \n",
    "        # Now that the list is sorted, convert it into a dictionary.\n",
    "        # Since the list is sorted, each subsuquent entry is either new or a continuation of the previous one.\n",
    "\n",
    "        previousKey = None\n",
    "        for val in data_list:\n",
    "            currentKey = val[0]\n",
    "            if currentKey == previousKey:\n",
    "                self._data[currentKey].append(val[1])\n",
    "            else:\n",
    "                self._data[currentKey] = [val[1]]\n",
    "            previousKey = val[0]\n",
    "\n",
    "    def find_next_word(self, phrase):\n",
    "        '''phrase is a tuple of (typ. 3) words. Returns the next word.'''\n",
    "        # Since data is sorted, it should be possible to search quickly. I'm not doing this properly.\n",
    "        if phrase in self._data.keys():\n",
    "            solution = self._data[phrase]\n",
    "            \n",
    "            # If there are more than one result, we either return the most popular option or\n",
    "            # a random answer weighted by popularity.\n",
    "            if self.randomize:\n",
    "                return random.choice(solution)\n",
    "            else:\n",
    "                count = Counter(solution)\n",
    "                return count.most_common(1)[0][0]\n",
    "        else:\n",
    "            return None\n",
    "        \n",
    "    def write_abstract(self, beginning):\n",
    "        abstract = list(beginning)\n",
    "        nextWord = ''\n",
    "        ind = len(beginning) - self.ngram + 1\n",
    "        while (nextWord is not None) and (ind < self.maxWords):\n",
    "            nextWord = self.find_next_word(tuple(abstract[ind:(ind+self.ngram)]))\n",
    "            if nextWord is None:\n",
    "                break\n",
    "            else:\n",
    "                abstract.append(nextWord)\n",
    "                ind += 1\n",
    "        return ' '.join(abstract)\n",
    "    \n",
    "    def find_similar(self, abstract):\n",
    "        '''Have I accidentally plagarized one of the articles?\n",
    "        With too few choices, we will likely just copy an existing article.\n",
    "        Returns the longest chunk highlighted in an existing article.'''\n",
    "        first = 0\n",
    "        last = 1\n",
    "        abort = False\n",
    "        longestChunk = ''\n",
    "        longestChunkLength = 0\n",
    "\n",
    "        totalLength = len(abstract.split())\n",
    "        while first + longestChunkLength < totalLength:\n",
    "            chunk = ' '.join(abstract.split()[first:last])\n",
    "            if any(x for x in self._abstracts if chunk in x):\n",
    "                if last - first + 1 > longestChunkLength:\n",
    "                    longestChunk = chunk\n",
    "                    longestChunkLength = last - first + 1\n",
    "                last += 1\n",
    "            else:\n",
    "                first += 1\n",
    "                last = first + 1\n",
    "        \n",
    "        best_abstract = (x for x in self._abstracts if longestChunk in x).next()\n",
    "        return re.sub('(' + longestChunk + ')', '[[[' + longestChunk + ']]]', best_abstract)\n",
    "\n",
    "\n",
    "    def __cleanup_text(self, text):\n",
    "        # re from kaggle https://www.kaggle.com/c/word2vec-nlp-tutorial/details/part-1-for-beginners-bag-of-wordsi\n",
    "        # Remove punctuation. Keep periods.\n",
    "        # \n",
    "        # New trick: replace numbers with ##, which we will later replace with different numbers.\n",
    "        pattern1 = re.compile(\"[0-9]\")\n",
    "        pattern2 = re.compile(\"[^a-zA-Z#.]\")\n",
    "        # The previous pattern could make multiple spaces. Turn multiple spaces into a single space.\n",
    "        pattern3 = re.compile(\"(\\s{2,})\")\n",
    "        return pattern3.sub(\" \",\n",
    "                            pattern2.sub(\" \",\n",
    "                                         pattern1.sub(\"#\",\n",
    "                                                      text.lstrip().rstrip()))).split(' ')"
   ]
  },
  {
   "cell_type": "markdown",
   "metadata": {},
   "source": [
    "Let's make a bunch of abstracts that start in a way similar to existing abstracts, and find if they accidentally plagarize anything."
   ]
  },
  {
   "cell_type": "code",
   "execution_count": 8,
   "metadata": {
    "collapsed": false
   },
   "outputs": [],
   "source": [
    "def WriteAbstract(ngram):\n",
    "    writer = AbstractWriter(ngram=ngram, randomize=True, seed=42)\n",
    "    writer.fit(abstract_train)\n",
    "    for i in range(0,5):\n",
    "        phrase = random.choice(writer._abstracts).split()[0:(ngram-1)]\n",
    "        currentAbstract = writer.write_abstract(tuple(phrase))\n",
    "        print 'New abstract: ' + currentAbstract\n",
    "        print ''\n",
    "        print 'Existing abstract: ' + writer.find_similar(currentAbstract)\n",
    "        print ''\n",
    "    return writer"
   ]
  },
  {
   "cell_type": "code",
   "execution_count": 9,
   "metadata": {
    "collapsed": false
   },
   "outputs": [
    {
     "name": "stdout",
     "output_type": "stream",
     "text": [
      "New abstract: We observed an enhanced atom dimer relaxation rate namely two resonances and two local minima. We use the Schwinger Keldysh formalism. We show that it displays at the critical number of particle in the disordered potential. In this system the role of the Ginzburg Landau equation SCGLE . We directly extract the static and dynamic structure factors through the renowned Tan relations. However a conceptual question remains open as to whether or not they are actually formed in supernova cores is still unclear. Here we solve the N body dynamics can be cast into the form of an exact flow equation for scale dependent composite operators. This equation allows for example a thermal quench starting from thermal states. We show that depending on the shaking parameter. It is shown that the repulsive interaction U from the metallic state through the superfluid Mott insulator transition for two dimensional Gross Pitaevskii equation. In the theoretical framework the regularization process of shock waves gradient catastrophe . In the two space variable form we consider the three dimensional bosonic t J model and it induces new orders named random field induced order RFIO . We show that in contrast to the standard formulation of the quantum vapour.\n",
      "\n",
      "Existing abstract: A central quantity of importance for ultracold atoms is contact which measures two body correlations at short distances in dilute systems. It appears in universal relations among thermodynamic quantities such as large momentum tails energy [[[and dynamic structure factors through the renowned Tan relations. However a conceptual question remains open as to whether or not]]] contact can signify phase transitions that are insensitive to short range physics. Here we show that near a continuous classical or quantum phase transition contact exhibits a variety of critical behaviors including scaling laws and critical exponents that are uniquely determined by the universality class of the phase transition and a constant contact per particle. We also use a prototypical exactly solvable model to demonstrate these critical behaviors in one dimensional strongly interacting fermions. Our work establishes an intrinsic connection between the universality of dilute many body systems and universal critical phenomena near a phase transition.\n",
      "\n",
      "New abstract: We introduce a system of ordinary differential equations ODE for which the so called chiral spin liquid has a bulk gap in the latter. In order to make this review self contained and adequate for a general theory for determining consistent electromagnetic response functions in fermionic superfluids including large amplitude collective modes which are characterized by universal exponents in a finite time which critically depends on the position of the Brownian particle. We analyze various observables which should reveal in experiments these phases.\n",
      "\n",
      "Existing abstract: In this work we revisit the concept of chemical potential mu in both classical and quantum gases from a perspective of Equilibrium Statistical Mechanics ESM . Two new results regarding the equation of state mu mu n T where n is the particle density and T the absolute temperature are given for the classical interacting gas and for the weakly interacting quantum Bose gas. [[[In order to make this review self contained and adequate for a general]]] reader we provide all the basic elements in an advanced undergraduate or graduate statistical mechanics course required to follow all the calculations. We start by presenting a calculation of mu n T for the classical ideal gas in the canonical ensemble. After this we consider the interactions between particles and compute the effects of them on mu n T for the van der Waals gas. For quantum gases we present an alternative approach to calculate the Bose Einstein BE and Fermi Dirac FD statistics. We show that this scheme can be straightforwardly generalized to determine what we have called Intermediate Quantum Statistics IQS which deal with ideal quantum systems where a single particle energy can be occupied by at most j particles with # leqslant j leqslant N with N the total number of particles. In the final part we address general considerations that underlie the theory of weakly interacting quantum gases. In the case of the weakly interacting Bose gas we focus our attention to the equation of state mu mu n T in the Hartree Fock mean field approximation HF and the implications of such results in the elucidation of the order of the phase transitions involved in the BEC phase for non ideal Bose gases.\n",
      "\n",
      "New abstract: The observation of long lived stable breathers in an attractively interacting two component DFG in the BEC BCS crossover to phase separation to the AF Heisenberg regime is signaled by the appearance of a series of ground states in which they will support a persistent essentially immortal flow of particles. Unlike anything in classical physics these flows engender neither friction nor resistance. A major accomplishment of Twentieth Century physics was the development of a theory of two coupled Gross Pitaevkii equations GPE and derive explicit expressions for the Landau levels can be experimentally realized in Mott insulating regimes. We extend previous theoretical studies of spinning many particle systems within the framework of effective field theories dictated by the geometry of the cavity. The transport can also be observed in experiments with ultracold gases.\n",
      "\n",
      "Existing abstract: Superfluids and superconductors are ordinary matter that show a very surprising behavior at low temperatures. As their temperature is reduced materials of both kinds can abruptly fall into a state [[[in which they will support a persistent essentially immortal flow of particles. Unlike anything in classical physics these flows engender neither friction nor resistance. A major accomplishment of Twentieth Century physics was the development of a]]]n understanding of this very surprising behavior via the construction of partially microscopic and partially macroscopic quantum theories of superfluid helium and superconducting metals. Such theories come in two parts a theory of the motion of particle like excitations called quasiparticles and of the persistent flows itself via a huge coherent excitation called a condensate. Two people above all others were responsible for the construction of the quasiparticle side of the theories of these very special low temperature behaviors Lev Landau and John Bardeen. Curiously enough they both partially ignored and partially downplayed the importance of the condensate. In both cases this neglect of the actual superfluid or superconducting flow interfered with their ability to understand the implications of the theory they had created. They then had difficulty assessing the important advances that occurred immediately after their own great work. Some speculations are offered about the source of this unevenness in the judgments of these two leading scientists.\n",
      "\n",
      "New abstract: We report on high resolution spectroscopy on ultracold samples of RbCs Feshbach molecules using low density samples of the two different forms of spin orbit coupling strength. Our results give rise to topologically nontrivial bands with nonzero Chern number.\n",
      "\n",
      "Existing abstract: We perform one and two phot[[[on high resolution spectroscopy on ultracold samples of RbCs Feshbach molecules]]] with the aim to identify a suitable route for efficient ground state transfer in the quantum gas regime to produce quantum gases of dipolar RbCs ground state molecules. One photon loss spectroscopy allows us to probe deeply bound rovibrational levels of the mixed excited A# Sigma b# Pi # # molecular states. Two photon dark state spectroscopy connects the initial Feshbach state to the rovibronic ground state. We determine the binding energy of the lowest rovibrational level v # J # of the X# Sigma ground state to be DX # ####.#### ## # cm a ### fold improvement in accuracy with respect to previous data. We are now in the position to perform stimulated two photon Raman transfer to the rovibronic ground state.\n",
      "\n",
      "New abstract: We discuss the relevance of our findings in the literature. We have also explored the experimental realization of a quantum phase transition from edge state analysis of the model the mixed gas and obtain the phase diagrams with and without dissipation.\n",
      "\n",
      "Existing abstract: We predict a generic manifestation of quantum interference in many body bosonic systems resulting in a coherent enhancement of the average return probability in Fock space. This enhancement is both robust with respect to variations of external parameters and genuinely quantum insofar as it cannot be described within mean field approaches. As a direct manifestation of the superposition principle in Fock space it arises when many body equilibration due to interactions sets in. Using a semiclassical approach based on interfering paths in Fock space we calculate the magnitude of the backscattering peak and its dependence on gauge fields that break time reversal invariance. We confirm our predictions by comparing them to exact quantum evolution probabilities in Bose Hubbard models and [[[discuss the relevance of our findings in the]]] context of many body thermalization.\n",
      "\n"
     ]
    },
    {
     "data": {
      "text/plain": [
       "<__main__.AbstractWriter instance at 0x108692680>"
      ]
     },
     "execution_count": 9,
     "metadata": {},
     "output_type": "execute_result"
    }
   ],
   "source": [
    "WriteAbstract(4)"
   ]
  },
  {
   "cell_type": "code",
   "execution_count": 10,
   "metadata": {
    "collapsed": false
   },
   "outputs": [
    {
     "name": "stdout",
     "output_type": "stream",
     "text": [
      "New abstract: Existing techniques for synthesizing gauge fields are able to bring a two dimensional cloud of harmonically trapped bosonic atoms into a regime where the single atom Rabi frequency of the laser used for excitation to the Rydberg state within the volume of the higher energy pockets at the expense of another complementary property. Squeezed states were first demonstrated in optical fields and later with ensembles of pseudo spin # # Bose Einstein condensate by transferring a known quantity of energy to the condensate and generate quantized vortices under realistic experimental conditions and widely applicable for many systems. Finally this scheme can be used for the stabilization of particle number projection that is essential for reaching convergence in the size of the one particle reduced density matrix. We find that fluctuations induce a second order phase transition to a non magnetized SU # Fermi liquid phase.\n",
      "\n",
      "Existing abstract: [[[Existing techniques for synthesizing gauge fields are able to bring a two dimensional cloud of harmonically trapped bosonic atoms into a regime where the]]] occupied single particle states are restricted to the lowest Landau level LLL . Repulsive short range interactions drive various transitions from fully condensed into strongly correlated states. In these different phases we study the response of the system to quasihole excitations induced by a laser beam. We find that in the Laughlin state the quasihole performs a coherent constant rotation around the center ensuring conservation of angular momentum. This is distinct to any other regime with higher density where the quasihole is found to decay. At a characteristic time the decay process is reversed and revivals of the quasihole can be observed in the density. Measuring the period and position of the revival can be used as a spectroscopic tool to identify the strongly correlated phases in systems with a finite number of atoms.\n",
      "\n",
      "New abstract: We discuss how to treat the screening of the Coulomb interaction for pairing. Different mean field theories give dramatically different conclusions and we test them against diffusion Monte Carlo calculations. In general positive and negative effective ranges have opposite effects on the critical gas parameter is expected to be diamagnetic while that with a larger g could be paramagnetic. We calculate the critical velocity for the formation of a lattice of vortex antivortex pairs can be generated in cold atom system by engineering atom light interaction. Realization of spin orbit coupled Bose Einstein condensate. We create narrow potentials using a tightly focused red detuned laser beam into resonance while spontaneous decay occurs close to the unperturbed resonance frequency. In such an excitation cycle a kinetic energy of the polaron gas are calculated in these methods and shown to be dependent on the initial state. Even for arbitrarily large particle numbers and applicable directly to other quantum systems.\n",
      "\n",
      "Existing abstract: Superfluidity in e h bilayers in graphene and GaAs has been predicted many times but not observed. A key problem is [[[how to treat the screening of the Coulomb interaction for pairing. Different mean field theories give dramatically different conclusions and we test them against diffusion Monte Carlo calculations.]]] We get excellent agreement with the mean field theory that uses screening in the superfluid state but large discrepancies with the others. The theory predicts no superfluidity in existing devices and gives pointers for new devices to generate superfluidity.\n",
      "\n",
      "New abstract: Advances in pure optical trapping techniques now allow the creation of degenerate Bose gases with internal degrees of freedom have a crucial role in the dynamics of the unstable modes show good agreement with theory. We also analyze the possibility of using this new technology in the context of Atomtronic devices on optical lattices slinky scheme .\n",
      "\n",
      "Existing abstract: [[[Advances in pure optical trapping techniques now allow the creation of degenerate Bose gases with internal degrees of freedom]]]. Systems such as ## Rb ## K or ## Na in the F # hyperfine state offer an ideal platform for studying the interplay of superfluidity and quantum magnetism. Motivated by the experimental developments we study ground state phases of a two component Bose gas loaded on an optical lattice. The system is described effectively by the Bose Hubbard Hamiltonian with onsite and near neighbor spin spin interactions. An important feature of our investigation is the inclusion of interconversion spin flip terms between the two species which has been observed in optical lattice experiments. Using mean field theory and quantum Monte Carlo simulations we map out the phase diagram of the system. A rich variety of phases is identified including antiferromagnetic AF Mott insulators ferromagnetic and AF superfluids.\n",
      "\n",
      "New abstract: We experimentally study the full counting statistics well also outside the realm of spin coherent states. The method is extended to a four point contact interaction which is invariant under the O N group transformation so that the composite fermions become singlet in terms of the low energy dispersion in a dipolar Bose gas bilayer which is modeled by a one dimensional double well trap that determines the width of an individual layer the distance between the micropillars forming the molecule and the condensate density in two dimensions at low temperatures with attractive interactions. Analytical results are derived for the impurity energy the effective mass and raise a conjecture about that of composite quasiparticle states.\n",
      "\n",
      "Existing abstract: We study a many body mixture of an equal number of bosons and two component fermions with a strong contact attraction. In this system bosons and fermions can be paired into composite fermions. We construct a large N extension where both bosons and fermions have the extra large N degrees of freedom and the boson fermion interaction [[[is extended to a four point contact interaction which is invariant under the O N group transformation so that the composite fermions become singlet in terms of the]]] O N group. It is shown that such O N singlet fields have controllable quantum fluctuations suppressed by # N factors and yield a systematic # N expansion in terms of composite fermions. We derive an effective action described by composite fermions up to the next to leading order terms in the large N expansion and show that there can be the BCS superfluidity of composite fermions at sufficiently low temperatures.\n",
      "\n",
      "New abstract: We calculate the ground state filling and excitation energies. We introduce many particle on site energies capturing multi band effects and discuss tunnelling on a perturbative level that a defect potential which is attractive to the atoms is incorporated via information recycling. Surprisingly our scheme gives a better sensitivity for lower QST efficiencies and with a sufficiently large degree of squeezing can attain near Heisenberg limited sensitivities for arbitrarily small QST efficiencies. Furthermore we use the stochastic projected Gross Pitaevskii calculation.\n",
      "\n",
      "Existing abstract: We have previously shown that quantum enhanced atom interferometry can be achieved by mapping the quantum state of squeezed optical vacuum to one of the atomic inputs via a beamsplitter like process Phys. Rev. A textbf ## ###### #### . Here we ask the question is a better phase sensitivity possible if the quantum state transfer QST is described by a three mode mixing model rather than a beamsplitter The answer is yes but only if the portion of the optical state not transferred [[[to the atoms is incorporated via information recycling. Surprisingly our scheme gives a better sensitivity for lower QST efficiencies and with a sufficiently large degree of squeezing can attain near Heisenberg limited sensitivities for arbitrarily small QST efficiencies. Furthermore we use the]]] quantum Fisher information to demonstrate the near optimality of our scheme.\n",
      "\n"
     ]
    },
    {
     "data": {
      "text/plain": [
       "<__main__.AbstractWriter instance at 0x10980a5f0>"
      ]
     },
     "execution_count": 10,
     "metadata": {},
     "output_type": "execute_result"
    }
   ],
   "source": [
    "WriteAbstract(5)"
   ]
  },
  {
   "cell_type": "code",
   "execution_count": 11,
   "metadata": {
    "collapsed": false
   },
   "outputs": [
    {
     "name": "stdout",
     "output_type": "stream",
     "text": [
      "New abstract: Recently three dimensional topological quantum materials with gapless energy spectra have attracted considerable interests in many branches of physics. However no unambiguous experimental evidences for the existence of FFLO phases have been observed yet. Recently spin imbalanced ultracold degenerate Fermi gases have emerged as a new powerful platform for the observation of FFLO phases due to their high experimental controllability and the lack of disorder. However in three dimensional degenerate Fermi gases in the presence of spin orbit coupling. For the moving bright solitons their shapes are found to change with velocity due to the lack of any possible relaxation process in the Tonks Girardeau regime. We show that in the low density limit the ground state of this system by the Fisher information coherence visibility and entanglement entropy. These quantities are studied as functions of the interaction between bosons in different wells. The emergence of Schroedinger cat like state with a loss of coherence is also commented.\n",
      "\n",
      "Existing abstract: The Fulde Ferrell Larkin Ovchinnikov FFLO phase a superconducting state with non zero total momentum Cooper pairs in a strong magnetic field was predicted more than ## years ago and now becomes an important concept [[[in many branches of physics. However no unambiguous experimental evidences for the existence of FFLO phases have been observed yet. Recently spin imbalanced ultracold degenerate Fermi gases have emerged as a new powerful platform for the observation of FFLO phases due to their high experimental controllability and the lack of disorder. However in three dimensional degenerate Fermi gases]]] where the FFLO phases can be described within the simple mean field theory the parameter region for the FFLO phases is too small to be observed in experiments. Recently we showed that the Rashba type spin orbit coupling and in plane Zeeman field in three dimensional degenerate Fermi gases provide a more efficient way to create the FFLO phase because # the parameter region for the FFLO phase is greatly enlarged in the phase diagram and # the FFLO phase is stabilized due to the enhanced energy difference between FFLO phase and conventional Bardeen Cooper Schrieffer BCS phase. In this work we investigate the FFLO phase in two dimensional spin orbit coupled degenerate Fermi gases using the mean field theory with special concerns on the physical origin of the FFLO state. The basic properties of the FFLO phase are discussed and the phase diagram is obtained at zero temperature. The symmetry of different quantum phases is examined which provide important basis for the experimental observation of FFLO phases using the time of flight imaging.\n",
      "\n",
      "New abstract: We study the tunneling of a small ensemble of strongly repulsive bosons in a one dimensional lattice. Using a bosonization theory in the weak coupling limit at T # as opposed to the s wave pairing symmetry case in #D. We construct the ground state phase diagrams and the excitation spectra using an accurate cluster mean field method. The cluster treatment enables us to probe the fundamental excitations of the dimerized Mott insulator where the excitation gap is dominated by the intra dimer tunneling amplitude. This allows the distinction from normal Mott insulating phases gapped by the on site interaction. In addition we present analytical results for the angle resolved temporal decay of the scattered light intensity. Moreover we find that the repulsive polaron can acquire a finite momentum for sufficiently weak attractive interactions. Even though the energy of the repulsive polaron can become sizeable we argue that saturated ferromagnetism is unfavorable in #D because of the polaron s finite lifetime and small quasiparticle weight.\n",
      "\n",
      "Existing abstract: We study bosonic atoms in optical honeycomb lattices with anisotropic tunneling and find dimerized Mott insulator phases with fractional filling. These incompressible insulating phases are characterized by an interaction driven localization of particles in respect to the individual dimers and large local particle number fluctuations within the dimers. We calculate [[[the ground state phase diagrams and the excitation spectra using an accurate cluster mean field method. The cluster treatment enables us to probe the fundamental excitations of the dimerized Mott insulator where the excitation gap is dominated by the intra dimer tunneling amplitude. This allows the distinction from normal Mott insulating phases gapped by the on site interaction. In addition we present analytical results for the]]] phase diagram derived by a higher order strong coupling perturbative expansion approach. By computing finite lattices with large diameters the influence of a harmonic confinement is discussed in detail. It is shown that a large fraction of atoms forms the dimerized Mott insulator under experimental conditions. The necessary anisotropic tunneling can be realized either by periodic driving of the optical lattice or by engineering directly a dimerized lattice potential. The dimers can be mapped to to their antisymmetric states creating a lattice with coupled p orbitals.\n",
      "\n",
      "New abstract: We explore the two body spectra of spin # # fermions with this interaction gave xi #.## in units of kinetic energy independent of density and with Lambda infinity. This value of xi is appreciably smaller than the experimental and that obtained from other calculations most notably from Monte Carlo which in principle would be the most reliable. Our previous work did however also show a strong dependence on effective range r # with r # # at unitarity . With an increase to r # #.# the energy varied from xi #.## at k f #.# # fm which is somewhat closer to the Monte Carlo results. These previous calculations are here extended by including the effect of the previously neglected mean field propagation the dispersion correction. This is repulsive and found to increase drastically with decreasing effective range. It is large enough to suggest a revised value of xi #.# #.# independent of r #. Off shell effects are also investigated by introducing a rank # phase shift equivalent potential. This is somewhat similar to the counterterm method suggested by Bedaque et al. This investigation is exploratory and does not refer to any specific physical system.\n",
      "\n",
      "Existing abstract: In scattering theory the unitary limit is defined by an infinite scattering length and a zero effective range corresponding to a phase shift pi # independent of energy. This condition is satisfied by a rank # separable potential V k k v k v k with v # k # pi # Lambda # k # # # Lambda being the cut off in momentum space.Previous calculations using a Pauli corrected ladder summation to calculate the energy of a zero temperature many body system [[[of spin # # fermions with this interaction gave xi #.## in units of kinetic energy independent of density and with Lambda infinity. This value of xi is appreciably smaller than the experimental and that obtained from other calculations most notably from Monte Carlo which in principle would be the most reliable. Our previous work did however also show a strong dependence on effective range r # with r # # at unitarity . With an increase to r # #.# the energy varied from xi #.## at k f #.# # fm]]] to #.## at k f #.# # fm which is somewhat closer to the Monte Carlo results. These previous calculations are here extended by including the effect of the previously neglected mean field propagation the dispersion correction. This is repulsive and found to increase drastically with decreasing effective range. It is large enough to suggest a revised value of xi #.# #.# independent of r #. Off shell effects are also investigated by introducing a rank # phase shift equivalent separable potential. Effects of ## or more in energy could be demonstrated for r # #. It is pointed out that a computational cut off in momentum space brings in another scale in the in otherwise scale less unitary problem.\n",
      "\n",
      "New abstract: We present a method for approximating the solution of the three dimensional #D Gross Pitaevskii equation GPE we proceed to an effective #D nonpolynomial Schroeodinger equation NPSE derived by means of the integration over the axial coordinate. Results produced by the latter equation are in very good agreement with theoretical predictions.\n",
      "\n",
      "Existing abstract: We study fundamental and vortical solitons in disk morphed Bose Einstein condensates BECs subject to strong confinement along the axial direction. Starting from [[[the three dimensional #D Gross Pitaevskii equation GPE we proceed to an effective #D nonpolynomial Schroeodinger equation NPSE derived by means of the integration over the axial coordinate. Results produced by the latter equation are in very good agreement with]]] those obtained from the full #D GPE including cases when the formal #D equation with the cubic nonlinearity is unreliable. The #D NPSE is used to predict density profiles and dynamical stability of repulsive and attractive BECs with zero and finite topological charge in various planar trapping configurations including the axisymmetric harmonic confinement and #D periodic potential. In particular we find a stable dynamical regime that was not reported before viz. periodic splitting and recombination of trapped vortices with topological charge # or # in the self attractive BEC.\n",
      "\n",
      "New abstract: We derive the Bosonic Dynamical Mean Field Theory BDMFT . We consider the case of two level spin # # fermionic atoms in this lattice interacting via a repulsive s wave contact interaction. Atoms restricted to the lowest band are described by an effective model derived from the perturbative treatment of the tunneling elements relative to the onsite interaction terms. This yields systems with degrees of freedom that are generators of the SU # group generators become linear in the SU # basis. If the diabatic states of the SU # Landau Zener Hamiltonian form a triangle the interference between two paths results in formation of beats and steps pattern in the time dependent transition probability. The characteristic time scales describing the beats and steps depend on a dwell time through the triangle. These scales are related to the geometric size of the interferometer. We formulate the SU # Landau Zener Hamiltonian form a triangle the interference between two paths results in formation of beats and steps pattern in the time dependent transition probability. The characteristic time scales describing the beats and steps depend on a dwell time through the triangle. These scales are related to the geometric size of the interferometer. We formulate the\n",
      "\n",
      "Existing abstract: We consider a general theory of Landau Zener transitions in a three level system. Based on a classification of three level crossings we express the Landau Zener Hamiltonians in terms of two bases i spin S # SU # operators and ii SU # Gell Mann matrices. We show that the generic Hamiltonians being non linear in terms [[[of the SU # group generators become linear in the SU # basis. If the diabatic states of the SU # Landau Zener Hamiltonian form a triangle the interference between two paths results in formation of beats and steps pattern in the time dependent transition probability. The characteristic time scales describing the beats and steps depend on a dwell time through the triangle. These scales are related to the geometric size of the interferometer. We formulate the SU # Landau Zener]]] problem in terms of Bloch dynamics of a unit vector and find a solution of eight dimensional Bloch equations in the limit of a non adiabatic transition. Possible experiments in triangular and linearly arranged triple quantum dots where Landau Zener interferometry can be used for finding manifestations of SU # symmetry are discussed.\n",
      "\n"
     ]
    },
    {
     "data": {
      "text/plain": [
       "<__main__.AbstractWriter instance at 0x1098436c8>"
      ]
     },
     "execution_count": 11,
     "metadata": {},
     "output_type": "execute_result"
    }
   ],
   "source": [
    "WriteAbstract(6)"
   ]
  },
  {
   "cell_type": "code",
   "execution_count": null,
   "metadata": {
    "collapsed": true
   },
   "outputs": [],
   "source": []
  }
 ],
 "metadata": {
  "kernelspec": {
   "display_name": "Python 2",
   "language": "python",
   "name": "python2"
  },
  "language_info": {
   "codemirror_mode": {
    "name": "ipython",
    "version": 2
   },
   "file_extension": ".py",
   "mimetype": "text/x-python",
   "name": "python",
   "nbconvert_exporter": "python",
   "pygments_lexer": "ipython2",
   "version": "2.7.11"
  }
 },
 "nbformat": 4,
 "nbformat_minor": 0
}
