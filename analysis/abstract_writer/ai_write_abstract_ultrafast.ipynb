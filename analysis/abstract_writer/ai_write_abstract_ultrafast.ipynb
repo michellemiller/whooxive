{
 "cells": [
  {
   "cell_type": "code",
   "execution_count": 16,
   "metadata": {
    "collapsed": true
   },
   "outputs": [],
   "source": [
    "#Need to add parent directoy to sys.path to find 'metadataDB'\n",
    "import sys\n",
    "sys.path.append('../')\n",
    "\n",
    "%matplotlib inline\n",
    "# import matplotlib.pyplot as plt \n",
    "import time\n",
    "# import numpy as np\n",
    "# import scipy as sp\n",
    "import re\n",
    "from collections import Counter\n",
    "import random\n",
    "\n",
    "# Natural language processing toolkit\n",
    "# To use this, run nltk.download() and download 'stopwords'\n",
    "# from nltk.corpus import stopwords\n",
    "# s=stopwords.words('english') + ['']\n",
    "\n",
    "# Machine learning\n",
    "# from sklearn.feature_extraction.text import CountVectorizer\n",
    "# from sklearn.feature_extraction.text import TfidfTransformer\n",
    "# from sklearn.naive_bayes import MultinomialNB\n",
    "# from sklearn.linear_model import LogisticRegression\n",
    "# from sklearn.svm import LinearSVC, SVC\n",
    "# from sklearn.pipeline import Pipeline\n",
    "# from sklearn import metrics\n",
    "\n",
    "# SQL\n",
    "from sqlalchemy import create_engine\n",
    "from sqlalchemy.orm import sessionmaker\n",
    "from metadataDB.declareDatabase import *\n",
    "from sqlalchemy import or_, and_\n",
    "\n",
    "engine = create_engine(\"sqlite:///../arXiv_metadata.db\", echo=False)\n",
    "Base.metadata.bind = engine\n",
    "DBsession = sessionmaker(bind=engine)\n",
    "session = DBsession()"
   ]
  },
  {
   "cell_type": "code",
   "execution_count": 17,
   "metadata": {
    "collapsed": true
   },
   "outputs": [],
   "source": [
    "query = session.query(Article).filter(or_(Article.title.like('%high?order%'),\n",
    "                                          Article.title.like('%high?harmonic%'),\n",
    "                                          Article.title.like('%ultrafast%'),\n",
    "                                          Article.title.like('%femtosecond%'),\n",
    "                                          Article.title.like('%attosecond%'),\n",
    "                                          Article.title.like('%zeptosecond%')))\n",
    "resultPRL = query.all()\n",
    "abstract_all = [x.abstract for x in query.all()]\n",
    "session.close_all()"
   ]
  },
  {
   "cell_type": "code",
   "execution_count": 18,
   "metadata": {
    "collapsed": false
   },
   "outputs": [
    {
     "name": "stdout",
     "output_type": "stream",
     "text": [
      "1218\n"
     ]
    }
   ],
   "source": [
    "abstract_train = abstract_all\n",
    "print len(abstract_train)"
   ]
  },
  {
   "cell_type": "markdown",
   "metadata": {},
   "source": [
    "CountVectorizer might do a cleaner job."
   ]
  },
  {
   "cell_type": "code",
   "execution_count": 19,
   "metadata": {
    "collapsed": false
   },
   "outputs": [],
   "source": [
    "class AbstractWriter:\n",
    "    '''This class will take a specific n-gram and learn to write abstracts from a few words.'''\n",
    "    _data = dict()\n",
    "    _abstracts = []\n",
    "    \n",
    "    def __init__(self, ngram, randomize=False, seed=None, maxWords=200):\n",
    "        self.ngram = ngram\n",
    "        self.randomize = randomize\n",
    "        self.seed = seed\n",
    "        self.maxWords = maxWords\n",
    "        if seed is not None:\n",
    "            random.seed(seed)\n",
    "\n",
    "    \n",
    "    def fit(self, train):\n",
    "        data_list = []\n",
    "        for item in train:\n",
    "            ind = 0\n",
    "            textlist = self.__cleanup_text(item)\n",
    "            self._abstracts.append(' '.join(textlist))\n",
    "            while ind + self.ngram - 1 < len(textlist):\n",
    "                currentTuple = tuple(textlist[ind:(ind+self.ngram-1)])\n",
    "                nextWord = textlist[ind+self.ngram-1]\n",
    "                data_list.append((tuple(textlist[ind:(ind+self.ngram-1)]),\n",
    "                                        textlist[ind+self.ngram-1]))\n",
    "                ind += 1\n",
    "        data_list.sort()\n",
    "        \n",
    "        # Now that the list is sorted, convert it into a dictionary.\n",
    "        # Since the list is sorted, each subsuquent entry is either new or a continuation of the previous one.\n",
    "\n",
    "        previousKey = None\n",
    "        for val in data_list:\n",
    "            currentKey = val[0]\n",
    "            if currentKey == previousKey:\n",
    "                self._data[currentKey].append(val[1])\n",
    "            else:\n",
    "                self._data[currentKey] = [val[1]]\n",
    "            previousKey = val[0]\n",
    "\n",
    "    def find_next_word(self, phrase):\n",
    "        '''phrase is a tuple of (typ. 3) words. Returns the next word.'''\n",
    "        # Since data is sorted, it should be possible to search quickly. I'm not doing this properly.\n",
    "        if phrase in self._data.keys():\n",
    "            solution = self._data[phrase]\n",
    "            \n",
    "            # If there are more than one result, we either return the most popular option or\n",
    "            # a random answer weighted by popularity.\n",
    "            if self.randomize:\n",
    "                return random.choice(solution)\n",
    "            else:\n",
    "                count = Counter(solution)\n",
    "                return count.most_common(1)[0][0]\n",
    "        else:\n",
    "            return None\n",
    "        \n",
    "    def write_abstract(self, beginning):\n",
    "        abstract = list(beginning)\n",
    "        nextWord = ''\n",
    "        ind = len(beginning) - self.ngram + 1\n",
    "        while (nextWord is not None) and (ind < self.maxWords):\n",
    "            nextWord = self.find_next_word(tuple(abstract[ind:(ind+self.ngram)]))\n",
    "            if nextWord is None:\n",
    "                break\n",
    "            else:\n",
    "                abstract.append(nextWord)\n",
    "                ind += 1\n",
    "        return ' '.join(abstract)\n",
    "    \n",
    "    def find_similar(self, abstract):\n",
    "        '''Have I accidentally plagarized one of the articles?\n",
    "        With too few choices, we will likely just copy an existing article.\n",
    "        Returns the longest chunk highlighted in an existing article.'''\n",
    "        first = 0\n",
    "        last = 1\n",
    "        abort = False\n",
    "        longestChunk = ''\n",
    "        longestChunkLength = 0\n",
    "\n",
    "        totalLength = len(abstract.split())\n",
    "        while first + longestChunkLength < totalLength:\n",
    "            chunk = ' '.join(abstract.split()[first:last])\n",
    "            if any(x for x in self._abstracts if chunk in x):\n",
    "                if last - first + 1 > longestChunkLength:\n",
    "                    longestChunk = chunk\n",
    "                    longestChunkLength = last - first + 1\n",
    "                last += 1\n",
    "            else:\n",
    "                first += 1\n",
    "                last = first + 1\n",
    "        \n",
    "        best_abstract = (x for x in self._abstracts if longestChunk in x).next()\n",
    "        return re.sub('(' + longestChunk + ')', '[[[' + longestChunk + ']]]', best_abstract)\n",
    "\n",
    "\n",
    "    def __cleanup_text(self, text):\n",
    "        # re from kaggle https://www.kaggle.com/c/word2vec-nlp-tutorial/details/part-1-for-beginners-bag-of-wordsi\n",
    "        # Remove punctuation. Keep periods.\n",
    "        # \n",
    "        # New trick: replace numbers with ##, which we will later replace with different numbers.\n",
    "        pattern1 = re.compile(\"[0-9]\")\n",
    "        pattern2 = re.compile(\"[^a-zA-Z#.]\")\n",
    "        # The previous pattern could make multiple spaces. Turn multiple spaces into a single space.\n",
    "        pattern3 = re.compile(\"(\\s{2,})\")\n",
    "        return pattern3.sub(\" \",\n",
    "                            pattern2.sub(\" \",\n",
    "                                         pattern1.sub(\"#\",\n",
    "                                                      text.lstrip().rstrip()))).split(' ')"
   ]
  },
  {
   "cell_type": "markdown",
   "metadata": {},
   "source": [
    "Let's make a bunch of abstracts that start in a way similar to existing abstracts, and find if they accidentally plagarize anything."
   ]
  },
  {
   "cell_type": "code",
   "execution_count": 20,
   "metadata": {
    "collapsed": false
   },
   "outputs": [],
   "source": [
    "def WriteAbstract(ngram):\n",
    "    writer = AbstractWriter(ngram=ngram, randomize=True, seed=42)\n",
    "    writer.fit(abstract_train)\n",
    "    for i in range(0,5):\n",
    "        phrase = random.choice(writer._abstracts).split()[0:(ngram-1)]\n",
    "        currentAbstract = writer.write_abstract(tuple(phrase))\n",
    "        print 'New abstract: ' + currentAbstract\n",
    "        print ''\n",
    "        print 'Existing abstract: ' + writer.find_similar(currentAbstract)\n",
    "        print ''\n",
    "    return writer"
   ]
  },
  {
   "cell_type": "code",
   "execution_count": 21,
   "metadata": {
    "collapsed": false
   },
   "outputs": [
    {
     "name": "stdout",
     "output_type": "stream",
     "text": [
      "New abstract: This letter is the first demonstration of visible ###nm third harmonic generation in gas. This radiation is monochromatized by a time delayed frequency doubled pulse from nascent LIPSS formation induced by the pump transition.\n",
      "\n",
      "Existing abstract: Time resolved diffraction microscopy technique has been used to observe the formation of laser induced periodic surface structures LIPSS from the interaction of a single femtosecond laser pulse pump with a nano scale groove mechanically formed on a single crystal Cu substrate. The interaction dynamics # #### ps was captured by diffracting [[[a time delayed frequency doubled pulse from nascent LIPSS formation induced by the pump]]] with an infinity conjugate microscopy setup. The LIPSS ripples are observed to form sequentially outward from the groove edge with the first one forming after ## ps. A # D analytical model of electron heating and surface plasmon polariton SPP excitation induced by the interaction of incoming laser pulse with the groove edge qualitatively explains the time evloution of LIPSS formation.\n",
      "\n",
      "New abstract: We present an ultrafast feasible scheme for ground state cooling of a mechanical resonance we amplify the mechanical amplitude directly measure the hole spin lifetime in ferromagnetic GaMnAs via time and polarization resolved spectroscopy. Below the Curie temperature Tc . We propose critical spin fluctuations in the spectrum of a light induced magnetization tilt during ultra short time delays and to relate these to the phase of the two pulses from one pair to the next. We measure as a function of the delay zero with the help of a properly designed transport beamline.\n",
      "\n",
      "Existing abstract: We [[[directly measure the hole spin lifetime in ferromagnetic GaMnAs via time and polarization resolved spectroscopy. Below the Curie temperature Tc]]] an ultrafast photoexcitation with linearly polarized light is shown to create a non equilibrium hole spin population via the dynamical polarization of holes through p d exchange scattering with ferromagnetically ordered Mn spins and we characterize their relaxation dynamics. The observed relaxation consists of a distinct three step recovery i femtosecond fs hole spin relaxation ### ### fs ii picosecond ps hole energy relaxation # # ps and iii a coherent damped Mn spin precession with a period of ### ps. The transient amplitude of the hole spin component diminishes with increasing temperature directly following the ferromagnetic order while the hole energy amplitude shows negligible temperature change consistent with our interpretation. Our results thus establish the hole spin lifetimes in ferromagnetic semiconductors and demonstrate a novel spectroscopy method for studying non equilibrium hole spins in the presence of correlation and magnetic order.\n",
      "\n",
      "New abstract: We show both experimentally and theoretically. Using a bilayer sample consisting of a long pulse sequence results in high degree of rotational coherence which is shown as a function of pump fluence. It is seen that the second component # to # ps and ## ps after the switching pump pulse we observe a correlation between the existence of multi graphene.\n",
      "\n",
      "Existing abstract: We investigate the prospects of creating broad rotational wave packets by means of molecular interaction with long sequences of intense femtosecond pulses. Using state resolved rotational Raman spectroscopy of oxygen subject to a sequence of more than ## laser pulses with peak intensities exceeding ## ## W cm # per pulse we show that the centrifugal distortion is the main obstacle on the way to reaching high rotational states. We demonstrate that the timing of the pulses can be optimized to partially mitigate the centrifugal limit. The cumulative effect [[[of a long pulse sequence results in high degree of rotational coherence which is shown]]] to cause an efficient spectral broadening of probe light via cascaded Raman transitions.\n",
      "\n",
      "New abstract: We develop a pump probe technique at various lattice temperatures. The time resolved process of formation of the metallic phase by prompt hole photo doping into the valence band of the low energy isomer state of Thorium ###. It will also be discussed.\n",
      "\n",
      "Existing abstract: We apply ultrafast spectroscopy to establish a time domain hierarchy between structural and electronic effects in a strongly correlated electron system. We discuss the case of the model system VO# a prototypical non magnetic compound that exhibits cell doubling charge localization and a metal insulator transition below ### K. We initiate the [[[formation of the metallic phase by prompt hole photo doping into the valence band of the low]]] T insulator. The I M transition is however delayed with respect to hole injection exhibiting a bottleneck timescale that corresponds to half period of the phonon connecting the two crystallographic phases. This experiment indicates that this controversial insulator may have important band like character.\n",
      "\n",
      "New abstract: We report a novel phenomenon in carbon nanotube CNT a monolayer graphene can continuously scroll into a CNS with the CNT housed inside. The CNT inside the CNS can oscillate along axial direction at a natural frequency of ##s gigahertz GHz . We demonstrate an ultrafast quenching of J mathrm ex in the prototype Mott Hubbard insulator. We demonstrate an ultrafast method for preparing spin states of a driven polariton state demonstrating the ability to characterize optical nearfields from light interaction with nanostructures with sub cycle resolution. Here we develop a framework for systematic control and measurement of ultrafast excited state dynamics a multi dimensional problem. Here we present a theoretical approach that is able to induce a strong magnetization within a few picoseconds. The switching off occurs with a period corresponding to the second Jaynes Cummings manifold with a switching time of ### fs potentially ## fs . This prospective spaser technology will further broaden both fundamental and applied horizons of nanoscience in particular enabling ultrafast microprocessors working at ## to ### K . We suggest that the continuum continuum phase. It arises due to the fact that the resulting complex vibronic structure of the topological insulator Bi#Se# revealed a strong dependence\n",
      "\n",
      "Existing abstract: We demonstrate a viable approach to fabricating ultrafast axial nano oscillators based on carbon nanoscrolls CNSs using molecular dynamics simulations. Initiated by a single walled [[[carbon nanotube CNT a monolayer graphene can continuously scroll into a CNS with the CNT housed inside. The CNT inside the CNS can oscillate along axial direction at a natural frequency of ##s gigahertz GHz . We demonstrate an]]] effective strategy to reduce the dissipation of the CNS based nano oscillator by covalently bridging the carbon layers in the CNS. We further demonstrate that such a CNS based nano oscillator can be excited and driven by an external AC electric field and oscillate at more than ### GHz. The CNS based nano oscillators not only offer a feasible pathway toward ultrafast nano devices but also hold promise to enable nano scale energy transduction harnessing and storage e.g. from electric to mechanical .\n",
      "\n"
     ]
    },
    {
     "data": {
      "text/plain": [
       "<__main__.AbstractWriter instance at 0x106f73c68>"
      ]
     },
     "execution_count": 21,
     "metadata": {},
     "output_type": "execute_result"
    }
   ],
   "source": [
    "WriteAbstract(4)"
   ]
  },
  {
   "cell_type": "code",
   "execution_count": 22,
   "metadata": {
    "collapsed": false
   },
   "outputs": [
    {
     "name": "stdout",
     "output_type": "stream",
     "text": [
      "New abstract: Subpicosecond wavelength non degenerate differential transmission DT was used to observe the carrier relaxation mechanism in GaN based quantum well QW with and without metal nanoparticles MNPs in it. The spontaneous emission dominates the stimulated emission for above the GaN band edge excitation energy. We observed long decay times for Au embedded sample and short decay times for Ag embedded sample with respect to reference sample.\n",
      "\n",
      "Existing abstract: [[[Subpicosecond wavelength non degenerate differential transmission DT was used to observe the carrier relaxation mechanism in GaN based quantum well QW with and without metal nanoparticles MNPs in it. The spontaneous emission dominates the stimulated emission for above the GaN band edge excitation energy. We observed long decay times for Au embedded sample and short decay times for Ag embedded sample with respect to reference]]] sample.\n",
      "\n",
      "New abstract: We present fully ab initio simulations of attosecond streaking for effective one electron systems and determine all relevant contributions to the time delay with attosecond precision. In particular we investigate the properties and limitations of attosecond streaking for the transition from short ranged potentials photodetachment to long ranged Coulomb potentials photoionization . As an example for a more complex system we study time resolved photoionization for endohedral fullerenes A text C ## and discuss how streaking time shifts are modified due to the interaction between the outgoing electron and the result of conventional retrieval algorithms. This finding enables the measurement of the quantum phase associated with bound continuum transition matrix elements.\n",
      "\n",
      "Existing abstract: We theoretically study time resolved photoemission in atoms as probed by attosecond streaking. We review recent advances in the study of the photoelectric effect in the time domain and show that the experimentally accessible time shifts can be decomposed into distinct contributions that stem from the field free photoionization process itself and from probe field induced corrections. We perform accurate quantum mechanical as well as classical [[[simulations of attosecond streaking for effective one electron systems and determine all relevant contributions to the time delay with attosecond precision. In particular we investigate the properties and limitations of attosecond streaking for the transition from short ranged potentials photodetachment to long ranged Coulomb potentials photoionization . As an example for a more complex system we study time resolved photoionization for endohedral fullerenes A text C ## and discuss how streaking time shifts are modified due to the interaction]]] of the text C ## cage with the probing infrared streaking field.\n",
      "\n",
      "New abstract: We report the synthesis and measurement of an ultra precise and extremely stable optical frequency in the telecommunications window around #### nm. Using a fibre based femtosecond frequency comb we have phase stabilised a fibre laser at ### THz to an optical frequency standard at ### THz thus transferring the properties of the periodic structures induced by femtosecond laser pulses. It is shown that the spatial and temporal evolution of the magnetic disordering. We observe a magnetic melt front that grows from the substrate interface into the film at a speed that suggests electronically driven propagation. Light control and ultrafast phase front propagation at hetero interfaces may lead to new opportunities in optomagnetism for example by driving domain wall motion to transport information across suitably designed devices.\n",
      "\n",
      "Existing abstract: Static strain in complex oxide heterostructures has been extensively used to engineer electronic and magnetic properties at equilibrium. In the same spirit deformations of the crystal lattice with light may be used to achieve functional control across hetero interfaces dynamically. Here by exciting large amplitude infrared active vibrations in a LaAlO# substrate we induce magnetic order melting in a NdNiO# film across a hetero interface. Femtosecond Resonant Soft X ray Diffraction is used to determine [[[the spatial and temporal evolution of the magnetic disordering. We observe a magnetic melt front that grows from the substrate interface into the film at a speed that suggests electronically driven propagation. Light control and ultrafast phase front propagation at hetero interfaces may lead to new opportunities in optomagnetism for example by driving domain wall motion to transport information across suitably designed]]] devices.\n",
      "\n",
      "New abstract: Two dimensional correlation spectroscopy #DCS based on the nonlinear optical response in femtosecond filaments. These resonances decrease the transient refractive index within a narrow intensity window and strongly affect the filamentation dynamics. In particular we demonstrate that the ultrafast dynamics of interfacial electric fields in semiconductor multilayers using pump probe second harmonic generation SHG of such vortices in # mm long chirped MgO doped periodically poled congruent LiNbO # crystal we have generated perfect vortices at green wavelength with output power of #.# W and vortex order up to ## at single pass conversion efficiency of ## independent of its order. This is the highest single pass SHG efficiency of any optical beams other than Gaussian beams. Unlike the disintegration of higher order vortices in birefringent crystals here the use of quasi phase matching process enables generation of high quality vortices even at higher orders. The green perfect vortices of all orders have temporal and spectral width of ### fs and ## fs pulses of intense ### nm laser dressing of He #s#p #Po and #p# #Se double excitation states with an intense ### nm field. Probing in the vicinity of the spin density wave phase transitions we infer a temperature scale where the\n",
      "\n",
      "Existing abstract: We report on efficient nonlinear generation of ultrafast higher order perfect vortices at the green wavelength. Based on Fourier transformation of the higher order Bessel Gauss beam generated through the combination of spiral phase plate and axicon we have transformed the Gaussian beam of the ultrafast Yb fiber laser at #### nm into perfect vortices of power #.# W and order up to #. Using single pass [[[second harmonic generation SHG of such vortices in # mm long chirped MgO doped periodically poled congruent LiNbO # crystal we have generated perfect vortices at green wavelength with output power of #.# W and vortex order up to ## at single pass conversion efficiency of ## independent of its order. This is the highest single pass SHG efficiency of any optical beams other than Gaussian beams. Unlike the disintegration of higher order vortices in birefringent crystals here the use of quasi phase matching process enables generation of high quality vortices even at higher orders. The green perfect vortices of all orders have temporal and spectral width of ### fs and]]] #.# nm respectively corresponding to a time bandwidth product of #.##.\n",
      "\n",
      "New abstract: We present a detailed analysis of coherence creation in a four level double lambda like atomic system using a train of ultra short few cycle Gaussian pulses. The effect of the inelastic scattering and of the finite duration of the pump pulse spectrum in order to study the effects of ions on the reorientation dynamics of liquid water with polarization resolved femtosecond mid infared spectroscopy. We probe the anisotropy of the probe transition matrix elements.\n",
      "\n",
      "Existing abstract: [[[We present a detailed analysis of coherence creation in a four level double lambda like atomic system using a train of ultra short few cycle Gaussian pulses. The effect of the]]] Doppler broadening has been analyzed. It is possible to create high coherence across all the velocity groups in the atomic ensemble using pulses with low repetition frequency. The accumulation of coherence at different radial locations within the atomic beam cross section as a function of the number of pulses in the train is also reported. We find that pulse train with lower repetition frequencies are able to generate high and nearly uniform coherence in a substantial part of the atomic system.\n",
      "\n"
     ]
    },
    {
     "data": {
      "text/plain": [
       "<__main__.AbstractWriter instance at 0x1074e3e18>"
      ]
     },
     "execution_count": 22,
     "metadata": {},
     "output_type": "execute_result"
    }
   ],
   "source": [
    "WriteAbstract(5)"
   ]
  },
  {
   "cell_type": "code",
   "execution_count": 23,
   "metadata": {
    "collapsed": false
   },
   "outputs": [
    {
     "name": "stdout",
     "output_type": "stream",
     "text": [
      "New abstract: The feasibility of generation of bright ultrashort gamma ray pulses is demonstrated in the interaction of a relativistic electron bunch with a counterpropagating tightly focused superstrong laser beam in the radiation dominated regime. The Compton scattering spectra of gamma radiation are investigated using a semiclassical description for the electron dynamics in the molecular ion can be understood via the phase difference accumulated between the Coulomb wells at the two protons. Modeling of the dynamics using a simple two state system leads us to an explanation for the sometimes counter intuitive dynamics of an electron opposing the classical force of the electric field on the electron.\n",
      "\n",
      "Existing abstract: We analyze the attosecond electron dynamics in hydrogen molecular ion driven by an external intense laser field using ab initio numerical simulations of the corresponding time dependent Schr o dinger equation and Bohmian trajectories. To this end we employ a one dimensional model of the molecular ion in which the motion of the protons is frozen. The results of the Bohmian trajectory calculations do agree well with those of the ab initio simulations and clearly visualize the electron transfer between the two protons in the field. In particular the Bohmian trajectory calculations confirm the recently predicted attosecond transient localization of the electron at one of the protons and the related multiple bunches of the ionization current within a half cycle of the laser field. Further analysis based on the quantum trajectories shows that [[[the electron dynamics in the molecular ion can be understood via the phase difference accumulated between the Coulomb wells at the two protons. Modeling of the dynamics using a simple two state system leads us to an explanation for the sometimes counter intuitive dynamics of an electron opposing the classical force of the electric field on the]]] electron.\n",
      "\n",
      "New abstract: The femtosecond response of NO doped rare gas matrices is studied within a stochastic Langevin theoretical framework. As is shown a simple damped harmonic oscillator model can describe properly the absorption and emission line shapes associated with the NO A # Sigma longleftrightarrow X # Pi electronic transitions inside these media as well as the matrix first solvation shell response in a process with two timescales finding a fairly good agreement with available experimental data. This approach thus constitutes an alternative and complementary way to analyze the structural relaxation dynamics of systems in liquids and solids leading to a better understanding of the underlying physics.\n",
      "\n",
      "Existing abstract: [[[The femtosecond response of NO doped rare gas matrices is studied within a stochastic Langevin theoretical framework. As is shown a simple damped harmonic oscillator model can describe properly the absorption and emission line shapes associated with the NO A # Sigma longleftrightarrow X # Pi electronic transitions inside these media as well as the matrix first solvation shell response in a process with two timescales finding a fairly good agreement with available experimental data. This approach thus constitutes an alternative and complementary way to analyze the structural relaxation dynamics of systems in liquids and solids leading to a better understanding of the underlying]]] physics.\n",
      "\n",
      "New abstract: We devise a theoretical description for the response of nitrogen molecules N# to ultrashort and intense x rays from the free electron laser FEL Linac Coherent Light Source LCLS are presented. Single shot measurements were performed at ### eV x ray photon energy using apertures containing double pinholes in diffract and destroy mode. We determined a coherence length of ## micrometers in the vertical direction which is approximately the size of the focused LCLS beam in the same direction. The analysis of the diffraction patterns produced by the pinholes with the largest separation yields an estimate of the temporal coherence time of #.# fs. We find that the total degree of transverse coherence is ## and that the x ray pulses are adequately described by two transverse coherent modes in each direction. This leads us to the conclusion that ## of the total power is contained in the dominant mode.\n",
      "\n",
      "Existing abstract: Measurements of the spatial and temporal coherence of single femtosecond x ray pulses generated by the first hard x ray free electron laser FEL the [[[Linac Coherent Light Source LCLS are presented. Single shot measurements were performed at ### eV x ray photon energy using apertures containing double pinholes in diffract and destroy mode. We determined a coherence length of ## micrometers in the vertical direction which is approximately the size of the focused LCLS beam in the same direction. The analysis of the diffraction patterns produced by the pinholes with the largest separation yields an estimate of the temporal coherence time of #.# fs. We find that the total degree of transverse coherence is ## and that the x ray pulses are adequately described by two transverse coherent modes in each direction. This leads us to the conclusion that ## of the total power is contained in the dominant]]] mode.\n",
      "\n",
      "New abstract: Interband optical transitions in graphene are subject to pseudospin selection rules. Impulsive excitation with linearly polarized light generates an anisotropic photocarrier occupation in momentum space that evolves at timescales shorter than ###fs. Here we investigate the evolution of non equilibrium charges towards an isotropic distribution by means of fluence dependent ultrafast spectroscopy and develop an analytical model able to quantify the isotropization process. In contrast to conventional semiconductors the isotropization is governed by optical phonon emission rather than electron electron scattering which nevertheless contributes in shaping the anisotropic photocarrier occupation within the first few fs.\n",
      "\n",
      "Existing abstract: [[[Interband optical transitions in graphene are subject to pseudospin selection rules. Impulsive excitation with linearly polarized light generates an anisotropic photocarrier occupation in momentum space that evolves at timescales shorter than ###fs. Here we investigate the evolution of non equilibrium charges towards an isotropic distribution by means of fluence dependent ultrafast spectroscopy and develop an analytical model able to quantify the isotropization process. In contrast to conventional semiconductors the isotropization is governed by optical phonon emission rather than electron electron scattering which nevertheless contributes in shaping the anisotropic photocarrier occupation within the first few]]] fs.\n",
      "\n",
      "New abstract: Carrier envelope phase CEP stabilized pulses of intense ### nm light of # fs duration are used to probe the strong field ionization dynamics of multielectron entities xenon and carbon disulfide. We compare ion yields obtained with and without CEP stabilization with # cycle ## fs pulses Xe # yields are suppressed relative to Xe yields by between ## and ## depending on phase reflecting the phase dependence of non sequential ionization and its contribution to the formation of higher charge states. On the other hand ion yields for Xe q q # # with CEP stablized pulses are enhanced by up to ## compared to those with CEP unstabilized pulses. Such enhancment is particulary pronounced with # cycle # fs pulses and is distinctly phase dependent. Orbital shape and symmetry are found to have a bearing on the response of CS # to variations in optical field that are effected as CE phase is controllably altered keeping the overall intensity constant. Molecular fragmentation is found to depend on field strength not intensity the observed relative enhancement of fragmentation when CEP stabilized # cycle pulses are used is found to be at the expense of molecular ionization.\n",
      "\n",
      "Existing abstract: Carrier envelope phase CEP stabilized # fs and ## fs pulses of intense ### nm light [[[are used to probe the strong field ionization dynamics of multielectron entities xenon and carbon disulfide. We compare ion yields obtained with and without CEP stabilization with # cycle ## fs pulses Xe # yields are suppressed relative to Xe yields by between ## and ## depending on phase reflecting the phase dependence of non sequential ionization and its contribution to the formation of higher charge states. On the other hand ion yields for Xe q q # # with CEP stablized pulses are enhanced by up to ## compared to those with CEP unstabilized pulses. Such enhancment is particulary pronounced with # cycle # fs pulses and is distinctly phase dependent. Orbital shape and symmetry are found to have a bearing on the response of CS # to variations in optical field that are effected as CE phase is controllably altered keeping the overall intensity constant. Molecular fragmentation is found to depend on field strength not intensity the observed relative enhancement of fragmentation when CEP stabilized # cycle pulses are used is found to be at the expense of molecular]]] ionization.\n",
      "\n"
     ]
    },
    {
     "data": {
      "text/plain": [
       "<__main__.AbstractWriter instance at 0x108787b90>"
      ]
     },
     "execution_count": 23,
     "metadata": {},
     "output_type": "execute_result"
    }
   ],
   "source": [
    "WriteAbstract(6)"
   ]
  },
  {
   "cell_type": "code",
   "execution_count": null,
   "metadata": {
    "collapsed": true
   },
   "outputs": [],
   "source": []
  }
 ],
 "metadata": {
  "kernelspec": {
   "display_name": "Python 2",
   "language": "python",
   "name": "python2"
  },
  "language_info": {
   "codemirror_mode": {
    "name": "ipython",
    "version": 2
   },
   "file_extension": ".py",
   "mimetype": "text/x-python",
   "name": "python",
   "nbconvert_exporter": "python",
   "pygments_lexer": "ipython2",
   "version": "2.7.11"
  }
 },
 "nbformat": 4,
 "nbformat_minor": 0
}
