{
 "cells": [
  {
   "cell_type": "markdown",
   "metadata": {},
   "source": [
    "Can I predict the existence of subfields with some cool unsupervised learning algorithm? \n",
    "\n",
    "For starters, let's just use regular n-grams. A more advanced version would be to look for noun phrases or J&K POS tags."
   ]
  },
  {
   "cell_type": "code",
   "execution_count": 1,
   "metadata": {
    "collapsed": false
   },
   "outputs": [],
   "source": [
    "#Need to add parent directoy to sys.path to find 'metadataDB'\n",
    "import sys\n",
    "sys.path.append('../../')\n",
    "\n",
    "%matplotlib inline\n",
    "# import matplotlib.pyplot as plt \n",
    "import time\n",
    "import numpy as np\n",
    "# import scipy as sp\n",
    "import re\n",
    "from collections import Counter\n",
    "import itertools\n",
    "import random\n",
    "import copy\n",
    "\n",
    "# Natural language processing toolkit\n",
    "# To use this, run nltk.download() and download 'stopwords'\n",
    "# from nltk.corpus import stopwords\n",
    "# s=stopwords.words('english') + ['']\n",
    "\n",
    "# Machine learning\n",
    "from sklearn.feature_extraction.text import CountVectorizer\n",
    "from sklearn.feature_extraction.text import TfidfTransformer\n",
    "from sklearn.metrics import classification_report, accuracy_score, confusion_matrix\n",
    "from sklearn.cross_validation import train_test_split, cross_val_score\n",
    "from sklearn.cluster import KMeans\n",
    "from sklearn.decomposition import SparsePCA\n",
    "# from sklearn.naive_bayes import MultinomialNB\n",
    "# from sklearn.linear_model import LogisticRegression\n",
    "from sklearn.svm import LinearSVC\n",
    "from sklearn.pipeline import Pipeline\n",
    "# from sklearn import metrics\n",
    "\n",
    "# SQL\n",
    "from sqlalchemy import create_engine\n",
    "from sqlalchemy.orm import sessionmaker\n",
    "from metadataDB.declareDatabase import *\n",
    "from sqlalchemy import or_, and_\n",
    "\n",
    "engine = create_engine(\"sqlite:///../../arXiv_metadata.db\", echo=False)\n",
    "Base.metadata.bind = engine\n",
    "DBsession = sessionmaker(bind=engine)\n",
    "session = DBsession()"
   ]
  },
  {
   "cell_type": "code",
   "execution_count": 2,
   "metadata": {
    "collapsed": false
   },
   "outputs": [],
   "source": [
    "query = session.query(Article_Category)\\\n",
    "                    .join(Category)\\\n",
    "                    .join(Article)\\\n",
    "                    .filter(Category.name.like('%atom-ph%'),\n",
    "                            )\n",
    "#                             or_(Article.journal_ref.like('Physics Review Letters%'),\n",
    "#                                           Article.journal_ref.like('Phys. Rev. Lett.%'),\n",
    "#                                           Article.journal_ref.like('PRL%')))\n",
    "\n",
    "# Clean up text\n",
    "abstracts = [' '.join(x.article.abstract.split()) for x in query]\n",
    "\n",
    "query = session.query(Article_Category)\\\n",
    "                    .join(Category)\\\n",
    "                    .join(Article)\\\n",
    "                    .filter(Category.name.like('%quant-ph%'),\n",
    "                            )\n",
    "#                             or_(Article.journal_ref.like('Physics Review Letters%'),\n",
    "#                                           Article.journal_ref.like('Phys. Rev. Lett.%'),\n",
    "#                                           Article.journal_ref.like('PRL%')))\n",
    "\n",
    "# Clean up text\n",
    "abstracts_general = [' '.join(x.article.abstract.split()) for x in query]\n",
    "\n",
    "session.close_all()"
   ]
  },
  {
   "cell_type": "code",
   "execution_count": 3,
   "metadata": {
    "collapsed": false
   },
   "outputs": [
    {
     "name": "stdout",
     "output_type": "stream",
     "text": [
      "9156\n",
      "60594\n"
     ]
    }
   ],
   "source": [
    "print len(abstracts)\n",
    "print len(abstracts_general)"
   ]
  },
  {
   "cell_type": "markdown",
   "metadata": {},
   "source": [
    "Use KMeans to find interesting subfields.\n",
    "See: http://scikit-learn.org/stable/auto_examples/text/document_clustering.html"
   ]
  },
  {
   "cell_type": "code",
   "execution_count": 4,
   "metadata": {
    "collapsed": false
   },
   "outputs": [
    {
     "name": "stdout",
     "output_type": "stream",
     "text": [
      "208.693447113\n",
      "4.06625699997\n"
     ]
    }
   ],
   "source": [
    "n_clusters = 10\n",
    "# Reduce n_init to 10 for testing purposes.\n",
    "clf_unsupervised = Pipeline([('vect', CountVectorizer(ngram_range=(1,3), stop_words='english')),\n",
    "                             ('tfidf', TfidfTransformer()),\n",
    "                             ('clf', KMeans(n_clusters=n_clusters, n_init=20, n_jobs=-1))])\n",
    "start = time.time()\n",
    "clf_unsupervised.fit(abstracts)\n",
    "print time.time() - start\n",
    "\n",
    "start = time.time()\n",
    "predict = clf_unsupervised.predict(abstracts)\n",
    "print time.time() - start"
   ]
  },
  {
   "cell_type": "code",
   "execution_count": 5,
   "metadata": {
    "collapsed": false,
    "scrolled": false
   },
   "outputs": [
    {
     "name": "stdout",
     "output_type": "stream",
     "text": [
      "Cluster 0 (746 articles):\n",
      "alpha, hyperfine, structure, nuclear, proton, corrections, hydrogen, fine, mu, fine structure, variation, muonic, constant, results, calculations, qed, electron, relativistic, order, constants\n",
      "\n",
      "Cluster 1 (724 articles):\n",
      "magnetic, field, electric, magnetic field, dipole, fields, electric dipole, moment, edm, spin, electric field, dipole moment, electric dipole moment, magnetic fields, atomic, atoms, electron, state, nuclear, states\n",
      "\n",
      "Cluster 2 (936 articles):\n",
      "trap, cooling, atoms, ion, optical, ions, laser, trapped, trapping, atom, traps, beam, mot, quantum, loading, magneto, magnetic, single, magneto optical, cold\n",
      "\n",
      "Cluster 3 (1388 articles):\n",
      "quantum, density, energy, states, theory, systems, potential, method, spin, functions, body, non, function, state, wave, results, equation, interaction, particle, matrix\n",
      "\n",
      "Cluster 4 (354 articles):\n",
      "clock, frequency, optical, clocks, transition, shift, lattice, 10, clock transition, atomic, uncertainty, shifts, magic, laser, optical frequency, transitions, sr, stability, optical lattice, nm\n",
      "\n",
      "Cluster 5 (814 articles):\n",
      "molecules, scattering, ultracold, feshbach, state, resonances, molecular, resonance, states, range, scattering length, body, length, bound, atoms, energy, molecule, vibrational, collisions, photoassociation\n",
      "\n",
      "Cluster 6 (2275 articles):\n",
      "atomic, quantum, optical, laser, atom, light, atoms, cavity, phase, state, frequency, photon, field, level, using, noise, single, wave, coherent, states\n",
      "\n",
      "Cluster 7 (637 articles):\n",
      "laser, time, harmonic, pulse, ionization, field, pulses, attosecond, electron, dependent, time dependent, hhg, generation, high, strong, harmonic generation, strong field, high order, delay, dynamics\n",
      "\n",
      "Cluster 8 (946 articles):\n",
      "electron, ionization, cross, energy, cross sections, sections, electrons, cross section, section, ions, ion, photoionization, laser, recombination, energies, photon, double, results, calculations, data\n",
      "\n",
      "Cluster 9 (336 articles):\n",
      "rydberg, atoms, rydberg atoms, states, rydberg states, excitation, state, dipole, interactions, quantum, blockade, interaction, atom, rydberg state, dipole dipole, excited, dynamics, body, rydberg atom, laser\n",
      "\n"
     ]
    }
   ],
   "source": [
    "# Most important chunks. See http://scikit-learn.org/stable/auto_examples/text/document_clustering.html\n",
    "\n",
    "order_centroids = clf_unsupervised.named_steps['clf'].cluster_centers_.argsort()[:, ::-1]\n",
    "count_clusters = Counter(predict)\n",
    "\n",
    "terms =  clf_unsupervised.named_steps['vect'].get_feature_names()\n",
    "for i in range(n_clusters):\n",
    "    print \"Cluster %d (%i articles):\" % (i, count_clusters[i])\n",
    "    print ', '.join([terms[x] for x in order_centroids[i, :20]])\n",
    "    print ''"
   ]
  },
  {
   "cell_type": "code",
   "execution_count": 6,
   "metadata": {
    "collapsed": false
   },
   "outputs": [
    {
     "name": "stdout",
     "output_type": "stream",
     "text": [
      "130.651701927\n"
     ]
    }
   ],
   "source": [
    "import AbstractWriter\n",
    "reload(AbstractWriter)\n",
    "\n",
    "\n",
    "# Make the general abstract writer, transform complete list of abstracts (general vocabulary).\n",
    "writer_general = AbstractWriter.AbstractWriter(ngram=5, randomize=True, seed=42)\n",
    "start = time.time()\n",
    "writer_general.fit(abstracts_general)\n",
    "print time.time() - start\n",
    "\n",
    "\n",
    "\n",
    "# # Get abstracts in cluster\n",
    "# cluster = 8\n",
    "# current_abstracts_iterator = (x for x, y in zip(abstracts, predict) if y==cluster)\n",
    "\n",
    "# # Make a copy of the general AbstractWriter instance.\n",
    "# writer = copy.copy(writer_general)\n",
    "# start = time.time()\n",
    "# writer.fit_specialized(current_abstracts_iterator)\n",
    "# print time.time() - start\n",
    "\n",
    "# fake_abstract = writer.write_abstract()\n",
    "# print fake_abstract\n",
    "# print ''\n",
    "# print writer.find_similar(fake_abstract)"
   ]
  },
  {
   "cell_type": "code",
   "execution_count": 22,
   "metadata": {
    "collapsed": false
   },
   "outputs": [],
   "source": [
    "# This function writes abstracts as a function of (precomputed) cluster\n",
    "def writeAbstractCluster(cluster, article_number=1, check_article=True, seed=42, specialized_weight=0.8):\n",
    "    writer = AbstractWriter.AbstractWriter(ngram=writer_general.ngram,\n",
    "                                           randomize=writer_general.randomize,\n",
    "                                           seed=seed,\n",
    "                                           maxWords=writer_general.maxWords)\n",
    "    writer._data = dict(writer_general._data)\n",
    "    writer._abstracts = list(writer_general._abstracts)\n",
    "    writer._specialized_weight = specialized_weight\n",
    "#     print writer._data\n",
    "#     writer = copy.deepcopy(writer_general)\n",
    "    start = time.time()\n",
    "    current_abstracts_iterator = (x for x, y in zip(abstracts, predict) if y==cluster)\n",
    "    writer.fit_specialized(current_abstracts_iterator)\n",
    "    print time.time() - start\n",
    "    \n",
    "    for _ in range(article_number):\n",
    "        start = time.time()\n",
    "        fake_abstract = writer.write_abstract()\n",
    "        print time.time() - start\n",
    "\n",
    "        print 'New abstract: ' + fake_abstract\n",
    "        print ''\n",
    "        if check_article:\n",
    "            print 'Existing abstract: ' + writer.find_similar(fake_abstract)\n",
    "            print ''\n",
    "    return writer"
   ]
  },
  {
   "cell_type": "code",
   "execution_count": 11,
   "metadata": {
    "collapsed": true
   },
   "outputs": [],
   "source": [
    "# Write two abstracts per cluster."
   ]
  },
  {
   "cell_type": "code",
   "execution_count": 12,
   "metadata": {
    "collapsed": false,
    "scrolled": false
   },
   "outputs": [
    {
     "name": "stdout",
     "output_type": "stream",
     "text": [
      "Cluster 0 (746 articles):\n",
      "alpha, hyperfine, structure, nuclear, proton, corrections, hydrogen, fine, mu, fine structure, variation, muonic, constant, results, calculations, qed, electron, relativistic, order, constants\n",
      "\n",
      "3.32222795486\n",
      "0.000500917434692\n",
      "New abstract: We investigate the muonic hydrogen spectrum relevant to this transition using bound state QED with nonperturbative relativistic Dirac wave functions for a two dimensional conformal field theories exciting a state with a component in the DFS the relaxation time is quite short for quantum systems by numerical simulations. We consider this is one of the hard problems in present science and no method has been described for calculating this probability from measurements on a cluster state that is universal for different types of RDM statistics corresponding to different PDFs W t . Obtained general results are illustrated as applied to the phenomenon of weak values. Expressed in units of the trap frequency. This is reminiscent of the Kondo effect.\n",
      "\n",
      "Existing abstract: The manifestation of measurements randomly distributed in time on the evolution of quantum systems are analyzed in detail. The set of randomly distributed measurements RDM is modeled within the renewal theory in which the distribution is characterized by the probability density function PDF W t of times t between successive events measurements . The evolution of the quantum system affected by the RDM is shown to be described by the density matrix satisfying the stochastic Liouville equation. This equation is applied to the analysis of the RDM effect on the evolution of a two level systems [[[for different types of RDM statistics corresponding to different PDFs W t . Obtained general results are illustrated as applied to the]]] cases of the Poissonian W t e w r t and anomalous W t # t # alpha alpha is smaller or equal to # RDM statistics. In particular specific features of the quantum and inverse Zeno effects resulting from the RDM are thoroughly discussed.\n",
      "\n",
      "0.000835180282593\n",
      "New abstract: With the advent of more mature quantum computing technologies quantum annealers have been proposed as wires to transport information between separated registers in a quantum information processor quantum computer based on a one dimensional chain of M identical harmonic oscillators with natural frequency omega coupled by means of springs. Such systems have been considered by previous authors. The third collision integral cal G ## contains the effects of processes where one bogolon becomes three and vice versa. These findings provide new tools for investigations of photon mediated atom atom interactions in one spin subsystem making it a well characterized reference sample. We present a novel and fast approach for identifying single molecules based on single event photon statistics analyses compared with commonly used two time correlation measurements. The error estimates for critical values of photon statistics are also derived in the Schroedinger picture as well as in the evolution of the density matrix of a state provided that the states with maximal entanglement entropy volume law may be factored into Bell pairs BP formed by two states with support on A and bar A is given the states with maximal entanglement of formation. These features directly follow from the parity conservation corresponding to the\n",
      "\n",
      "Existing abstract: Mandel Q parameter which is determined from single event photon statistics provides an alternative to differentiate single molecule with fluorescence detection. In this work by using the Q parameter of the sample fluorescence compared to that of an ideal double molecule system with the same average photon number we [[[present a novel and fast approach for identifying single molecules based on single event photon statistics analyses compared with commonly used two time correlation measurements. The error estimates for critical values of photon statistics are also]]] presented for single molecule determination.\n",
      "\n",
      "Cluster 1 (724 articles):\n",
      "magnetic, field, electric, magnetic field, dipole, fields, electric dipole, moment, edm, spin, electric field, dipole moment, electric dipole moment, magnetic fields, atomic, atoms, electron, state, nuclear, states\n",
      "\n",
      "3.12756896019\n",
      "0.000483989715576\n",
      "New abstract: We study the effect of strong radio frequency rf field on a quadrupole trap. This rf dressed quadrupole trap has minimum of the potential away from the surface. Under appropriate conditions the setup is found to feature a barrier near the surface which can be employed to control fluctuating magnetic fields and gradients of these fields using a yield based chemical compass that is sensitive enough for navigation. Also we find that the linewidth generally scales as the inverse of the downloading method by Cai et. al. which also works as the upload our uploading method has several advantages.\n",
      "\n",
      "Existing abstract: Within the framework of macroscopic quantum electrodynamics the resonant van der Waals potential experienced by an excited two level atom near a planar magneto electric two layer system consisting of a slab of left handed material and a perfect mirror is studied. It is shown that disregarding of material absorption leads to unphysical results with divergent values for [[[the potential away from the surface. Under appropriate conditions the setup is found to feature a barrier near the surface which can be employed to]]] levitate particles or used as a trapping or cooling mechanism. Finally the problem of spontaneous decay J. K a stel and M. Fleischhauer Phys. Rev. A textbf ## ###### R #### is revisited. Disregarding of absorption is shown to drastically falsify the dependence on the atomic position of the decay rate.\n",
      "\n",
      "0.000929117202759\n",
      "New abstract: A possibility of amplification of the #.# eV gamma radiation by the stimulated gamma emission of the ensemble of particles is characterized by a representative ensemble. It is shown that the fine structure constant and we obtain an estimate of the wave function does not comprise such a kind of object. The present text tries to incorporate the mediator in the formalism of noncommutative quantum mechanics. As expected this representation for the Feynman kernel is not unique but labeled by the real parameter alpha . We show that in the nonrelativistic limits the solution of Dirac system converges to that of Schrodinger system. Rotational Vibrational energy eigenvalues of some diatomic molecules by solving the Schr o dinger boundary data problem. An issue of deducing the global properties of the two impurity Kondo model. We also show that if no entangled particles are provided then the communication complexity of EQ and NE allowing to obtain tight characterisation in all previously studied and a few newly introduced versions of SMP including all possible combination of either quantum or randomised Alice Bob and Merlin in the non deterministic version of quantum classical SMP where Merlin is also quantum this is the strongest known version of SMP where\n",
      "\n",
      "Existing abstract: We develop a new lower bound method for analysing the complexity of the Equality function EQ in the Simultaneous Message Passing SMP model of communication complexity. The new technique gives tight lower bounds of Omega sqrt n for both EQ and its negation NE in the non deterministic version of quantum classical SMP where Merlin is also quantum this is the strongest known version of SMP where the complexity of both EQ and NE remain high previously known techniques seem to be insufficient for this . Besides our analysis provides to a unified view of [[[the communication complexity of EQ and NE allowing to obtain tight characterisation in all previously studied and a few newly introduced versions of SMP including all possible combination of either quantum or randomised Alice Bob and Merlin in the non deterministic]]] case. Some of our results highlight that NE is easier than EQ in the presence of classical proofs whereas the problems have roughly the same complexity when a quantum proof is present.\n",
      "\n",
      "Cluster 2 (936 articles):\n",
      "trap, cooling, atoms, ion, optical, ions, laser, trapped, trapping, atom, traps, beam, mot, quantum, loading, magneto, magnetic, single, magneto optical, cold\n",
      "\n",
      "3.30805706978\n",
      "0.00042200088501\n",
      "New abstract: We analyse the possibility of cooling ions with a larger mass perform worse. Furthermore we present numerical simulation results of some simple Diophantine equations are presented. We also reveal the relation between information transfer rate and decoherence rate.\n",
      "\n",
      "Existing abstract: Sympathetic cooling of trapped ions has become an indispensable tool for quantum information processing and precision spectroscopy. In the simplest situation a single Doppler cooled ion sympathetically cools another ion which typically has a different mass. We analytically investigate the effect of the mass ratio of such an ion crystal on the achievable temperature limit in the presence of external heating. As an example we show that cooling of a single Al with Be Mg and Ca ions provides similar results for heating rates typically observed in ion traps whereas [[[cooling ions with a larger mass perform worse. Furthermore we present numerical simulation results of]]] the rethermalisation dynamics after a background gas collision for the Al Ca crystal for different cooling laser configurations.\n",
      "\n",
      "0.000379085540771\n",
      "New abstract: We report on the successful implementation of a MOTReMi could be realized due to an optimized design of the present setup a nonstandard operation of the MOT and by employing a switching cycle with alternating measuring and trapping periods. The very low target temperature in the MOT #mK allow for an excellent momentum resolution. Optical preparation of the target atoms in the excited Li # #P # # states in H atom with the high accuracy within #.# \n",
      "\n",
      "Existing abstract: The Lamb Shift LS of Hydrogenlike atom is evaluated by a simple method of quantum electrodynamics in noncovariant form based on the relativistic stationary Schr odinger equation. An induced term proportional to overrightarrow p # in the effective Hamiltonian is emphasized. Perturbative calculation of second order leads to the LS of #S # # state and that of #S # [[[# #P # # states in H atom with the high accuracy within]]] #.# \n",
      "\n",
      "Cluster 3 (1388 articles):\n",
      "quantum, density, energy, states, theory, systems, potential, method, spin, functions, body, non, function, state, wave, results, equation, interaction, particle, matrix\n",
      "\n",
      "3.83158802986\n",
      "0.000798940658569\n",
      "New abstract: We show that n thermal fermionic alkaline earth atoms in their metastable state are computed in a self consistent manner. The method described herein is applicable to calculations of atomic structure in magnetic fields of arbitrary strength as it exploits the natural symmetries of the problem without assumptions of any basis functions for expressing the wave functions of the ground vibrational state is possible. We show that the enhancement in measurement precision is characterized by a particle configuration with nearest neighbor exclusion. We show that the derivative expansion of the Casimir Polder force. We show that wires with cross sections as small as a few nanometers and within tens of nanometers of other surfaces. Simultaneously the guided surface plasmon modes of the nanotip allow the atom to be optically manipulated or for fluorescence photons to be collected with very high efficiency. Finally we analyze the impact of trap geometry parameters on the crystal splitting process.\n",
      "\n",
      "Existing abstract: We propose and analyze a scheme to interface individual neutral atoms with nanoscale solid state systems. The interface is enabled by optically trapping the atom via the strong near field generated by a sharp metallic nanotip. We show that under realistic conditions a neutral atom can be trapped with position uncertainties of just [[[a few nanometers and within tens of nanometers of other surfaces. Simultaneously the guided surface plasmon modes of the nanotip allow the atom to be optically manipulated or for fluorescence photons to be collected with very high efficiency. Finally we analyze the]]] surface forces and heating and decoherence rates acting on the trapped atom.\n",
      "\n",
      "0.000159978866577\n",
      "New abstract: We present a comparative study of the bounds of single body contextuality and n body nonlocality and connects two programs towards understanding quantum theory.\n",
      "\n",
      "Existing abstract: Quantum n body correlations cannot be explained with n # body nonlocality. However this genuine n body nonlocality cannot surpass certain bounds. Here we address the problem of identifying the principles responsible for these bounds. We show that for any n ge # the exclusivity principle as derived from axioms about sharp measurements and a technical assumption give the exact bounds predicted by quantum theory. This provides a unified explanation [[[of the bounds of single body contextuality and n body nonlocality and connects two programs towards understanding quantum]]] theory.\n",
      "\n",
      "Cluster 4 (354 articles):\n",
      "clock, frequency, optical, clocks, transition, shift, lattice, 10, clock transition, atomic, uncertainty, shifts, magic, laser, optical frequency, transitions, sr, stability, optical lattice, nm\n",
      "\n",
      "2.83770704269\n",
      "0.000296831130981\n",
      "New abstract: A systematic study of Ca atomic properties for use in theoretical modeling as well as planning and analysis of various experiments including development of ultra precise nuclear clock and RESIS studies of actinide ions\n",
      "\n",
      "Existing abstract: Atomic properties of the ## low lying ns np nd nf and ng states in Th IV ion are calculated using the high precision relativistic all order method where all single double and partial triple excitations of the Dirac Fock wave functions are included to all orders of perturbation theory. Recommended values are provided for a large number of electric dipole matrix elements oscillator strengths transition rates and lifetimes. Scalar polarizabilities of the ground and six excited states #f j #d j #p j and #s and tensor polarizabilities of the #f j #d j #p # # states of Th IV are evaluated. The uncertainties of the recommended values are estimated. These calculations provide recommended values critically evaluated for their accuracy for a number of Th IV [[[atomic properties for use in theoretical modeling as well as planning and analysis of various experiments including development of ultra precise nuclear clock and RESIS studies of actinide]]] ions\n",
      "\n",
      "0.00100302696228\n",
      "New abstract: A systematic study of such attractor states shows that their properties reflect the structure of the ion but also causes the complex internal structure of the atom and laser beams. Moreover we spatially and temporally characterize the beam of hydrogen and selected neutral alkali metal atoms that carry non zero orbital angular momentum are known and exploited during the last twenty years. Recently it has been known that SR emerges by the cooperation of a weak periodic signal and noise in a bistable system. A periodic signal produces switching between two stable states by lowering the potential barrier. Even if the amplitude of the correlation signal is observed when significant material dispersion enough to broaden the regular interferogram by #### is introduced into one arm of the outer interferometer and leaves no trace in the inner MZI while when it goes through the inner MZI it cannot reach the detector. Our result obtained from the standard that is the Copenhagen or orthodox formulation. The ontological characteristics of Bohmian mechanics provide a description of measurements in Hilbert spaces that are smaller than the coherent state the entangled state representation of the ICES and the Schmidt decomposing of the ICES are also discussed. As applications a\n",
      "\n",
      "Existing abstract: In this paper we report stochastic resonance SR in a single electron turnstile. It [[[has been known that SR emerges by the cooperation of a weak periodic signal and noise in a bistable system. A periodic signal produces switching between two stable states by lowering the potential barrier. Even if the amplitude of the]]] signal is not large enough to make the potential barrier disappear the switching can occur with the help of noise. As a result an output signal to noise ratio SNR which shows how much the switching is synchronized with the signal can be enhanced by increasing the noise. We have formulated the SR in a single electron turnstile into the adiabatic two state theory of McNamara Wiesenfeld and confirmed its manifestation by numerical simulation. These results could be applied to detection of the periodic motion of very small electric charge under noisy environment.\n",
      "\n",
      "Cluster 5 (814 articles):\n",
      "molecules, scattering, ultracold, feshbach, state, resonances, molecular, resonance, states, range, scattering length, body, length, bound, atoms, energy, molecule, vibrational, collisions, photoassociation\n",
      "\n",
      "3.21943807602\n",
      "0.000288009643555\n",
      "New abstract: We consider the spin exchange in ultracold collisions of Rb atoms. We show that for two atomic spin states with opposite magnetic moments our system naturally realizes the time reversal symmetric Hamiltonian underlying the quantum spin Hall effect QSHE which is a new result on the matrix representation of the Dirac group and its CPT subgroup.\n",
      "\n",
      "Existing abstract: We demonstrate the experimental implementation of an optical lattice that allows for the generation of large homogeneous and tunable artificial magnetic fields with ultracold atoms. Using laser assisted tunneling in a tilted optical potential we engineer spatially dependent complex tunneling amplitudes. Thereby atoms hopping in the lattice accumulate a phase shift equivalent to the Aharonov Bohm phase of charged particles in a magnetic field. We determine the local distribution of fluxes through the observation of cyclotron orbits of the atoms on lattice plaquettes showing that the system is described by the Hofstadter model. Furthermore we [[[show that for two atomic spin states with opposite magnetic moments our system naturally realizes the time reversal symmetric Hamiltonian underlying the quantum spin Hall effect]]] i.e. two different spin components experience opposite directions of the magnetic field.\n",
      "\n",
      "0.000667095184326\n",
      "New abstract: We characterize the long range interactions between different bands as well as occupation dependent inter and intra band coherences. Our theory extends the free carrier Semiconductor Bloch Equations to the case of the EM field from this multiscattering formalism for generalized dielectrics including magnetic responses and Topological Insulators as an example of a finite system whose level one rate function is independent of the strength of the memory back action on the system. An optimal compromise employs weak measurements providing partial information with minimal perturbation. The controller should include the effect of intermediate repumping states on the closed loop stability of the oscillator and the reservoir degrees of freedom. We study the measure theory of a two dimensional system of free particles are obtained in closed form. Some special cases of interest like the cloning of qubit phase gates.\n",
      "\n",
      "Existing abstract: Feedback loops are at the heart of most classical control procedures. A controller compares the signal measured by a sensor with the target value. It adjusts then an actuator in order to stabilize the signal towards its target. Generalizing this scheme to stabilize a micro system s quantum state relies on quantum feedback which must overcome a fundamental difficulty the measurements by the sensor have a random [[[back action on the system. An optimal compromise employs weak measurements providing partial information with minimal perturbation. The controller should include the effect of]]] this perturbation in the computation of the actuator s unitary operation bringing the incrementally perturbed state closer to the target. While some aspects of this scenario have been experimentally demonstrated for the control of quantum or classical micro system variables continuous feedback loop operations permanently stabilizing quantum systems around a target state have not yet been realized. We have implemented such a real time stabilizing quantum feedback scheme. It prepares on demand photon number states Fock states of a microwave field in a superconducting cavity and subsequently reverses the effects of decoherence induced field quantum jumps. The sensor is a beam of atoms crossing the cavity which repeatedly performs weak quantum non demolition measurements of the photon number. The controller is implemented in a real time computer commanding the injection between measurements of adjusted small classical fields in the cavity. The microwave field is a quantum oscillator usable as a quantum memory or as a quantum bus swapping information between atoms. By demonstrating that active control can generate non classical states of this oscillator and combat their decoherence this experiment is a significant step towards the implementation of complex quantum information operations.\n",
      "\n",
      "Cluster 6 (2275 articles):\n",
      "atomic, quantum, optical, laser, atom, light, atoms, cavity, phase, state, frequency, photon, field, level, using, noise, single, wave, coherent, states\n",
      "\n",
      "4.76781487465\n",
      "0.00103306770325\n",
      "New abstract: We examine here the classical dynamics of cold atoms and molecules near the ionization threshold. They explore a new region of plasma physics and display effects of strong coupling which is characterized by twice the value of the capacity up to corrections which are specific for muonic atoms and include the electron vacuum polarization loop. In particular we point out that it is possible to absorb the input light completely in a system with an energy gap. For this system the external control Hamiltonian does not commute with the perturbing interaction. When the measured observable commutes with the environmental interaction the finite duration measurement accelerates the rate of decoherence induced by the coupling of the ISOIs and spin moment of the spin active interface results in maximum singlet triplet conversion and accumulation of spin current density at the corners of the Brillouin zone i.e. for Planckian energies the uncertainty relation for photons on the electromagnetic energy distribution in space combined with a measure of the accuracy of the present results is assessed to be about ## or higher over a wide frequency range of ###MHz by utilizing the central EIT. This property provides a novel way for constructing high resolution tunable frequency reference via\n",
      "\n",
      "Existing abstract: Utilizing a SU # gauge symmetry technique in the quasiclassical diffusive regime we theoretically study finite sized two dimensional intrinsic spin orbit coupled superconductor normal metal superconductor S N S hybrid structures with a single spin active interface. We consider intrinsic spin orbit interactions ISOIs that are confined within the N wire and absent in the s wave superconducting electrodes S . Using experimentally feasible parameters we demonstrate that [[[the coupling of the ISOIs and spin moment of the spin active interface results in maximum singlet triplet conversion and accumulation of spin current density at the corners of the]]] N wire nearest the spin active interface. By solely modulating the superconducting phase difference we show how the opposing parities of the charge and spin currents provide an effective venue to experimentally examine pure edge spin currents not accompanied by charge currents. These effects occur in the absence of externally imposed fields and moreover are insensitive to the arbitrary orientations of the interface spin moment. The experimental implementation of these robust edge phenomena are also discussed.\n",
      "\n",
      "0.000373840332031\n",
      "New abstract: We propose a gravimeter based on a matter wave resonant cavity loaded with a Bose Einstein condensate or a thermal state. It has a wide dynamic range of momentum transfer and operation time. Differential velocities exceeding #.# m s can be achieved solely at the price to replace complex variables by generalized Grassmann or k fermionic variables. Some of the results allow interesting insight into the notion of quantum collapse.\n",
      "\n",
      "Existing abstract: The splitting of matter waves into a superposition of spatially separated states is a fundamental tool for studying the basic tenets of quantum mechanics and other theories as well as a building block for numerous technological applications. We report the realization of a matter wave beam splitter based on magnetic field gradients on an atom chip which can be used for freely propagating or trapped atoms in [[[a Bose Einstein condensate or a thermal state. It has a wide dynamic range of momentum transfer and operation time. Differential velocities exceeding #.# m s can be achieved]]] in a few micro seconds. The beam splitter may enable a wide range of applications such as fundamental studies of many body entanglement and dephasing processes probing classical and quantum properties of nearby solids and metrology of rotation acceleration and gravity on a chip scale.\n",
      "\n",
      "Cluster 7 (637 articles):\n",
      "laser, time, harmonic, pulse, ionization, field, pulses, attosecond, electron, dependent, time dependent, hhg, generation, high, strong, harmonic generation, strong field, high order, delay, dynamics\n",
      "\n",
      "3.17258906364\n",
      "0.000864028930664\n",
      "New abstract: In the recent work of Vanne and Saenz Phys. Rev. A ## ###### #### . We apply the method to data generated by simulations based on continuous matrix product states in order to see if the effects depend on the form of the momentum density satisfy an exact uncertainty relation i.e. an equality which underlies the Heisenberg type uncertainty relation suggested by Ozawa Phys. Lett. A### #### ### hep th ####### hep th ####### employing bounded infinite dimensional representations of A x and A x s can be achieved in the ballistic regime which occurs when the boson wavelength is twice the cross section side size. This confinement is amplified when the wall strength is increased until a dimensional crossover from #D to #D space compactification changes the #D massless problem into an effective massive #D problem. The size of the atomic cloud is small compared with the radiation wave length we found that the MS inconsistency persisted and the so called Poisson spot. Furthermore we give an explicit non recursive expression for the term corresponding to an arbitrary tree.\n",
      "\n",
      "Existing abstract: We report the thermodynamic properties of an ideal boson gas confined in an infinite periodic array of channels modeled by two mutually perpendicular Kronig Penney delta potentials. The particle s motion is hindered in the x y directions allowing tunneling of particles through the walls while no confinement along the z direction is considered. It is shown that there exists a finite Bose Einstein condensation BEC critical temperature Tc that decreases monotonically from the #D ideal boson gas IBG value T # as the strength of confinement P # is increased while keeping the channel s cross section a x a y constant. In contrast Tc is a non monotonic function of the cross section area for fixed P # . In addition to the BEC cusp the specific heat exhibits a set of maxima and minima. The minimum located at the highest temperature is a clear signal of the confinement effect [[[which occurs when the boson wavelength is twice the cross section side size. This confinement is amplified when the wall strength is increased until a dimensional crossover from #D to #D]]] is produced. Some of these features in the specific heat obtained from this simple model can be related qualitatively to at least two different experimental situations # He adsorbed within the interstitial channels of a bundle of carbon nanotubes and superconductor multistrand wires Nb # Sn.\n",
      "\n",
      "0.000160932540894\n",
      "New abstract: Recently a method to image an object by two photon interference in terms of single layer states and thereby explicitly demonstrate that the transition broadening mechanism is homogeneous.\n",
      "\n",
      "Existing abstract: A large number of recent works point to the emergence of intriguing analogs of fractional quantum Hall states in lattice models due to effective interactions in nearly flat bands with Chern number C #. Here we provide an intuitive and efficient construction of almost dispersionless bands with higher Chern numbers. Inspired by the physics of quantum Hall multilayers and pyrochlore based transition metal oxides we study a tight binding model describing spin orbit coupled electrons in N parallel kagome layers connected by apical sites forming N # intermediate triangular layers as in the pyrochlore lattice . For each N we find finite regions in parameter space giving a virtually flat band with C N. We analytically express the states within these topological bands [[[in terms of single layer states and thereby explicitly demonstrate that the]]] C N wave functions have an appealing structure in which layer index and translations in reciprocal space are intricately coupled. This provides a promising arena for new collective states of matter.\n",
      "\n",
      "Cluster 8 (946 articles):\n",
      "electron, ionization, cross, energy, cross sections, sections, electrons, cross section, section, ions, ion, photoionization, laser, recombination, energies, photon, double, results, calculations, data\n",
      "\n",
      "12.0959219933\n",
      "0.000695943832397\n",
      "New abstract: A description of the DEPOSIT computer code is presented. The code is intended to calculate total and m fold electron loss cross sections to the total electron loss cross sections m is the number of spins and exponentially with # epsilon where epsilon is the desired precision C # is a quality factor of the cavity and of the atom we also discuss the relation between BB## type protocols and two step type ones. It is shown that with an appropriate choice of control pulse wavevectors. We demonstrate that the s wave geometric spectrum of the Efimov energy levels in the problem Hamiltonian. We show that incoherent hopping introduces additional local extrema in the search landscape for optimal control of quantum systems is developed. In this approach the finite size corresponds not to the spatial dimension d for gapped systems and otherwise depends on the critical exponents. Here we show that it is saturated.\n",
      "\n",
      "Existing abstract: The study of the logarithm of the em fidelity i.e. of the overlap amplitude between ground states of Hamiltonians corresponding to different coupling constants provides a valuable insight on critical phenomena. When the parameters are infinitesimally close it is known that the leading term behaves as O L alpha L system size where alpha is equal [[[to the spatial dimension d for gapped systems and otherwise depends on the critical exponents. Here we show that]]] when parameters are changed along a critical manifold a sub leading O # term can appear. This term somewhat similar to the topological entanglement entropy depends only on the system s universality class and encodes non trivial information about the topology of the system. We relate it to universal g factors and partition functions of boundary conformal field theory in d # and d # dimensions. Numerical checks are presented on the simple example of the XXZ chain.\n",
      "\n",
      "0.000247955322266\n",
      "New abstract: We study the x ray emission is based on the systematic use of the su # symmetry at all steps of the interaction. In particular doubly excited resonances that are strongly suppressed in reduced dimensions. This finding is explained theoretically by a combination of half wave and quarter wave plates.\n",
      "\n",
      "Existing abstract: We report on a systematic implementation of su # invariance for matrix product states MPS with concrete computations cast in a diagrammatic language. As an application we present a variational MPS study of su # invariant quantum spin systems. For efficient computations we make [[[systematic use of the su # symmetry at all steps of the]]] calculations i the matrix space is set up as a direct sum of irreducible representations ii the local matrices with state valued entries are set up as superposition of su # singlet operators iii products of operators are evaluated algebraically by making use of identities for #j and #j symbols. The remaining numerical computations like the diagonalization of the associated transfer matrix and the minimization of the energy expectation value are done in spaces free of symmetry degeneracies. The energy expectation value is a strict upper bound of the true ground state energy and yields definite conclusions about the accuracy of DMRG results reported in the literature. Furthermore we present explicit results with accuracy better than ## # for nearest and next nearest neighbour spin correlators and for general dimer dimer correlators in the thermodynamical limit of the spin # # Heisenberg chain with frustration.\n",
      "\n",
      "Cluster 9 (336 articles):\n",
      "rydberg, atoms, rydberg atoms, states, rydberg states, excitation, state, dipole, interactions, quantum, blockade, interaction, atom, rydberg state, dipole dipole, excited, dynamics, body, rydberg atom, laser\n",
      "\n",
      "3.01593995094\n",
      "0.000725030899048\n",
      "New abstract: The observation of strongly interacting many body quantum systems and to fundamental studies of the interaction of x rays with N# a single atom a symmetric sharing model and a fragmentation matrix model are developed. The role of the triply extended group of translations of mathbb R # . This counterintuitive force was shown to exist in the sub Ohmic regime. A novel quantum phase transition at zero quadratic Zeeman shift q. Both the rate of instability and the associated finite wavevector of the unstable modes show good agreement with the data. We discuss the use of back action of quantum measurements and the classical notion of error bars. High posterior density HPD credible regions are the most powerful tool for studying quantum phenomena in strongly interacting regimes including the study of strongly correlated fermionic quantum systems in optical lattices OL are within reach. While conventional neutral atomic OL gases lack strong long range interactions in optical lattice experiments.\n",
      "\n",
      "Existing abstract: We investigate both experimentally and theoretically the quench dynamics of antiferromagnetic spinor Bose Einstein condensates in the vicinity of a zero temperature [[[quantum phase transition at zero quadratic Zeeman shift q. Both the rate of instability and the associated finite wavevector of the unstable modes show good agreement with]]] predictions based upon numerical solutions to the Bogoliubov de Gennes equations. A key feature of this work is inclusion of magnetic field inhomogeneities that smooth the phase transition. Once these were removed we observed a dramatic sharpening of the transition point which could then be resolved within a quadratic Zeeman shift of only # # Hz. Our results point to the use of dynamics rather than equilibrium quantities for high precision measurements of phase transitions in quantum gases.\n",
      "\n",
      "0.000545978546143\n",
      "New abstract: The creation and direct detection of n particle atomic correlations in ensembles of atoms is investigated. For this purpose we start from a certain variant of QM deterministic QM which has most features similar to QM but the evolution in this theory is deterministic. Then we introduce the first method for generating randomness from untrusted devices however without providing a rigorous analysis. This was addressed subsequently by Pironio et al. applies only to collective attacks where the eavesdropper aims to identify the state completely. Therefore only prior information regarding the state can make entanglement detection less expensive than full state tomography in terms of a statistical ensemble of Ehrenfest systems. The study of its quantum mechanical violation reveals that Greenberger Horne Zeilinger like states exhibit new powerful correlations.\n",
      "\n",
      "Existing abstract: We present models in which the indeterministic feature of Quantum Mechanics is represented in the form of definite physical mechanisms. Our way is completely different from so called hidden parameter models namely [[[we start from a certain variant of QM deterministic QM which has most features similar to QM but the evolution in this theory is deterministic. Then we introduce the]]] subquantum medium composed of so called space like objects. The interaction of a deterministic QM particle with this medium is represented by the random force but it is the random force governed by the probability amplitude distribution. This is the quantum random force and it is very different from classical random force. This implies that in our models there are no Bell s inequalities and that our models depending on a certain parameter tau can be arbitrarily close to QM. The parameter tau defines a relaxation time and on time intervals shorter than tau the evolution violates Heisenberg s uncertainty principle and it is almost deterministic spreading of the wave packet is much slower than in QM. Such type of short time effects form the bases of proposed tests which can in principle define limits of validity of QM. The proposed experiments are related to the behavior of quantum objects on short time intervals where we expect the behavior different from QM. The main proposed feature is violation of uncertainty relations on short time intervals.\n",
      "\n"
     ]
    }
   ],
   "source": [
    "for i in range(n_clusters):\n",
    "    print \"Cluster %d (%i articles):\" % (i, count_clusters[i])\n",
    "    print ', '.join([terms[x] for x in order_centroids[i, :20]])\n",
    "    print ''\n",
    "    writeAbstractCluster(i, 2)"
   ]
  },
  {
   "cell_type": "code",
   "execution_count": 23,
   "metadata": {
    "collapsed": false,
    "scrolled": false
   },
   "outputs": [
    {
     "name": "stdout",
     "output_type": "stream",
     "text": [
      "Cluster 7 (637 articles):\n",
      "laser, time, harmonic, pulse, ionization, field, pulses, attosecond, electron, dependent, time dependent, hhg, generation, high, strong, harmonic generation, strong field, high order, delay, dynamics\n",
      "\n",
      "3.80051398277\n",
      "0.000510931015015\n",
      "New abstract: We experimentally disentangle the contributions of different quantum paths in high order harmonic generation of the laser driven atoms and molecules. The Coulomb singularities in the system have been removed by a regularization procedure. Action angle variables have been used to calculate semiclassical transition rates. Simple analytical expressions for the spinwave fidelity as a function of time delay. These modulations originate from the weak initial density modulations induced by the disorder and not from initial phase fluctuations thermal or quantum .\n",
      "\n",
      "0.000612020492554\n",
      "New abstract: We consider the time dynamics of the ionization process the formation of electronic wave packets and the development of new types of laser cooling and atom trapping. The emphasis is on trying to show the possible significance and usefulness of various non selfadjoint operators for suitable Observables in non relativistic and relativistic protocols.\n",
      "\n",
      "0.000227928161621\n",
      "New abstract: We present a theoretical study of excitation energy transfer can be modified by tuning experimental parameters.\n",
      "\n",
      "0.00159192085266\n",
      "New abstract: The Compton and Thomson radiation spectra generated in collisions of an electron beam with a powerful laser beam are studied in the framework of the Nikiforov Uvarov NU method is used to obtain energy and momentum distributions of Bose gases in the fractional quantum Hall effect or the Calogero Sutherland model. As an application of our formalism we show that a large entangled current can be produced from laser phase fluctuations with a very high fidelity for a wide range of coupled quantum systems. The decorrelation can be seen as a possible continuum generalization of a lattice model by Bell. It can also be thought of as a limiting version of the Borde Chu Interferometer BCI . We identify a quality factor that can be used as a guideline for engineering and manipulating quantum systems such as cavity QED or quantum dots coupled to photons. The time non local optimized effective potential OEP equation for the electron from the negative molecular ion. In mixtures of Nitromethane vapor with CO # the mechanism appears to be more complex.\n",
      "\n",
      "0.00238513946533\n",
      "New abstract: Extreme ultraviolet XUV attosecond pulses generated by a process known as laser induced electron recollision process. It is the first step toward exploring the effect of nucleus over the the angular and polarization sensitive Mott measurements may reveal valuable information about both the transverse and longitudinal modes to efficiently compute the scattering S matrix. The projection onto transverse modes of this result evaluated for imaginary wave vector provides the free dynamics of the quantum channel coding theorem and the strong converse proven. For classical information transmission via quantum channels we give a bound involving entanglement of formation for some special cases like states of two qubits comparing these entanglement measures may lead to different in general diffraction patterns for opposite adiabatic and resonant regimes of the standing wave we construct a stochastic map that specifies the center of mass rotational vibrational and electronic spectroscopy. A signifcant amount of experimental and theoretical data may be attributed to deficiency of the Born models used by other authors. We demonstrate that the effect of perturbation propagates across the wave packet can be obtained from the nonsingular oscillator via perturbation theory.\n",
      "\n",
      "0.000883817672729\n",
      "New abstract: We present the time dependent restricted active space self consistent field singles TD RASSCF S method can be regarded as a single pump mode with an effective decay rate and an effective coupling constant with the energy scale and we discuss the possibility of non exponential Auger decay of atoms irradiated by intense laser fields both numerically and analytically. The calculated molecular HHG spectra are found to exhibit deviations from extensivity.\n",
      "\n",
      "0.000532150268555\n",
      "New abstract: Intrinsic to the process of setting the problem. The number of created photons is evaluated as squeezing from the Heisenberg equations of motion is essentially a failure of the regression relation.\n",
      "\n",
      "0.00195503234863\n",
      "New abstract: Half cycle laser pulse is studied by solving numerically the time dependent Schr odinger equation for the PT and or non PT symmetric potentials of several types. For the single well and double well potentials the found solutions are two parametric and appear to be more robust than of linear cluster states. We indicate that the single valuedness criteria of the eigenfunctions in non deformed case is an emergent condition and the semiclassical solutions exactly coincide with the quantum ones for the recent experiment by Gilbertson et al. Phys. Rev. A. textbf ## ###### #### to nonequilibrium situations and compute from the two time Schwinger Keldysh Kadanoff Baym equations the response of the large majority of quantum pure states whose #nd moments equal those of the uniform Haar measure play the key role for the discontinuity in the geometric phase associated with the scalar electron encircling the vortex line involves quantized Dirac monopole we have paraxial non paraxial beam when the vortex line is parallel orthogonal to the wavefront propagation direction. Non paraxial beams incorporate spin orbit interaction. When the vortex line is modified from that in free space is studied in terms of the angle between the asymptotes of mathcal L is small\n",
      "\n"
     ]
    },
    {
     "data": {
      "text/plain": [
       "<AbstractWriter.AbstractWriter instance at 0x17c1adab8>"
      ]
     },
     "execution_count": 23,
     "metadata": {},
     "output_type": "execute_result"
    }
   ],
   "source": [
    "i = 7\n",
    "print \"Cluster %d (%i articles):\" % (i, count_clusters[i])\n",
    "print ', '.join([terms[x] for x in order_centroids[i, :20]])\n",
    "print ''\n",
    "writeAbstractCluster(i, 8, check_article=False, seed=1492, specialized_weight=0.9)"
   ]
  },
  {
   "cell_type": "code",
   "execution_count": null,
   "metadata": {
    "collapsed": true
   },
   "outputs": [],
   "source": []
  }
 ],
 "metadata": {
  "kernelspec": {
   "display_name": "Python 2",
   "language": "python",
   "name": "python2"
  },
  "language_info": {
   "codemirror_mode": {
    "name": "ipython",
    "version": 2
   },
   "file_extension": ".py",
   "mimetype": "text/x-python",
   "name": "python",
   "nbconvert_exporter": "python",
   "pygments_lexer": "ipython2",
   "version": "2.7.11"
  }
 },
 "nbformat": 4,
 "nbformat_minor": 0
}
