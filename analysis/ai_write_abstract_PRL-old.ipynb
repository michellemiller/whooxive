{
 "cells": [
  {
   "cell_type": "code",
   "execution_count": 297,
   "metadata": {
    "collapsed": true
   },
   "outputs": [],
   "source": [
    "#Need to add parent directoy to sys.path to find 'metadataDB'\n",
    "import sys\n",
    "sys.path.append('../')\n",
    "\n",
    "%matplotlib inline\n",
    "import matplotlib.pyplot as plt \n",
    "import time\n",
    "import numpy as np\n",
    "import scipy as sp\n",
    "import re\n",
    "from collections import Counter\n",
    "import random\n",
    "\n",
    "# Natural language processing toolkit\n",
    "# To use this, run nltk.download() and download 'stopwords'\n",
    "from nltk.corpus import stopwords\n",
    "s=stopwords.words('english') + ['']\n",
    "\n",
    "# Machine learning\n",
    "from sklearn.feature_extraction.text import CountVectorizer\n",
    "from sklearn.feature_extraction.text import TfidfTransformer\n",
    "from sklearn.naive_bayes import MultinomialNB\n",
    "from sklearn.linear_model import LogisticRegression\n",
    "from sklearn.svm import LinearSVC, SVC\n",
    "from sklearn.pipeline import Pipeline\n",
    "from sklearn import metrics\n",
    "\n",
    "# SQL\n",
    "from sqlalchemy import create_engine\n",
    "from sqlalchemy.orm import sessionmaker\n",
    "from metadataDB.declareDatabase import *\n",
    "from sqlalchemy import or_, and_\n",
    "\n",
    "engine = create_engine(\"sqlite:///../arXiv_metadata.db\", echo=False)\n",
    "Base.metadata.bind = engine\n",
    "DBsession = sessionmaker(bind=engine)\n",
    "session = DBsession()"
   ]
  },
  {
   "cell_type": "code",
   "execution_count": 227,
   "metadata": {
    "collapsed": true
   },
   "outputs": [],
   "source": [
    "query = session.query(Article).filter(or_(Article.journal_ref.like('Physics Review Letters%'),\n",
    "                                          Article.journal_ref.like('Phys. Rev. Lett.%'),\n",
    "                                          Article.journal_ref.like('PRL%')))\n",
    "abstract_all = [x.abstract for x in query.all()]\n",
    "# titleNatureScience = [x.title for x in query.all()]\n",
    "session.close_all()"
   ]
  },
  {
   "cell_type": "code",
   "execution_count": 357,
   "metadata": {
    "collapsed": false
   },
   "outputs": [
    {
     "name": "stdout",
     "output_type": "stream",
     "text": [
      "14390\n"
     ]
    }
   ],
   "source": [
    "abstract_train = abstract_all\n",
    "print len(abstract_train)"
   ]
  },
  {
   "cell_type": "markdown",
   "metadata": {},
   "source": [
    "CountVectorizer would do a cleaner job."
   ]
  },
  {
   "cell_type": "markdown",
   "metadata": {},
   "source": [
    "'data' is a list of tuples, where each entry is an n-gram followed by a single word that followed it in some article. \n",
    "\n",
    "This should really be hashed as a dict of dict of dict... ngram times. The first dict searches (hashes!) the first word, which returns a dict by which one searches for the next word, etc."
   ]
  },
  {
   "cell_type": "code",
   "execution_count": 358,
   "metadata": {
    "collapsed": false
   },
   "outputs": [
    {
     "name": "stdout",
     "output_type": "stream",
     "text": [
      "12.0043869019\n"
     ]
    }
   ],
   "source": [
    "ngram = 4\n",
    "data_list = []\n",
    "# re from kaggle https://www.kaggle.com/c/word2vec-nlp-tutorial/details/part-1-for-beginners-bag-of-wordsi\n",
    "\n",
    "start = time.time()\n",
    "# Remove punctuation. Later I'd like to keep periods. Also use lowercase only.\n",
    "pattern1 = re.compile(\"[^a-zA-Z.]\")\n",
    "# The previous pattern could make multiple spaces. Turn multiple spaces into a single space.\n",
    "pattern2 = re.compile(\"(\\s{2,})\")\n",
    "\n",
    "for item in abstract_train:\n",
    "    tmp = pattern2.sub(\" \", pattern1.sub(\" \", item.lower().lstrip().rstrip()))\n",
    "    textlist = tmp.split(' ')\n",
    "    ind = 0\n",
    "    while ind + ngram - 1 < len(textlist):\n",
    "        currentTuple = tuple(textlist[ind:(ind+ngram-1)])\n",
    "        nextWord = textlist[ind+ngram-1]\n",
    "#         if currentTuple in data.keys():\n",
    "#             data[currentTuple].append(nextWord)\n",
    "#         else:\n",
    "#             data[currentTuple] = [nextWord]\n",
    "        data_list.append((tuple(textlist[ind:(ind+ngram-1)]), textlist[ind+ngram-1]))\n",
    "        \n",
    "        ind += 1\n",
    "data_list.sort()\n",
    "print time.time() - start"
   ]
  },
  {
   "cell_type": "code",
   "execution_count": 360,
   "metadata": {
    "collapsed": false
   },
   "outputs": [
    {
     "name": "stdout",
     "output_type": "stream",
     "text": [
      "5.40404415131\n"
     ]
    }
   ],
   "source": [
    "start = time.time()\n",
    "\n",
    "# The list is sorted, so each subsuquent entry is either new or a continuation of the previous one.\n",
    "data = dict()\n",
    "previousKey = None\n",
    "for val in data_list:\n",
    "    currentKey = val[0]\n",
    "    if currentKey == previousKey:\n",
    "        data[currentKey].append(val[1])\n",
    "    else:\n",
    "        data[currentKey] = [val[1]]\n",
    "    previousKey = val[0]\n",
    "\n",
    "print time.time() - start"
   ]
  },
  {
   "cell_type": "markdown",
   "metadata": {},
   "source": [
    "Now I have to search data. If I were smart, I'd make data into an object and encode search functions. I'm not smart."
   ]
  },
  {
   "cell_type": "code",
   "execution_count": 361,
   "metadata": {
    "collapsed": false
   },
   "outputs": [],
   "source": [
    "def find_next_word(ngram):\n",
    "    '''ngram is a list of (typ. 3) words. Return the options for the next word.'''\n",
    "    # Since data is sorted, it should be possible to search quickly. I'm not doing this properly.\n",
    "    if ngram in data.keys():\n",
    "        solution = data[ngram]\n",
    "        # If there are more than one result, I should either return the most popular option or\n",
    "        # a random answer weighted by popularity.\n",
    "        count = Counter(solution)\n",
    "        return count.most_common(1)[0][0]\n",
    "    else:\n",
    "        return None\n",
    "    \n",
    "def write_abstract(beginning):\n",
    "    fake_abstract = list(beginning)\n",
    "    nextWord = ''\n",
    "    ind = len(beginning) - ngram + 1\n",
    "    while (nextWord is not None) and (ind < 200):\n",
    "#         print fake_abstract[ind:(ind+ngram)]\n",
    "        nextWord = find_next_word(tuple(fake_abstract[ind:(ind+ngram)]))\n",
    "#         print nextWord\n",
    "        if nextWord is None:\n",
    "            break\n",
    "        else:\n",
    "            fake_abstract.append(nextWord)\n",
    "            ind += 1\n",
    "    return ' '.join(fake_abstract)\n",
    "    \n",
    "# print find_ngram[('a', 'model', 'of')]\n",
    "# print find_next_word(('a', 'function', 'of'))"
   ]
  },
  {
   "cell_type": "code",
   "execution_count": 375,
   "metadata": {
    "collapsed": false
   },
   "outputs": [
    {
     "name": "stdout",
     "output_type": "stream",
     "text": [
      "such\n"
     ]
    }
   ],
   "source": [
    "print find_next_word(('here','we', 'observe'))"
   ]
  },
  {
   "cell_type": "code",
   "execution_count": 376,
   "metadata": {
    "collapsed": false
   },
   "outputs": [
    {
     "name": "stdout",
     "output_type": "stream",
     "text": [
      "a function of the interaction strength and the cavity is strongly excited within fs demonstrating that the fit is consistent with the standard model higgs boson is a scalar or a pseudoscalar particle.\n",
      "\n",
      "here we observe the formation of a spin density wave sdw order in a wide range of parameters and both transition lines continue into the superconducting state of the art experimental setups and thus has immediate applications for quantum information processing and quantum simulation with alkaline earth atoms. we show that the spin orbit coupling in the electronic structure of the material and represents the number of atoms in a one dimensional optical lattice. we show that the spin orbit coupling in the electronic structure of the material and represents the number of atoms in a one dimensional optical lattice. we show that the spin orbit coupling in the electronic structure of the material and represents the number of atoms in a one dimensional optical lattice. we show that the spin orbit coupling in the electronic structure of the material and represents the number of atoms in a one dimensional optical lattice. we show that the spin orbit coupling in the electronic structure of the material and represents the number of atoms in a one dimensional optical lattice. we show that the spin orbit coupling in the electronic structure of the material and represents the number of atoms in a one dimensional optical\n",
      "\n",
      "we measure the mass of the top quark mass and the strength of the electron spin resonance esr and decoherence. we propose spin resolved quantum rate equations with correlation functions in laplace space for the analytical derivation of these results.\n",
      "\n",
      "in this letter we show that the spin orbit coupling in the electronic structure of the material and represents the number of atoms in a one dimensional optical lattice. we show that the spin orbit coupling in the electronic structure of the material and represents the number of atoms in a one dimensional optical lattice. we show that the spin orbit coupling in the electronic structure of the material and represents the number of atoms in a one dimensional optical lattice. we show that the spin orbit coupling in the electronic structure of the material and represents the number of atoms in a one dimensional optical lattice. we show that the spin orbit coupling in the electronic structure of the material and represents the number of atoms in a one dimensional optical lattice. we show that the spin orbit coupling in the electronic structure of the material and represents the number of atoms in a one dimensional optical lattice. we show that the spin orbit coupling in the electronic structure of the material and represents the number of atoms in a one dimensional optical lattice. we show that the spin orbit coupling in the electronic structure of the material and represents the number\n",
      "124.666987181\n"
     ]
    }
   ],
   "source": [
    "# 4 grams: take 3 words and predict the 4th\n",
    "start = time.time()\n",
    "abstract1a = write_abstract(['a', 'function', 'of', 'the'])\n",
    "abstract2a = write_abstract(['here','we', 'observe', 'the'])\n",
    "abstract3a = write_abstract(['we','measure', 'the', 'mass'])\n",
    "abstract4a = write_abstract(['in','this', 'letter', 'we'])\n",
    "print abstract1a\n",
    "print ''\n",
    "print abstract2a\n",
    "print ''\n",
    "print abstract3a\n",
    "print ''\n",
    "print abstract4a\n",
    "print time.time() - start"
   ]
  },
  {
   "cell_type": "code",
   "execution_count": 314,
   "metadata": {
    "collapsed": false
   },
   "outputs": [
    {
     "name": "stdout",
     "output_type": "stream",
     "text": [
      "a function of the interaction strength and temperature. at low temperature thermal fluctuations induce magnetic long range order of the eu f moments.\n",
      "\n",
      "here we observe the phenomenon of sudden transition of quantum correlations when local phase and amplitude damping channels are applied to the case of a single impurity immersed in a fermi sea close to an interspecies p wave feshbach resonance. we show that the spin orbit interaction and the crossing of the critical point. we also make a quantitative prediction on increasing the upper critical field hc and the high field response resembles that of the paramagnetic normal state.\n",
      "\n",
      "we measure the mass of the leggett mode is small close to the critical point of the case with a large zeeman magnetic field. our scenario provides a promising approach for quantum state transfer to mesoscopic systems using edge states as a quantum channel and show that it is possible to extract a phase diagram for a double quantum well bilayer electron gas in the quantum hall regime. in the superconducting state of the heavy fermion superconductor cecoin at pressures to . gpa reveal a strong crossover in transport properties near p approx . gpa the intensity of the external noise can reduce the\n",
      "\n",
      "in this letter we show that the spin orbit interaction and the crossing of the critical point. we also make a quantitative prediction on increasing the upper critical field hc and the high field response resembles that of the paramagnetic normal state.\n"
     ]
    }
   ],
   "source": [
    "# 5 grams: take 4 words and predict the 5th\n",
    "abstract1b = write_abstract(['a', 'function', 'of', 'the'])\n",
    "abstract2b = write_abstract(['here','we', 'observe', 'the'])\n",
    "abstract3b = write_abstract(['we','measure', 'the', 'mass'])\n",
    "abstract4b = write_abstract(['in','this', 'letter', 'we'])\n",
    "print abstract1b\n",
    "print ''\n",
    "print abstract2b\n",
    "print ''\n",
    "print abstract3b\n",
    "print ''\n",
    "print abstract4b"
   ]
  },
  {
   "cell_type": "code",
   "execution_count": 317,
   "metadata": {
    "collapsed": false
   },
   "outputs": [
    {
     "name": "stdout",
     "output_type": "stream",
     "text": [
      "a function of the interaction strength and the imbalance parameter in two and three spatial dimensions. we find that these results are interpreted in terms of a dynamically evolving texture of localized growth modes with superimposed diffusive modes. applying derrick s theorem it is conjectured that the upper critical dimension is infinity. level statistics are investigated in detail. we show that the two dimensional voter model usually considered to only be a marginal coarsening system represents a broad class of models of decoherence including the photon environment we use to obtain most of our information. this leads to objective reality via the presence of robust\n",
      "\n",
      "here we observe the formation\n",
      "\n",
      "we measure the mass of the top quark pair with and without the additional jet and for the transverse momentum and the polarization of the fields which act as ancilla systems. information about the spatial correlations is obtained via measurements on the ancilla qubits. among other applications this new method provides a more efficient technique to identify continuous variable entanglement.\n",
      "\n",
      "in this letter we show that the answer is positive in the non relativistic limit we identify the dual conformal symmetry of planar mathcal n super yang mills with the well known symmetries of the hydrogen atom. we point out that the critical behaviors in ce ru . fe . po share the similarity with those in ybrh si where the local criticality of f electrons has been discussed. we reveal that ce ru x fe x po is a new system to study fm quantum criticality in hf compounds.\n"
     ]
    }
   ],
   "source": [
    "# 6 grams: take 5 words and predict the 6th\n",
    "abstract1c = write_abstract(['a', 'function', 'of', 'the', 'interaction'])\n",
    "abstract2c = write_abstract(['here','we', 'observe', 'the', 'formation'])\n",
    "abstract3c = write_abstract(['we','measure', 'the', 'mass', 'of'])\n",
    "abstract4c = write_abstract(['in','this', 'letter', 'we', 'show'])\n",
    "print abstract1c\n",
    "print ''\n",
    "print abstract2c\n",
    "print ''\n",
    "print abstract3c\n",
    "print ''\n",
    "print abstract4c"
   ]
  },
  {
   "cell_type": "code",
   "execution_count": 321,
   "metadata": {
    "collapsed": false
   },
   "outputs": [
    {
     "name": "stdout",
     "output_type": "stream",
     "text": [
      "  We measure the mass difference, \\Delta m_0, between the D*(2010)+ and the D0\n",
      "and the natural line width, \\Gamma, of the transition D*(2010)+ -> D0 pi+. The\n",
      "data were recorded with the BABAR detector at center-of-mass energies at and\n",
      "near the Upsilon(4S) resonance, and correspond to an integrated luminosity of\n",
      "approximately 477 1/fb. The D0 is reconstructed in the decay modes D0 -> K- pi+\n",
      "and D0 -> K- pi+ pi- pi+. For the decay mode D0 -> K- pi+ we obtain Gamma =\n",
      "(83.4 +- 1.7 +- 1.5) keV and \\Delta m_0 = (145 425.6 +- 0.6 +- 1.8) keV, where\n",
      "the quoted errors are statistical and systematic, respectively. For the D0 ->\n",
      "K- pi+ pi- pi+ mode we obtain \\Gamma = (83.2 +- 1.5 +- 2.6) keV and \\Delta m_0\n",
      "= (145 426.6 +- 0.5 +- 2.0) keV. The combined measurements yield \\Gamma = (83.3\n",
      "+- 1.2 +- 1.4) keV and \\Delta m_0 = (145 425.9 +- 0.4 +- 1.7) keV; the width is\n",
      "a factor of approximately 12 times more precise than the previous value, while\n",
      "the mass difference is a factor of approximately 6 times more precise.\n",
      "\n",
      "\n",
      "\n",
      "  We present the calculation of the cross section for Higgs boson production in\n",
      "association with a top quark pair plus one jet, at next-to-leading-order (NLO)\n",
      "accuracy in QCD. All mass dependence is retained without recurring to any\n",
      "approximation. After including the complete NLO QCD corrections, we observe a\n",
      "strong reduction in the scale dependence of the result. We also show\n",
      "distributions for the invariant mass of the top quark pair, with and without\n",
      "the additional jet, and for the transverse momentum and the pseudorapidity of\n",
      "the Higgs boson. Results for the virtual contributions are obtained with a\n",
      "novel reduction approach based on integrand decomposition via Laurent\n",
      "expansion, as implemented in the library Ninja. Cross sections and differential\n",
      "distributions are obtained with an automated setup which combines the GoSam and\n",
      "Sherpa frameworks.\n",
      "\n",
      "\n",
      "  We study the electronic transport properties of dual-gated bilayer graphene\n",
      "devices. We focus on the regime of low temperatures and high electric\n",
      "displacement fields, where we observe a clear exponential dependence of the\n",
      "resistance as a function of displacement field and density, accompanied by a\n",
      "strong non-linear behavior in the transport characteristics. The effective\n",
      "transport gap is typically two orders of magnitude smaller than the optical\n",
      "band gaps reported by infrared spectroscopy studies. Detailed temperature\n",
      "dependence measurements shed light on the different transport mechanisms in\n",
      "different temperature regimes.\n",
      "\n",
      "  We investigate dissipation-induced p-wave paired states of fermions in two\n",
      "dimensions and show the existence of spatially separated Majorana zero modes in\n",
      "a phase with vanishing Chern number. We construct an explicit and natural model\n",
      "of a dissipative vortex that traps a single of these modes, and establish its\n",
      "topological origin by mapping the problem to a chiral one-dimensional wire\n",
      "where we observe a non-equilibrium topological phase transition characterized\n",
      "by an abrupt change of a topological invariant (winding number). We show that\n",
      "the existence of a single Majorana zero mode in the vortex core is intimately\n",
      "tied to the dissipative nature of our model. Engineered dissipation opens up\n",
      "possibilities for experimentally realizing such states with no Hamiltonian\n",
      "counterpart.\n",
      "\n",
      "  Although abundant research has focused recently on the quantum criticality of\n",
      "itinerant magnets, critical phenomena of insulating magnets in the vicinity of\n",
      "critical endpoints (CEP's) have rarely been revealed. Here we observe an\n",
      "emergent CEP at 2.05 T and 2.2 K with a suppressed thermal conductivity and\n",
      "concomitant strong critical fluctuations evident via a divergent magnetic\n",
      "susceptibility (e.g., chi''(2.05 T, 2.2 K)/chi''(3 T, 2.2 K)=23,500 %,\n",
      "comparable to the critical opalescence in water) in the hexagonal insulating\n",
      "antiferromagnet HoMnO3.\n",
      "\n",
      "\n"
     ]
    }
   ],
   "source": [
    "for item in abstract_train:\n",
    "    if 'natural line width' in item:\n",
    "        print item\n",
    "print ''\n",
    "\n",
    "for item in abstract_train:\n",
    "    if 'minimize the ohmic' in item.lower():\n",
    "        print item\n",
    "print ''\n",
    "\n",
    "for item in abstract_train:\n",
    "    if 'mass of the top quark pair' in item.lower():\n",
    "        print item\n",
    "print ''\n",
    "\n",
    "for item in abstract_train:\n",
    "    if 'here we observe' in item.lower():\n",
    "        print item\n",
    "print ''\n",
    "\n"
   ]
  },
  {
   "cell_type": "code",
   "execution_count": null,
   "metadata": {
    "collapsed": true
   },
   "outputs": [],
   "source": []
  }
 ],
 "metadata": {
  "kernelspec": {
   "display_name": "Python 2",
   "language": "python",
   "name": "python2"
  },
  "language_info": {
   "codemirror_mode": {
    "name": "ipython",
    "version": 2
   },
   "file_extension": ".py",
   "mimetype": "text/x-python",
   "name": "python",
   "nbconvert_exporter": "python",
   "pygments_lexer": "ipython2",
   "version": "2.7.11"
  }
 },
 "nbformat": 4,
 "nbformat_minor": 0
}
