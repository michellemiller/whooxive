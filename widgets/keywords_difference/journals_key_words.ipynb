{
 "cells": [
  {
   "cell_type": "markdown",
   "metadata": {},
   "source": [
    "Find articles that made it to certain journals and compare key words. This time we'll only look at articles in the physics.atom-ph section."
   ]
  },
  {
   "cell_type": "code",
   "execution_count": 1,
   "metadata": {
    "collapsed": false
   },
   "outputs": [],
   "source": [
    "#Need to add parent directoy to sys.path to find 'metadataDB'\n",
    "import sys\n",
    "sys.path.append('../../')\n",
    "\n",
    "%matplotlib inline\n",
    "import matplotlib.pyplot as plt \n",
    "import time\n",
    "import numpy as np\n",
    "from collections import Counter\n",
    "import re\n",
    "import json\n",
    "\n",
    "# Natural language processing toolkit\n",
    "# To use this, run nltk.download() and download 'stopwords'\n",
    "from nltk.corpus import stopwords\n",
    "s=stopwords.words('english') + ['']\n",
    "\n",
    "# SQL\n",
    "from sqlalchemy import create_engine\n",
    "from sqlalchemy.orm import sessionmaker\n",
    "from metadataDB.declareDatabase import *\n",
    "from sqlalchemy import or_, and_\n",
    "\n",
    "engine = create_engine(\"sqlite:///../../arXiv_metadata.db\", echo=False)\n",
    "Base.metadata.bind = engine\n",
    "DBsession = sessionmaker(bind=engine)\n",
    "session = DBsession()"
   ]
  },
  {
   "cell_type": "code",
   "execution_count": 2,
   "metadata": {
    "collapsed": false
   },
   "outputs": [],
   "source": [
    "categories = ['atom-ph', 'quant-ph', 'cond-mat', 'hep-th']\n",
    "# results = keywords('atom-ph')\n",
    "\n",
    "# PRL: 36533 words\n",
    "# Nature: 14024 words\n",
    "# Frequency: quantum: 355/14024 = 0.0253137 in Nature, 314/36533 = 0.00859496 in PRL"
   ]
  },
  {
   "cell_type": "code",
   "execution_count": 4,
   "metadata": {
    "collapsed": false
   },
   "outputs": [],
   "source": [
    "def keywords(category):\n",
    "    queryPRL = session.query(Article_Category)\\\n",
    "                    .join(Category)\\\n",
    "                    .join(Article)\\\n",
    "                    .filter(Category.name.like('%' + category + '%'),\n",
    "                            or_(Article.journal_ref.like('Physics Review Letters%'),\n",
    "                                Article.journal_ref.like('Phys. Rev. Lett.%'),\n",
    "                                Article.journal_ref.like('PRL%')))\n",
    "#     resultsPRL = queryPRL.all()\n",
    "\n",
    "    queryNature = session.query(Article_Category)\\\n",
    "                        .join(Category)\\\n",
    "                        .join(Article)\\\n",
    "                        .filter(Category.name.like('%' + category + '%'),\n",
    "                                or_(Article.journal_ref.like('Nature%'),\n",
    "                                    Article.journal_ref.like('Nat.%'),\n",
    "                                    Article.journal_ref.like('Science%')))\n",
    "#     resultsNature = queryNature.all()\n",
    "\n",
    "    # Count the most frequenty words in either Nature or PRL, and report how often\n",
    "    # those words show up in each journal.\n",
    "    \n",
    "    countPRL = Counter((word\n",
    "                        for result in queryPRL\n",
    "                        for word in cleanup_text(result.article.abstract)))\n",
    "    countNature = Counter((word\n",
    "                           for result in queryNature\n",
    "                           for word in cleanup_text(result.article.abstract)))\n",
    "    \n",
    "    max_words = 15\n",
    "    \n",
    "    top_words_PRL = [x[0] for x in countPRL.most_common(max_words)]\n",
    "    top_words_Nature = [x[0] for x in countNature.most_common(max_words)]\n",
    "    num_words_PRL = sum(countPRL.values())\n",
    "    num_words_Nature = sum(countNature.values())\n",
    "\n",
    "    sum_counts = [ {'name': word,\n",
    "                    'rank': rank,\n",
    "                    'value1': countNature[word]*1./num_words_Nature,\n",
    "                    'value2': countPRL[word]*1./num_words_PRL }\n",
    "                    for rank, word in zip(range(1, max_words+1) + range(-max_words, 0),\n",
    "                                          (top_words_Nature + top_words_PRL[::-1]))]\n",
    "    \n",
    "\n",
    "    all_words = set(countPRL.keys() + countNature.keys())\n",
    "#     print len(countPRL.keys())\n",
    "#     print len(countNature.keys())\n",
    "#     print len(all_words)\n",
    "    \n",
    "    \n",
    "    # How much more often does a word show up in Nature than PRL, as normalized by\n",
    "    # the total number of words?\n",
    "    \n",
    "    difference_counts_all = sorted([ (word,\n",
    "                                  countNature[word]*1./num_words_Nature - \\\n",
    "                                           countPRL[word]*1./num_words_PRL )\n",
    "                                for word in set(countPRL.keys() + countNature.keys()) ],\n",
    "                              key=lambda x: -x[1])\n",
    "    difference_counts = [ {'name': x[0], 'value': x[1] }\n",
    "                          for x in (difference_counts_all[0:max_words] + \n",
    "                                    difference_counts_all[-max_words:]) ]\n",
    "    \n",
    "    return (sum_counts, difference_counts)\n",
    "\n",
    "    \n",
    "    \n",
    "def cleanup_text(paragraph):\n",
    "    return [ x for x in re.sub('[^a-z ]', '',\n",
    "                  re.sub('[\\n]', ' ', paragraph.lower().strip())).split()\n",
    "            if x  not in s ]\n",
    "\n"
   ]
  },
  {
   "cell_type": "code",
   "execution_count": 7,
   "metadata": {
    "collapsed": false
   },
   "outputs": [
    {
     "name": "stdout",
     "output_type": "stream",
     "text": [
      "{\"hep_th\": [{\"name\": \"quantum\", \"value\": 0.014763720942451604}, {\"name\": \"matter\", \"value\": 0.004703325902407169}, {\"name\": \"universe\", \"value\": 0.0046488699738041084}, {\"name\": \"systems\", \"value\": 0.004285936784585707}, {\"name\": \"phase\", \"value\": 0.0041419625901656576}, {\"name\": \"physics\", \"value\": 0.003751369842449354}, {\"name\": \"experiments\", \"value\": 0.0030862268909455292}, {\"name\": \"system\", \"value\": 0.0030255034640125503}, {\"name\": \"experimental\", \"value\": 0.003023504995233699}, {\"name\": \"charge\", \"value\": 0.0029947101563496895}, {\"name\": \"superconductors\", \"value\": 0.002629778498352436}, {\"name\": \"fundamental\", \"value\": 0.0025382617637565957}, {\"name\": \"polarization\", \"value\": 0.002426216157385515}, {\"name\": \"liquid\", \"value\": 0.0024210839394417046}, {\"name\": \"may\", \"value\": 0.002373758697561305}, {\"name\": \"order\", \"value\": -0.0016758239696157686}, {\"name\": \"local\", \"value\": -0.0016963528413910093}, {\"name\": \"terms\", \"value\": -0.0017251476802750193}, {\"name\": \"large\", \"value\": -0.0018742540926388793}, {\"name\": \"gauge\", \"value\": -0.0020150945378939705}, {\"name\": \"limit\", \"value\": -0.002030491191725401}, {\"name\": \"theories\", \"value\": -0.00209634683660219}, {\"name\": \"model\", \"value\": -0.00212000945754239}, {\"name\": \"theory\", \"value\": -0.0022702511502923585}, {\"name\": \"field\", \"value\": -0.00229591224001141}, {\"name\": \"find\", \"value\": -0.0023882921629999926}, {\"name\": \"entropy\", \"value\": -0.002980448782904366}, {\"name\": \"n\", \"value\": -0.0029855810008481763}, {\"name\": \"black\", \"value\": -0.003202541526867677}, {\"name\": \"entanglement\", \"value\": -0.003799830364715861}], \"atom_ph\": [{\"name\": \"quantum\", \"value\": 0.016718778928611754}, {\"name\": \"entanglement\", \"value\": 0.0026505234840777}, {\"name\": \"fundamental\", \"value\": 0.002584967253465359}, {\"name\": \"precision\", \"value\": 0.0024048598685847706}, {\"name\": \"information\", \"value\": 0.002262247204580207}, {\"name\": \"interactions\", \"value\": 0.002128829628032538}, {\"name\": \"systems\", \"value\": 0.0020612064057800254}, {\"name\": \"ultracold\", \"value\": 0.0019919670654179157}, {\"name\": \"matter\", \"value\": 0.0019489603668347644}, {\"name\": \"processing\", \"value\": 0.001882026141795642}, {\"name\": \"system\", \"value\": 0.0017939203791541127}, {\"name\": \"however\", \"value\": 0.001679607348568679}, {\"name\": \"physics\", \"value\": 0.0016644240360390277}, {\"name\": \"measurement\", \"value\": 0.0015340005720277377}, {\"name\": \"control\", \"value\": 0.0015008779581148718}, {\"name\": \"resonance\", \"value\": -0.0012239459705014881}, {\"name\": \"trap\", \"value\": -0.0012665017955540638}, {\"name\": \"transition\", \"value\": -0.001281685108083715}, {\"name\": \"hyperfine\", \"value\": -0.0013189417052769255}, {\"name\": \"study\", \"value\": -0.0013226248150266942}, {\"name\": \"p\", \"value\": -0.0013246918066668668}, {\"name\": \"ionization\", \"value\": -0.0013888700428524258}, {\"name\": \"feshbach\", \"value\": -0.001422681653978682}, {\"name\": \"scattering\", \"value\": -0.0014696095859944175}, {\"name\": \"rydberg\", \"value\": -0.0018751361696617342}, {\"name\": \"laser\", \"value\": -0.0018774412849847221}, {\"name\": \"shift\", \"value\": -0.00190388667661144}, {\"name\": \"magnetic\", \"value\": -0.0019673759155836084}, {\"name\": \"show\", \"value\": -0.0023174684769916853}, {\"name\": \"field\", \"value\": -0.0023535852034409295}], \"quant_ph\": [{\"name\": \"quantum\", \"value\": 0.015843251632039822}, {\"name\": \"information\", \"value\": 0.0032824740292969287}, {\"name\": \"single\", \"value\": 0.0023885886562980334}, {\"name\": \"photons\", \"value\": 0.0019103289587250713}, {\"name\": \"systems\", \"value\": 0.0018684009140321235}, {\"name\": \"photon\", \"value\": 0.001759688084877848}, {\"name\": \"fundamental\", \"value\": 0.0015827794368381042}, {\"name\": \"optical\", \"value\": 0.00152148959661378}, {\"name\": \"photonic\", \"value\": 0.0013675450709742108}, {\"name\": \"physics\", \"value\": 0.0013221234067666292}, {\"name\": \"processing\", \"value\": 0.0012619972899347376}, {\"name\": \"however\", \"value\": 0.0012556970900285123}, {\"name\": \"applications\", \"value\": 0.0011794889123988867}, {\"name\": \"demonstrate\", \"value\": 0.0011607269163577544}, {\"name\": \"communication\", \"value\": 0.001147457415216288}, {\"name\": \"density\", \"value\": -0.0008795668350838366}, {\"name\": \"bound\", \"value\": -0.0009010960060011681}, {\"name\": \"case\", \"value\": -0.0009073328833332974}, {\"name\": \"local\", \"value\": -0.0009621385351937834}, {\"name\": \"present\", \"value\": -0.000963908037341135}, {\"name\": \"scheme\", \"value\": -0.0010236422601990988}, {\"name\": \"find\", \"value\": -0.0010725455853919628}, {\"name\": \"study\", \"value\": -0.0011876099784972084}, {\"name\": \"propose\", \"value\": -0.0012153127041725732}, {\"name\": \"method\", \"value\": -0.0014499721881419383}, {\"name\": \"entanglement\", \"value\": -0.0015483427624298557}, {\"name\": \"state\", \"value\": -0.0016651706784177765}, {\"name\": \"model\", \"value\": -0.0018149250362276552}, {\"name\": \"states\", \"value\": -0.002220151113477809}, {\"name\": \"show\", \"value\": -0.0034950260105800846}], \"cond_mat\": [{\"name\": \"quantum\", \"value\": 0.003731752270974992}, {\"name\": \"superconductivity\", \"value\": 0.002346979877124385}, {\"name\": \"graphene\", \"value\": 0.0022927737547004663}, {\"name\": \"materials\", \"value\": 0.0022698491764797696}, {\"name\": \"electronic\", \"value\": 0.0021529726084056665}, {\"name\": \"new\", \"value\": 0.0019233633760504174}, {\"name\": \"devices\", \"value\": 0.001708595639026765}, {\"name\": \"properties\", \"value\": 0.0016447762904362282}, {\"name\": \"however\", \"value\": 0.0015430334520766084}, {\"name\": \"report\", \"value\": 0.001506333392606876}, {\"name\": \"high\", \"value\": 0.0014950517063695144}, {\"name\": \"superconducting\", \"value\": 0.0014867331262676414}, {\"name\": \"applications\", \"value\": 0.0013839878762261627}, {\"name\": \"superconductors\", \"value\": 0.0013723635225658143}, {\"name\": \"physics\", \"value\": 0.0013549082667187792}, {\"name\": \"numerical\", \"value\": -0.000915569507436851}, {\"name\": \"finite\", \"value\": -0.0009230948343484338}, {\"name\": \"transition\", \"value\": -0.0009668134588929093}, {\"name\": \"interaction\", \"value\": -0.0009679041283949445}, {\"name\": \"system\", \"value\": -0.000975499735904294}, {\"name\": \"density\", \"value\": -0.0009810068830580308}, {\"name\": \"results\", \"value\": -0.0010567418845241752}, {\"name\": \"behavior\", \"value\": -0.0011396270896612236}, {\"name\": \"function\", \"value\": -0.0012548346365640062}, {\"name\": \"show\", \"value\": -0.0013880188667794698}, {\"name\": \"theory\", \"value\": -0.0014963476616689391}, {\"name\": \"find\", \"value\": -0.001651643369357144}, {\"name\": \"phase\", \"value\": -0.0019442477375631543}, {\"name\": \"study\", \"value\": -0.001973529266264466}, {\"name\": \"model\", \"value\": -0.0036492453686485576}]}\n"
     ]
    }
   ],
   "source": [
    "final_dict1 = dict()\n",
    "final_dict2 = dict()\n",
    "for category in categories:\n",
    "    result = keywords(category)\n",
    "    final_dict1[category.replace('-', '_')] = result[0]\n",
    "    final_dict2[category.replace('-', '_')] = result[1]\n",
    "#     break\n",
    "# print json.dumps(final_dict1)\n",
    "print json.dumps(final_dict2)\n",
    "# with open('../../widgets/data1.json', 'wb') as f:\n",
    "#     json.dump(final_dict1, f)\n",
    "with open('keywords-difference.json', 'wb') as f:\n",
    "    json.dump(final_dict2, f)"
   ]
  },
  {
   "cell_type": "code",
   "execution_count": 6,
   "metadata": {
    "collapsed": true
   },
   "outputs": [],
   "source": [
    "session.close_all()"
   ]
  },
  {
   "cell_type": "code",
   "execution_count": 10,
   "metadata": {
    "collapsed": false
   },
   "outputs": [],
   "source": [
    "# Want to sort dictionary by values. Convert it to a list of tuples so we can use python's sort functions\n",
    "# abstract_wordlist = sorted([(key, val) for key, val in abstract.iteritems()], key=lambda x: x[1])\n",
    "# title_wordlist = sorted([(key, val) for key, val in title.iteritems()], key=lambda x: x[1])"
   ]
  },
  {
   "cell_type": "code",
   "execution_count": 11,
   "metadata": {
    "collapsed": false
   },
   "outputs": [
    {
     "name": "stdout",
     "output_type": "stream",
     "text": [
      "[(u'via', -0.006423982869379015), (u'problem', -0.006423982869379015), (u'case', -0.004282655246252677), (u'linear', -0.004282655246252677), (u'degenerate', -0.004282655246252677), (u'arise', -0.004282655246252677), (u'parameter', -0.004282655246252677), (u'repulsive', -0.004282655246252677), (u'association', -0.004282655246252677), (u'always', -0.004282655246252677), (u'ultracold', 0.03559452143347743), (u'frequency', 0.03559452143347743), (u'effects', 0.03773584905660377), (u'observation', 0.03773584905660377), (u'precision', 0.03773584905660377), (u'demonstrate', 0.03773584905660377), (u'quantum', 0.04288715607450203), (u'optical', 0.052321118338652974), (u'also', 0.056603773584905655), (u'atoms', 0.05747242535655124)]\n"
     ]
    }
   ],
   "source": [
    "# abstract_best_and_worst = abstract_wordlist[0:10] + abstract_wordlist[-11:-1]\n",
    "# print abstract_best_and_worst"
   ]
  },
  {
   "cell_type": "code",
   "execution_count": 161,
   "metadata": {
    "collapsed": false
   },
   "outputs": [
    {
     "ename": "NameError",
     "evalue": "name 'abstract_best_and_worst' is not defined",
     "output_type": "error",
     "traceback": [
      "\u001b[0;31m---------------------------------------------------------------------------\u001b[0m",
      "\u001b[0;31mNameError\u001b[0m                                 Traceback (most recent call last)",
      "\u001b[0;32m<ipython-input-161-12d011f23850>\u001b[0m in \u001b[0;36m<module>\u001b[0;34m()\u001b[0m\n\u001b[0;32m----> 1\u001b[0;31m \u001b[0mwords\u001b[0m \u001b[0;34m=\u001b[0m \u001b[0;34m[\u001b[0m\u001b[0mx\u001b[0m \u001b[0;32mfor\u001b[0m \u001b[0;34m(\u001b[0m\u001b[0mx\u001b[0m\u001b[0;34m,\u001b[0m\u001b[0my\u001b[0m\u001b[0;34m)\u001b[0m \u001b[0;32min\u001b[0m \u001b[0mabstract_best_and_worst\u001b[0m\u001b[0;34m]\u001b[0m\u001b[0;34m\u001b[0m\u001b[0m\n\u001b[0m\u001b[1;32m      2\u001b[0m \u001b[0mvals\u001b[0m \u001b[0;34m=\u001b[0m \u001b[0mnp\u001b[0m\u001b[0;34m.\u001b[0m\u001b[0marray\u001b[0m\u001b[0;34m(\u001b[0m\u001b[0;34m[\u001b[0m\u001b[0my\u001b[0m \u001b[0;32mfor\u001b[0m \u001b[0;34m(\u001b[0m\u001b[0mx\u001b[0m\u001b[0;34m,\u001b[0m\u001b[0my\u001b[0m\u001b[0;34m)\u001b[0m \u001b[0;32min\u001b[0m \u001b[0mabstract_best_and_worst\u001b[0m\u001b[0;34m]\u001b[0m\u001b[0;34m)\u001b[0m\u001b[0;34m\u001b[0m\u001b[0m\n\u001b[1;32m      3\u001b[0m \u001b[0;34m\u001b[0m\u001b[0m\n\u001b[1;32m      4\u001b[0m \u001b[0;34m\u001b[0m\u001b[0m\n\u001b[1;32m      5\u001b[0m \u001b[0mind\u001b[0m \u001b[0;34m=\u001b[0m \u001b[0mnp\u001b[0m\u001b[0;34m.\u001b[0m\u001b[0marange\u001b[0m\u001b[0;34m(\u001b[0m\u001b[0;36m0\u001b[0m\u001b[0;34m,\u001b[0m \u001b[0mlen\u001b[0m\u001b[0;34m(\u001b[0m\u001b[0mwords\u001b[0m\u001b[0;34m)\u001b[0m\u001b[0;34m)\u001b[0m\u001b[0;34m\u001b[0m\u001b[0m\n",
      "\u001b[0;31mNameError\u001b[0m: name 'abstract_best_and_worst' is not defined"
     ]
    }
   ],
   "source": [
    "words = [x for (x,y) in abstract_best_and_worst]\n",
    "vals = np.array([y for (x,y) in abstract_best_and_worst])\n",
    "\n",
    "\n",
    "ind = np.arange(0, len(words))\n",
    "c = ['b' if x > 0 else 'r' for x in vals]\n",
    "\n",
    "plt.figure(frameon=False, figsize=(6,8))\n",
    "plt.barh(ind - 0.5,\n",
    "         vals,\n",
    "         color=c)\n",
    "plt.yticks(ind, words)\n",
    "plt.ylim(ind[0]-1, ind[-1]+1)\n",
    "plt.xlim(-1.1*np.max(np.abs(vals)), 1.1*np.max(np.abs(vals)))\n",
    "plt.title('Abstracts')\n",
    "plt.xlabel('PRL$\\qquad\\qquad\\qquad\\qquad$Nature/Science')\n",
    "plt.gca().spines['top'].set_visible(False)\n",
    "plt.gca().spines['right'].set_visible(False)\n",
    "plt.gca().spines['left'].set_visible(False)\n",
    "plt.gca().xaxis.set_ticks_position('bottom')\n",
    "plt.gca().yaxis.set_ticks_position('none')"
   ]
  },
  {
   "cell_type": "code",
   "execution_count": 13,
   "metadata": {
    "collapsed": false
   },
   "outputs": [
    {
     "data": {
      "image/png": "[encoded data removed]",
      "text/plain": [
       "<matplotlib.figure.Figure at 0x109f76790>"
      ]
     },
     "metadata": {},
     "output_type": "display_data"
    }
   ],
   "source": [
    "# words = [x for (x,y) in abstract_best_and_worst]\n",
    "# vals = np.array([y for (x,y) in abstract_best_and_worst])\n",
    "\n",
    "\n",
    "# ind = np.arange(0, len(words))\n",
    "# c = ['b' if x > 0 else 'r' for x in vals]\n",
    "\n",
    "# plt.figure(frameon=False, figsize=(6,8))\n",
    "# plt.barh(ind - 0.5,\n",
    "#          vals,\n",
    "#          color=c)\n",
    "# plt.yticks(ind, words)\n",
    "# plt.ylim(ind[0]-1, ind[-1]+1)\n",
    "# plt.xlim(-1.1*np.max(np.abs(vals)), 1.1*np.max(np.abs(vals)))\n",
    "# plt.title('Abstracts')\n",
    "# plt.xlabel('PRL$\\qquad\\qquad\\qquad\\qquad$Nature/Science')\n",
    "# plt.gca().spines['top'].set_visible(False)\n",
    "# plt.gca().spines['right'].set_visible(False)\n",
    "# plt.gca().spines['left'].set_visible(False)\n",
    "# plt.gca().xaxis.set_ticks_position('bottom')\n",
    "# plt.gca().yaxis.set_ticks_position('none')"
   ]
  }
 ],
 "metadata": {
  "kernelspec": {
   "display_name": "Python 2",
   "language": "python",
   "name": "python2"
  },
  "language_info": {
   "codemirror_mode": {
    "name": "ipython",
    "version": 2
   },
   "file_extension": ".py",
   "mimetype": "text/x-python",
   "name": "python",
   "nbconvert_exporter": "python",
   "pygments_lexer": "ipython2",
   "version": "2.7.11"
  }
 },
 "nbformat": 4,
 "nbformat_minor": 0
}
