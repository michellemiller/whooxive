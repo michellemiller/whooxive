{
 "cells": [
  {
   "cell_type": "markdown",
   "metadata": {},
   "source": [
    "Use fancy machine learning to predict whether an article makes it into Nature/Science or PRL. This time we'll only look at articles in the physics.atom-ph section."
   ]
  },
  {
   "cell_type": "code",
   "execution_count": 1,
   "metadata": {
    "collapsed": false
   },
   "outputs": [],
   "source": [
    "#Need to add parent directoy to sys.path to find 'metadataDB'\n",
    "import sys\n",
    "sys.path.append('../')\n",
    "\n",
    "%matplotlib inline\n",
    "import matplotlib.pyplot as plt \n",
    "import time\n",
    "import numpy as np\n",
    "\n",
    "# Natural language processing toolkit\n",
    "# To use this, run nltk.download() and download 'stopwords'\n",
    "from nltk.corpus import stopwords\n",
    "s=stopwords.words('english') + ['']\n",
    "\n",
    "# Machine learning\n",
    "from sklearn.feature_extraction.text import CountVectorizer\n",
    "from sklearn.feature_extraction.text import TfidfTransformer\n",
    "from sklearn.naive_bayes import MultinomialNB\n",
    "from sklearn.linear_model import LogisticRegression\n",
    "from sklearn.svm import LinearSVC, SVC\n",
    "from sklearn.pipeline import Pipeline\n",
    "from sklearn import metrics\n",
    "\n",
    "# SQL\n",
    "from sqlalchemy import create_engine\n",
    "from sqlalchemy.orm import sessionmaker\n",
    "from metadataDB.declareDatabase import *\n",
    "from sqlalchemy import or_, and_\n",
    "\n",
    "engine = create_engine(\"sqlite:///../arXiv_metadata.db\", echo=False)\n",
    "Base.metadata.bind = engine\n",
    "DBsession = sessionmaker(bind=engine)\n",
    "session = DBsession()"
   ]
  },
  {
   "cell_type": "code",
   "execution_count": 2,
   "metadata": {
    "collapsed": false
   },
   "outputs": [],
   "source": [
    "query = session.query(Article_Category)\\\n",
    "                    .join(Category)\\\n",
    "                    .join(Article)\\\n",
    "                    .filter(Category.name.like('%atom-ph%'),\n",
    "                            or_(Article.journal_ref.like('Physics Review Letters%'),\n",
    "                                Article.journal_ref.like('Phys. Rev. Lett.%'),\n",
    "                                Article.journal_ref.like('PRL%')))\n",
    "abstractPRL = [x.article.abstract for x in query.all()]\n",
    "titlePRL = [x.article.title for x in query.all()]"
   ]
  },
  {
   "cell_type": "code",
   "execution_count": 3,
   "metadata": {
    "collapsed": false
   },
   "outputs": [],
   "source": [
    "query = session.query(Article_Category)\\\n",
    "                    .join(Category)\\\n",
    "                    .join(Article)\\\n",
    "                    .filter(Category.name.like('%atom-ph%'),\n",
    "                            or_(Article.journal_ref.like('Nature%'),\n",
    "                                Article.journal_ref.like('Nat.%'),\n",
    "                                Article.journal_ref.like('Science%')))\n",
    "abstractNatureScience = [x.article.abstract for x in query.all()]\n",
    "titleNatureScience = [x.article.title for x in query.all()]"
   ]
  },
  {
   "cell_type": "code",
   "execution_count": 4,
   "metadata": {
    "collapsed": true
   },
   "outputs": [],
   "source": [
    "session.close_all()"
   ]
  },
  {
   "cell_type": "code",
   "execution_count": 5,
   "metadata": {
    "collapsed": false
   },
   "outputs": [],
   "source": [
    "# # Train with 80% of the data, test with 20%\n",
    "# # First start with abstracts.\n",
    "\n",
    "# indPRL = len(abstractPRL)*4/5\n",
    "# indNatureScience = len(abstractNatureScience)*4/5\n",
    "\n",
    "# train_abstract = abstractPRL[:indPRL] + abstractNatureScience[:indNatureScience]\n",
    "# train_title = titlePRL[:indPRL] + titleNatureScience[:indNatureScience]\n",
    "# train_target = [0]*indPRL + [1]*indNatureScience\n",
    "# train_target_names = ['PRL']*indPRL + ['Nature']*indNatureScience\n",
    "\n",
    "# test_abstract = abstractPRL[indPRL:] + abstractNatureScience[indNatureScience:]\n",
    "# test_title = titlePRL[indPRL:] + titleNatureScience[indNatureScience:]\n",
    "# test_target = [0]*len(abstractPRL[indPRL:]) + [1]*len(abstractNatureScience[indNatureScience:])\n",
    "# test_target_names = ['PRL', 'Nature/Science']"
   ]
  },
  {
   "cell_type": "code",
   "execution_count": 6,
   "metadata": {
    "collapsed": false
   },
   "outputs": [],
   "source": [
    "# Train with 80% of the Nature data, test with 20% of the Nature data\n",
    "# Choose the same number of PRL and Nature articles in the test sets.\n",
    "\n",
    "indNatureScience = len(abstractNatureScience)*4/5\n",
    "indPRL = len(abstractPRL) - (len(abstractNatureScience) - indNatureScience)\n",
    "\n",
    "train_abstract = abstractPRL[:indPRL] + abstractNatureScience[:indNatureScience]\n",
    "train_title = titlePRL[:indPRL] + titleNatureScience[:indNatureScience]\n",
    "train_target = [0]*indPRL + [1]*indNatureScience\n",
    "train_target_names = ['PRL']*indPRL + ['Nature']*indNatureScience\n",
    "\n",
    "test_abstract = abstractPRL[indPRL:] + abstractNatureScience[indNatureScience:]\n",
    "test_title = titlePRL[indPRL:] + titleNatureScience[indNatureScience:]\n",
    "test_target = [0]*len(abstractPRL[indPRL:]) + [1]*len(abstractNatureScience[indNatureScience:])\n",
    "test_target_names = ['PRL', 'Nature/Science']"
   ]
  },
  {
   "cell_type": "code",
   "execution_count": 14,
   "metadata": {
    "collapsed": false
   },
   "outputs": [
    {
     "name": "stdout",
     "output_type": "stream",
     "text": [
      "123\n",
      "508\n"
     ]
    }
   ],
   "source": [
    "print len(abstractNatureScience)\n",
    "print len(abstractPRL)"
   ]
  },
  {
   "cell_type": "code",
   "execution_count": 7,
   "metadata": {
    "collapsed": false
   },
   "outputs": [
    {
     "name": "stdout",
     "output_type": "stream",
     "text": [
      "[0 0 0 0 0 0 0 0 0 0 0 0 0 0 0 0 0 0 0 0 0 0 0 0 0 0 0 0 0 0 0 0 0 0 0 0 0\n",
      " 0 0 0 0 0 0 0 0 0 0 0 0 0 0 0 0 0 0 0 0 0 0 0 0 0 0 0 0 0 0 0 0 0 0 0 0 0\n",
      " 0 0 0 0 0 0 0 0 0 0 0 0 0 0 0 0 0 0 0 0 0 0 0 0 0 0 0 0 0 0 0 0 0 0 0 0 0\n",
      " 0 0 0 0 0 0 0 0 0 0 0 0 0 0 0 0 0 0 0 0 0 0 0 0 0 0 0 0 0 0 0 0 0 0 0 0 0\n",
      " 0 0 0 0 0 0 0 0 0 0 0 0 0 0 0 0 0 0 0 0 0 0 0 0 0 0 0 0 0 0 0 0 0 0 0 0 0\n",
      " 0 0 0 0 0 0 0 0 0 0 0 0 0 0 0 0 0 0 0 0 0 0 0 0 0 0 0 0 0 0 0 0 0 0 0 0 0\n",
      " 0 0 0 0 0 0 0 0 0 0 0 0 0 0 0 0 0 0 0 0 0 0 0 0 0 0 0 0 0 0 0 0 0 0 0 0 0\n",
      " 0 0 0 0 0 0 0 0 0 0 0 0 0 0 0 0 0 0 0 0 0 0 0 0 0 0 0 0 0 0 0 0 0 0 0 0 0\n",
      " 0 0 0 0 0 0 0 0 0 0 0 0 0 0 0 0 0 0 0 0 0 0 0 0 0 0 0 0 0 0 0 0 0 0 0 0 0\n",
      " 0 0 0 0 0 0 0 0 0 0 0 0 0 0 0 0 0 0 0 0 0 0 0 0 0 0 0 0 0 0 0 0 0 0 0 0 0\n",
      " 0 0 0 0 0 0 0 0 0 0 0 0 0 0 0 0 0 0 0 0 0 0 0 0 0 0 0 0 0 0 0 0 0 0 0 0 0\n",
      " 0 0 0 0 0 0 0 0 0 0 0 0 0 0 0 0 0 0 0 0 0 0 0 0 0 0 0 0 0 0 0 0 0 0 0 0 0\n",
      " 0 0 0 0 0 0 0 0 0 0 0 0 0 0 0 0 0 0 0 0 0 0 0 0 0 0 0 0 0 0 0 0 0 0 0 0 0\n",
      " 0 0 1 1 1 1 1 1 1 1 1 1 1 1 1 1 1 1 1 1 1 1 1 1 1 1 1 1 1 1 1 1 1 1 1 1 1\n",
      " 1 1 1 1 1 1 1 1 1 1 1 1 1 1 1 1 1 1 1 1 1 1 1 1 1 1 1 1 1 1 1 1 1 1 1 1 1\n",
      " 1 1 1 1 1 1 1 1 1 1 1 1 1 1 1 1 1 1 1 1 1 1 1 1 1 1]\n"
     ]
    }
   ],
   "source": [
    "#SVC(kernel='linear') is good\n",
    "text_abstract_clf = Pipeline([('vect', CountVectorizer(ngram_range=(1,3))),\n",
    "                              ('tfidf', TfidfTransformer()),\n",
    "                              ('clf', SVC(kernel='linear'))])\n",
    "text_abstract_clf.fit(train_abstract, train_target)\n",
    "predict_abstract = text_abstract_clf.predict(test_abstract)\n",
    "#print text_abstract_clf.predict(train_abstract)"
   ]
  },
  {
   "cell_type": "code",
   "execution_count": 8,
   "metadata": {
    "collapsed": false
   },
   "outputs": [
    {
     "name": "stdout",
     "output_type": "stream",
     "text": [
      "[0 0 0 0 0 0 0 0 0 0 0 0 0 0 0 0 0 0 0 0 0 0 0 0 0 0 0 0 0 0 0 0 0 0 0 0 0\n",
      " 0 0 0 0 0 0 0 0 0 0 0 0 0 0 0 0 0 0 0 0 0 0 0 0 0 0 0 0 0 0 0 0 0 0 0 0 0\n",
      " 0 0 0 0 0 0 0 0 0 0 0 0 0 0 0 0 0 0 0 0 0 0 0 0 0 0 0 0 0 0 0 0 0 0 0 0 0\n",
      " 0 0 0 0 0 0 0 0 0 0 0 0 0 0 0 0 0 0 0 0 0 0 0 0 0 0 0 0 0 0 0 0 0 0 0 0 0\n",
      " 0 0 0 0 0 0 0 0 0 0 0 0 0 0 0 0 0 0 0 0 0 0 0 0 0 0 0 0 0 0 0 0 0 0 0 0 0\n",
      " 0 0 0 0 0 0 0 0 0 0 0 0 0 0 0 0 0 0 0 0 0 0 0 0 0 0 0 0 0 0 0 0 0 0 0 0 0\n",
      " 0 0 0 0 0 0 0 0 0 0 0 0 0 0 0 0 0 0 0 0 0 0 0 0 0 0 0 0 0 0 0 0 0 0 0 0 0\n",
      " 0 0 0 0 0 0 0 0 0 0 0 0 0 0 0 0 0 0 0 0 0 0 0 0 0 0 0 0 0 0 0 0 0 0 0 0 0\n",
      " 0 0 0 0 0 0 0 0 0 0 0 0 0 0 0 0 0 0 0 0 0 0 0 0 0 0 0 0 0 0 0 0 0 0 0 0 0\n",
      " 0 0 0 0 0 0 0 0 0 0 0 0 0 0 0 0 0 0 0 0 0 0 0 0 0 0 0 0 0 0 0 0 0 0 0 0 0\n",
      " 0 0 0 0 0 0 0 0 0 0 0 0 0 0 0 0 0 0 0 0 0 0 0 0 0 0 0 0 0 0 0 0 0 0 0 0 0\n",
      " 0 0 0 0 0 0 0 0 0 0 0 0 0 0 0 0 0 0 0 0 0 0 0 0 0 0 0 0 0 0 0 0 0 0 0 0 0\n",
      " 0 0 0 0 0 0 0 0 0 0 0 0 0 0 0 0 0 0 0 0 0 0 0 0 0 0 0 0 0 0 0 0 0 0 0 0 0\n",
      " 0 0 0 0 0 0 0 0 0 0 0 0 0 0 0 0 0 0 0 0 0 0 0 0 0 0 0 0 0 0 0 0 0 0 0 0 0\n",
      " 0 0 0 0 0 0 0 0 0 0 0 0 0 0 0 0 0 0 0 0 0 0 0 0 0 0 0 0 0 0 0 0 0 0 0 0 0\n",
      " 0 0 0 0 0 0 0 0 0 0 0 0 0 0 0 0 0 0 0 0 0 0 0 0 0 0]\n"
     ]
    }
   ],
   "source": [
    "text_title_clf = Pipeline([('vect', CountVectorizer(ngram_range=(1,2))),\n",
    "                              ('tfidf', TfidfTransformer()),\n",
    "                              ('clf', LinearSVC())])\n",
    "text_title_clf.fit(train_title, train_target)\n",
    "predict_title = text_title_clf.predict(test_title)\n",
    "#print text_abstract_clf.predict(train_title)"
   ]
  },
  {
   "cell_type": "code",
   "execution_count": 9,
   "metadata": {
    "collapsed": false
   },
   "outputs": [
    {
     "name": "stdout",
     "output_type": "stream",
     "text": [
      "[0 0 0 0 0 0 0 0 0 0 0 0 0 0 0 0 0 0 0 0 0 0 0 0 0 0 0 0 0 0 0 0 1 0 0 0 0\n",
      " 1 0 0 0 0 0 0 0 0 0 0 0 0]\n",
      "[0 0 0 0 0 0 0 0 0 0 0 0 0 0 0 0 0 0 0 0 0 0 0 0 0 0 0 1 0 0 0 1 0 0 0 0 0\n",
      " 0 0 0 0 0 0 0 0 0 0 1 0 0]\n"
     ]
    }
   ],
   "source": [
    "print predict_abstract\n",
    "print predict_title"
   ]
  },
  {
   "cell_type": "code",
   "execution_count": 10,
   "metadata": {
    "collapsed": false
   },
   "outputs": [
    {
     "name": "stdout",
     "output_type": "stream",
     "text": [
      "                precision    recall  f1-score   support\n",
      "\n",
      "           PRL       0.52      1.00      0.68        25\n",
      "Nature/Science       1.00      0.08      0.15        25\n",
      "\n",
      "   avg / total       0.76      0.54      0.42        50\n",
      "\n"
     ]
    }
   ],
   "source": [
    "#SVC(kernel='linear')\n",
    "print(metrics.classification_report(test_target, predict_abstract,\n",
    "                                    target_names=test_target_names))"
   ]
  },
  {
   "cell_type": "code",
   "execution_count": 11,
   "metadata": {
    "collapsed": false
   },
   "outputs": [
    {
     "name": "stdout",
     "output_type": "stream",
     "text": [
      "                precision    recall  f1-score   support\n",
      "\n",
      "           PRL       0.53      1.00      0.69        25\n",
      "Nature/Science       1.00      0.12      0.21        25\n",
      "\n",
      "   avg / total       0.77      0.56      0.45        50\n",
      "\n"
     ]
    }
   ],
   "source": [
    "#SVC(kernel='linear')\n",
    "print(metrics.classification_report(test_target, predict_title,\n",
    "                                    target_names=test_target_names))"
   ]
  },
  {
   "cell_type": "code",
   "execution_count": 12,
   "metadata": {
    "collapsed": false
   },
   "outputs": [
    {
     "name": "stdout",
     "output_type": "stream",
     "text": [
      "                precision    recall  f1-score   support\n",
      "\n",
      "           PRL       0.53      1.00      0.69        25\n",
      "Nature/Science       1.00      0.12      0.21        25\n",
      "\n",
      "   avg / total       0.77      0.56      0.45        50\n",
      "\n"
     ]
    }
   ],
   "source": [
    "#SVC(kernel='linear')\n",
    "print(metrics.classification_report(test_target, predict_title,\n",
    "                                    target_names=test_target_names))"
   ]
  },
  {
   "cell_type": "code",
   "execution_count": 15,
   "metadata": {
    "collapsed": false
   },
   "outputs": [
    {
     "name": "stdout",
     "output_type": "stream",
     "text": [
      "Top 50 indicators of PRL:\n",
      "shift, show, show that, between the, we show, hyperfine, collective, magnetic, trap, of the, molecules in, from the, alpha, temperature, method, and we, attosecond, in an, sample, in their, the ion, relaxation, of the two, gas, resonant, scattering, rydberg, we show that, energy, yb, of 10, electric, condensation, background, we, sensitive, polaritons, agreement with, propose, inelastic, the atom, of spin, ground, spin, fluorescence, shifts, channel, gravity, and demonstrate, dot\n",
      "\n",
      "Top 50 indicators of Nature/Science:\n",
      "quantum, here we, here, of, matter, been, of quantum, fundamental, clocks, processing, precision, such, quantum information, however, have, here we demonstrate, has, here we report, control, these, information, entanglement, system, information processing, such as, sensitivity, in, quantum system, environment, have been, studies, force, quantum information processing, physics, superconducting, atomic clocks, measurement, its, we demonstrate, and, hysteresis, to, interactions, where, circuits, the, tests, technology, fibre, vacuum\n"
     ]
    }
   ],
   "source": [
    "def inverseVectorizer(val):\n",
    "    return (key for key, value in text_abstract_clf.named_steps['vect'].vocabulary_.iteritems() if value == val).next()\n",
    "\n",
    "# This is super inefficient!!!\n",
    "sorted_coefs = sorted( ((i,v) for i, v in np.ndenumerate(text_abstract_clf.named_steps['clf'].coef_.todense()) ),\n",
    "                      key=lambda x: x[1] )\n",
    "\n",
    "print \"Top 50 indicators of PRL:\"\n",
    "bottom = sorted_coefs[:50]\n",
    "print \", \".join([ inverseVectorizer(item[0][1]) for item in bottom])\n",
    "print \"\"\n",
    "print \"Top 50 indicators of Nature/Science:\"\n",
    "top = list(reversed(sorted_coefs[-50:]))\n",
    "print \", \".join([ inverseVectorizer(item[0][1]) for item in top])"
   ]
  },
  {
   "cell_type": "code",
   "execution_count": 13,
   "metadata": {
    "collapsed": false
   },
   "outputs": [
    {
     "name": "stdout",
     "output_type": "stream",
     "text": [
      "[0]\n",
      "  Many modern theories predict that the fundamental constants depend on time,\n",
      "position, or the local density of matter. We develop a spectroscopic method for\n",
      "pulsed beams of cold molecules, and use it to measure the frequencies of\n",
      "microwave transitions in CH with accuracy down to 3 Hz. By comparing these\n",
      "frequencies with those measured from sources of CH in the Milky Way, we test\n",
      "the hypothesis that fundamental constants may differ between the high and low\n",
      "density environments of the Earth and the interstellar medium. For the fine\n",
      "structure constant we find \\Delta\\alpha/\\alpha = (0.3 +/- 1.1)*10^{-7}, the\n",
      "strongest limit to date on such a variation of \\alpha. For the\n",
      "electron-to-proton mass ratio we find \\Delta\\mu/\\mu = (-0.7 +/- 2.2) * 10^{-7}.\n",
      "We suggest how dedicated astrophysical measurements can improve these\n",
      "constraints further and can also constrain temporal variation of the constants.\n",
      "\n"
     ]
    }
   ],
   "source": [
    "print text_abstract_clf.predict([test_abstract[-4]])\n",
    "print test_abstract[-4]"
   ]
  },
  {
   "cell_type": "code",
   "execution_count": null,
   "metadata": {
    "collapsed": true
   },
   "outputs": [],
   "source": []
  }
 ],
 "metadata": {
  "kernelspec": {
   "display_name": "Python 2",
   "language": "python",
   "name": "python2"
  },
  "language_info": {
   "codemirror_mode": {
    "name": "ipython",
    "version": 2
   },
   "file_extension": ".py",
   "mimetype": "text/x-python",
   "name": "python",
   "nbconvert_exporter": "python",
   "pygments_lexer": "ipython2",
   "version": "2.7.11"
  }
 },
 "nbformat": 4,
 "nbformat_minor": 0
}
