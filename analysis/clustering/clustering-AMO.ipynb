{
 "cells": [
  {
   "cell_type": "markdown",
   "metadata": {},
   "source": [
    "###### Can I predict the existence of subfields with some cool unsupervised learning algorithm? \n",
    "\n",
    "For starters, let's just use regular n-grams. A more advanced version would be to look for noun phrases or J&K POS tags."
   ]
  },
  {
   "cell_type": "code",
   "execution_count": 48,
   "metadata": {
    "collapsed": false
   },
   "outputs": [],
   "source": [
    "#Need to add parent directoy to sys.path to find 'metadataDB'\n",
    "import sys\n",
    "sys.path.append('../../')\n",
    "\n",
    "%matplotlib inline\n",
    "# import matplotlib.pyplot as plt\n",
    "import time\n",
    "import numpy as np\n",
    "# import scipy as sp\n",
    "import re\n",
    "from collections import Counter\n",
    "import itertools\n",
    "import random\n",
    "\n",
    "# Natural language processing toolkit\n",
    "# To use this, run nltk.download() and download 'stopwords'\n",
    "# from nltk.corpus import stopwords\n",
    "# s=stopwords.words('english') + ['']\n",
    "\n",
    "# Machine learning\n",
    "from sklearn.feature_extraction.text import CountVectorizer\n",
    "from sklearn.feature_extraction.text import TfidfTransformer\n",
    "from sklearn.metrics import classification_report, accuracy_score, confusion_matrix\n",
    "from sklearn.cross_validation import train_test_split, cross_val_score\n",
    "from sklearn.cluster import KMeans\n",
    "from sklearn.decomposition import SparsePCA\n",
    "# from sklearn.naive_bayes import MultinomialNB\n",
    "# from sklearn.linear_model import LogisticRegression\n",
    "from sklearn.svm import LinearSVC\n",
    "from sklearn.pipeline import Pipeline\n",
    "# from sklearn import metrics\n",
    "from sklearn.externals import joblib\n",
    "\n",
    "# SQL\n",
    "from sqlalchemy import create_engine\n",
    "from sqlalchemy.orm import sessionmaker\n",
    "from metadataDB.declareDatabase import *\n",
    "from sqlalchemy import or_, and_\n",
    "\n",
    "engine = create_engine(\"sqlite:///../../arXiv_metadata.db\", echo=False)\n",
    "Base.metadata.bind = engine\n",
    "DBsession = sessionmaker(bind=engine)\n",
    "session = DBsession()"
   ]
  },
  {
   "cell_type": "code",
   "execution_count": 49,
   "metadata": {
    "collapsed": false
   },
   "outputs": [
    {
     "name": "stdout",
     "output_type": "stream",
     "text": [
      "[u'acc-phys', u'adap-org', u'alg-geom', u'ao-sci', u'astro-ph', u'astro-ph.CO', u'astro-ph.EP', u'astro-ph.GA', u'astro-ph.HE', u'astro-ph.IM', u'astro-ph.SR', u'atom-ph', u'bayes-an', u'chao-dyn', u'chem-ph', u'comp-gas', u'cond-mat', u'cond-mat.dis-nn', u'cond-mat.mes-hall', u'cond-mat.mtrl-sci', u'cond-mat.other', u'cond-mat.quant-gas', u'cond-mat.soft', u'cond-mat.stat-mech', u'cond-mat.str-el', u'cond-mat.supr-con', u'cs.AI', u'cs.AR', u'cs.CC', u'cs.CE', u'cs.CG', u'cs.CL', u'cs.CR', u'cs.CV', u'cs.CY', u'cs.DB', u'cs.DC', u'cs.DL', u'cs.DM', u'cs.DS', u'cs.ET', u'cs.FL', u'cs.GL', u'cs.GR', u'cs.GT', u'cs.HC', u'cs.IR', u'cs.IT', u'cs.LG', u'cs.LO', u'cs.MA', u'cs.MM', u'cs.MS', u'cs.NA', u'cs.NE', u'cs.NI', u'cs.OH', u'cs.PF', u'cs.PL', u'cs.RO', u'cs.SC', u'cs.SD', u'cs.SE', u'cs.SI', u'cs.SY', u'dg-ga', u'funct-an', u'gr-qc', u'hep-ex', u'hep-lat', u'hep-ph', u'hep-th', u'math-ph', u'math.AC', u'math.AG', u'math.AP', u'math.AT', u'math.CA', u'math.CO', u'math.CT', u'math.CV', u'math.DG', u'math.DS', u'math.FA', u'math.GM', u'math.GN', u'math.GR', u'math.GT', u'math.HO', u'math.IT', u'math.KT', u'math.LO', u'math.MG', u'math.MP', u'math.NA', u'math.NT', u'math.OA', u'math.OC', u'math.PR', u'math.QA', u'math.RA', u'math.RT', u'math.SG', u'math.SP', u'math.ST', u'mtrl-th', u'nlin.AO', u'nlin.CD', u'nlin.CG', u'nlin.PS', u'nlin.SI', u'nucl-ex', u'nucl-th', u'patt-sol', u'physics.acc-ph', u'physics.ao-ph', u'physics.atm-clus', u'physics.atom-ph', u'physics.bio-ph', u'physics.chem-ph', u'physics.class-ph', u'physics.comp-ph', u'physics.data-an', u'physics.ed-ph', u'physics.flu-dyn', u'physics.gen-ph', u'physics.geo-ph', u'physics.hist-ph', u'physics.ins-det', u'physics.med-ph', u'physics.optics', u'physics.plasm-ph', u'physics.pop-ph', u'physics.soc-ph', u'physics.space-ph', u'plasm-ph', u'q-alg', u'q-bio', u'q-bio.BM', u'q-bio.CB', u'q-bio.GN', u'q-bio.MN', u'q-bio.NC', u'q-bio.OT', u'q-bio.PE', u'q-bio.QM', u'q-bio.SC', u'q-bio.TO', u'q-fin.CP', u'q-fin.EC', u'q-fin.GN', u'q-fin.MF', u'q-fin.PM', u'q-fin.PR', u'q-fin.RM', u'q-fin.ST', u'q-fin.TR', u'quant-ph', u'solv-int', u'stat.AP', u'stat.CO', u'stat.ME', u'stat.ML', u'stat.OT', u'stat.TH', u'supr-con']\n"
     ]
    }
   ],
   "source": [
    "# What are the available categories?\n",
    "categories = sorted([x.name for x in session.query(Category)])\n",
    "print categories "
   ]
  },
  {
   "cell_type": "code",
   "execution_count": 50,
   "metadata": {
    "collapsed": false
   },
   "outputs": [
    {
     "name": "stdout",
     "output_type": "stream",
     "text": [
      "32.3356580734\n"
     ]
    }
   ],
   "source": [
    "abstract_all_tmp = {'category': [], 'abstract': []}\n",
    "category_list = sorted(['atom-ph', 'quant-gas']) # THIS WORKS REALLY WELL!\n",
    "# category_list = sorted(['atom-ph', 'optics',  'quant-gas'])\n",
    "# category_list = sorted(['atom-ph', 'optics', 'quant-ph', 'quant-gas'])\n",
    "category_len = len(category_list)\n",
    "\n",
    "start = time.time()\n",
    "for item in category_list:\n",
    "    query = session.query(Article_Category)\\\n",
    "                        .join(Category)\\\n",
    "                        .join(Article)\\\n",
    "                        .filter(Category.name.like('%' + item + '%'))\n",
    "#     query = session.query(Article_Category)\\\n",
    "#                         .join(Category)\\\n",
    "#                         .join(Article)\\\n",
    "#                         .filter(Category.name.like('%' + item + '%'))\n",
    "    result = [' '.join(x.article.abstract.split()) for x in query]\n",
    "    abstract_all_tmp['abstract'].extend(result)\n",
    "    abstract_all_tmp['category'].extend([item]*len(result))\n",
    "print time.time() - start\n",
    "# for item in query:\n",
    "#     abstract_all['category'].append(item.category.name)\n",
    "#     abstract_all['abstract'].append(' '.join(item.article.abstract.split()))\n",
    "# print time.time() - start\n",
    "# abstract_all['atom-ph'] = [x.article.abstract for x in query.all()]\n",
    "# session.close_all()"
   ]
  },
  {
   "cell_type": "code",
   "execution_count": 51,
   "metadata": {
    "collapsed": false
   },
   "outputs": [
    {
     "name": "stdout",
     "output_type": "stream",
     "text": [
      "quant-gas      9107\n",
      "atom-ph        9156\n",
      "Total          18263\n"
     ]
    }
   ],
   "source": [
    "# Breakdown of categories?\n",
    "count = Counter(abstract_all_tmp['category'])\n",
    "for key, val in count.iteritems():\n",
    "    print '{:<15}{}'.format(key, val)\n",
    "print '{:<15}{}'.format('Total', len(abstract_all_tmp['abstract']))"
   ]
  },
  {
   "cell_type": "code",
   "execution_count": 52,
   "metadata": {
    "collapsed": false
   },
   "outputs": [
    {
     "name": "stdout",
     "output_type": "stream",
     "text": [
      "17244\n"
     ]
    }
   ],
   "source": [
    "# Deduplicate\n",
    "\n",
    "abstract_all = list(set(abstract_all_tmp['abstract']))\n",
    "print len(abstract_all)\n",
    "x_train = abstract_all"
   ]
  },
  {
   "cell_type": "code",
   "execution_count": 53,
   "metadata": {
    "collapsed": false
   },
   "outputs": [],
   "source": [
    "x_train = abstract_all\n",
    "# # Train on 90% of the data. Random_state ensures that we always get the same result.\n",
    "# x_train, x_test, y_train, y_test = train_test_split(abstract_all['abstract'],\n",
    "#                                                     abstract_all['category'],\n",
    "#                                                     random_state=42,\n",
    "#                                                     train_size=0.9)\n",
    "\n",
    "# counter_train = Counter(y_train)"
   ]
  },
  {
   "cell_type": "markdown",
   "metadata": {},
   "source": [
    "Now, try KMeans clustering. \n",
    "See: http://scikit-learn.org/stable/auto_examples/text/document_clustering.html"
   ]
  },
  {
   "cell_type": "code",
   "execution_count": 58,
   "metadata": {
    "collapsed": false
   },
   "outputs": [
    {
     "name": "stdout",
     "output_type": "stream",
     "text": [
      "804.503778934\n",
      "6.90848183632\n"
     ]
    }
   ],
   "source": [
    "# n_clusters = 20\n",
    "n_clusters = 25\n",
    "# 30 is too many!\n",
    "# Reduce n_init to 10 for testing purposes.\n",
    "clf_unsupervised = Pipeline([('vect', CountVectorizer(ngram_range=(1,3), stop_words='english')),\n",
    "                             ('tfidf', TfidfTransformer()),\n",
    "                             ('clf', KMeans(n_clusters=n_clusters, n_init=10))])\n",
    "start = time.time()\n",
    "clf_unsupervised.fit(x_train)\n",
    "print time.time() - start\n",
    "\n",
    "start = time.time()\n",
    "predict_train = clf_unsupervised.predict(x_train)\n",
    "# predict = clf_unsupervised.predict(x_test)\n",
    "print time.time() - start\n",
    "    "
   ]
  },
  {
   "cell_type": "markdown",
   "metadata": {},
   "source": [
    "Save the model and predictor"
   ]
  },
  {
   "cell_type": "code",
   "execution_count": 59,
   "metadata": {
    "collapsed": false
   },
   "outputs": [
    {
     "name": "stdout",
     "output_type": "stream",
     "text": [
      "64.7267770767\n"
     ]
    }
   ],
   "source": [
    "start = time.time()\n",
    "joblib.dump(clf_unsupervised, 'cluster-AMO.pkl', compress=True) \n",
    "# joblib.dump(clf_unsupervised, 'cluster-AMO-optics.pkl', compress=True) \n",
    "print time.time() - start"
   ]
  },
  {
   "cell_type": "code",
   "execution_count": 60,
   "metadata": {
    "collapsed": false
   },
   "outputs": [
    {
     "name": "stdout",
     "output_type": "stream",
     "text": [
      "6.95335888863\n"
     ]
    }
   ],
   "source": [
    "# Count the number of articles in each chunk\n",
    "start = time.time()\n",
    "count_chunks = Counter(clf_unsupervised.predict(x_train))\n",
    "print time.time() - start"
   ]
  },
  {
   "cell_type": "code",
   "execution_count": 61,
   "metadata": {
    "collapsed": false,
    "scrolled": false
   },
   "outputs": [
    {
     "name": "stdout",
     "output_type": "stream",
     "text": [
      "Cluster 0 (793 articles):\n",
      "condensate, bose einstein condensate, einstein condensate, einstein, bose einstein, bose, bec, potential, einstein condensate bec, condensate bec, dynamics, equation, phase, quantum, time, field, pitaevskii, trap, gross, gross pitaevskii\n",
      "\n",
      "Cluster 1 (497 articles):\n",
      "resonances, molecules, feshbach, resonance, magnetic, ultracold, scattering, state, feshbach resonances, field, bound, dipole, feshbach resonance, atoms, magnetic field, states, molecular, channel, ground, photoassociation\n",
      "\n",
      "Cluster 2 (355 articles):\n",
      "spin orbit, orbit, spin, orbit coupling, spin orbit coupling, coupling, soc, rashba, topological, phase, spin orbit coupled, orbit coupled, fermi, superfluid, zeeman, state, coupled, field, zeeman field, momentum\n",
      "\n",
      "Cluster 3 (392 articles):\n",
      "scattering, body, scattering length, length, efimov, universal, dimer, range, bound, energy, wave, states, effective, atom, recombination, wave scattering, scattering lengths, state, interactions, trimer\n",
      "\n",
      "Cluster 4 (349 articles):\n",
      "rydberg, atoms, rydberg atoms, states, rydberg states, excitation, dipole, blockade, state, atom, rydberg state, interaction, quantum, interactions, electric, laser, field, rydberg atom, dipole dipole, resonant\n",
      "\n",
      "Cluster 5 (1185 articles):\n",
      "quantum, systems, dynamics, body, states, entanglement, classical, time, state, non, physics, matter, quantum systems, equilibrium, information, atoms, phase, topological, particle, study\n",
      "\n",
      "Cluster 6 (160 articles):\n",
      "impurity, polaron, gas, mass, single impurity, interaction, impurity atom, impurities, fermi, impurity atoms, interacting, condensate, energy, dimensional, atoms, single, state, function, sea, bose\n",
      "\n",
      "Cluster 7 (957 articles):\n",
      "ions, electron, ion, calculations, energy, data, levels, relativistic, molecular, results, radiative, states, nuclear, transitions, atomic, state, recombination, lines, energies, transition\n",
      "\n",
      "Cluster 8 (387 articles):\n",
      "cross, cross sections, sections, cross section, section, electron, scattering, ionization, energy, differential, energies, differential cross, photoionization, ev, photon, calculations, total, impact, elastic, threshold\n",
      "\n",
      "Cluster 9 (2168 articles):\n",
      "magnetic, field, atoms, atom, optical, atomic, light, lattice, magnetic field, fields, quantum, laser, state, using, states, phase, photon, level, interferometer, beam\n",
      "\n",
      "Cluster 10 (722 articles):\n",
      "fermi, fermi gas, gas, temperature, bcs, superfluid, pairing, gases, fermi gases, phase, density, crossover, bec, state, interaction, component, fflo, spin, interacting, fermions\n",
      "\n",
      "Cluster 11 (1870 articles):\n",
      "density, gas, state, temperature, time, interaction, particle, bose, dimensional, interacting, energy, potential, model, study, bosons, non, interactions, particles, dynamics, finite\n",
      "\n",
      "Cluster 12 (266 articles):\n",
      "electric, electric dipole, moment, edm, dipole, dipole moment, electric dipole moment, nuclear, electron, parity, moments, magnetic, field, violating, odd, relativistic, coupled cluster, quadrupole, molecules, hyperfine\n",
      "\n",
      "Cluster 13 (927 articles):\n",
      "functions, wave, states, matrix, method, energy, function, wave functions, potential, electron, equation, basis, elements, relativistic, angular, matrix elements, results, calculations, state, obtained\n",
      "\n",
      "Cluster 14 (350 articles):\n",
      "phys, phys rev, rev, et al, et, al, lett, rev lett, phys rev lett, al phys, et al phys, al phys rev, bf, recent, experiment, energy, results, comment, experimental, 2012\n",
      "\n",
      "Cluster 15 (662 articles):\n",
      "spin, magnetic, quantum, state, interactions, field, ferromagnetic, states, phase, atoms, exchange, spin dependent, magnetic field, interaction, spinor, spin exchange, dynamics, condensate, dependent, bose\n",
      "\n",
      "Cluster 16 (900 articles):\n",
      "ionization, laser, electron, pulse, pulses, field, time, attosecond, harmonic, strong, high, laser field, strong field, dependent, hhg, intense, time dependent, generation, electrons, spectra\n",
      "\n",
      "Cluster 17 (575 articles):\n",
      "phase, phases, phase diagram, diagram, superfluid, lattice, quantum, density, model, transition, supersolid, order, phase transition, topological, interactions, state, symmetry, spin, dimensional, quantum phase\n",
      "\n",
      "Cluster 18 (476 articles):\n",
      "alpha, proton, hyperfine, structure, fine, fine structure, mu, muonic, variation, hydrogen, constant, fine structure constant, structure constant, nuclear, corrections, shift, 10, electron, muonic hydrogen, splitting\n",
      "\n",
      "Cluster 19 (589 articles):\n",
      "mott, superfluid, hubbard, phase, lattice, hubbard model, model, insulator, bose hubbard, transition, mott insulator, bose, mean field, bose hubbard model, mean, optical, field, quantum, density, theory\n",
      "\n",
      "Cluster 20 (353 articles):\n",
      "solitons, soliton, dark, bright, dark solitons, solutions, nonlinear, dark soliton, bose einstein, einstein, dimensional, bose, equation, stable, bright solitons, stability, condensate, potential, condensates, nonlinearity\n",
      "\n",
      "Cluster 21 (667 articles):\n",
      "vortex, condensates, vortices, einstein condensates, bose einstein condensates, bose einstein, einstein, bose, condensate, turbulence, dynamics, gross, pitaevskii, gross pitaevskii, quantum, phase, equation, rotating, becs, component\n",
      "\n",
      "Cluster 22 (733 articles):\n",
      "trap, cooling, ion, atoms, optical, laser, mot, ions, magneto, magneto optical, beam, optical trap, trapping, loading, atom, magneto optical trap, trapped, 10, traps, single\n",
      "\n",
      "Cluster 23 (548 articles):\n",
      "frequency, laser, clock, optical, transition, clocks, nm, comb, 10, atomic, shift, frequency comb, optical frequency, spectroscopy, linewidth, noise, high, clock transition, uncertainty, mhz\n",
      "\n",
      "Cluster 24 (363 articles):\n",
      "cavity, optical, photon, quantum, mode, field, light, optical cavity, atoms, atomic, atom, laser, coupling, cavity field, phase, photons, state, modes, single, cavity mode\n",
      "\n"
     ]
    }
   ],
   "source": [
    "# Most important chunks. See http://scikit-learn.org/stable/auto_examples/text/document_clustering.html\n",
    "order_centroids = clf_unsupervised.named_steps['clf'].cluster_centers_.argsort()[:, ::-1]\n",
    "\n",
    "terms =  clf_unsupervised.named_steps['vect'].get_feature_names()\n",
    "for i in range(n_clusters):\n",
    "    print \"Cluster %d (%d articles):\" % (i, count_chunks[i])\n",
    "    print ', '.join([terms[x] for x in order_centroids[i, :20]])\n",
    "    print ''"
   ]
  },
  {
   "cell_type": "code",
   "execution_count": null,
   "metadata": {
    "collapsed": true
   },
   "outputs": [],
   "source": []
  }
 ],
 "metadata": {
  "kernelspec": {
   "display_name": "Python 2",
   "language": "python",
   "name": "python2"
  },
  "language_info": {
   "codemirror_mode": {
    "name": "ipython",
    "version": 2
   },
   "file_extension": ".py",
   "mimetype": "text/x-python",
   "name": "python",
   "nbconvert_exporter": "python",
   "pygments_lexer": "ipython2",
   "version": "2.7.11"
  }
 },
 "nbformat": 4,
 "nbformat_minor": 0
}
