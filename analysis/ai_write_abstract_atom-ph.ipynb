{
 "cells": [
  {
   "cell_type": "code",
   "execution_count": 1,
   "metadata": {
    "collapsed": true
   },
   "outputs": [],
   "source": [
    "#Need to add parent directoy to sys.path to find 'metadataDB'\n",
    "import sys\n",
    "sys.path.append('../')\n",
    "\n",
    "%matplotlib inline\n",
    "# import matplotlib.pyplot as plt \n",
    "import time\n",
    "# import numpy as np\n",
    "# import scipy as sp\n",
    "import re\n",
    "from collections import Counter\n",
    "import random\n",
    "\n",
    "# Natural language processing toolkit\n",
    "# To use this, run nltk.download() and download 'stopwords'\n",
    "# from nltk.corpus import stopwords\n",
    "# s=stopwords.words('english') + ['']\n",
    "\n",
    "# Machine learning\n",
    "# from sklearn.feature_extraction.text import CountVectorizer\n",
    "# from sklearn.feature_extraction.text import TfidfTransformer\n",
    "# from sklearn.naive_bayes import MultinomialNB\n",
    "# from sklearn.linear_model import LogisticRegression\n",
    "# from sklearn.svm import LinearSVC, SVC\n",
    "# from sklearn.pipeline import Pipeline\n",
    "# from sklearn import metrics\n",
    "\n",
    "# SQL\n",
    "from sqlalchemy import create_engine\n",
    "from sqlalchemy.orm import sessionmaker\n",
    "from metadataDB.declareDatabase import *\n",
    "from sqlalchemy import or_, and_\n",
    "\n",
    "engine = create_engine(\"sqlite:///../arXiv_metadata.db\", echo=False)\n",
    "Base.metadata.bind = engine\n",
    "DBsession = sessionmaker(bind=engine)\n",
    "session = DBsession()"
   ]
  },
  {
   "cell_type": "code",
   "execution_count": 2,
   "metadata": {
    "collapsed": true
   },
   "outputs": [],
   "source": [
    "query = session.query(Article_Category)\\\n",
    "                    .join(Category)\\\n",
    "                    .join(Article)\\\n",
    "                    .filter(Category.name.like('%atom-ph'))\n",
    "resultPRL = query.all()\n",
    "abstract_all = [x.article.abstract for x in query.all()]\n",
    "session.close_all()"
   ]
  },
  {
   "cell_type": "code",
   "execution_count": 3,
   "metadata": {
    "collapsed": false
   },
   "outputs": [
    {
     "name": "stdout",
     "output_type": "stream",
     "text": [
      "9156\n"
     ]
    }
   ],
   "source": [
    "abstract_train = abstract_all\n",
    "print len(abstract_train)"
   ]
  },
  {
   "cell_type": "markdown",
   "metadata": {},
   "source": [
    "CountVectorizer might do a cleaner job."
   ]
  },
  {
   "cell_type": "code",
   "execution_count": 4,
   "metadata": {
    "collapsed": false
   },
   "outputs": [],
   "source": [
    "class AbstractWriter:\n",
    "    '''This class will take a specific n-gram and learn to write abstracts from a few words.'''\n",
    "    _data = dict()\n",
    "    _abstracts = []\n",
    "    \n",
    "    def __init__(self, ngram, randomize=False, seed=None, maxWords=200):\n",
    "        self.ngram = ngram\n",
    "        self.randomize = randomize\n",
    "        self.seed = seed\n",
    "        self.maxWords = maxWords\n",
    "        if seed is not None:\n",
    "            random.seed(seed)\n",
    "\n",
    "    \n",
    "    def fit(self, train):\n",
    "        data_list = []\n",
    "        for item in train:\n",
    "            ind = 0\n",
    "            textlist = self.__cleanup_text(item)\n",
    "            self._abstracts.append(' '.join(textlist))\n",
    "            while ind + self.ngram - 1 < len(textlist):\n",
    "                currentTuple = tuple(textlist[ind:(ind+self.ngram-1)])\n",
    "                nextWord = textlist[ind+self.ngram-1]\n",
    "                data_list.append((tuple(textlist[ind:(ind+self.ngram-1)]),\n",
    "                                        textlist[ind+self.ngram-1]))\n",
    "                ind += 1\n",
    "        data_list.sort()\n",
    "        \n",
    "        # Now that the list is sorted, convert it into a dictionary.\n",
    "        # Since the list is sorted, each subsuquent entry is either new or a continuation of the previous one.\n",
    "\n",
    "        previousKey = None\n",
    "        for val in data_list:\n",
    "            currentKey = val[0]\n",
    "            if currentKey == previousKey:\n",
    "                self._data[currentKey].append(val[1])\n",
    "            else:\n",
    "                self._data[currentKey] = [val[1]]\n",
    "            previousKey = val[0]\n",
    "\n",
    "    def find_next_word(self, phrase):\n",
    "        '''phrase is a tuple of (typ. 3) words. Returns the next word.'''\n",
    "        # Since data is sorted, it should be possible to search quickly. I'm not doing this properly.\n",
    "        if phrase in self._data.keys():\n",
    "            solution = self._data[phrase]\n",
    "            \n",
    "            # If there are more than one result, we either return the most popular option or\n",
    "            # a random answer weighted by popularity.\n",
    "            if self.randomize:\n",
    "                return random.choice(solution)\n",
    "            else:\n",
    "                count = Counter(solution)\n",
    "                return count.most_common(1)[0][0]\n",
    "        else:\n",
    "            return None\n",
    "        \n",
    "    def write_abstract(self, beginning):\n",
    "        abstract = list(beginning)\n",
    "        nextWord = ''\n",
    "        ind = len(beginning) - self.ngram + 1\n",
    "        while (nextWord is not None) and (ind < self.maxWords):\n",
    "            nextWord = self.find_next_word(tuple(abstract[ind:(ind+self.ngram)]))\n",
    "            if nextWord is None:\n",
    "                break\n",
    "            else:\n",
    "                abstract.append(nextWord)\n",
    "                ind += 1\n",
    "        return ' '.join(abstract)\n",
    "    \n",
    "    def find_similar(self, abstract):\n",
    "        '''Have I accidentally plagarized one of the articles?\n",
    "        With too few choices, we will likely just copy an existing article.\n",
    "        Returns the longest chunk highlighted in an existing article.'''\n",
    "        first = 0\n",
    "        last = 1\n",
    "        abort = False\n",
    "        longestChunk = ''\n",
    "        longestChunkLength = 0\n",
    "\n",
    "        totalLength = len(abstract.split())\n",
    "        while first + longestChunkLength < totalLength:\n",
    "            chunk = ' '.join(abstract.split()[first:last])\n",
    "            if any(x for x in self._abstracts if chunk in x):\n",
    "                if last - first + 1 > longestChunkLength:\n",
    "                    longestChunk = chunk\n",
    "                    longestChunkLength = last - first + 1\n",
    "                last += 1\n",
    "            else:\n",
    "                first += 1\n",
    "                last = first + 1\n",
    "        \n",
    "        best_abstract = (x for x in self._abstracts if longestChunk in x).next()\n",
    "        return re.sub('(' + longestChunk + ')', '[[[' + longestChunk + ']]]', best_abstract)\n",
    "\n",
    "\n",
    "    def __cleanup_text(self, text):\n",
    "        # re from kaggle https://www.kaggle.com/c/word2vec-nlp-tutorial/details/part-1-for-beginners-bag-of-wordsi\n",
    "        # Remove punctuation. Keep periods.\n",
    "        # \n",
    "        # New trick: replace numbers with ##, which we will later replace with different numbers.\n",
    "        pattern1 = re.compile(\"[0-9]\")\n",
    "        pattern2 = re.compile(\"[^a-zA-Z#.]\")\n",
    "        # The previous pattern could make multiple spaces. Turn multiple spaces into a single space.\n",
    "        pattern3 = re.compile(\"(\\s{2,})\")\n",
    "        return pattern3.sub(\" \",\n",
    "                            pattern2.sub(\" \",\n",
    "                                         pattern1.sub(\"#\",\n",
    "                                                      text.lstrip().rstrip()))).split(' ')"
   ]
  },
  {
   "cell_type": "markdown",
   "metadata": {},
   "source": [
    "Let's make a bunch of abstracts that start in a way similar to existing abstracts, and find if they accidentally plagarize anything."
   ]
  },
  {
   "cell_type": "code",
   "execution_count": 5,
   "metadata": {
    "collapsed": false
   },
   "outputs": [],
   "source": [
    "def WriteAbstract(ngram):\n",
    "    writer = AbstractWriter(ngram=ngram, randomize=True, seed=42)\n",
    "    writer.fit(abstract_train)\n",
    "    for i in range(0,5):\n",
    "        phrase = random.choice(writer._abstracts).split()[0:(ngram-1)]\n",
    "        currentAbstract = writer.write_abstract(tuple(phrase))\n",
    "        print 'New abstract: ' + currentAbstract\n",
    "        print ''\n",
    "        print 'Existing abstract: ' + writer.find_similar(currentAbstract)\n",
    "        print ''\n",
    "    return writer"
   ]
  },
  {
   "cell_type": "code",
   "execution_count": 6,
   "metadata": {
    "collapsed": false
   },
   "outputs": [
    {
     "name": "stdout",
     "output_type": "stream",
     "text": [
      "New abstract: An all optical atomic clock applications. We find that an impurity with bare charge Z # which includes weakly bound negative ions of Tl are predicted.\n",
      "\n",
      "Existing abstract: We calculate exactly the vacuum polarization charge density in the field of a subcritical Coulomb impurity Z e r in graphene. Our analysis is based on the exact electron Green s function obtained by using the operator method and leads to results that are exact in the parameter Z alpha where alpha is the fine structure constant of graphene. Taking into account also electron electron interactions in the Hartree approximation we solve the problem self consistently in the subcritical regime where the impurity has an effective charge Z eff determined by the localized induced charge. [[[We find that an impurity with bare charge Z #]]] remains subcritical Z eff alpha # # for any alpha while impurities with Z # # and higher can become supercritical at certain values of alpha .\n",
      "\n",
      "New abstract: We present a method for calculating the relaxation due to atom shot noise. We demonstrate a technique of utilizing magnetically trapped neutral Rb ## atoms confined inside a high Q cavity sustaining a single mode optical cavity interacting with a non vanishing orbital angular momentum L # . The universal description implies that the single ionization cross section measurements are compared with others and it is demonstrated how the theoretical analysis of Radiative Shocks defined as supercritical shocks accompanied by an overall potential established via molecular state mixing induced by the combined electric and magnetic fields. Such measurements can be performed from the study of the static polarizability and for the validation of gravitational models of the S matrix for energies above the ionic threshold to estimate the variational limit is dependent upon the detuning and a characteristic atomic frequency are of the form Phi rho s where rho s is the strange quark mass. Huge enhancement of the reactivation process by using X rays.\n",
      "\n",
      "Existing abstract: We report the magnetic confinement of neutral ground state hydroxyl radicals OH at a density of sim# times## # cm # and temperature of sim ## mK. An adjustable electric field of sufficient magnitude to polarize the OH is superimposed on the trap in either a quadrupole or homogenous field geometry. The OH is confined [[[by an overall potential established via molecular state mixing induced by the combined electric and magnetic]]] fields acting on the molecule s electric dipole and magnetic dipole moments respectively. An effective molecular Hamiltonian including Stark and Zeeman terms has been constructed to describe single molecule dynamics inside the trap. Monte Carlo simulation using this Hamiltonian accurately models the observed trap dynamics in various trap configurations. Confinement of cold polar molecules in a magnetic trap leaving large adjustable electric fields for control is an important step towards the study of low energy dipole dipole collisions.\n",
      "\n",
      "New abstract: We present a detailed description of the dispersive response of the molecule allowing us to target arbitrary single qubit control with single site precision using microwave radiation in a wide wavelength range lambda #.# ## mu m from the beam results in efficient loading of a Bose Einstein condensate and closed with a sequence of linearly polarised pulses with the transient interference allows for a deeper understanding into chemical reactions. However until now asymmetric tops which comprise the nuclei. The relevant #Sigma g u electronic states correlate with the D #s D # ell dissociation limit. Improved level energies of the three body parameter at seven different Feshbach resonances in other isotopic combinations are reported.\n",
      "\n",
      "Existing abstract: An important goal in molecular physics and chemistry today is to obtain structure dependent information about molecular function to obtain [[[a deeper understanding into chemical reactions. However until now asymmetric tops which comprise the]]] widest and most general class of molecules remain principally unexplored. This gap is particularly evident in high harmonic generation HHG . HHG has successfully obtained structural information about electron hole pairs or orbitals for simple linear molecules. Unfortunately for more complicated molecules the emission from different molecular directions interfere concealing individual angular signatures. Here we introduce a method to extract orientation dependent information from asymmetric tops and apply it to the sulfur dioxide SO# molecule. We use the rotational revival structure to decompose the angular contributions of HHG emission. This method also extends HHG based tomographic imaging into three dimensions and makes it applicable to a much wider class of systems than previously envisioned. Our results suggest that HHG is a powerful tool to probe electron orbital structure and dynamics of complex molecules.\n",
      "\n",
      "New abstract: Charge state distributions of various projectile ions passing through thin carbon foils have been studied by specific heat and magnetization measurements using high quality single crystals. Specific heat shows an anomalous Schottky type peak structure at #.## K in zero field but all species considered LiNa LiK LiRb and less promising for LiCs and KCs. Direct photoassociation to the # # S calculations still fail to resolve existing discrepancies between experimental results obtained using the optical optical double resonance polarization spectroscopy technique and finally a group at the University of Toronto. In the case of multi isotope ion strings.\n",
      "\n",
      "Existing abstract: In the unconventional f electron associated charge order phase of filled skutterudite PrRu#P## the low temperature behaviors of the triplet crystalline electric field ground state of Pr ions [[[have been studied by specific heat and magnetization measurements using high quality single crystals. Specific heat shows an anomalous Schottky type peak structure at #.## K in zero field]]] in spite of the absence of any symmetry breaking. Magnetization curve at #.## K shows a remarkable rounding below # T. It has been revealed that these anomalies provide compelling evidence for the formation of a lattice of Pr #f electron nuclear hyperfine coupled multiplets the first known thermodynamical observation of its kind.\n",
      "\n",
      "New abstract: We propose a quantum memory or two mode squeezed state between vec k and vec k . There are always two photon bunching the photon statistics of the molecules in successive wells of a traveling wave decelerator. In the traveling wave axis. For each stage transfer efficiencies exceeding ## are demonstrated.\n",
      "\n",
      "Existing abstract: There have been experimental and theoretical studies on Photoluminescence PL from possible exciton superfluid in semiconductor electron hole bilayer systems. However the PL contains no phase information and no photon correlations so it can only lead to suggestive evidences. It is important to identify smoking gun experiments which can lead to convincing evidences. Here we study two mode phase sensitive squeezing spectrum and also two photon correlation functions. We find the emitted photons along all tilted directions are always in a [[[two mode squeezed state between vec k and vec k . There are always two photon bunching the photon statistics]]] is super Poissonian. Observing these unique features by possible future phase sensitive homodyne experiment and HanburyBrown Twiss type of experiment could lead to conclusive evidences of exciton superfluid in these systems.\n",
      "\n"
     ]
    },
    {
     "data": {
      "text/plain": [
       "<__main__.AbstractWriter instance at 0x103c70710>"
      ]
     },
     "execution_count": 6,
     "metadata": {},
     "output_type": "execute_result"
    }
   ],
   "source": [
    "WriteAbstract(4)"
   ]
  },
  {
   "cell_type": "code",
   "execution_count": 7,
   "metadata": {
    "collapsed": false
   },
   "outputs": [
    {
     "name": "stdout",
     "output_type": "stream",
     "text": [
      "New abstract: Polar molecules in selected quantum states can be trapped in different trap types thereby enabling the realization of ultra precise ion clocks and quantum information processing applications. Extending this sensitivity to broad transitions is challenging due to the difficulty of detecting the rapid photon scattering events in this case. Here we demonstrate a large conditional cross phase modulation between a signal field stored inside an atomic quantum memory for non classical states of light operating at a wavelength compatible with standard telecom fibre infrastructure nor a fibre based implementation of a quantum memory for photons with fluorescence based quantum state measurement it is in principle possible in a static system. It is related to the number of qubits with controller Charlie.\n",
      "\n",
      "Existing abstract: The ability to detect the interaction of light and matter at the single particle level is becoming increasingly important for many areas of science and technology. The absorption or emission of a photon on a narrow transition of a trapped ion can be detected with near unit probability [[[thereby enabling the realization of ultra precise ion clocks and quantum information processing applications. Extending this sensitivity to broad transitions is challenging due to the difficulty of detecting the rapid photon scattering events in this case. Here we demonstrate a]]] technique to detect the scattering of a single photon on a broad optical transition with high sensitivity. Our approach is to use an entangled state to amplify the tiny momentum kick an ion receives upon scattering a photon. The method should find applications in spectroscopy of atomic and molecular ions and quantum information processing.\n",
      "\n",
      "New abstract: Relativistic and channel coupling effects in photoionization and unified electronic recombination of e C IV including non resonant and resonant recombination processes radiative and dielectronic recombination RR and DR . Detailed comparison of the theoretical unified results with two recent experiments on ion storage rings Mannervik etal. # and Schippers etal. # shows very good agreement in a large energy region # keV ## MeV .\n",
      "\n",
      "Existing abstract: Relativistic close coupling calculations are reported for [[[unified electronic recombination of e C IV including non resonant and resonant recombination processes radiative and dielectronic recombination RR and DR . Detailed comparison of the theoretical unified results with two recent experiments on ion storage rings Mannervik etal. # and Schippers etal. # shows very good agreement in]]] the entire measured energy region #s #p with #pnl resonances. The results benchmark theory and experiments to uncertainties of ## and show that the resonant and the background cross sections are not an incoherent sum of separate RR and DR contributions. The limiting values of the DR cross sections as n infinity are shown to correspond to those due to electron impact excitation EIE at the #Po # # # # fine structure thresholds delineated for the first time. The near threshold #s #S # # #p #Po # # # # EIE cross sections are also compared with recent experimental measurements. The demonstrated threshold fine structure and resonance effects should be of general importance in excitation and recombination of positive ions.\n",
      "\n",
      "New abstract: We study modulation spectroscopy of the potassium D# transitions at ### nm. Polarization spectroscopy is performed and a comparison is made between the use of a high finesse infrared cavity reduces their transverse kinetic energy by more than a factor of ## while a high selectivity in velocity was preserved. With this method more than ## of CO molecules pointing in the same direction. This is achieved through an all optical scheme operating at high particle densities ## ## cm # s. We also study heteronuclear elastic collision processes and give upper bounds for heteronuclear thermal relaxation cross sections. This work significantly extends the limited available experimental data on heteronuclear ionizing collisions for laser cooled atoms involving one or more rare gas atoms in a metastable atomic state and that this state is coupled by a second laser pulse driving a resonant two photon transition. After analyzing the transition matrix elements governing the stabilization step we discuss the efficiency of population transfer using transform limited and linearly chirped laser pulses. Finally we employ optimal control theory to find the most efficient stabilization pathways. We find that the model potential approach provide results as good as or even slightly better than those by the frozen\n",
      "\n",
      "Existing abstract: We discuss the production of ultracold molecules in their electronic ground state by photoassociation employing electronically excited states with ion pair character and strong spin orbit interaction. A short photoassociation laser pulse drives a non resonant three photon transition for alkali atoms colliding in their lowest triplet state. The excited state wave packet is transferred to the ground electronic state [[[by a second laser pulse driving a resonant two photon transition. After analyzing the transition matrix elements governing the stabilization step we discuss the efficiency of population transfer using transform limited and linearly chirped laser pulses. Finally we employ optimal control theory to find the most efficient stabilization pathways. We find that the]]] stabilization efficiency can be increased by one and two orders of magnitude for linearly chirped and optimally shaped laser pulses respectively.\n",
      "\n",
      "New abstract: We present a theoretical model that divided an intense laser beam into concentric regions each with a Rabi frequency that corresponds to the intensity in that region and solved a set of coupled optical Bloch equations for a simplified Lambda type three level atom introduces a sisyphus cooling mechanism yielding lower temperatures below the Doppler limits associated with each of these transitions are investigated. Transitions to higher bands can also be induced as well as between transverse states for tilted Raman beams. All these features allow for a precise characterization of the optical potential obtained by injecting a distributed feedback erbium doped fiber laser that spans more than ### terahertz of bandwidth from ### nm to #.# mu m and # mu m. An electrostatic force caused by potential patches on the plates surfaces is included in the analysis. The experimental results are in good agreement with those computed by Garstang for the #d # transitions.\n",
      "\n",
      "Existing abstract: We have shown that it is possible to model accurately optical phenomena in intense laser fields by taking into account the intensity distribution over the laser beam. We developed [[[a theoretical model that divided an intense laser beam into concentric regions each with a Rabi frequency that corresponds to the intensity in that region and solved a set of coupled optical Bloch equations for]]] the density matrix in each region. Experimentally obtained magneto optical resonance curves for the F g # longrightarrow F e # transition of the D # line of ## Rb agreed very well with the theoretical model up to a laser intensity of around ### mW cm # for a transition whose saturation intensity is around #.# mW cm # . We have studied the spatial dependence of the fluorescence intensity in an intense laser beam experimentally and theoretically. An experiment was conducted whereby a broad intense pump laser excited the F g # longrightarrow F e # transition of the D # line of cesium while a weak narrow probe beam scanned the atoms within the pump beam and excited the D # line of cesium whose fluorescence was recorded as a function of probe beam position. Experimentally obtained spatial profiles of the fluorescence intensity agreed qualitatively with the predictions of the model.\n",
      "\n",
      "New abstract: We discuss a method based on nonlinear magneto optical rotation NMOR for the D# line in the weak probe regime for temperatures up to ## circ C.\n",
      "\n",
      "Existing abstract: Here we report on measurements of the absolute absorption spectra of dense rubidium vapour on [[[the D# line in the weak probe regime for temperatures up to ##]]]# C and number densities up to # times ## ## cm #. In such vapours modifications to the homogeneous linewidth of optical transitions arise due to dipole dipole interactions between identical atoms in superpositions of the ground and excited states. Absolute absorption spectra were recorded with deviation of #.# between experiment and a theory incorporating resonant dipole dipole interactions. The manifestation of dipole dipole interactions is a self broadening contribution to the homogeneous linewidth which grows linearly with number density of atoms. Analysis of the absolute absorption spectra allow us to ascertain the value of the self broadening coefficient for the rubidium D# line beta # pi #.## pm #.## times ## # Hz cm # in excellent agreement with the theoretical prediction.\n",
      "\n"
     ]
    },
    {
     "data": {
      "text/plain": [
       "<__main__.AbstractWriter instance at 0x109f08560>"
      ]
     },
     "execution_count": 7,
     "metadata": {},
     "output_type": "execute_result"
    }
   ],
   "source": [
    "WriteAbstract(5)"
   ]
  },
  {
   "cell_type": "code",
   "execution_count": 8,
   "metadata": {
    "collapsed": false
   },
   "outputs": [
    {
     "name": "stdout",
     "output_type": "stream",
     "text": [
      "New abstract: The recently developed notion of parity time PT symmetry in optical systems with a controlled gain loss interplay has spawned an intriguing way of achieving optical behaviors that are presently unattainable with standard arrangements. In most experimental studies so far however the implementations rely highly on the advances of nanotechnologies and sophisticated fabrication techniques to synthesize solid state materials. Here we report the first spectroscopic observation of the resonant dipole dipole interaction between two Rydberg atoms depends on the relative orientation of the atoms and on the change in the magnetic quantum number. We simulate the effect of this anisotropy on the energy transport in an amorphous many atom system subject to a homogeneous applied electric field. We consider two experimentally feasible geometries and find that the effects should be measurable in current generation imaging experiments. In both geometries atoms of p character are localized to a small region of space which is immersed in a larger region that is filled with atoms of s character. Energy transfer due to the dipole dipole interaction reveals explicit manifestation of strong localization under some conditions.\n",
      "\n",
      "Existing abstract: The [[[dipole dipole interaction between two Rydberg atoms depends on the relative orientation of the atoms and on the change in the magnetic quantum number. We simulate the effect of this anisotropy on the energy transport in an amorphous many atom system subject to a homogeneous applied electric field. We consider two experimentally feasible geometries and find that the effects should be measurable in current generation imaging experiments. In both geometries atoms of p character are localized to a small region of space which is immersed in a larger region that is filled with atoms of s character. Energy transfer due to the dipole dipole interaction]]] can lead to a spread of p character into the region initially occupied by s atoms. Over long timescales the energy transport is confined to the volume near the border of the p region which is suggestive of Anderson localization. We calculate a correlation length of #.# mu m for one particular geometry.\n",
      "\n",
      "New abstract: A qubit can be used as a signature of Rydberg blockade without the need to measure the exact number of Rydberg atoms.\n",
      "\n",
      "Existing abstract: We show that Jaynes Cummings dynamics can be observed in mesoscopic atomic ensembles interacting with a classical electromagnetic field in the regime of Rydberg blockade where the time dynamics of the average number of Rydberg excitations in mesoscopic ensembles displays collapses and revivals typical of this model. As the frequency of Rabi oscillations between collective states of Rydberg blockaded ensembles depends on the number of interacting atoms for randomly loaded optical dipole traps we predict collapses and revivals of Rabi oscillations. We have studied the effects of finite interaction strengths and finite laser line width on the visibility of the revivals. We have shown that observation of collapses and revivals of Rabi oscillations [[[can be used as a signature of Rydberg blockade without the need to measure the exact number of Rydberg]]] atoms.\n",
      "\n",
      "New abstract: We present a detailed description on how to build a Thin WIre electroStatic Trap TWIST for ultracold polar molecules. It is the first design of an electrostatic trap that can be superimposed directly onto a magneto optical trap MOT as an optical lattice. Fluorescence spectra of atoms trapped in a MOT with a most probable longitudinal velocity of ## m s shows an improvement of two orders of magnitude in accuracy and roughness respectively. The techniques described in this paper outline a path to creating arbitrary holographic atom traps in which the only remaining hurdle is physical implementation.\n",
      "\n",
      "Existing abstract: [[[We present a detailed description on how to build a Thin WIre electroStatic Trap TWIST for ultracold polar molecules. It is the first design of an electrostatic trap that can be superimposed directly onto a magneto optical trap MOT]]] . We can thus continuously produce ultracold polar molecules via photoassociation from a two species MOT and instantaneously trap them in the TWIST without the need for complex transfer schemes. Despite the spatial overlap of the TWIST and the MOT the two traps can be operated and optimized completely independently due to the complementary nature of the utilized trapping mechanisms.\n",
      "\n",
      "New abstract: Precursors can serve as a bound on the speed of information with dispersive medium. We propose a method to generate a source of spin polarized cold atoms which are continuously extracted and guided from a magneto optical trap using an atom diode effect. We show that it is possible to reduce considerably this inaccuracy with a better control of experimental parameters or with particular interferometer configurations.\n",
      "\n",
      "Existing abstract: [[[We propose a method to generate a source of spin polarized cold atoms which are continuously extracted and guided from a magneto optical trap using an atom diode effect. We show that it is possible to]]] create a pipe like potential by overlapping two optical beams coupled with the two transitions of a three level system in a ladder configuration. With alkali metal atoms and in particular with ## Rb a proper choice of transitions enables both the potential generation and optical pumping thus polarizing the sample in a given Zeeman state. We extend the Dalibard and Cohen Tannoudji dressed atom model of radiative forces to the case of a three level system. We derive expressions for the average force and the different sources of momentum diffusion in the resonant non perturbative regime. We show using numerical simulations that a significant fraction of the atoms initially loaded can be guided over several centimeters with output velocities of a few meters per second. This would produce a collimated continuous source of slow spin polarized atoms suitable for atom interferometry.\n",
      "\n",
      "New abstract: Despite being a canonical example of quantum mechanical perturbation theory as well as one of the earliest observed spectroscopic shifts the Stark effect contributes the largest source of uncertainty in the new generation of optical frequency standards. Accurate polarizabilities for the group I and II atoms and ions of the periodic table have recently become available by a variety of techniques. These include refined many body perturbation theory and the coupled cluster method in the framework of the Bose Hubbard model. Near the superfluid Mott transition the vortex core has a tendency toward the Mott insulating phase with the core particle density approaching the nearest commensurate value. If the nearest neighbor repulsion exists the charge density wave order may develop locally in the core. The evolution of the vortex configuration from the strong to weak coupling regions is studied. This phenomenon can be observed in systems of rotating ultra cold atoms in optical lattices or coupled photonic structures. Recently it was predicted that several solid state quantum localisation phenomena Anderson localisation Bloch oscillations and Tamm Shockley surface states may manifest themselves in the rotational dynamics of laser kicked molecules. Here we report the first detailed measurements of such states in an electron antiproton plasma and\n",
      "\n",
      "Existing abstract: The single vortex problem in a strongly correlated bosonic system is investigated self consistently within the mean field theory [[[of the Bose Hubbard model. Near the superfluid Mott transition the vortex core has a tendency toward the Mott insulating phase with the core particle density approaching the nearest commensurate value. If the nearest neighbor repulsion exists the charge density wave order may develop locally in the core. The evolution of the vortex configuration from the strong to weak coupling regions is studied. This phenomenon can be observed in systems of rotating ultra cold atoms in optical lattices]]] and Josephson junction arrays\n",
      "\n"
     ]
    },
    {
     "data": {
      "text/plain": [
       "<__main__.AbstractWriter instance at 0x109b8d290>"
      ]
     },
     "execution_count": 8,
     "metadata": {},
     "output_type": "execute_result"
    }
   ],
   "source": [
    "WriteAbstract(6)"
   ]
  },
  {
   "cell_type": "code",
   "execution_count": null,
   "metadata": {
    "collapsed": true
   },
   "outputs": [],
   "source": []
  }
 ],
 "metadata": {
  "kernelspec": {
   "display_name": "Python 2",
   "language": "python",
   "name": "python2"
  },
  "language_info": {
   "codemirror_mode": {
    "name": "ipython",
    "version": 2
   },
   "file_extension": ".py",
   "mimetype": "text/x-python",
   "name": "python",
   "nbconvert_exporter": "python",
   "pygments_lexer": "ipython2",
   "version": "2.7.11"
  }
 },
 "nbformat": 4,
 "nbformat_minor": 0
}
