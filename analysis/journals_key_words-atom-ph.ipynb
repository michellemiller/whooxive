{
 "cells": [
  {
   "cell_type": "markdown",
   "metadata": {},
   "source": [
    "Find articles that made it to certain journals and compare key words. This time we'll only look at articles in the physics.atom-ph section."
   ]
  },
  {
   "cell_type": "code",
   "execution_count": 1,
   "metadata": {
    "collapsed": false
   },
   "outputs": [],
   "source": [
    "#Need to add parent directoy to sys.path to find 'metadataDB'\n",
    "import sys\n",
    "sys.path.append('../')\n",
    "\n",
    "%matplotlib inline\n",
    "import matplotlib.pyplot as plt \n",
    "import time\n",
    "import numpy as np\n",
    "\n",
    "# Natural language processing toolkit\n",
    "# To use this, run nltk.download() and download 'stopwords'\n",
    "from nltk.corpus import stopwords\n",
    "s=stopwords.words('english') + ['']\n",
    "\n",
    "# SQL\n",
    "from sqlalchemy import create_engine\n",
    "from sqlalchemy.orm import sessionmaker\n",
    "from metadataDB.declareDatabase import *\n",
    "from sqlalchemy import or_, and_\n",
    "\n",
    "engine = create_engine(\"sqlite:///../arXiv_metadata.db\", echo=False)\n",
    "Base.metadata.bind = engine\n",
    "DBsession = sessionmaker(bind=engine)\n",
    "session = DBsession()"
   ]
  },
  {
   "cell_type": "code",
   "execution_count": 2,
   "metadata": {
    "collapsed": false
   },
   "outputs": [],
   "source": [
    "query = session.query(Article_Category)\\\n",
    "                    .join(Category)\\\n",
    "                    .join(Article)\\\n",
    "                    .filter(Category.name.like('%atom-ph'),\n",
    "                            or_(Article.journal_ref.like('Physics Review Letters%'),\n",
    "                                Article.journal_ref.like('Phys. Rev. Lett.%'),\n",
    "                                Article.journal_ref.like('PRL%')))\n",
    "resultPRL = query.all()"
   ]
  },
  {
   "cell_type": "code",
   "execution_count": 3,
   "metadata": {
    "collapsed": false
   },
   "outputs": [],
   "source": [
    "#for item in resultPRL:\n",
    "#    print \"%s - %s\" % (item.article.journal_ref, item.category.name)"
   ]
  },
  {
   "cell_type": "code",
   "execution_count": 4,
   "metadata": {
    "collapsed": false
   },
   "outputs": [],
   "source": [
    "query = session.query(Article_Category)\\\n",
    "                    .join(Category)\\\n",
    "                    .join(Article)\\\n",
    "                    .filter(Category.name.like('%atom-ph'),\n",
    "                            or_(Article.journal_ref.like('Nature%'),\n",
    "                                Article.journal_ref.like('Nat.%'),\n",
    "                                Article.journal_ref.like('Science%')))\n",
    "# query = session.query(Article).filter(Article.journal_ref.like('PRL%'))\n",
    "resultNatureScience = query.all()"
   ]
  },
  {
   "cell_type": "code",
   "execution_count": 5,
   "metadata": {
    "collapsed": false
   },
   "outputs": [],
   "source": [
    "# for item in resultNatureScience:\n",
    "#    print \"%s - %s\" % (item.article.journal_ref, item.category.name)"
   ]
  },
  {
   "cell_type": "code",
   "execution_count": 6,
   "metadata": {
    "collapsed": false
   },
   "outputs": [
    {
     "data": {
      "text/plain": [
       "<metadataDB.declareDatabase.Article_Category at 0x109d34e10>"
      ]
     },
     "execution_count": 6,
     "metadata": {},
     "output_type": "execute_result"
    }
   ],
   "source": [
    "resultPRL[0]"
   ]
  },
  {
   "cell_type": "code",
   "execution_count": 7,
   "metadata": {
    "collapsed": false
   },
   "outputs": [
    {
     "name": "stdout",
     "output_type": "stream",
     "text": [
      "0.036420 sec., 467 articles, 404 words\n",
      "12823 articles per second\n",
      "11093 words per second\n"
     ]
    }
   ],
   "source": [
    "abstract = dict()\n",
    "abstractPRL = dict()\n",
    "title = dict()\n",
    "titlePRL = dict()\n",
    "\n",
    "numWords = 0\n",
    "numArticles = len(resultPRL)\n",
    "\n",
    "start = time.time()\n",
    "for item in resultPRL[0:10]:\n",
    "#     print item.abstract\n",
    "    for word in set((item.article.abstract).replace('\\n',' ') \\\n",
    "                                           .replace('\\\\','') \\\n",
    "                                           .replace('(','') \\\n",
    "                                           .replace(')','') \\\n",
    "                                           .split(' ')):\n",
    "        if (word.lower() not in s) and (word.isalpha()):\n",
    "#             if word in abstractPRL.keys():\n",
    "#                 abstractPRL[word] += 1\n",
    "#             else:\n",
    "#                 abstractPRL[word] =1\n",
    "            if word in abstract.keys():\n",
    "                abstract[word] -= 1./numArticles\n",
    "            else:\n",
    "                abstract[word] = -1./numArticles\n",
    "            numWords += 1\n",
    "            \n",
    "    for word in set((item.article.title).replace('\\n',' ') \\\n",
    "                                        .replace('\\\\','') \\\n",
    "                                        .replace('(','') \\\n",
    "                                        .replace(')','') \\\n",
    "                                        .split(' ')):\n",
    "        if (word.lower() not in s) and (word.isalpha()):\n",
    "#             if word in titlePRL.keys():\n",
    "#                 titlePRL[word] += 1\n",
    "#             else:\n",
    "#                 titlePRL[word] =1\n",
    "            if word in title.keys():\n",
    "                title[word] -= 1./numArticles\n",
    "            else:\n",
    "                title[word] = -1./numArticles\n",
    "            numWords += 1\n",
    "\n",
    "total_time = time.time() - start\n",
    "print \"%f sec., %i articles, %i words\" % (total_time, numArticles, numWords)\n",
    "print \"%0.0f articles per second\" % (numArticles/total_time)\n",
    "print \"%0.0f words per second\" % (numWords/total_time)"
   ]
  },
  {
   "cell_type": "code",
   "execution_count": 8,
   "metadata": {
    "collapsed": false
   },
   "outputs": [
    {
     "name": "stdout",
     "output_type": "stream",
     "text": [
      "0.026638 sec., 106 articles, 1153 words\n",
      "3979 articles per second\n",
      "43284 words per second\n"
     ]
    }
   ],
   "source": [
    "abstractNature = dict()\n",
    "titleNature = dict()\n",
    "\n",
    "numWords = 0\n",
    "numArticles = len(resultNatureScience)\n",
    "\n",
    "start = time.time()\n",
    "for item in resultNatureScience[0:10]:\n",
    "#     print item.abstract\n",
    "    for word in set((item.article.abstract).replace('\\n',' ') \\\n",
    "                                           .replace('\\\\','') \\\n",
    "                                           .replace('(','') \\\n",
    "                                           .replace(')','') \\\n",
    "                                           .split(' ')):\n",
    "        if (word.lower() not in s) and (word.isalpha()):\n",
    "#             if word in abstractNature.keys():\n",
    "#                 abstractNature[word] += 1\n",
    "#             else:\n",
    "#                 abstractNature[word] =1\n",
    "            if word in abstract.keys():\n",
    "                abstract[word] += 1./numArticles\n",
    "            else:\n",
    "                abstract[word] = 1./numArticles\n",
    "        numWords += 1\n",
    "\n",
    "    for word in set((item.article.title).replace('\\n',' ') \\\n",
    "                                        .replace('\\\\','') \\\n",
    "                                        .replace('(','') \\\n",
    "                                        .replace(')','') \\\n",
    "                                        .split(' ')):\n",
    "        if (word.lower() not in s) and (word.isalpha()):\n",
    "#             if word in titleNature.keys():\n",
    "#                 titleNature[word] += 1\n",
    "#             else:\n",
    "#                 titleNature[word] =1\n",
    "            if word in title.keys():\n",
    "                title[word] += 1./numArticles\n",
    "            else:\n",
    "                title[word] = 1./numArticles\n",
    "        numWords += 1\n",
    "\n",
    "total_time = time.time() - start\n",
    "print \"%f sec., %i articles, %i words\" % (total_time, numArticles, numWords)\n",
    "print \"%0.0f articles per second\" % (numArticles/total_time)\n",
    "print \"%0.0f words per second\" % (numWords/total_time)"
   ]
  },
  {
   "cell_type": "code",
   "execution_count": 9,
   "metadata": {
    "collapsed": true
   },
   "outputs": [],
   "source": [
    "session.close_all()"
   ]
  },
  {
   "cell_type": "code",
   "execution_count": 10,
   "metadata": {
    "collapsed": false
   },
   "outputs": [],
   "source": [
    "# Want to sort dictionary by values. Convert it to a list of tuples so we can use python's sort functions\n",
    "abstract_wordlist = sorted([(key, val) for key, val in abstract.iteritems()], key=lambda x: x[1])\n",
    "title_wordlist = sorted([(key, val) for key, val in title.iteritems()], key=lambda x: x[1])"
   ]
  },
  {
   "cell_type": "code",
   "execution_count": 11,
   "metadata": {
    "collapsed": false
   },
   "outputs": [
    {
     "name": "stdout",
     "output_type": "stream",
     "text": [
      "[(u'via', -0.006423982869379015), (u'problem', -0.006423982869379015), (u'case', -0.004282655246252677), (u'linear', -0.004282655246252677), (u'degenerate', -0.004282655246252677), (u'arise', -0.004282655246252677), (u'parameter', -0.004282655246252677), (u'repulsive', -0.004282655246252677), (u'association', -0.004282655246252677), (u'always', -0.004282655246252677), (u'ultracold', 0.03559452143347743), (u'frequency', 0.03559452143347743), (u'effects', 0.03773584905660377), (u'observation', 0.03773584905660377), (u'precision', 0.03773584905660377), (u'demonstrate', 0.03773584905660377), (u'quantum', 0.04288715607450203), (u'optical', 0.052321118338652974), (u'also', 0.056603773584905655), (u'atoms', 0.05747242535655124)]\n"
     ]
    }
   ],
   "source": [
    "abstract_best_and_worst = abstract_wordlist[0:10] + abstract_wordlist[-11:-1]\n",
    "print abstract_best_and_worst"
   ]
  },
  {
   "cell_type": "code",
   "execution_count": 12,
   "metadata": {
    "collapsed": false
   },
   "outputs": [
    {
     "name": "stdout",
     "output_type": "stream",
     "text": [
      "[(u'cold', -0.004282655246252677), (u'scattering', -0.004282655246252677), (u'gases', -0.004282655246252677), (u'fermion', -0.004282655246252677), (u'Lattice', -0.0021413276231263384), (u'Molecular', -0.0021413276231263384), (u'production', -0.0021413276231263384), (u'fermionic', -0.0021413276231263384), (u'electron', -0.0021413276231263384), (u'confined', -0.0021413276231263384), (u'Atoms', 0.009433962264150943), (u'Directed', 0.009433962264150943), (u'effect', 0.009433962264150943), (u'remote', 0.009433962264150943), (u'spectra', 0.009433962264150943), (u'deeply', 0.009433962264150943), (u'Quantum', 0.014585269282049208), (u'optical', 0.01672659690517555), (u'Ultracold', 0.018867924528301886), (u'quantum', 0.018867924528301886)]\n"
     ]
    }
   ],
   "source": [
    "title_best_and_worst = title_wordlist[0:10] + title_wordlist[-11:-1]\n",
    "print title_best_and_worst"
   ]
  },
  {
   "cell_type": "code",
   "execution_count": 13,
   "metadata": {
    "collapsed": false
   },
   "outputs": [
    {
     "data": {
      "image/png": "[encoded data removed]",
      "text/plain": [
       "<matplotlib.figure.Figure at 0x109f76790>"
      ]
     },
     "metadata": {},
     "output_type": "display_data"
    }
   ],
   "source": [
    "words = [x for (x,y) in abstract_best_and_worst]\n",
    "vals = np.array([y for (x,y) in abstract_best_and_worst])\n",
    "\n",
    "\n",
    "ind = np.arange(0, len(words))\n",
    "c = ['b' if x > 0 else 'r' for x in vals]\n",
    "\n",
    "plt.figure(frameon=False, figsize=(6,8))\n",
    "plt.barh(ind - 0.5,\n",
    "         vals,\n",
    "         color=c)\n",
    "plt.yticks(ind, words)\n",
    "plt.ylim(ind[0]-1, ind[-1]+1)\n",
    "plt.xlim(-1.1*np.max(np.abs(vals)), 1.1*np.max(np.abs(vals)))\n",
    "plt.title('Abstracts')\n",
    "plt.xlabel('PRL$\\qquad\\qquad\\qquad\\qquad$Nature/Science')\n",
    "plt.gca().spines['top'].set_visible(False)\n",
    "plt.gca().spines['right'].set_visible(False)\n",
    "plt.gca().spines['left'].set_visible(False)\n",
    "plt.gca().xaxis.set_ticks_position('bottom')\n",
    "plt.gca().yaxis.set_ticks_position('none')"
   ]
  },
  {
   "cell_type": "code",
   "execution_count": 14,
   "metadata": {
    "collapsed": false
   },
   "outputs": [
    {
     "data": {
      "image/png": "[encoded data removed]",
      "text/plain": [
       "<matplotlib.figure.Figure at 0x10a05bd10>"
      ]
     },
     "metadata": {},
     "output_type": "display_data"
    }
   ],
   "source": [
    "words = [x for (x,y) in title_best_and_worst]\n",
    "vals = np.array([y for (x,y) in title_best_and_worst])\n",
    "\n",
    "\n",
    "ind = np.arange(0, len(words))\n",
    "c = ['b' if x > 0 else 'r' for x in vals]\n",
    "\n",
    "plt.figure(frameon=False, figsize=(6,8))\n",
    "plt.barh(ind - 0.5,\n",
    "         vals,\n",
    "         color=c)\n",
    "plt.yticks(ind, words)\n",
    "plt.ylim(ind[0]-1, ind[-1]+1)\n",
    "plt.xlim(-1.1*np.max(np.abs(vals)), 1.1*np.max(np.abs(vals)))\n",
    "plt.title('Titles')\n",
    "plt.xlabel('PRL$\\qquad\\qquad\\qquad\\qquad$Nature/Science')\n",
    "plt.gca().spines['top'].set_visible(False)\n",
    "plt.gca().spines['right'].set_visible(False)\n",
    "plt.gca().spines['left'].set_visible(False)\n",
    "plt.gca().xaxis.set_ticks_position('bottom')\n",
    "plt.gca().yaxis.set_ticks_position('none')"
   ]
  },
  {
   "cell_type": "markdown",
   "metadata": {
    "collapsed": true
   },
   "source": [
    "The above plots are fun but they are descriptive, not predictive. Given words in the abstract or title, can I predict where an article will end up?"
   ]
  },
  {
   "cell_type": "code",
   "execution_count": 15,
   "metadata": {
    "collapsed": false
   },
   "outputs": [
    {
     "ename": "DetachedInstanceError",
     "evalue": "Parent instance <Article_Category at 0x109f0e790> is not bound to a Session; lazy load operation of attribute 'category' cannot proceed",
     "output_type": "error",
     "traceback": [
      "\u001b[0;31m---------------------------------------------------------------------------\u001b[0m",
      "\u001b[0;31mDetachedInstanceError\u001b[0m                     Traceback (most recent call last)",
      "\u001b[0;32m<ipython-input-15-3429b96f4cc1>\u001b[0m in \u001b[0;36m<module>\u001b[0;34m()\u001b[0m\n\u001b[1;32m      1\u001b[0m \u001b[0;32mfor\u001b[0m \u001b[0mitem\u001b[0m \u001b[0;32min\u001b[0m \u001b[0mresultNatureScience\u001b[0m\u001b[0;34m:\u001b[0m\u001b[0;34m\u001b[0m\u001b[0m\n\u001b[0;32m----> 2\u001b[0;31m     \u001b[0;32mprint\u001b[0m \u001b[0;34m\"%s - %s\"\u001b[0m \u001b[0;34m%\u001b[0m \u001b[0;34m(\u001b[0m\u001b[0mitem\u001b[0m\u001b[0;34m.\u001b[0m\u001b[0marticle\u001b[0m\u001b[0;34m.\u001b[0m\u001b[0mjournal_ref\u001b[0m\u001b[0;34m,\u001b[0m \u001b[0mitem\u001b[0m\u001b[0;34m.\u001b[0m\u001b[0mcategory\u001b[0m\u001b[0;34m.\u001b[0m\u001b[0mname\u001b[0m\u001b[0;34m)\u001b[0m\u001b[0;34m\u001b[0m\u001b[0m\n\u001b[0m",
      "\u001b[0;32m/Users/emarti/anaconda/lib/python2.7/site-packages/sqlalchemy/orm/attributes.pyc\u001b[0m in \u001b[0;36m__get__\u001b[0;34m(self, instance, owner)\u001b[0m\n\u001b[1;32m    237\u001b[0m             \u001b[0;32mreturn\u001b[0m \u001b[0mdict_\u001b[0m\u001b[0;34m[\u001b[0m\u001b[0mself\u001b[0m\u001b[0;34m.\u001b[0m\u001b[0mkey\u001b[0m\u001b[0;34m]\u001b[0m\u001b[0;34m\u001b[0m\u001b[0m\n\u001b[1;32m    238\u001b[0m         \u001b[0;32melse\u001b[0m\u001b[0;34m:\u001b[0m\u001b[0;34m\u001b[0m\u001b[0m\n\u001b[0;32m--> 239\u001b[0;31m             \u001b[0;32mreturn\u001b[0m \u001b[0mself\u001b[0m\u001b[0;34m.\u001b[0m\u001b[0mimpl\u001b[0m\u001b[0;34m.\u001b[0m\u001b[0mget\u001b[0m\u001b[0;34m(\u001b[0m\u001b[0minstance_state\u001b[0m\u001b[0;34m(\u001b[0m\u001b[0minstance\u001b[0m\u001b[0;34m)\u001b[0m\u001b[0;34m,\u001b[0m \u001b[0mdict_\u001b[0m\u001b[0;34m)\u001b[0m\u001b[0;34m\u001b[0m\u001b[0m\n\u001b[0m\u001b[1;32m    240\u001b[0m \u001b[0;34m\u001b[0m\u001b[0m\n\u001b[1;32m    241\u001b[0m \u001b[0;34m\u001b[0m\u001b[0m\n",
      "\u001b[0;32m/Users/emarti/anaconda/lib/python2.7/site-packages/sqlalchemy/orm/attributes.pyc\u001b[0m in \u001b[0;36mget\u001b[0;34m(self, state, dict_, passive)\u001b[0m\n\u001b[1;32m    589\u001b[0m                     \u001b[0mvalue\u001b[0m \u001b[0;34m=\u001b[0m \u001b[0mcallable_\u001b[0m\u001b[0;34m(\u001b[0m\u001b[0mstate\u001b[0m\u001b[0;34m,\u001b[0m \u001b[0mpassive\u001b[0m\u001b[0;34m)\u001b[0m\u001b[0;34m\u001b[0m\u001b[0m\n\u001b[1;32m    590\u001b[0m                 \u001b[0;32melif\u001b[0m \u001b[0mself\u001b[0m\u001b[0;34m.\u001b[0m\u001b[0mcallable_\u001b[0m\u001b[0;34m:\u001b[0m\u001b[0;34m\u001b[0m\u001b[0m\n\u001b[0;32m--> 591\u001b[0;31m                     \u001b[0mvalue\u001b[0m \u001b[0;34m=\u001b[0m \u001b[0mself\u001b[0m\u001b[0;34m.\u001b[0m\u001b[0mcallable_\u001b[0m\u001b[0;34m(\u001b[0m\u001b[0mstate\u001b[0m\u001b[0;34m,\u001b[0m \u001b[0mpassive\u001b[0m\u001b[0;34m)\u001b[0m\u001b[0;34m\u001b[0m\u001b[0m\n\u001b[0m\u001b[1;32m    592\u001b[0m                 \u001b[0;32melse\u001b[0m\u001b[0;34m:\u001b[0m\u001b[0;34m\u001b[0m\u001b[0m\n\u001b[1;32m    593\u001b[0m                     \u001b[0mvalue\u001b[0m \u001b[0;34m=\u001b[0m \u001b[0mATTR_EMPTY\u001b[0m\u001b[0;34m\u001b[0m\u001b[0m\n",
      "\u001b[0;32m/Users/emarti/anaconda/lib/python2.7/site-packages/sqlalchemy/orm/strategies.pyc\u001b[0m in \u001b[0;36m_load_for_state\u001b[0;34m(self, state, passive)\u001b[0m\n\u001b[1;32m    506\u001b[0m                 \u001b[0;34m\"Parent instance %s is not bound to a Session; \"\u001b[0m\u001b[0;34m\u001b[0m\u001b[0m\n\u001b[1;32m    507\u001b[0m                 \u001b[0;34m\"lazy load operation of attribute '%s' cannot proceed\"\u001b[0m \u001b[0;34m%\u001b[0m\u001b[0;34m\u001b[0m\u001b[0m\n\u001b[0;32m--> 508\u001b[0;31m                 \u001b[0;34m(\u001b[0m\u001b[0morm_util\u001b[0m\u001b[0;34m.\u001b[0m\u001b[0mstate_str\u001b[0m\u001b[0;34m(\u001b[0m\u001b[0mstate\u001b[0m\u001b[0;34m)\u001b[0m\u001b[0;34m,\u001b[0m \u001b[0mself\u001b[0m\u001b[0;34m.\u001b[0m\u001b[0mkey\u001b[0m\u001b[0;34m)\u001b[0m\u001b[0;34m\u001b[0m\u001b[0m\n\u001b[0m\u001b[1;32m    509\u001b[0m             )\n\u001b[1;32m    510\u001b[0m \u001b[0;34m\u001b[0m\u001b[0m\n",
      "\u001b[0;31mDetachedInstanceError\u001b[0m: Parent instance <Article_Category at 0x109f0e790> is not bound to a Session; lazy load operation of attribute 'category' cannot proceed"
     ]
    }
   ],
   "source": [
    "for item in resultNatureScience:\n",
    "    print \"%s - %s\" % (item.article.journal_ref, item.category.name) "
   ]
  },
  {
   "cell_type": "code",
   "execution_count": null,
   "metadata": {
    "collapsed": true
   },
   "outputs": [],
   "source": []
  }
 ],
 "metadata": {
  "kernelspec": {
   "display_name": "Python 2",
   "language": "python",
   "name": "python2"
  },
  "language_info": {
   "codemirror_mode": {
    "name": "ipython",
    "version": 2
   },
   "file_extension": ".py",
   "mimetype": "text/x-python",
   "name": "python",
   "nbconvert_exporter": "python",
   "pygments_lexer": "ipython2",
   "version": "2.7.11"
  }
 },
 "nbformat": 4,
 "nbformat_minor": 0
}
