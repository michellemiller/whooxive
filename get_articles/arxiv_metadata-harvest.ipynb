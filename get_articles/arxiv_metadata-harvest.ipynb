{
 "cells": [
  {
   "cell_type": "code",
   "execution_count": 1,
   "metadata": {
    "collapsed": false
   },
   "outputs": [],
   "source": [
    "%matplotlib inline\n",
    "#Need to add parent directoy to sys.path to find 'metadataDB'\n",
    "import sys\n",
    "sys.path.append('../')\n",
    "\n",
    "\n",
    "from datetime import date\n",
    "import metadataDB.addArticle\n",
    "import metadataDB.getMetadata\n",
    "import metadataDB.harvest\n",
    "import time"
   ]
  },
  {
   "cell_type": "markdown",
   "metadata": {},
   "source": [
    "Run 'python declareDatabase.py' in /metadataDB the first time to create database file."
   ]
  },
  {
   "cell_type": "markdown",
   "metadata": {},
   "source": [
    "First OAI dates from 2007. Very dense in 2007-05, probably want to go by the day."
   ]
  },
  {
   "cell_type": "code",
   "execution_count": null,
   "metadata": {
    "collapsed": false,
    "scrolled": true
   },
   "outputs": [
    {
     "name": "stdout",
     "output_type": "stream",
     "text": [
      "(datetime.date(1990, 1, 1), datetime.date(2007, 5, 22))\n",
      "Added 0 articles\n",
      "0 articles added\n",
      "(datetime.date(2007, 5, 22), datetime.date(2007, 5, 23))\n",
      "HTTP Error 503: Retry after specified interval\n",
      "Added 0 articles\n",
      "xml is long... at 0 / 100108.\n",
      "HTTP Error 503: Retry after specified interval\n",
      "Added 0 articles\n",
      "xml is long... at 1000 / 100108.\n",
      "HTTP Error 503: Retry after specified interval"
     ]
    }
   ],
   "source": [
    "reload(metadataDB.harvest)\n",
    "reload(metadataDB.getMetadata)\n",
    "reload(metadataDB.addArticle)\n",
    "datelist = [date(1990,1,1)] + \\\n",
    "           [date(2007, 5, 22)] + \\\n",
    "           [date(2007, 5, 23)] + \\\n",
    "           [date(2007, x, 1) for x in range(6,13)] + \\\n",
    "           [date(x, 1, 1) for x in range(2008,2017)]\n",
    "#datelist = [date(x, 1, 1) for x in range(2007,2016)]\n",
    "#datelist = [date(x, y, 1) for x in range(2007,2016) for y in range(1,13,4)]\n",
    "# datelist = [ date(2009, 10, 1), date(2009, 11, 1) ] + datelist\n",
    "#datelist = [date(2007,6,1), date(2007,6,2)]\n",
    "for (fromdate, todate) in zip(datelist[0:-1], datelist[1:]):\n",
    "    print(fromdate, todate)\n",
    "    new = metadataDB.harvest.harvest(fromdate, todate)\n",
    "    try:\n",
    "        print \"%i articles added\" % new\n",
    "    except:\n",
    "        pass\n",
    "    #time.sleep(10)"
   ]
  },
  {
   "cell_type": "code",
   "execution_count": null,
   "metadata": {
    "collapsed": true
   },
   "outputs": [],
   "source": []
  }
 ],
 "metadata": {
  "kernelspec": {
   "display_name": "Python 2",
   "language": "python",
   "name": "python2"
  },
  "language_info": {
   "codemirror_mode": {
    "name": "ipython",
    "version": 2
   },
   "file_extension": ".py",
   "mimetype": "text/x-python",
   "name": "python",
   "nbconvert_exporter": "python",
   "pygments_lexer": "ipython2",
   "version": "2.7.11"
  }
 },
 "nbformat": 4,
 "nbformat_minor": 0
}
