{
 "cells": [
  {
   "cell_type": "markdown",
   "metadata": {},
   "source": [
    "Find articles that made it to certain journals and compare key words."
   ]
  },
  {
   "cell_type": "code",
   "execution_count": 11,
   "metadata": {
    "collapsed": false
   },
   "outputs": [],
   "source": [
    "#Need to add parent directoy to sys.path to find 'metadataDB'\n",
    "import sys\n",
    "sys.path.append('../')\n",
    "\n",
    "%matplotlib inline\n",
    "import matplotlib.pyplot as plt \n",
    "import time\n",
    "import numpy as np\n",
    "\n",
    "# Natural language processing toolkit\n",
    "# To use this, run nltk.download() and download 'stopwords'\n",
    "from nltk.corpus import stopwords\n",
    "s=stopwords.words('english') + ['', 'comment']\n",
    "\n",
    "# SQL\n",
    "from sqlalchemy import create_engine\n",
    "from sqlalchemy.orm import sessionmaker\n",
    "from metadataDB.declareDatabase import *\n",
    "from sqlalchemy import or_\n",
    "\n",
    "engine = create_engine(\"sqlite:///../arXiv_metadata.db\", echo=False)\n",
    "Base.metadata.bind = engine\n",
    "DBsession = sessionmaker(bind=engine)\n",
    "session = DBsession()"
   ]
  },
  {
   "cell_type": "code",
   "execution_count": 12,
   "metadata": {
    "collapsed": false
   },
   "outputs": [],
   "source": [
    "query = session.query(Article).filter(or_(Article.journal_ref.like('Physics Review Letters%'),\n",
    "                                          Article.journal_ref.like('Phys. Rev. Lett.%'),\n",
    "                                          Article.journal_ref.like('PRL%'),\n",
    "                                          ))\n",
    "# query = session.query(Article).filter(Article.journal_ref.like('PRL%'))\n",
    "resultPRL = query.all()"
   ]
  },
  {
   "cell_type": "code",
   "execution_count": 13,
   "metadata": {
    "collapsed": false
   },
   "outputs": [],
   "source": [
    "query = session.query(Article).filter(or_(Article.journal_ref.like('Nature%'),\n",
    "                                          Article.journal_ref.like('Nat.%'),\n",
    "                                          Article.journal_ref.like('Science%')))\n",
    "# query = session.query(Article).filter(Article.journal_ref.like('PRL%'))\n",
    "resultNatureScience = query.all()"
   ]
  },
  {
   "cell_type": "code",
   "execution_count": 14,
   "metadata": {
    "collapsed": false
   },
   "outputs": [
    {
     "name": "stdout",
     "output_type": "stream",
     "text": [
      "3.960158 sec., 3652 abstracts, 21562 words\n",
      "922 abstracts per second\n",
      "5445 words per second\n"
     ]
    }
   ],
   "source": [
    "title = dict()\n",
    "titlePRL = dict()\n",
    "\n",
    "numWords = 0\n",
    "numAbstracts = len(resultPRL)\n",
    "\n",
    "start = time.time()\n",
    "for item in resultPRL:\n",
    "#     print item.abstract\n",
    "    for word in set((item.title).replace('\\n',' ') \\\n",
    "                                   .replace('\\\\','') \\\n",
    "                                   .replace('(','') \\\n",
    "                                   .replace(')','') \\\n",
    "                                   .split(' ')):\n",
    "        if (word.lower() not in s) and (word.isalpha()):\n",
    "            if word in titlePRL.keys():\n",
    "                titlePRL[word] += 1\n",
    "            else:\n",
    "                titlePRL[word] =1\n",
    "            if word in title.keys():\n",
    "                title[word] -= 1./numAbstracts\n",
    "            else:\n",
    "                title[word] = -1./numAbstracts\n",
    "            numWords += 1\n",
    "\n",
    "total_time = time.time() - start\n",
    "print \"%f sec., %i abstracts, %i words\" % (total_time, numAbstracts, numWords)\n",
    "print \"%0.0f abstracts per second\" % (numAbstracts/total_time)\n",
    "print \"%0.0f words per second\" % (numWords/total_time)"
   ]
  },
  {
   "cell_type": "code",
   "execution_count": 15,
   "metadata": {
    "collapsed": false
   },
   "outputs": [
    {
     "name": "stdout",
     "output_type": "stream",
     "text": [
      "0.687578 sec., 630 abstracts, 5640 words\n",
      "916 abstracts per second\n",
      "8203 words per second\n"
     ]
    }
   ],
   "source": [
    "#abstractNature = dict()\n",
    "titleNature = dict()\n",
    "\n",
    "numWords = 0\n",
    "numAbstracts = len(resultNatureScience)\n",
    "\n",
    "start = time.time()\n",
    "for item in resultNatureScience:\n",
    "#     print item.abstract\n",
    "    for word in set((item.title).replace('\\n',' ') \\\n",
    "                                   .replace('\\\\','') \\\n",
    "                                   .replace('(','') \\\n",
    "                                   .replace(')','') \\\n",
    "                                   .split(' ')):\n",
    "        if (word.lower() not in s) and (word.isalpha()):\n",
    "            if word in titleNature.keys():\n",
    "                titleNature[word] += 1\n",
    "            else:\n",
    "                titleNature[word] =1\n",
    "            if word in title.keys():\n",
    "                title[word] += 1./numAbstracts\n",
    "            else:\n",
    "                title[word] = 1./numAbstracts\n",
    "        numWords += 1\n",
    "\n",
    "total_time = time.time() - start\n",
    "print \"%f sec., %i abstracts, %i words\" % (total_time, numAbstracts, numWords)\n",
    "print \"%0.0f abstracts per second\" % (numAbstracts/total_time)\n",
    "print \"%0.0f words per second\" % (numWords/total_time)"
   ]
  },
  {
   "cell_type": "code",
   "execution_count": 16,
   "metadata": {
    "collapsed": false
   },
   "outputs": [],
   "source": [
    "# Want to sort dictionary by values. Convert it to a list of tuples so we can use python's sort functions\n",
    "wordslist = sorted([(key, val) for key, val in title.iteritems()], key=lambda x: x[1])"
   ]
  },
  {
   "cell_type": "code",
   "execution_count": 17,
   "metadata": {
    "collapsed": false
   },
   "outputs": [
    {
     "name": "stdout",
     "output_type": "stream",
     "text": [
      "[(u'model', -0.020814861176307015), (u'States', -0.020044680888054403), (u'Hall', -0.017751525582850952), (u'systems', -0.016159877605660768), (u'transition', -0.015013299953059044), (u'spin', -0.014363080025730739), (u'Model', -0.014350040856064951), (u'Dynamics', -0.013310384394721746), (u'states', -0.013096542012204709), (u'Fermi', -0.010905961508371182), (u'High', 0.009630730715068066), (u'cavity', 0.01050783219457918), (u'Observation', 0.010721674577096269), (u'Galactic', 0.01111111111111111), (u'Galaxy', 0.01111111111111111), (u'Gas', 0.011710043637754483), (u'superconductor', 0.012146421182565764), (u'star', 0.012698412698412697), (u'Formation', 0.01329734522505607), (u'galaxies', 0.015873015873015872)]\n"
     ]
    }
   ],
   "source": [
    "words_best_and_worst = wordslist[0:10] + wordslist[-11:-1]\n",
    "print words_best_and_worst"
   ]
  },
  {
   "cell_type": "code",
   "execution_count": 18,
   "metadata": {
    "collapsed": false
   },
   "outputs": [
    {
     "data": {
      "image/png": "[encoded data removed]",
      "text/plain": [
       "<matplotlib.figure.Figure at 0x10a711ed0>"
      ]
     },
     "metadata": {},
     "output_type": "display_data"
    }
   ],
   "source": [
    "words = [x for (x,y) in words_best_and_worst]\n",
    "vals = np.array([y for (x,y) in words_best_and_worst])\n",
    "\n",
    "\n",
    "ind = np.arange(0, len(words))\n",
    "c = ['b' if x > 0 else 'r' for x in vals]\n",
    "\n",
    "plt.figure(frameon=False, figsize=(6,8))\n",
    "plt.barh(ind - 0.5,\n",
    "         vals,\n",
    "         color=c)\n",
    "plt.yticks(ind, words)\n",
    "plt.ylim(ind[0]-1, ind[-1]+1)\n",
    "plt.xlim(-1.1*np.max(np.abs(vals)), 1.1*np.max(np.abs(vals)))\n",
    "plt.xlabel('PRL$\\qquad\\qquad\\qquad$Nature/Science')\n",
    "plt.gca().spines['top'].set_visible(False)\n",
    "plt.gca().spines['right'].set_visible(False)\n",
    "plt.gca().spines['left'].set_visible(False)\n",
    "plt.gca().xaxis.set_ticks_position('bottom')\n",
    "plt.gca().yaxis.set_ticks_position('none')"
   ]
  },
  {
   "cell_type": "code",
   "execution_count": 19,
   "metadata": {
    "collapsed": true
   },
   "outputs": [],
   "source": [
    "session.close()"
   ]
  },
  {
   "cell_type": "code",
   "execution_count": null,
   "metadata": {
    "collapsed": true
   },
   "outputs": [],
   "source": []
  }
 ],
 "metadata": {
  "kernelspec": {
   "display_name": "Python 2",
   "language": "python",
   "name": "python2"
  },
  "language_info": {
   "codemirror_mode": {
    "name": "ipython",
    "version": 2
   },
   "file_extension": ".py",
   "mimetype": "text/x-python",
   "name": "python",
   "nbconvert_exporter": "python",
   "pygments_lexer": "ipython2",
   "version": "2.7.11"
  }
 },
 "nbformat": 4,
 "nbformat_minor": 0
}
