{
 "cells": [
  {
   "cell_type": "markdown",
   "metadata": {},
   "source": [
    "###### Can I predict the existence of subfields with some cool unsupervised learning algorithm? \n",
    "\n",
    "For starters, let's just use regular n-grams. A more advanced version would be to look for noun phrases or J&K POS tags."
   ]
  },
  {
   "cell_type": "code",
   "execution_count": 1,
   "metadata": {
    "collapsed": false
   },
   "outputs": [],
   "source": [
    "#Need to add parent directoy to sys.path to find 'metadataDB'\n",
    "import sys\n",
    "sys.path.append('../../')\n",
    "\n",
    "%matplotlib inline\n",
    "# import matplotlib.pyplot as plt\n",
    "import time\n",
    "import numpy as np\n",
    "# import scipy as sp\n",
    "import re\n",
    "from collections import Counter\n",
    "import itertools\n",
    "import random\n",
    "\n",
    "# Natural language processing toolkit\n",
    "# To use this, run nltk.download() and download 'stopwords'\n",
    "# from nltk.corpus import stopwords\n",
    "# s=stopwords.words('english') + ['']\n",
    "\n",
    "# Machine learning\n",
    "from sklearn.feature_extraction.text import CountVectorizer\n",
    "from sklearn.feature_extraction.text import TfidfTransformer\n",
    "from sklearn.metrics import classification_report, accuracy_score, confusion_matrix\n",
    "from sklearn.cross_validation import train_test_split, cross_val_score\n",
    "from sklearn.cluster import KMeans\n",
    "from sklearn.decomposition import SparsePCA\n",
    "# from sklearn.naive_bayes import MultinomialNB\n",
    "# from sklearn.linear_model import LogisticRegression\n",
    "from sklearn.svm import LinearSVC\n",
    "from sklearn.pipeline import Pipeline\n",
    "# from sklearn import metrics\n",
    "from sklearn.externals import joblib\n",
    "\n",
    "# SQL\n",
    "from sqlalchemy import create_engine\n",
    "from sqlalchemy.orm import sessionmaker\n",
    "from metadataDB.declareDatabase import *\n",
    "from sqlalchemy import or_, and_\n",
    "\n",
    "engine = create_engine(\"sqlite:///../../arXiv_metadata.db\", echo=False)\n",
    "Base.metadata.bind = engine\n",
    "DBsession = sessionmaker(bind=engine)\n",
    "session = DBsession()"
   ]
  },
  {
   "cell_type": "code",
   "execution_count": 2,
   "metadata": {
    "collapsed": false
   },
   "outputs": [
    {
     "name": "stdout",
     "output_type": "stream",
     "text": [
      "[u'acc-phys', u'adap-org', u'alg-geom', u'ao-sci', u'astro-ph', u'astro-ph.CO', u'astro-ph.EP', u'astro-ph.GA', u'astro-ph.HE', u'astro-ph.IM', u'astro-ph.SR', u'atom-ph', u'bayes-an', u'chao-dyn', u'chem-ph', u'comp-gas', u'cond-mat', u'cond-mat.dis-nn', u'cond-mat.mes-hall', u'cond-mat.mtrl-sci', u'cond-mat.other', u'cond-mat.quant-gas', u'cond-mat.soft', u'cond-mat.stat-mech', u'cond-mat.str-el', u'cond-mat.supr-con', u'cs.AI', u'cs.AR', u'cs.CC', u'cs.CE', u'cs.CG', u'cs.CL', u'cs.CR', u'cs.CV', u'cs.CY', u'cs.DB', u'cs.DC', u'cs.DL', u'cs.DM', u'cs.DS', u'cs.ET', u'cs.FL', u'cs.GL', u'cs.GR', u'cs.GT', u'cs.HC', u'cs.IR', u'cs.IT', u'cs.LG', u'cs.LO', u'cs.MA', u'cs.MM', u'cs.MS', u'cs.NA', u'cs.NE', u'cs.NI', u'cs.OH', u'cs.PF', u'cs.PL', u'cs.RO', u'cs.SC', u'cs.SD', u'cs.SE', u'cs.SI', u'cs.SY', u'dg-ga', u'funct-an', u'gr-qc', u'hep-ex', u'hep-lat', u'hep-ph', u'hep-th', u'math-ph', u'math.AC', u'math.AG', u'math.AP', u'math.AT', u'math.CA', u'math.CO', u'math.CT', u'math.CV', u'math.DG', u'math.DS', u'math.FA', u'math.GM', u'math.GN', u'math.GR', u'math.GT', u'math.HO', u'math.IT', u'math.KT', u'math.LO', u'math.MG', u'math.MP', u'math.NA', u'math.NT', u'math.OA', u'math.OC', u'math.PR', u'math.QA', u'math.RA', u'math.RT', u'math.SG', u'math.SP', u'math.ST', u'mtrl-th', u'nlin.AO', u'nlin.CD', u'nlin.CG', u'nlin.PS', u'nlin.SI', u'nucl-ex', u'nucl-th', u'patt-sol', u'physics.acc-ph', u'physics.ao-ph', u'physics.atm-clus', u'physics.atom-ph', u'physics.bio-ph', u'physics.chem-ph', u'physics.class-ph', u'physics.comp-ph', u'physics.data-an', u'physics.ed-ph', u'physics.flu-dyn', u'physics.gen-ph', u'physics.geo-ph', u'physics.hist-ph', u'physics.ins-det', u'physics.med-ph', u'physics.optics', u'physics.plasm-ph', u'physics.pop-ph', u'physics.soc-ph', u'physics.space-ph', u'plasm-ph', u'q-alg', u'q-bio', u'q-bio.BM', u'q-bio.CB', u'q-bio.GN', u'q-bio.MN', u'q-bio.NC', u'q-bio.OT', u'q-bio.PE', u'q-bio.QM', u'q-bio.SC', u'q-bio.TO', u'q-fin.CP', u'q-fin.EC', u'q-fin.GN', u'q-fin.MF', u'q-fin.PM', u'q-fin.PR', u'q-fin.RM', u'q-fin.ST', u'q-fin.TR', u'quant-ph', u'solv-int', u'stat.AP', u'stat.CO', u'stat.ME', u'stat.ML', u'stat.OT', u'stat.TH', u'supr-con']\n"
     ]
    }
   ],
   "source": [
    "# What are the available categories?\n",
    "categories = sorted([x.name for x in session.query(Category)])\n",
    "print categories "
   ]
  },
  {
   "cell_type": "code",
   "execution_count": 3,
   "metadata": {
    "collapsed": false
   },
   "outputs": [
    {
     "name": "stdout",
     "output_type": "stream",
     "text": [
      "29.8976371288\n"
     ]
    }
   ],
   "source": [
    "abstract_all_tmp = {'category': [], 'abstract': []}\n",
    "category_list = sorted(['atom-ph', 'quant-gas']) # THIS WORKS REALLY WELL!\n",
    "# category_list = sorted(['atom-ph', 'optics',  'quant-gas'])\n",
    "# category_list = sorted(['atom-ph', 'optics', 'quant-ph', 'quant-gas'])\n",
    "category_len = len(category_list)\n",
    "\n",
    "start = time.time()\n",
    "for item in category_list:\n",
    "    query = session.query(Article_Category)\\\n",
    "                        .join(Category)\\\n",
    "                        .join(Article)\\\n",
    "                        .filter(Category.name.like('%' + item + '%'))\n",
    "#     query = session.query(Article_Category)\\\n",
    "#                         .join(Category)\\\n",
    "#                         .join(Article)\\\n",
    "#                         .filter(Category.name.like('%' + item + '%'))\n",
    "    result = [' '.join(x.article.abstract.split()) for x in query]\n",
    "    abstract_all_tmp['abstract'].extend(result)\n",
    "    abstract_all_tmp['category'].extend([item]*len(result))\n",
    "print time.time() - start\n",
    "# for item in query:\n",
    "#     abstract_all['category'].append(item.category.name)\n",
    "#     abstract_all['abstract'].append(' '.join(item.article.abstract.split()))\n",
    "# print time.time() - start\n",
    "# abstract_all['atom-ph'] = [x.article.abstract for x in query.all()]\n",
    "# session.close_all()"
   ]
  },
  {
   "cell_type": "code",
   "execution_count": 4,
   "metadata": {
    "collapsed": false
   },
   "outputs": [
    {
     "name": "stdout",
     "output_type": "stream",
     "text": [
      "quant-gas      9107\n",
      "atom-ph        9156\n",
      "Total          18263\n"
     ]
    }
   ],
   "source": [
    "# Breakdown of categories?\n",
    "count = Counter(abstract_all_tmp['category'])\n",
    "for key, val in count.iteritems():\n",
    "    print '{:<15}{}'.format(key, val)\n",
    "print '{:<15}{}'.format('Total', len(abstract_all_tmp['abstract']))"
   ]
  },
  {
   "cell_type": "code",
   "execution_count": 5,
   "metadata": {
    "collapsed": false
   },
   "outputs": [
    {
     "name": "stdout",
     "output_type": "stream",
     "text": [
      "17244\n"
     ]
    }
   ],
   "source": [
    "# Deduplicate\n",
    "\n",
    "abstract_all = list(set(abstract_all_tmp['abstract']))\n",
    "print len(abstract_all)\n",
    "x_train = abstract_all"
   ]
  },
  {
   "cell_type": "code",
   "execution_count": 6,
   "metadata": {
    "collapsed": false
   },
   "outputs": [],
   "source": [
    "x_train = abstract_all\n",
    "# # Train on 90% of the data. Random_state ensures that we always get the same result.\n",
    "# x_train, x_test, y_train, y_test = train_test_split(abstract_all['abstract'],\n",
    "#                                                     abstract_all['category'],\n",
    "#                                                     random_state=42,\n",
    "#                                                     train_size=0.9)\n",
    "\n",
    "# counter_train = Counter(y_train)"
   ]
  },
  {
   "cell_type": "markdown",
   "metadata": {},
   "source": [
    "Now, try KMeans clustering. \n",
    "See: http://scikit-learn.org/stable/auto_examples/text/document_clustering.html"
   ]
  },
  {
   "cell_type": "code",
   "execution_count": 7,
   "metadata": {
    "collapsed": false
   },
   "outputs": [
    {
     "name": "stdout",
     "output_type": "stream",
     "text": [
      "2428.8861208\n",
      "8.53944396973\n"
     ]
    }
   ],
   "source": [
    "# n_init of 10 took 15 min\n",
    "# n_clusters = 20\n",
    "n_clusters = 20\n",
    "# 30 is too many!\n",
    "# Reduce n_init to 10 for testing purposes.\n",
    "clf_unsupervised = Pipeline([('vect', CountVectorizer(ngram_range=(1,3), stop_words='english')),\n",
    "                             ('tfidf', TfidfTransformer()),\n",
    "                             ('clf', KMeans(n_clusters=n_clusters, n_init=50, n_jobs=-2))])\n",
    "start = time.time()\n",
    "clf_unsupervised.fit(x_train)\n",
    "print time.time() - start\n",
    "\n",
    "start = time.time()\n",
    "predict_train = clf_unsupervised.predict(x_train)\n",
    "# predict = clf_unsupervised.predict(x_test)\n",
    "print time.time() - start\n",
    "    "
   ]
  },
  {
   "cell_type": "markdown",
   "metadata": {},
   "source": [
    "Save the model and predictor"
   ]
  },
  {
   "cell_type": "code",
   "execution_count": 8,
   "metadata": {
    "collapsed": false
   },
   "outputs": [
    {
     "name": "stdout",
     "output_type": "stream",
     "text": [
      "68.1203560829\n"
     ]
    }
   ],
   "source": [
    "start = time.time()\n",
    "joblib.dump(clf_unsupervised, 'cluster-AMO.pkl', compress=True) \n",
    "# joblib.dump(clf_unsupervised, 'cluster-AMO-optics.pkl', compress=True) \n",
    "print time.time() - start"
   ]
  },
  {
   "cell_type": "code",
   "execution_count": 9,
   "metadata": {
    "collapsed": false
   },
   "outputs": [
    {
     "name": "stdout",
     "output_type": "stream",
     "text": [
      "8.29573512077\n"
     ]
    }
   ],
   "source": [
    "# Count the number of articles in each chunk\n",
    "start = time.time()\n",
    "count_chunks = Counter(clf_unsupervised.predict(x_train))\n",
    "print time.time() - start"
   ]
  },
  {
   "cell_type": "code",
   "execution_count": 10,
   "metadata": {
    "collapsed": false,
    "scrolled": false
   },
   "outputs": [
    {
     "name": "stdout",
     "output_type": "stream",
     "text": [
      "Cluster 0 (668 articles):\n",
      "frequency, laser, clock, optical, nm, transition, spectroscopy, clocks, 10, comb, atomic, transitions, mhz, shift, linewidth, line, absorption, frequency comb, vapor, cell\n",
      "\n",
      "Cluster 1 (348 articles):\n",
      "spin, spin orbit, orbit, orbit coupling, spin orbit coupling, coupling, rashba, soc, phase, orbit coupled, spin orbit coupled, topological, coupled, fermi, state, zeeman, superfluid, field, zeeman field, momentum\n",
      "\n",
      "Cluster 2 (1065 articles):\n",
      "fermi, gas, density, fermi gas, temperature, bose, interacting, interaction, bose gas, dimensional, gases, spin, interactions, function, energy, state, phase, strongly, fermions, superfluid\n",
      "\n",
      "Cluster 3 (896 articles):\n",
      "spin, magnetic, magnetic field, field, fields, atoms, magnetic fields, quantum, state, states, external, atomic, resonance, interactions, zeeman, phase, external magnetic, interaction, using, optical\n",
      "\n",
      "Cluster 4 (348 articles):\n",
      "vortex, vortices, condensate, bose einstein, einstein, bose, condensates, turbulence, rotating, dynamics, superfluid, component, rotation, quantized, einstein condensate, bose einstein condensate, bose einstein condensates, einstein condensates, quantum, phase\n",
      "\n",
      "Cluster 5 (801 articles):\n",
      "body, scattering, bound, scattering length, length, efimov, range, states, universal, resonances, energy, resonance, wave, dimer, state, feshbach, potential, bound states, interaction, effective\n",
      "\n",
      "Cluster 6 (349 articles):\n",
      "electric, dipole, electric dipole, moment, edm, dipole moment, molecules, electric dipole moment, electric field, field, electron, moments, polar, state, interaction, magnetic, quadrupole, permanent, atoms, cm\n",
      "\n",
      "Cluster 7 (751 articles):\n",
      "calculations, relativistic, electron, ions, nuclear, levels, states, results, transitions, energy, energies, transition, calculated, data, atomic, method, values, ion, state, using\n",
      "\n",
      "Cluster 8 (1519 articles):\n",
      "condensate, bose, bose einstein, einstein, bose einstein condensate, einstein condensate, condensates, bec, einstein condensates, bose einstein condensates, equation, gross, pitaevskii, potential, gross pitaevskii, phase, dynamics, quantum, time, interaction\n",
      "\n",
      "Cluster 9 (2516 articles):\n",
      "atom, light, atomic, atoms, optical, cavity, quantum, photon, state, laser, field, wave, single, phase, level, states, lattice, using, interferometer, beam\n",
      "\n",
      "Cluster 10 (845 articles):\n",
      "trap, cooling, ion, atoms, optical, ions, laser, trapping, mot, beam, traps, atom, magneto, trapped, magneto optical, loading, optical trap, 10, magnetic, molecules\n",
      "\n",
      "Cluster 11 (953 articles):\n",
      "phase, lattice, superfluid, mott, hubbard, model, phases, hubbard model, insulator, transition, quantum, bose hubbard, bose, phase diagram, optical, diagram, density, mott insulator, bose hubbard model, optical lattice\n",
      "\n",
      "Cluster 12 (530 articles):\n",
      "topological, lattice, states, hall, band, edge, gauge, quantum, quantum hall, chern, non, abelian, phase, spin, symmetry, phases, optical, state, fractional, non abelian\n",
      "\n",
      "Cluster 13 (553 articles):\n",
      "alpha, proton, mu, hydrogen, structure, hyperfine, fine, muonic, fine structure, variation, nuclear, constant, corrections, fine structure constant, structure constant, electron, 10, splitting, muonic hydrogen, lamb shift\n",
      "\n",
      "Cluster 14 (2446 articles):\n",
      "quantum, systems, time, dynamics, state, non, particle, states, body, equilibrium, model, energy, density, study, interacting, entanglement, dimensional, theory, classical, method\n",
      "\n",
      "Cluster 15 (297 articles):\n",
      "solitons, soliton, dark, bright, dark solitons, dark soliton, nonlinear, einstein, bose einstein, bright solitons, bose, condensate, stability, solutions, dimensional, stable, equation, potential, component, bec\n",
      "\n",
      "Cluster 16 (389 articles):\n",
      "rydberg, atoms, rydberg atoms, states, rydberg states, excitation, dipole, state, blockade, atom, quantum, interactions, rydberg state, interaction, electric, laser, excited, field, rydberg atom, dipole dipole\n",
      "\n",
      "Cluster 17 (430 articles):\n",
      "cross, cross sections, sections, cross section, section, electron, ionization, energy, scattering, differential, photoionization, differential cross, energies, ion, calculations, ev, collision, ions, recombination, total\n",
      "\n",
      "Cluster 18 (1068 articles):\n",
      "electron, ionization, laser, field, pulse, time, pulses, harmonic, attosecond, electrons, strong, high, laser field, strong field, energy, spectra, intense, hhg, dependent, generation\n",
      "\n",
      "Cluster 19 (472 articles):\n",
      "bcs, superfluid, bec, fermi, pairing, crossover, phase, temperature, bcs bec, bec crossover, cooper, bcs bec crossover, state, transition, gas, fflo, fermi gas, density, pseudogap, gases\n",
      "\n"
     ]
    }
   ],
   "source": [
    "# Most important chunks. See http://scikit-learn.org/stable/auto_examples/text/document_clustering.html\n",
    "order_centroids = clf_unsupervised.named_steps['clf'].cluster_centers_.argsort()[:, ::-1]\n",
    "\n",
    "terms =  clf_unsupervised.named_steps['vect'].get_feature_names()\n",
    "for i in range(n_clusters):\n",
    "    print \"Cluster %d (%d articles):\" % (i, count_chunks[i])\n",
    "    print ', '.join([terms[x] for x in order_centroids[i, :20]])\n",
    "    print ''"
   ]
  },
  {
   "cell_type": "code",
   "execution_count": null,
   "metadata": {
    "collapsed": true
   },
   "outputs": [],
   "source": []
  }
 ],
 "metadata": {
  "kernelspec": {
   "display_name": "Python 2",
   "language": "python",
   "name": "python2"
  },
  "language_info": {
   "codemirror_mode": {
    "name": "ipython",
    "version": 2
   },
   "file_extension": ".py",
   "mimetype": "text/x-python",
   "name": "python",
   "nbconvert_exporter": "python",
   "pygments_lexer": "ipython2",
   "version": "2.7.11"
  }
 },
 "nbformat": 4,
 "nbformat_minor": 0
}
