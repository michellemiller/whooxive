{
 "cells": [
  {
   "cell_type": "markdown",
   "metadata": {},
   "source": [
    "Use fancy machine learning to predict whether an article makes it into Nature/Science or PRL. This time we'll only look at articles in the physics.atom-ph section."
   ]
  },
  {
   "cell_type": "code",
   "execution_count": 5,
   "metadata": {
    "collapsed": false
   },
   "outputs": [],
   "source": [
    "#Need to add parent directoy to sys.path to find 'metadataDB'\n",
    "import sys\n",
    "sys.path.append('../../')\n",
    "\n",
    "%matplotlib inline\n",
    "import matplotlib.pyplot as plt \n",
    "import time\n",
    "import numpy as np\n",
    "import re\n",
    "from itertools import combinations\n",
    "import json\n",
    "\n",
    "# Natural language processing toolkit\n",
    "# To use this, run nltk.download() and download 'stopwords'\n",
    "# from nltk.corpus import stopwords\n",
    "# s=stopwords.words('english') + ['']\n",
    "\n",
    "# Machine learning\n",
    "from sklearn.feature_extraction.text import CountVectorizer\n",
    "from sklearn.feature_extraction.text import TfidfTransformer\n",
    "from sklearn.naive_bayes import MultinomialNB\n",
    "from sklearn.linear_model import LogisticRegression\n",
    "from sklearn.svm import LinearSVC, SVC\n",
    "from sklearn.pipeline import Pipeline\n",
    "from sklearn import metrics\n",
    "from sklearn.cross_validation import train_test_split\n",
    "from sklearn.externals import joblib\n",
    "\n",
    "# SQL\n",
    "from sqlalchemy import create_engine\n",
    "from sqlalchemy.orm import sessionmaker\n",
    "from metadataDB.declareDatabase import *\n",
    "from sqlalchemy import or_, and_\n",
    "\n",
    "engine = create_engine(\"sqlite:///../../arXiv_metadata.db\", echo=False)\n",
    "Base.metadata.bind = engine\n",
    "DBsession = sessionmaker(bind=engine)\n",
    "session = DBsession()"
   ]
  },
  {
   "cell_type": "code",
   "execution_count": 2,
   "metadata": {
    "collapsed": true
   },
   "outputs": [],
   "source": [
    "categories = ['atom-ph', 'quant-ph', 'cond-mat', 'quant-gas', 'hep-th', 'hep-ex', '']\n",
    "categories = ['quant-ph']\n",
    "journals_dict = {'PRL': ['Physics Review Letters%',\n",
    "                    'Phys. Rev. Lett.%',\n",
    "                    'Phys.Rev.Lett.%',\n",
    "                    'PRL%'],\n",
    "                 'PR':  ['Physics Review%',\n",
    "                         'Phys. Rev.%',\n",
    "                         'Phys.Rev.%',\n",
    "                         'PR%'],\n",
    "                 'Nature': ['Nature%',\n",
    "                            'Nat.%',\n",
    "                            'Science%'],\n",
    "                 'APL': ['APL%',\n",
    "                         'Appl.Phys.Lett.%',\n",
    "                         'Appl. Phys. Lett.%',\n",
    "                         'Applied Physics Letters%'],\n",
    "                 'AP': ['AP%',\n",
    "                        'Appl.Phys.%',\n",
    "                        'Appl. Phys.%',\n",
    "                        'Applied Physics%'],\n",
    "                 'PL': ['Physics Letters%',\n",
    "                        'Phys. Lett.%',\n",
    "                        'Phys.Lett.%'],\n",
    "                 'All': ['%'],\n",
    "                 }\n"
   ]
  },
  {
   "cell_type": "code",
   "execution_count": 3,
   "metadata": {
    "collapsed": false
   },
   "outputs": [],
   "source": [
    "def get_abstracts(journal, category):\n",
    "    query = session.query(Article_Category)\\\n",
    "                    .join(Category)\\\n",
    "                    .join(Article)\\\n",
    "                    .filter(Category.name.like('%' + category + '%'),\n",
    "                            or_(*[Article.journal_ref.like(x) for x in journals_dict[journal]]))\n",
    "\n",
    "    # Don't need to clean up text: CountVectorizer will do everything\n",
    "    return [ result.article.abstract for result in query ]\n",
    "\n",
    "\n",
    "def learn(journals, category):\n",
    "    abstracts1 = get_abstracts(journals[0], category)\n",
    "    abstracts2 = get_abstracts(journals[1], category)\n",
    "    \n",
    "    half_test_size = int(round(0.2*min(len(abstracts1),len(abstracts2))))\n",
    "#     print half_test_size\n",
    "\n",
    "    X1_train, X1_test, y1_train, y1_test = train_test_split(abstracts1, [0]*len(abstracts1), test_size=half_test_size, random_state=42)\n",
    "    X2_train, X2_test, y2_train, y2_test = train_test_split(abstracts2, [1]*len(abstracts2), test_size=half_test_size, random_state=42)\n",
    "\n",
    "    X_train = X1_train + X2_train\n",
    "    X_test = X1_test + X2_test\n",
    "    y_train = np.array(y1_train + y2_train)\n",
    "    y_test = np.array(y1_test + y2_test)\n",
    "    target_names = journals\n",
    "    \n",
    "    \n",
    "    clf = Pipeline([('vect', CountVectorizer(ngram_range=(1,3))),\n",
    "                    ('tfidf', TfidfTransformer()),\n",
    "                    ('clf', LinearSVC(C=1,penalty='l1',dual=False,fit_intercept=True))])\n",
    "    transform = clf.fit_transform(X_train, y_train)\n",
    "    y_predict_train = clf.predict(X_train)\n",
    "    y_predict_test = clf.predict(X_test)\n",
    "    \n",
    "    X_train_tfidf = clf.named_steps['tfidf'].transform(\n",
    "                        clf.named_steps['vect'].transform(X_train))\n",
    "    \n",
    "    print (metrics.classification_report(y_test, y_predict_test,\n",
    "                                    target_names=target_names))\n",
    "#                                     target_names=test_target_names))\n",
    "    print metrics.confusion_matrix(y_test, y_predict_test)\n",
    "    print 'Accuracy: %f' % (metrics.accuracy_score(y_test, y_predict_test))\n",
    "\n",
    "#     most_important_words = clf.named_steps['clf'].coef_.argsort()[:, ::-1]\n",
    "\n",
    "#     print np.squeeze(X_train_tfidf[y_train==0, 3].toarray()).shape\n",
    "#     print np.squeeze(X_train_tfidf[y_train==0, 3].toarray()).shape\n",
    "    \n",
    "    \n",
    "#     terms =  clf.named_steps['vect'].get_feature_names()\n",
    "#     result = [{'name': terms[word],\n",
    "#                'value': clf.named_steps['clf'].coef_[0,word],\n",
    "#                'vector1': np.squeeze(X_train_tfidf[y_train==0, word].toarray()).tolist(),\n",
    "#                'vector2': np.squeeze(X_train_tfidf[y_train==1, word].toarray()).tolist(),\n",
    "#               }\n",
    "#                 for word in (np.concatenate((most_important_words[0, :15],\n",
    "#                              most_important_words[0, -15:]))) ]\n",
    "    return clf\n",
    "\n"
   ]
  },
  {
   "cell_type": "code",
   "execution_count": null,
   "metadata": {
    "collapsed": true
   },
   "outputs": [],
   "source": []
  },
  {
   "cell_type": "code",
   "execution_count": 9,
   "metadata": {
    "collapsed": false
   },
   "outputs": [
    {
     "name": "stdout",
     "output_type": "stream",
     "text": [
      "             precision    recall  f1-score   support\n",
      "\n",
      "        PRL       0.79      0.97      0.87      1159\n",
      "     Nature       0.96      0.74      0.84      1159\n",
      "\n",
      "avg / total       0.87      0.85      0.85      2318\n",
      "\n",
      "[[1122   37]\n",
      " [ 301  858]]\n",
      "Accuracy: 0.854185\n",
      "138.313899994\n"
     ]
    }
   ],
   "source": [
    "categories = ['']\n",
    "# categories = ['atom-ph', 'quant-ph', 'cond-mat', 'str-el']\n",
    "# journals = ['PRL', 'PL', 'Nature']\n",
    "journals = ['PRL', 'Nature']\n",
    "\n",
    "start = time.time()\n",
    "\n",
    "clf_journal = learn(journals, categories[0])\n",
    "\n",
    "print (time.time() - start)\n",
    "\n",
    "# final_dict = dict()\n",
    "# for category in categories:\n",
    "#     current_dict = dict()\n",
    "#     for journal_pair in combinations(journals, 2):\n",
    "#         print (category, journal_pair)\n",
    "#         current_dict['/'.join(journal_pair)] = learn(journal_pair, category)\n",
    "# #         current_dict[journal] = keywords(journal, category)\n",
    "#     if category == '':\n",
    "#         category = 'All'\n",
    "#     final_dict[category.replace('-', '_')] = current_dict\n",
    "\n",
    "# print (time.time() - start)\n",
    "\n",
    "# # print json.dumps(final_dict)\n",
    "# with open('svm_journal.json', 'wb') as f:\n",
    "#     json.dump(final_dict, f)\n",
    "# # learn(['Nature', 'PRL'], 'atom-ph')"
   ]
  },
  {
   "cell_type": "code",
   "execution_count": 10,
   "metadata": {
    "collapsed": false
   },
   "outputs": [
    {
     "data": {
      "text/plain": [
       "['svm_journal.pkl']"
      ]
     },
     "execution_count": 10,
     "metadata": {},
     "output_type": "execute_result"
    }
   ],
   "source": [
    "joblib.dump(clf_journal, 'svm_journal.pkl', compress=1)"
   ]
  },
  {
   "cell_type": "code",
   "execution_count": null,
   "metadata": {
    "collapsed": true
   },
   "outputs": [],
   "source": []
  }
 ],
 "metadata": {
  "kernelspec": {
   "display_name": "Python 2",
   "language": "python",
   "name": "python2"
  },
  "language_info": {
   "codemirror_mode": {
    "name": "ipython",
    "version": 2
   },
   "file_extension": ".py",
   "mimetype": "text/x-python",
   "name": "python",
   "nbconvert_exporter": "python",
   "pygments_lexer": "ipython2",
   "version": "2.7.11"
  }
 },
 "nbformat": 4,
 "nbformat_minor": 0
}
