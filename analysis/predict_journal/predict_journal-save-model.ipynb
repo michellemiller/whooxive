{
 "cells": [
  {
   "cell_type": "markdown",
   "metadata": {},
   "source": [
    "Use fancy machine learning to predict whether an article makes it into Nature/Science or PRL."
   ]
  },
  {
   "cell_type": "code",
   "execution_count": 1,
   "metadata": {
    "collapsed": false
   },
   "outputs": [],
   "source": [
    "#Need to add parent directoy to sys.path to find 'metadataDB'\n",
    "import sys\n",
    "sys.path.append('../')\n",
    "\n",
    "%matplotlib inline\n",
    "import matplotlib.pyplot as plt \n",
    "import time\n",
    "import numpy as np\n",
    "import scipy as sp\n",
    "\n",
    "# Natural language processing toolkit\n",
    "# To use this, run nltk.download() and download 'stopwords'\n",
    "from nltk.corpus import stopwords\n",
    "s=stopwords.words('english') + ['']\n",
    "\n",
    "# Machine learning\n",
    "from sklearn.feature_extraction.text import CountVectorizer\n",
    "from sklearn.feature_extraction.text import TfidfTransformer\n",
    "from sklearn.naive_bayes import MultinomialNB\n",
    "from sklearn.linear_model import LogisticRegression\n",
    "from sklearn.svm import LinearSVC, SVC\n",
    "from sklearn.pipeline import Pipeline\n",
    "from sklearn import metrics\n",
    "from sklearn.externals import joblib\n",
    "\n",
    "# SQL\n",
    "from sqlalchemy import create_engine\n",
    "from sqlalchemy.orm import sessionmaker\n",
    "from metadataDB.declareDatabase import *\n",
    "from sqlalchemy import or_, and_\n",
    "\n",
    "engine = create_engine(\"sqlite:///../arXiv_metadata.db\", echo=False)\n",
    "Base.metadata.bind = engine\n",
    "DBsession = sessionmaker(bind=engine)\n",
    "session = DBsession()"
   ]
  },
  {
   "cell_type": "code",
   "execution_count": 2,
   "metadata": {
    "collapsed": false
   },
   "outputs": [],
   "source": [
    "query = session.query(Article).filter(or_(Article.journal_ref.like('Physics Review Letters%'),\n",
    "                                          Article.journal_ref.like('Phys. Rev. Lett.%'),\n",
    "                                          Article.journal_ref.like('PRL%')))\n",
    "abstractPRL = [x.abstract for x in query.all()]\n",
    "titlePRL = [x.title for x in query.all()]"
   ]
  },
  {
   "cell_type": "code",
   "execution_count": 3,
   "metadata": {
    "collapsed": false
   },
   "outputs": [],
   "source": [
    "query = session.query(Article).filter(or_(Article.journal_ref.like('Nature%'),\n",
    "                                          Article.journal_ref.like('Nat.%'),\n",
    "                                          Article.journal_ref.like('Science%')))\n",
    "abstractNatureScience = [x.abstract for x in query.all()]\n",
    "titleNatureScience = [x.title for x in query.all()]"
   ]
  },
  {
   "cell_type": "code",
   "execution_count": 4,
   "metadata": {
    "collapsed": true
   },
   "outputs": [],
   "source": [
    "session.close_all()"
   ]
  },
  {
   "cell_type": "code",
   "execution_count": 5,
   "metadata": {
    "collapsed": false
   },
   "outputs": [],
   "source": [
    "# Train with all the data. We'll save the model for future use.\n",
    "\n",
    "# indNatureScience = len(abstractNatureScience)*4/5\n",
    "# indPRL = len(abstractPRL) - (len(abstractNatureScience) - indNatureScience)\n",
    "\n",
    "train_abstract = abstractPRL + abstractNatureScience\n",
    "# train_title = titlePRL[:indPRL] + titleNatureScience[:indNatureScience]\n",
    "train_target = [0]*len(abstractPRL) + [1]*len(abstractNatureScience)\n",
    "# train_target_names = ['PRL']*indPRL + ['Nature']*indNatureScience\n",
    "\n",
    "# test_abstract = abstractPRL[indPRL:] + abstractNatureScience[indNatureScience:]\n",
    "# test_title = titlePRL[indPRL:] + titleNatureScience[indNatureScience:]\n",
    "# test_target = [0]*len(abstractPRL[indPRL:]) + [1]*len(abstractNatureScience[indNatureScience:])\n",
    "# test_target_names = ['PRL', 'Nature/Science']"
   ]
  },
  {
   "cell_type": "code",
   "execution_count": 6,
   "metadata": {
    "collapsed": false
   },
   "outputs": [
    {
     "name": "stdout",
     "output_type": "stream",
     "text": [
      "3005\n",
      "13259\n"
     ]
    }
   ],
   "source": [
    "print len(abstractNatureScience)\n",
    "print len(abstractPRL)"
   ]
  },
  {
   "cell_type": "code",
   "execution_count": 7,
   "metadata": {
    "collapsed": false
   },
   "outputs": [
    {
     "data": {
      "text/plain": [
       "Pipeline(steps=[('vect', CountVectorizer(analyzer=u'word', binary=False, charset=None,\n",
       "        charset_error=None, decode_error=u'strict',\n",
       "        dtype=<type 'numpy.int64'>, encoding=u'utf-8', input=u'content',\n",
       "        lowercase=True, max_df=1.0, max_features=None, min_df=1,\n",
       "        ngram_range=(1, 3), prep...ar', max_iter=-1, probability=True, random_state=None,\n",
       "  shrinking=True, tol=0.001, verbose=False))])"
      ]
     },
     "execution_count": 7,
     "metadata": {},
     "output_type": "execute_result"
    }
   ],
   "source": [
    "#SVC(kernel='linear') is good\n",
    "text_abstract_clf = Pipeline([('vect', CountVectorizer(ngram_range=(1,3))),\n",
    "                              ('tfidf', TfidfTransformer()),\n",
    "                              ('clf', SVC(kernel='linear', probability=True))])\n",
    "text_abstract_clf.fit(train_abstract, train_target)"
   ]
  },
  {
   "cell_type": "code",
   "execution_count": 8,
   "metadata": {
    "collapsed": false
   },
   "outputs": [
    {
     "data": {
      "text/plain": [
       "['text_abstract.pkl',\n",
       " 'text_abstract.pkl_01.npy',\n",
       " 'text_abstract.pkl_02.npy',\n",
       " 'text_abstract.pkl_03.npy',\n",
       " 'text_abstract.pkl_04.npy',\n",
       " 'text_abstract.pkl_05.npy',\n",
       " 'text_abstract.pkl_06.npy',\n",
       " 'text_abstract.pkl_07.npy',\n",
       " 'text_abstract.pkl_08.npy',\n",
       " 'text_abstract.pkl_09.npy',\n",
       " 'text_abstract.pkl_10.npy',\n",
       " 'text_abstract.pkl_11.npy',\n",
       " 'text_abstract.pkl_12.npy',\n",
       " 'text_abstract.pkl_13.npy',\n",
       " 'text_abstract.pkl_14.npy',\n",
       " 'text_abstract.pkl_15.npy',\n",
       " 'text_abstract.pkl_16.npy']"
      ]
     },
     "execution_count": 8,
     "metadata": {},
     "output_type": "execute_result"
    }
   ],
   "source": [
    "# Save model\n",
    "joblib.dump(text_abstract_clf, 'text_abstract.pkl')"
   ]
  },
  {
   "cell_type": "code",
   "execution_count": 10,
   "metadata": {
    "collapsed": false,
    "scrolled": true
   },
   "outputs": [
    {
     "name": "stdout",
     "output_type": "stream",
     "text": [
      "Top 50 indicators of PRL:\n",
      "we, model, we propose, propose, of the, we study, behavior, study, calculations, simulations, mev, consider, to the, we consider, we discuss, letter, parameters, show, tensor, numerical, squeezing, condensate, in the presence, phys, we show that, present, is shown, show that, scheme, study the, investigated, method, we show, discuss, we derive, the corresponding, linear, edge, show how, find that, mesoscopic, this letter, we develop, derive, approximation, phys rev, find, analyze, shown, case\n",
      "\n",
      "Top 50 indicators of Nature/Science:\n",
      "here we, here, here we report, and, of, quantum, have, in, galaxies, been, high, has, materials, here we demonstrate, stars, devices, solar, fundamental, to, their, however, understanding, research, superconductivity, physics, radio, challenge, many, star, planet, science, these, that, electronic, stellar, pulsar, information, as, because, we report, universe, planets, matter, report, observations, or, here we show, yet, most, phenomena\n"
     ]
    }
   ],
   "source": [
    "def inverseVectorizer(val):\n",
    "    return (key for key, value in text_abstract_clf.named_steps['vect'].vocabulary_.iteritems() if value == val).next()\n",
    "\n",
    "# This is super inefficient!!!\n",
    "sorted_coefs = sorted( ((i,v) for i, v in np.ndenumerate(text_abstract_clf.named_steps['clf'].coef_.todense()) ),\n",
    "                      key=lambda x: x[1] )\n",
    "\n",
    "print \"Top 50 indicators of PRL:\"\n",
    "bottom = sorted_coefs[:50]\n",
    "print \", \".join([ inverseVectorizer(item[0][1]) for item in bottom])\n",
    "print \"\"\n",
    "print \"Top 50 indicators of Nature/Science:\"\n",
    "top = list(reversed(sorted_coefs[-50:]))\n",
    "print \", \".join([ inverseVectorizer(item[0][1]) for item in top])"
   ]
  },
  {
   "cell_type": "code",
   "execution_count": null,
   "metadata": {
    "collapsed": true
   },
   "outputs": [],
   "source": []
  }
 ],
 "metadata": {
  "kernelspec": {
   "display_name": "Python 2",
   "language": "python",
   "name": "python2"
  },
  "language_info": {
   "codemirror_mode": {
    "name": "ipython",
    "version": 2
   },
   "file_extension": ".py",
   "mimetype": "text/x-python",
   "name": "python",
   "nbconvert_exporter": "python",
   "pygments_lexer": "ipython2",
   "version": "2.7.11"
  }
 },
 "nbformat": 4,
 "nbformat_minor": 0
}
