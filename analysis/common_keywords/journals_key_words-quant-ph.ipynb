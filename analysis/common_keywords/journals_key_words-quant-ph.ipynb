{
 "cells": [
  {
   "cell_type": "markdown",
   "metadata": {},
   "source": [
    "Find articles that made it to certain journals and compare key words. This time we'll only look at articles in the physics.atom-ph section."
   ]
  },
  {
   "cell_type": "code",
   "execution_count": 1,
   "metadata": {
    "collapsed": false
   },
   "outputs": [],
   "source": [
    "#Need to add parent directoy to sys.path to find 'metadataDB'\n",
    "import sys\n",
    "sys.path.append('../')\n",
    "\n",
    "%matplotlib inline\n",
    "import matplotlib.pyplot as plt \n",
    "import time\n",
    "import numpy as np\n",
    "\n",
    "# Natural language processing toolkit\n",
    "# To use this, run nltk.download() and download 'stopwords'\n",
    "from nltk.corpus import stopwords\n",
    "s=stopwords.words('english') + ['']\n",
    "\n",
    "# SQL\n",
    "from sqlalchemy import create_engine\n",
    "from sqlalchemy.orm import sessionmaker\n",
    "from metadataDB.declareDatabase import *\n",
    "from sqlalchemy import or_, and_\n",
    "\n",
    "engine = create_engine(\"sqlite:///../arXiv_metadata.db\", echo=False)\n",
    "Base.metadata.bind = engine\n",
    "DBsession = sessionmaker(bind=engine)\n",
    "session = DBsession()"
   ]
  },
  {
   "cell_type": "code",
   "execution_count": 2,
   "metadata": {
    "collapsed": false
   },
   "outputs": [],
   "source": [
    "query = session.query(Article_Category)\\\n",
    "                    .join(Category)\\\n",
    "                    .join(Article)\\\n",
    "                    .filter(Category.name.like('%quant-ph'),\n",
    "                            or_(Article.journal_ref.like('Physics Review Letters%'),\n",
    "                                Article.journal_ref.like('Phys. Rev. Lett.%'),\n",
    "                                Article.journal_ref.like('PRL%')))\n",
    "resultPRL = query.all()"
   ]
  },
  {
   "cell_type": "code",
   "execution_count": null,
   "metadata": {
    "collapsed": false
   },
   "outputs": [],
   "source": [
    "#for item in resultPRL:\n",
    "#    print \"%s - %s\" % (item.article.journal_ref, item.category.name)"
   ]
  },
  {
   "cell_type": "code",
   "execution_count": 3,
   "metadata": {
    "collapsed": false
   },
   "outputs": [],
   "source": [
    "query = session.query(Article_Category)\\\n",
    "                    .join(Category)\\\n",
    "                    .join(Article)\\\n",
    "                    .filter(Category.name.like('%quant-ph'),\n",
    "                            or_(Article.journal_ref.like('Nature%'),\n",
    "                                Article.journal_ref.like('Nat.%'),\n",
    "                                Article.journal_ref.like('Science%')))\n",
    "# query = session.query(Article).filter(Article.journal_ref.like('PRL%'))\n",
    "resultNatureScience = query.all()"
   ]
  },
  {
   "cell_type": "code",
   "execution_count": null,
   "metadata": {
    "collapsed": false
   },
   "outputs": [],
   "source": [
    "# for item in resultNatureScience:\n",
    "#    print \"%s - %s\" % (item.article.journal_ref, item.category.name)"
   ]
  },
  {
   "cell_type": "code",
   "execution_count": null,
   "metadata": {
    "collapsed": false
   },
   "outputs": [],
   "source": [
    "resultPRL[0]"
   ]
  },
  {
   "cell_type": "code",
   "execution_count": 4,
   "metadata": {
    "collapsed": false
   },
   "outputs": [
    {
     "name": "stdout",
     "output_type": "stream",
     "text": [
      "0.027416 sec., 2642 articles, 425 words\n",
      "96367 articles per second\n",
      "15502 words per second\n"
     ]
    }
   ],
   "source": [
    "abstract = dict()\n",
    "abstractPRL = dict()\n",
    "title = dict()\n",
    "titlePRL = dict()\n",
    "\n",
    "numWords = 0\n",
    "numArticles = len(resultPRL)\n",
    "\n",
    "start = time.time()\n",
    "for item in resultPRL[0:10]:\n",
    "#     print item.abstract\n",
    "    for word in set((item.article.abstract).replace('\\n',' ') \\\n",
    "                                           .replace('\\\\','') \\\n",
    "                                           .replace('(','') \\\n",
    "                                           .replace(')','') \\\n",
    "                                           .split(' ')):\n",
    "        if (word.lower() not in s) and (word.isalpha()):\n",
    "#             if word in abstractPRL.keys():\n",
    "#                 abstractPRL[word] += 1\n",
    "#             else:\n",
    "#                 abstractPRL[word] =1\n",
    "            if word in abstract.keys():\n",
    "                abstract[word] -= 1./numArticles\n",
    "            else:\n",
    "                abstract[word] = -1./numArticles\n",
    "            numWords += 1\n",
    "            \n",
    "    for word in set((item.article.title).replace('\\n',' ') \\\n",
    "                                        .replace('\\\\','') \\\n",
    "                                        .replace('(','') \\\n",
    "                                        .replace(')','') \\\n",
    "                                        .split(' ')):\n",
    "        if (word.lower() not in s) and (word.isalpha()):\n",
    "#             if word in titlePRL.keys():\n",
    "#                 titlePRL[word] += 1\n",
    "#             else:\n",
    "#                 titlePRL[word] =1\n",
    "            if word in title.keys():\n",
    "                title[word] -= 1./numArticles\n",
    "            else:\n",
    "                title[word] = -1./numArticles\n",
    "            numWords += 1\n",
    "\n",
    "total_time = time.time() - start\n",
    "print \"%f sec., %i articles, %i words\" % (total_time, numArticles, numWords)\n",
    "print \"%0.0f articles per second\" % (numArticles/total_time)\n",
    "print \"%0.0f words per second\" % (numWords/total_time)"
   ]
  },
  {
   "cell_type": "code",
   "execution_count": 5,
   "metadata": {
    "collapsed": false
   },
   "outputs": [
    {
     "name": "stdout",
     "output_type": "stream",
     "text": [
      "0.044308 sec., 645 articles, 1030 words\n",
      "14557 articles per second\n",
      "23246 words per second\n"
     ]
    }
   ],
   "source": [
    "abstractNature = dict()\n",
    "titleNature = dict()\n",
    "\n",
    "numWords = 0\n",
    "numArticles = len(resultNatureScience)\n",
    "\n",
    "start = time.time()\n",
    "for item in resultNatureScience[0:10]:\n",
    "#     print item.abstract\n",
    "    for word in set((item.article.abstract).replace('\\n',' ') \\\n",
    "                                           .replace('\\\\','') \\\n",
    "                                           .replace('(','') \\\n",
    "                                           .replace(')','') \\\n",
    "                                           .split(' ')):\n",
    "        if (word.lower() not in s) and (word.isalpha()):\n",
    "#             if word in abstractNature.keys():\n",
    "#                 abstractNature[word] += 1\n",
    "#             else:\n",
    "#                 abstractNature[word] =1\n",
    "            if word in abstract.keys():\n",
    "                abstract[word] += 1./numArticles\n",
    "            else:\n",
    "                abstract[word] = 1./numArticles\n",
    "        numWords += 1\n",
    "\n",
    "    for word in set((item.article.title).replace('\\n',' ') \\\n",
    "                                        .replace('\\\\','') \\\n",
    "                                        .replace('(','') \\\n",
    "                                        .replace(')','') \\\n",
    "                                        .split(' ')):\n",
    "        if (word.lower() not in s) and (word.isalpha()):\n",
    "#             if word in titleNature.keys():\n",
    "#                 titleNature[word] += 1\n",
    "#             else:\n",
    "#                 titleNature[word] =1\n",
    "            if word in title.keys():\n",
    "                title[word] += 1./numArticles\n",
    "            else:\n",
    "                title[word] = 1./numArticles\n",
    "        numWords += 1\n",
    "\n",
    "total_time = time.time() - start\n",
    "print \"%f sec., %i articles, %i words\" % (total_time, numArticles, numWords)\n",
    "print \"%0.0f articles per second\" % (numArticles/total_time)\n",
    "print \"%0.0f words per second\" % (numWords/total_time)"
   ]
  },
  {
   "cell_type": "code",
   "execution_count": 6,
   "metadata": {
    "collapsed": true
   },
   "outputs": [],
   "source": [
    "session.close_all()"
   ]
  },
  {
   "cell_type": "code",
   "execution_count": 7,
   "metadata": {
    "collapsed": false
   },
   "outputs": [],
   "source": [
    "# Want to sort dictionary by values. Convert it to a list of tuples so we can use python's sort functions\n",
    "abstract_wordlist = sorted([(key, val) for key, val in abstract.iteritems()], key=lambda x: x[1])\n",
    "title_wordlist = sorted([(key, val) for key, val in title.iteritems()], key=lambda x: x[1])"
   ]
  },
  {
   "cell_type": "code",
   "execution_count": 8,
   "metadata": {
    "collapsed": false
   },
   "outputs": [
    {
     "name": "stdout",
     "output_type": "stream",
     "text": [
      "[(u'current', -0.001514004542013626), (u'shown', -0.0011355034065102195), (u'effect', -0.0011355034065102195), (u'noise', -0.0011355034065102195), (u'exact', -0.000757002271006813), (u'small', -0.000757002271006813), (u'dynamics', -0.000757002271006813), (u'resulting', -0.000757002271006813), (u'example', -0.000757002271006813), (u'derive', -0.000757002271006813), (u'light', 0.004651162790697674), (u'allow', 0.004651162790697674), (u'many', 0.004651162790697674), (u'storage', 0.004651162790697674), (u'system', 0.004687545845583273), (u'state', 0.004687545845583273), (u'classical', 0.005823049252093492), (u'photon', 0.005823049252093492), (u'information', 0.006201550387596899), (u'demonstrate', 0.007373436848992717)]\n"
     ]
    }
   ],
   "source": [
    "abstract_best_and_worst = abstract_wordlist[0:10] + abstract_wordlist[-11:-1]\n",
    "print abstract_best_and_worst"
   ]
  },
  {
   "cell_type": "code",
   "execution_count": 9,
   "metadata": {
    "collapsed": false
   },
   "outputs": [
    {
     "name": "stdout",
     "output_type": "stream",
     "text": [
      "[(u'Echoes', -0.0003785011355034065), (u'Quasienergy', -0.0003785011355034065), (u'Trapped', -0.0003785011355034065), (u'Relaxation', -0.0003785011355034065), (u'Solids', -0.0003785011355034065), (u'lattices', -0.0003785011355034065), (u'adiabatic', -0.0003785011355034065), (u'Statistics', -0.0003785011355034065), (u'Interacting', -0.0003785011355034065), (u'detection', -0.0003785011355034065), (u'demonstration', 0.0015503875968992248), (u'information', 0.0015503875968992248), (u'radiation', 0.0015503875968992248), (u'Wave', 0.0015503875968992248), (u'waves', 0.0015503875968992248), (u'Decoherence', 0.0015503875968992248), (u'Physics', 0.0015503875968992248), (u'One', 0.0015503875968992248), (u'Regime', 0.0015503875968992248), (u'Quantum', 0.0023437729227916365)]\n"
     ]
    }
   ],
   "source": [
    "title_best_and_worst = title_wordlist[0:10] + title_wordlist[-11:-1]\n",
    "print title_best_and_worst"
   ]
  },
  {
   "cell_type": "code",
   "execution_count": 10,
   "metadata": {
    "collapsed": false
   },
   "outputs": [
    {
     "data": {
      "image/png": "[encoded data removed]",
      "text/plain": [
       "<matplotlib.figure.Figure at 0x10957e950>"
      ]
     },
     "metadata": {},
     "output_type": "display_data"
    }
   ],
   "source": [
    "words = [x for (x,y) in abstract_best_and_worst]\n",
    "vals = np.array([y for (x,y) in abstract_best_and_worst])\n",
    "\n",
    "\n",
    "ind = np.arange(0, len(words))\n",
    "c = ['b' if x > 0 else 'r' for x in vals]\n",
    "\n",
    "plt.figure(frameon=False, figsize=(6,8))\n",
    "plt.barh(ind - 0.5,\n",
    "         vals,\n",
    "         color=c)\n",
    "plt.yticks(ind, words)\n",
    "plt.ylim(ind[0]-1, ind[-1]+1)\n",
    "plt.xlim(-1.1*np.max(np.abs(vals)), 1.1*np.max(np.abs(vals)))\n",
    "plt.title('Abstracts')\n",
    "plt.xlabel('PRL$\\qquad\\qquad\\qquad\\qquad$Nature/Science')\n",
    "plt.gca().spines['top'].set_visible(False)\n",
    "plt.gca().spines['right'].set_visible(False)\n",
    "plt.gca().spines['left'].set_visible(False)\n",
    "plt.gca().xaxis.set_ticks_position('bottom')\n",
    "plt.gca().yaxis.set_ticks_position('none')"
   ]
  },
  {
   "cell_type": "code",
   "execution_count": null,
   "metadata": {
    "collapsed": false
   },
   "outputs": [],
   "source": [
    "words = [x for (x,y) in title_best_and_worst]\n",
    "vals = np.array([y for (x,y) in title_best_and_worst])\n",
    "\n",
    "\n",
    "ind = np.arange(0, len(words))\n",
    "c = ['b' if x > 0 else 'r' for x in vals]\n",
    "\n",
    "plt.figure(frameon=False, figsize=(6,8))\n",
    "plt.barh(ind - 0.5,\n",
    "         vals,\n",
    "         color=c)\n",
    "plt.yticks(ind, words)\n",
    "plt.ylim(ind[0]-1, ind[-1]+1)\n",
    "plt.xlim(-1.1*np.max(np.abs(vals)), 1.1*np.max(np.abs(vals)))\n",
    "plt.title('Titles')\n",
    "plt.xlabel('PRL$\\qquad\\qquad\\qquad\\qquad$Nature/Science')\n",
    "plt.gca().spines['top'].set_visible(False)\n",
    "plt.gca().spines['right'].set_visible(False)\n",
    "plt.gca().spines['left'].set_visible(False)\n",
    "plt.gca().xaxis.set_ticks_position('bottom')\n",
    "plt.gca().yaxis.set_ticks_position('none')"
   ]
  },
  {
   "cell_type": "markdown",
   "metadata": {
    "collapsed": true
   },
   "source": [
    "The above plots are fun but they are descriptive, not predictive. Given words in the abstract or title, can I predict where an article will end up?"
   ]
  },
  {
   "cell_type": "code",
   "execution_count": null,
   "metadata": {
    "collapsed": false
   },
   "outputs": [],
   "source": [
    "for item in resultNatureScience:\n",
    "    print \"%s - %s\" % (item.article.journal_ref, item.category.name) "
   ]
  },
  {
   "cell_type": "code",
   "execution_count": null,
   "metadata": {
    "collapsed": true
   },
   "outputs": [],
   "source": []
  }
 ],
 "metadata": {
  "kernelspec": {
   "display_name": "Python 2",
   "language": "python",
   "name": "python2"
  },
  "language_info": {
   "codemirror_mode": {
    "name": "ipython",
    "version": 2
   },
   "file_extension": ".py",
   "mimetype": "text/x-python",
   "name": "python",
   "nbconvert_exporter": "python",
   "pygments_lexer": "ipython2",
   "version": "2.7.11"
  }
 },
 "nbformat": 4,
 "nbformat_minor": 0
}
