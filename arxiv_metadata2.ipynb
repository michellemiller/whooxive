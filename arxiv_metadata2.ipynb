{
 "cells": [
  {
   "cell_type": "code",
   "execution_count": 158,
   "metadata": {
    "collapsed": false
   },
   "outputs": [],
   "source": [
    "%matplotlib inline\n",
    "#import dateutil.parser\n",
    "#import datetime\n",
    "#import sqlalchemy\n",
    "import urllib2\n",
    "#import xml\n",
    "#import xml.etree.ElementTree\n",
    "from lxml import etree\n",
    "#from lxml import objectify\n",
    "#from bs4 import BeautifulSoup\n",
    "#import metadataDB\n",
    "import metadataDB.addArticle\n",
    "import metadataDB.getmetadata\n",
    "import metadataDB.harvest\n",
    "import itertools\n",
    "import time\n",
    "#import pyoai"
   ]
  },
  {
   "cell_type": "code",
   "execution_count": 166,
   "metadata": {
    "collapsed": false
   },
   "outputs": [
    {
     "name": "stdout",
     "output_type": "stream",
     "text": [
      "Total time: 10.414547 for 131 entries (0.079500 per entry)\n"
     ]
    }
   ],
   "source": [
    "reload(metadataDB.harvest)\n",
    "metadataDB.harvest.harvest()"
   ]
  },
  {
   "cell_type": "code",
   "execution_count": 170,
   "metadata": {
    "collapsed": false
   },
   "outputs": [
    {
     "name": "stdout",
     "output_type": "stream",
     "text": [
      "22.222222 hours\n"
     ]
    }
   ],
   "source": [
    "print \"%f hours\" % (0.08 * 1e6/(3600.))"
   ]
  },
  {
   "cell_type": "code",
   "execution_count": 156,
   "metadata": {
    "collapsed": false
   },
   "outputs": [
    {
     "name": "stdout",
     "output_type": "stream",
     "text": [
      "xml is long... at 0 / 3643.\n",
      "xml is long... at 1000 / 3643.\n",
      "xml is long... at 2000 / 3643.\n",
      "220.557451963\n"
     ]
    }
   ],
   "source": [
    "url = 'http://export.arxiv.org/oai2?verb=ListRecords&set=physics&from=2015-01-01&until=2015-02-01&metadataPrefix=arXiv'\n",
    "#url = 'http://export.arxiv.org/oai2?verb=ListRecords&set=physics:cond-mat&from=2015-01-01&until=2015-02-01&metadataPrefix=arXiv'\n",
    "reload(metadataDB.getmetadata)\n",
    "#url = metadataDB.getmetadata.constructURL()\n",
    "#print url\n",
    "start = time.time()\n",
    "xmlList = metadataDB.getmetadata.download(url)\n",
    "final = time.time()\n",
    "print final - start\n",
    "# 0.06 sec per entry"
   ]
  },
  {
   "cell_type": "code",
   "execution_count": 157,
   "metadata": {
    "collapsed": false
   },
   "outputs": [
    {
     "name": "stdout",
     "output_type": "stream",
     "text": [
      "3643\n",
      "Total time: 92.325708 for 3643 entries (0.025343 per entry)\n"
     ]
    }
   ],
   "source": [
    "reload(metadataDB.getmetadata)\n",
    "listArticle = list(itertools.chain.from_iterable([metadataDB.getmetadata.parse(x) for x in xmlList]))\n",
    "reload(metadataDB.addArticle)\n",
    "print len(listArticle)\n",
    "start = time.time()\n",
    "for article in listArticle:\n",
    "    metadataDB.addArticle.addArticle(article)\n",
    "final = time.time()\n",
    "print 'Total time: %f for %i entries (%f per entry)' % (final - start, len(listArticle), (final-start)/len(listArticle))\n",
    "# 0.025 seconds per entry\n",
    "# For 1 million entries, that's 7 hours!"
   ]
  },
  {
   "cell_type": "markdown",
   "metadata": {},
   "source": [
    "The OAI-PMH interface\n",
    "\n",
    "Remember to handle XML vulnerabilities!\n",
    "\n",
    "https://docs.python.org/2/library/xml.html#xml-vulnerabilities"
   ]
  },
  {
   "cell_type": "code",
   "execution_count": 5,
   "metadata": {
    "collapsed": false
   },
   "outputs": [
    {
     "data": {
      "text/plain": [
       "'http://export.arxiv.org/oai2?verb=GetRecord&identifier=oai:arXiv.org:0804.2273&metadataPrefix=arXiv'"
      ]
     },
     "execution_count": 5,
     "metadata": {},
     "output_type": "execute_result"
    }
   ],
   "source": [
    "# A single record\n",
    "'http://export.arxiv.org/oai2?verb=GetRecord&identifier=oai:arXiv.org:0804.2273&metadataPrefix=arXiv'"
   ]
  },
  {
   "cell_type": "code",
   "execution_count": 54,
   "metadata": {
    "collapsed": false
   },
   "outputs": [],
   "source": [
    "testurl = 'http://export.arxiv.org/oai2?verb=ListRecords&set=physics:cond-mat&from=2015-01-01&until=2015-02-01&metadataPrefix=arXiv'\n",
    "#testurl = 'http://export.arxiv.org/oai2?verb=ListRecords&set=math&from=2015-01-01&until=2015-01-03&metadataPrefix=arXiv'\n",
    "#opener = urllib2.build_opener()    \n",
    "#opener.addheaders = [('User-agent', 'Mozilla/5.0')]\n",
    "#try:\n",
    "# response = opener.open(testurl)\n",
    "# html = response.read()\n",
    "# response.close()"
   ]
  },
  {
   "cell_type": "code",
   "execution_count": 55,
   "metadata": {
    "collapsed": false
   },
   "outputs": [],
   "source": [
    "response = opener.open(testurl)\n",
    "# html = response.read()\n",
    "# response.close()"
   ]
  },
  {
   "cell_type": "code",
   "execution_count": 56,
   "metadata": {
    "collapsed": true
   },
   "outputs": [],
   "source": [
    "html = response.read()\n",
    "response.close()"
   ]
  },
  {
   "cell_type": "code",
   "execution_count": 60,
   "metadata": {
    "collapsed": false,
    "scrolled": true
   },
   "outputs": [
    {
     "name": "stdout",
     "output_type": "stream",
     "text": [
      "ef><abstract>  We present a quantum solution to coordination problems that can be\n",
      "implemented with present technologies. It provides an alternative to existing\n",
      "approaches, which rely on explicit communication, prior commitment or trusted\n",
      "third parties. This quantum mechanism applies to a variety of scenarios for\n",
      "which existing approaches are not feasible.\n",
      "</abstract></arXiv>\n",
      "</metadata>\n",
      "</record>\n",
      "<resumptionToken cursor=\"1000\" completeListSize=\"1161\"></resumptionToken>\n",
      "</ListRecords>\n",
      "</OAI-PMH>\n"
     ]
    }
   ],
   "source": [
    "print html[-500:-1]"
   ]
  },
  {
   "cell_type": "code",
   "execution_count": 58,
   "metadata": {
    "collapsed": false
   },
   "outputs": [],
   "source": [
    "e = etree.fromstring(html)"
   ]
  },
  {
   "cell_type": "code",
   "execution_count": 69,
   "metadata": {
    "collapsed": false
   },
   "outputs": [
    {
     "name": "stdout",
     "output_type": "stream",
     "text": [
      "{http://www.openarchives.org/OAI/2.0/}resumptionToken\n",
      "None\n",
      "{'cursor': '1000', 'completeListSize': '1161'}\n"
     ]
    },
    {
     "data": {
      "text/plain": [
       "'HTML is long... cursor is at 1000 / 1161.'"
      ]
     },
     "execution_count": 69,
     "metadata": {},
     "output_type": "execute_result"
    }
   ],
   "source": [
    "f = e.find('.//{http://www.openarchives.org/OAI/2.0/}resumptionToken')\n",
    "print f.tag\n",
    "print f.text\n",
    "print f.attrib\n",
    "'HTML is long... cursor is at %s / %s.'% (f.attrib['cursor'], f.attrib['completeListSize'])"
   ]
  }
 ],
 "metadata": {
  "kernelspec": {
   "display_name": "Python 2",
   "language": "python",
   "name": "python2"
  },
  "language_info": {
   "codemirror_mode": {
    "name": "ipython",
    "version": 2
   },
   "file_extension": ".py",
   "mimetype": "text/x-python",
   "name": "python",
   "nbconvert_exporter": "python",
   "pygments_lexer": "ipython2",
   "version": "2.7.11"
  }
 },
 "nbformat": 4,
 "nbformat_minor": 0
}
