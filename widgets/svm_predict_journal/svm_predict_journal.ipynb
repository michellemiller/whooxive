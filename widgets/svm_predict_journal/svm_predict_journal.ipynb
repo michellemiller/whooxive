{
 "cells": [
  {
   "cell_type": "markdown",
   "metadata": {},
   "source": [
    "Use fancy machine learning to predict whether an article makes it into Nature/Science or PRL. This time we'll only look at articles in the physics.atom-ph section."
   ]
  },
  {
   "cell_type": "code",
   "execution_count": 82,
   "metadata": {
    "collapsed": false
   },
   "outputs": [],
   "source": [
    "#Need to add parent directoy to sys.path to find 'metadataDB'\n",
    "import sys\n",
    "sys.path.append('../../')\n",
    "\n",
    "%matplotlib inline\n",
    "import matplotlib.pyplot as plt \n",
    "import time\n",
    "import numpy as np\n",
    "import re\n",
    "from itertools import combinations\n",
    "import json\n",
    "\n",
    "# Natural language processing toolkit\n",
    "# To use this, run nltk.download() and download 'stopwords'\n",
    "# from nltk.corpus import stopwords\n",
    "# s=stopwords.words('english') + ['']\n",
    "\n",
    "# Machine learning\n",
    "from sklearn.feature_extraction.text import CountVectorizer\n",
    "from sklearn.feature_extraction.text import TfidfTransformer\n",
    "from sklearn.naive_bayes import MultinomialNB\n",
    "from sklearn.linear_model import LogisticRegression\n",
    "from sklearn.svm import LinearSVC, SVC\n",
    "from sklearn.pipeline import Pipeline\n",
    "from sklearn import metrics\n",
    "from sklearn.cross_validation import train_test_split\n",
    "\n",
    "# SQL\n",
    "from sqlalchemy import create_engine\n",
    "from sqlalchemy.orm import sessionmaker\n",
    "from metadataDB.declareDatabase import *\n",
    "from sqlalchemy import or_, and_\n",
    "\n",
    "engine = create_engine(\"sqlite:///../../arXiv_metadata.db\", echo=False)\n",
    "Base.metadata.bind = engine\n",
    "DBsession = sessionmaker(bind=engine)\n",
    "session = DBsession()"
   ]
  },
  {
   "cell_type": "code",
   "execution_count": 65,
   "metadata": {
    "collapsed": true
   },
   "outputs": [],
   "source": [
    "categories = ['atom-ph', 'quant-ph', 'cond-mat', 'quant-gas', 'hep-th', 'hep-ex', '']\n",
    "categories = ['quant-ph']\n",
    "journals_dict = {'PRL': ['Physics Review Letters%',\n",
    "                    'Phys. Rev. Lett.%',\n",
    "                    'Phys.Rev.Lett.%',\n",
    "                    'PRL%'],\n",
    "                 'PR':  ['Physics Review%',\n",
    "                         'Phys. Rev.%',\n",
    "                         'Phys.Rev.%',\n",
    "                         'PR%'],\n",
    "                 'Nature': ['Nature%',\n",
    "                            'Nat.%',\n",
    "                            'Science%'],\n",
    "                 'APL': ['APL%',\n",
    "                         'Appl.Phys.Lett.%',\n",
    "                         'Appl. Phys. Lett.%',\n",
    "                         'Applied Physics Letters%'],\n",
    "                 'AP': ['AP%',\n",
    "                        'Appl.Phys.%',\n",
    "                        'Appl. Phys.%',\n",
    "                        'Applied Physics%'],\n",
    "                 'All': ['%'],\n",
    "                 }\n"
   ]
  },
  {
   "cell_type": "code",
   "execution_count": 73,
   "metadata": {
    "collapsed": false
   },
   "outputs": [],
   "source": [
    "def get_abstracts(journal, category):\n",
    "    query = session.query(Article_Category)\\\n",
    "                    .join(Category)\\\n",
    "                    .join(Article)\\\n",
    "                    .filter(Category.name.like('%' + category + '%'),\n",
    "                            or_(*[Article.journal_ref.like(x) for x in journals_dict[journal]]))\n",
    "\n",
    "    # Don't need to clean up text: CountVectorizer will do everything\n",
    "    return [ result.article.abstract for result in query ]\n",
    "\n",
    "\n",
    "def learn(journals, category):\n",
    "    abstracts1 = get_abstracts(journals[0], category)\n",
    "    abstracts2 = get_abstracts(journals[1], category)\n",
    "    \n",
    "    half_test_size = int(round(0.2*min(len(abstracts1),len(abstracts2))))\n",
    "#     print half_test_size\n",
    "\n",
    "    X1_train, X1_test, y1_train, y1_test = train_test_split(abstracts1, [0]*len(abstracts1), test_size=half_test_size, random_state=42)\n",
    "    X2_train, X2_test, y2_train, y2_test = train_test_split(abstracts2, [1]*len(abstracts2), test_size=half_test_size, random_state=42)\n",
    "\n",
    "    X_train = X1_train + X2_train\n",
    "    X_test = X1_test + X2_test\n",
    "    y_train = np.array(y1_train + y2_train)\n",
    "    y_test = np.array(y1_test + y2_test)\n",
    "    target_names = journals\n",
    "    \n",
    "    \n",
    "    clf = Pipeline([('vect', CountVectorizer(ngram_range=(1,3))),\n",
    "                    ('tfidf', TfidfTransformer()),\n",
    "                    ('clf', LinearSVC(C=1,penalty='l1',dual=False,fit_intercept=True))])\n",
    "    transform = clf.fit_transform(X_train, y_train)\n",
    "    y_predict_train = clf.predict(X_train)\n",
    "    y_predict_test = clf.predict(X_test)\n",
    "    \n",
    "    print (metrics.classification_report(y_test, y_predict_test,\n",
    "                                    target_names=target_names))\n",
    "#                                     target_names=test_target_names))\n",
    "    print metrics.confusion_matrix(y_test, y_predict_test)\n",
    "    print 'Accuracy: %f' % (metrics.accuracy_score(y_test, y_predict_test))\n",
    "\n",
    "    most_important_words = clf.named_steps['clf'].coef_.argsort()[:, ::-1]\n",
    "\n",
    "    terms =  clf.named_steps['vect'].get_feature_names()\n",
    "    result = [{'name': terms[word],\n",
    "               'value': clf.named_steps['clf'].coef_[0,word]}\n",
    "                for word in (np.concatenate((most_important_words[0, :15],\n",
    "                             most_important_words[0, -15:]))) ]\n",
    "    return result\n",
    "\n"
   ]
  },
  {
   "cell_type": "code",
   "execution_count": 91,
   "metadata": {
    "collapsed": false
   },
   "outputs": [
    {
     "name": "stdout",
     "output_type": "stream",
     "text": [
      "('atom-ph', ('PRL', 'APL'))\n",
      "6\n",
      "             precision    recall  f1-score   support\n",
      "\n",
      "        PRL       0.50      1.00      0.67         6\n",
      "        APL       0.00      0.00      0.00         6\n",
      "\n",
      "avg / total       0.25      0.50      0.33        12\n",
      "\n",
      "[[6 0]\n",
      " [6 0]]\n",
      "0.5\n",
      "('atom-ph', ('PRL', 'Nature'))\n",
      "28\n",
      "             precision    recall  f1-score   support\n",
      "\n",
      "        PRL       0.76      1.00      0.86        28\n",
      "     Nature       1.00      0.68      0.81        28\n",
      "\n",
      "avg / total       0.88      0.84      0.84        56\n",
      "\n",
      "[[28  0]\n",
      " [ 9 19]]\n",
      "0.839285714286\n",
      "('atom-ph', ('APL', 'Nature'))\n",
      "6\n",
      "             precision    recall  f1-score   support\n",
      "\n",
      "        APL       0.00      0.00      0.00         6\n",
      "     Nature       0.50      1.00      0.67         6\n",
      "\n",
      "avg / total       0.25      0.50      0.33        12\n",
      "\n",
      "[[0 6]\n",
      " [0 6]]\n",
      "0.5\n",
      "('quant-ph', ('PRL', 'APL'))\n",
      "45\n",
      "             precision    recall  f1-score   support\n",
      "\n",
      "        PRL       0.57      1.00      0.73        45\n",
      "        APL       1.00      0.24      0.39        45\n",
      "\n",
      "avg / total       0.78      0.62      0.56        90\n",
      "\n",
      "[[45  0]\n",
      " [34 11]]\n",
      "0.622222222222\n",
      "('quant-ph', ('PRL', 'Nature'))\n",
      "154\n",
      "             precision    recall  f1-score   support\n",
      "\n",
      "        PRL       0.81      0.87      0.84       154\n",
      "     Nature       0.86      0.79      0.82       154\n",
      "\n",
      "avg / total       0.83      0.83      0.83       308\n",
      "\n",
      "[[134  20]\n",
      " [ 32 122]]\n",
      "0.831168831169\n",
      "('quant-ph', ('APL', 'Nature'))\n",
      "45\n",
      "             precision    recall  f1-score   support\n",
      "\n",
      "        APL       1.00      0.36      0.52        45\n",
      "     Nature       0.61      1.00      0.76        45\n",
      "\n",
      "avg / total       0.80      0.68      0.64        90\n",
      "\n",
      "[[16 29]\n",
      " [ 0 45]]\n",
      "0.677777777778\n",
      "('cond-mat', ('PRL', 'APL'))\n",
      "637\n",
      "             precision    recall  f1-score   support\n",
      "\n",
      "        PRL       0.74      0.97      0.84       637\n",
      "        APL       0.96      0.67      0.79       637\n",
      "\n",
      "avg / total       0.85      0.82      0.82      1274\n",
      "\n",
      "[[621  16]\n",
      " [213 424]]\n",
      "0.820251177394\n",
      "('cond-mat', ('PRL', 'Nature'))\n",
      "617\n",
      "             precision    recall  f1-score   support\n",
      "\n",
      "        PRL       0.79      0.96      0.87       617\n",
      "     Nature       0.94      0.75      0.84       617\n",
      "\n",
      "avg / total       0.87      0.85      0.85      1234\n",
      "\n",
      "[[590  27]\n",
      " [155 462]]\n",
      "0.852512155592\n",
      "('cond-mat', ('APL', 'Nature'))\n",
      "617\n",
      "             precision    recall  f1-score   support\n",
      "\n",
      "        APL       0.92      0.86      0.89       617\n",
      "     Nature       0.87      0.93      0.90       617\n",
      "\n",
      "avg / total       0.89      0.89      0.89      1234\n",
      "\n",
      "[[528  89]\n",
      " [ 45 572]]\n",
      "0.891410048622\n",
      "('str-el', ('PRL', 'APL'))\n",
      "36\n",
      "             precision    recall  f1-score   support\n",
      "\n",
      "        PRL       0.56      1.00      0.72        36\n",
      "        APL       1.00      0.22      0.36        36\n",
      "\n",
      "avg / total       0.78      0.61      0.54        72\n",
      "\n",
      "[[36  0]\n",
      " [28  8]]\n",
      "0.611111111111\n",
      "('str-el', ('PRL', 'Nature'))\n",
      "110\n",
      "             precision    recall  f1-score   support\n",
      "\n",
      "        PRL       0.76      0.96      0.85       110\n",
      "     Nature       0.95      0.70      0.81       110\n",
      "\n",
      "avg / total       0.86      0.83      0.83       220\n",
      "\n",
      "[[106   4]\n",
      " [ 33  77]]\n",
      "0.831818181818\n",
      "('str-el', ('APL', 'Nature'))\n",
      "36\n",
      "             precision    recall  f1-score   support\n",
      "\n",
      "        APL       1.00      0.31      0.47        36\n",
      "     Nature       0.59      1.00      0.74        36\n",
      "\n",
      "avg / total       0.80      0.65      0.61        72\n",
      "\n",
      "[[11 25]\n",
      " [ 0 36]]\n",
      "0.652777777778\n",
      "227.488034964\n"
     ]
    }
   ],
   "source": [
    "categories = ['atom-ph', 'quant-ph', 'cond-mat', 'str-el']\n",
    "journals = ['PRL', 'APL', 'Nature']\n",
    "\n",
    "start = time.time()\n",
    "\n",
    "final_dict = dict()\n",
    "for category in categories:\n",
    "    current_dict = dict()\n",
    "    for journal_pair in combinations(journals, 2):\n",
    "        print (category, journal_pair)\n",
    "        current_dict['/'.join(journal_pair)] = learn(journal_pair, category)\n",
    "#         current_dict[journal] = keywords(journal, category)\n",
    "    if category == '':\n",
    "        category = 'All'\n",
    "    final_dict[category.replace('-', '_')] = current_dict\n",
    "\n",
    "print (time.time() - start)\n",
    "\n",
    "# print json.dumps(final_dict)\n",
    "with open('svm_journal.json', 'wb') as f:\n",
    "    json.dump(final_dict, f)\n",
    "# learn(['Nature', 'PRL'], 'atom-ph')"
   ]
  },
  {
   "cell_type": "code",
   "execution_count": 10,
   "metadata": {
    "collapsed": false
   },
   "outputs": [],
   "source": [
    "abstracts1 = get_abstracts('Nature' ,'quant-ph')\n",
    "abstracts2 = get_abstracts('PRL' ,'quant-ph')"
   ]
  },
  {
   "cell_type": "code",
   "execution_count": 83,
   "metadata": {
    "collapsed": false
   },
   "outputs": [
    {
     "name": "stdout",
     "output_type": "stream",
     "text": [
      "770\n",
      "3353\n"
     ]
    }
   ],
   "source": [
    "print len(abstracts1)\n",
    "print len(abstracts2)\n",
    "half_test_size = 500\n",
    "\n",
    "X1_train, X1_test, y1_train, y1_test = train_test_split(abstracts1, [0]*len(abstracts1), test_size=half_test_size, random_state=42)\n",
    "X2_train, X2_test, y2_train, y2_test = train_test_split(abstracts2, [1]*len(abstracts2), test_size=half_test_size, random_state=42)\n",
    "\n",
    "X_train = X1_train + X2_train\n",
    "X_test = X1_test + X2_test\n",
    "y_train = np.array(y1_train + y2_train)\n",
    "y_test = np.array(y1_test + y2_test)\n",
    "target_names = ['Nature', 'PRL']\n",
    "\n",
    "# print len(y_test)\n",
    "# print y_test"
   ]
  },
  {
   "cell_type": "code",
   "execution_count": 6,
   "metadata": {
    "collapsed": true
   },
   "outputs": [],
   "source": [
    "session.close_all()"
   ]
  },
  {
   "cell_type": "code",
   "execution_count": 7,
   "metadata": {
    "collapsed": false
   },
   "outputs": [],
   "source": [
    "# # Train with 80% of the Nature data, test with 20% of the Nature data\n",
    "# # Choose the same number of PRL and Nature articles in the test sets.\n",
    "\n",
    "# indNatureScience = len(abstractNatureScience)*4/5\n",
    "# indPRL = len(abstractPRL) - (len(abstractNatureScience) - indNatureScience)\n",
    "\n",
    "# train_abstract = abstractPRL[:indPRL] + abstractNatureScience[:indNatureScience]\n",
    "# train_title = titlePRL[:indPRL] + titleNatureScience[:indNatureScience]\n",
    "# train_target = [0]*indPRL + [1]*indNatureScience\n",
    "# train_target_names = ['PRL']*indPRL + ['Nature']*indNatureScience\n",
    "\n",
    "# test_abstract = abstractPRL[indPRL:] + abstractNatureScience[indNatureScience:]\n",
    "# test_title = titlePRL[indPRL:] + titleNatureScience[indNatureScience:]\n",
    "# test_target = [0]*len(abstractPRL[indPRL:]) + [1]*len(abstractNatureScience[indNatureScience:])\n",
    "# test_target_names = ['PRL', 'Nature/Science']"
   ]
  },
  {
   "cell_type": "code",
   "execution_count": 14,
   "metadata": {
    "collapsed": false
   },
   "outputs": [
    {
     "name": "stdout",
     "output_type": "stream",
     "text": [
      "(3123, 204)\n"
     ]
    }
   ],
   "source": [
    "#SVC(kernel='linear') is good\n",
    "clf = Pipeline([('vect', CountVectorizer(ngram_range=(1,2))),\n",
    "                ('tfidf', TfidfTransformer()),\n",
    "                ('clf', LinearSVC(C=1,penalty='l1',dual=False,fit_intercept=True))])\n",
    "transform = clf.fit_transform(X_train, y_train)\n",
    "y_predict_train = clf.predict(X_train)\n",
    "y_predict_test = clf.predict(X_test)\n",
    "# print text_abstract_clf.predict(X_train)\n",
    "print transform.shape"
   ]
  },
  {
   "cell_type": "code",
   "execution_count": 15,
   "metadata": {
    "collapsed": false
   },
   "outputs": [],
   "source": [
    "# vect = CountVectorizer(ngram_range=(1,1))\n",
    "# x_train_counts = vect.fit_transform(X_train)\n",
    "# # tfidf = TfidfTransformer.fit_transform(vect)\n",
    "# print x_train_counts.shape\n",
    "# x_train_tfidf = TfidfTransformer().fit_transform(x_train_counts)\n",
    "# print x_train_tfidf.shape\n",
    "# clf = LinearSVC(C=1,penalty='l1',dual=False,)\n",
    "# print clf.fit_transform(x_train_tfidf, y_train).shape"
   ]
  },
  {
   "cell_type": "code",
   "execution_count": 16,
   "metadata": {
    "collapsed": false
   },
   "outputs": [
    {
     "name": "stdout",
     "output_type": "stream",
     "text": [
      "             precision    recall  f1-score   support\n",
      "\n",
      "     Nature       0.97      0.35      0.51       500\n",
      "        PRL       0.60      0.99      0.75       500\n",
      "\n",
      "avg / total       0.78      0.67      0.63      1000\n",
      "\n",
      "[[174 326]\n",
      " [  6 494]]\n",
      "0.668\n"
     ]
    }
   ],
   "source": [
    "#SVC(kernel='linear')\n",
    "print(metrics.classification_report(y_test, y_predict_test,\n",
    "                                    target_names=target_names))\n",
    "#                                     target_names=test_target_names))\n",
    "print metrics.confusion_matrix(y_test, y_predict_test)\n",
    "print metrics.accuracy_score(y_test, y_predict_test)"
   ]
  },
  {
   "cell_type": "code",
   "execution_count": 56,
   "metadata": {
    "collapsed": false
   },
   "outputs": [
    {
     "name": "stdout",
     "output_type": "stream",
     "text": [
      "show, method, squeezing, find, scheme, we, propagating, quantum correlations, encoded, study, terms, retrieval, between the, quantum system, the spin\n",
      "gmqd, demonstrated, have, work, tunnelling, nanoscale, observe, of, to, here, and, challenge, quantum, progress, here we\n",
      "[{'name': u'show', 'value': 2.5849494436987372}, {'name': u'method', 'value': 1.9364054103957078}, {'name': u'squeezing', 'value': 1.911814067537414}, {'name': u'find', 'value': 1.5925375078271773}, {'name': u'scheme', 'value': 1.3101470582605006}, {'name': u'we', 'value': 0.91672377950211115}, {'name': u'propagating', 'value': 0.91615582268332318}, {'name': u'quantum correlations', 'value': 0.79468946316285405}, {'name': u'encoded', 'value': 0.774638600670706}, {'name': u'study', 'value': 0.68830895166628003}, {'name': u'terms', 'value': 0.55123253758978441}, {'name': u'retrieval', 'value': 0.52583216149061573}, {'name': u'between the', 'value': 0.49799248567608467}, {'name': u'quantum system', 'value': 0.47652977267519026}, {'name': u'the spin', 'value': 0.46518910121086049}, {'name': u'gmqd', 'value': -1.8108323674254372}, {'name': u'demonstrated', 'value': -1.8119543105407308}, {'name': u'have', 'value': -1.8128594822700534}, {'name': u'work', 'value': -1.8703426135494075}, {'name': u'tunnelling', 'value': -1.9702282943868827}, {'name': u'nanoscale', 'value': -2.194474252109611}, {'name': u'observe', 'value': -2.2006495573820559}, {'name': u'of', 'value': -2.2242443061967103}, {'name': u'to', 'value': -2.2489918099435502}, {'name': u'here', 'value': -2.8760760346113643}, {'name': u'and', 'value': -3.5748993731822281}, {'name': u'challenge', 'value': -3.5917860322171746}, {'name': u'quantum', 'value': -3.6852866347897124}, {'name': u'progress', 'value': -4.0705684929095494}, {'name': u'here we', 'value': -7.2695078969947939}]\n"
     ]
    }
   ],
   "source": [
    "most_important_words = clf.named_steps['clf'].coef_.argsort()[:, ::-1]\n",
    "\n",
    "terms =  clf.named_steps['vect'].get_feature_names()\n",
    "print ', '.join([terms[x] for x in most_important_words[0, :15]])\n",
    "print ', '.join([terms[x] for x in most_important_words[0, -15:]])\n",
    "\n",
    "# print len(terms)\n",
    "# print terms\n",
    "result = [{'name': terms[word],\n",
    "           'value': clf.named_steps['clf'].coef_[0,word]}\n",
    "          for word in (np.concatenate((most_important_words[0, :15],\n",
    "                             most_important_words[0, -15:]))) ]\n",
    "print result\n",
    "# for word in (np.concatenate((most_important_words[0, :15],\n",
    "#                              most_important_words[0, -15:]))):\n",
    "# #     print word\n",
    "#     print {'name': terms[word],\n",
    "#            'value': clf.named_steps['clf'].coef_[0,word]}\n",
    "#     print word\n",
    "#     print terms[word]\n",
    "#     print clf.named_steps['clf'].coef_[word]\n",
    "# for i in range(len(category_list)):\n",
    "#     print \"Category %s:\" % (category_list[i])\n",
    "#     print ', '.join([terms[x] for x in most_important_words[i, :20]])\n",
    "#     print ''"
   ]
  },
  {
   "cell_type": "code",
   "execution_count": 54,
   "metadata": {
    "collapsed": false
   },
   "outputs": [
    {
     "name": "stdout",
     "output_type": "stream",
     "text": [
      "317942\n",
      "(1.9028563803724021, 3.8515849311827899, -5.9545085665641109)\n"
     ]
    }
   ],
   "source": [
    "phrase1 = 'simulations'\n",
    "phrase2 = 'temperature superconductivity'\n",
    "phrase1_index = clf.named_steps['vect'].vocabulary_[phrase1]\n",
    "phrase2_index = clf.named_steps['vect'].vocabulary_[phrase2]\n",
    "print phrase1_index\n",
    "\n",
    "a0 = clf.named_steps['clf'].intercept_[0]\n",
    "a1 = clf.named_steps['clf'].coef_[0,phrase1_index]\n",
    "a2 = clf.named_steps['clf'].coef_[0,phrase2_index]\n",
    "print (a0, a1, a2)"
   ]
  },
  {
   "cell_type": "code",
   "execution_count": 55,
   "metadata": {
    "collapsed": false
   },
   "outputs": [
    {
     "name": "stdout",
     "output_type": "stream",
     "text": [
      "(17921, 408249)\n"
     ]
    }
   ],
   "source": [
    "# Each article gives one point on a plot of x1=phrase1 vs x2=phrase2\n",
    "\n",
    "# The following line of code is stupid since I'm again transforming the data.\n",
    "# There should be a better way to hande this.\n",
    "tfidf = clf.named_steps['tfidf'].transform(clf.named_steps['vect'].transform(X_train))\n",
    "print tfidf.shape\n",
    "x1 = np.squeeze(tfidf[:, phrase1_index].toarray())\n",
    "x2 = np.squeeze(tfidf[:, phrase2_index].toarray())"
   ]
  },
  {
   "cell_type": "code",
   "execution_count": 56,
   "metadata": {
    "collapsed": false
   },
   "outputs": [
    {
     "name": "stdout",
     "output_type": "stream",
     "text": [
      "-0.932863355049\n"
     ]
    }
   ],
   "source": [
    "# The intercept on the 2D plot is NOT given by a0, but depends on the mean value of\n",
    "# (coefficient matrix) * (typical tfidf) for the rest of the terms.\n",
    "\n",
    "tfidf_mean = np.squeeze(np.asarray(tfidf.mean(axis=0)))\n",
    "# print tfidf_mean.shape\n",
    "# print clf.named_steps['clf'].coef_[0,:].shape\n",
    "tfidf_weighted = clf.named_steps['clf'].coef_[0,:] * tfidf_mean\n",
    "print tfidf_weighted.sum()"
   ]
  },
  {
   "cell_type": "code",
   "execution_count": 57,
   "metadata": {
    "collapsed": false
   },
   "outputs": [
    {
     "name": "stdout",
     "output_type": "stream",
     "text": [
      "(0.70848630330989193, 3.3810829937263986, -21.782796003675308)\n"
     ]
    }
   ],
   "source": [
    "# I'm confused by the plots. Let's also run LinearSVC on just the two dimensional dataset.\n",
    "clf_2d = LinearSVC(C=1,penalty='l1',dual=False,fit_intercept=True)\n",
    "clf_2d.fit(np.vstack((x1,x2)).T, y_train)\n",
    "a0_2d = clf_2d.intercept_[0]\n",
    "a1_2d = clf_2d.coef_[0,0]\n",
    "a2_2d = clf_2d.coef_[0,1]\n",
    "print (a0_2d, a1_2d, a2_2d)"
   ]
  },
  {
   "cell_type": "code",
   "execution_count": 58,
   "metadata": {
    "collapsed": false,
    "scrolled": true
   },
   "outputs": [
    {
     "data": {
      "text/plain": [
       "<matplotlib.collections.PathCollection at 0x110838f50>"
      ]
     },
     "execution_count": 58,
     "metadata": {},
     "output_type": "execute_result"
    },
    {
     "data": {
      "image/png": "[encoded data removed]",
      "text/plain": [
       "<matplotlib.figure.Figure at 0x110ca6290>"
      ]
     },
     "metadata": {},
     "output_type": "display_data"
    }
   ],
   "source": [
    "x1_line = np.linspace(0, 0.05)\n",
    "a0b = (a0 # Is the factor of 1/2 real or a coincidence?\n",
    "      + tfidf_weighted.sum()\n",
    "      - tfidf_weighted[phrase1_index]\n",
    "      - tfidf_weighted[phrase2_index])\n",
    "# print (a0, tfidf_weighted.sum(), tfidf_weighted[phrase1_index], tfidf_weighted[phrase2_index])\n",
    "# # a0b = -0.15 # -0.2 is pretty good\n",
    "# a0b = -0.2\n",
    "x2_line = -(a0b + a1*x1_line) / a2\n",
    "x2_line_2d = -(a0_2d + a1_2d*x1_line) / a2_2d\n",
    "# # m = np.array(['s', 'o']\n",
    "plt.plot(x1_line, x2_line, 'k', lw=2)\n",
    "plt.plot(x1_line, x2_line_2d, 'g', lw=2)\n",
    "# # plt.scatter(x1, x2, c='blue', marker='o', s=50.*(y_predict_train))\n",
    "# # plt.scatter(x1, x2, c='red', marker='s', s=50.*(1-y_predict_train))\n",
    "plt.scatter(x1[y_train==1],\n",
    "            x2[y_train==1],\n",
    "            facecolor='None',\n",
    "            edgecolor='red',\n",
    "            marker='s', s=50)\n",
    "plt.scatter(x1[y_train==0],\n",
    "            x2[y_train==0],\n",
    "            facecolor='None',\n",
    "            edgecolor='blue',\n",
    "            marker='o', s=50)\n",
    "\n",
    "# plt.scatter(x1, x2, c='red', marker='s', s=50.*(1-y_test))\n",
    "# plt.xlabel(phrase1)\n",
    "# plt.ylabel(phrase2)"
   ]
  },
  {
   "cell_type": "code",
   "execution_count": 18,
   "metadata": {
    "collapsed": false
   },
   "outputs": [
    {
     "name": "stdout",
     "output_type": "stream",
     "text": [
      "-1.15929490665\n"
     ]
    }
   ],
   "source": [
    "print a0 + 2* tfidf_weighted.sum()"
   ]
  },
  {
   "cell_type": "code",
   "execution_count": 19,
   "metadata": {
    "collapsed": false
   },
   "outputs": [
    {
     "name": "stdout",
     "output_type": "stream",
     "text": [
      "[ 1.90285638]\n",
      "[0 1]\n",
      "[[268994 317942 181293 ..., 258912 163588 163723]]\n"
     ]
    }
   ],
   "source": [
    "myclf = clf.named_steps['clf']\n",
    "print myclf.intercept_\n",
    "print myclf.classes_\n",
    "print myclf.coef_.argsort()[:, ::-1]"
   ]
  },
  {
   "cell_type": "code",
   "execution_count": 20,
   "metadata": {
    "collapsed": false
   },
   "outputs": [
    {
     "data": {
      "text/plain": [
       "0.0"
      ]
     },
     "execution_count": 20,
     "metadata": {},
     "output_type": "execute_result"
    }
   ],
   "source": [
    "clf.named_steps['vect'].get_feature_names()[4445]\n",
    "myclf.coef_[0,2772]"
   ]
  }
 ],
 "metadata": {
  "kernelspec": {
   "display_name": "Python 2",
   "language": "python",
   "name": "python2"
  },
  "language_info": {
   "codemirror_mode": {
    "name": "ipython",
    "version": 2
   },
   "file_extension": ".py",
   "mimetype": "text/x-python",
   "name": "python",
   "nbconvert_exporter": "python",
   "pygments_lexer": "ipython2",
   "version": "2.7.11"
  }
 },
 "nbformat": 4,
 "nbformat_minor": 0
}
