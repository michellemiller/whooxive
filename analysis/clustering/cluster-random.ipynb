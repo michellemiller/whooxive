{
 "cells": [
  {
   "cell_type": "markdown",
   "metadata": {},
   "source": [
    "### If the articles are assigned randomly to clusters, what's the probability of finding a DAMOP sessions with a majority of talks in one cluster?\n",
    "This is to benchmark a null hypothesis against our findings."
   ]
  },
  {
   "cell_type": "code",
   "execution_count": 1,
   "metadata": {
    "collapsed": true
   },
   "outputs": [],
   "source": [
    "%matplotlib inline\n",
    "import numpy as np\n",
    "import sympy\n",
    "from matplotlib import pyplot as plt\n",
    "import itertools\n",
    "from collections import Counter\n",
    "import math\n",
    "import random\n",
    "import json"
   ]
  },
  {
   "cell_type": "code",
   "execution_count": 35,
   "metadata": {
    "collapsed": false
   },
   "outputs": [],
   "source": [
    "def majority(m_abstracts, k_clusters):\n",
    "    prob = 0\n",
    "    for n in range(int(math.ceil(m_abstracts/2.)), m_abstracts+1):\n",
    "        prob += exactly_n_sessions(m_abstracts, k_clusters, n)\n",
    "    return prob\n",
    "\n",
    "def exactly_n_sessions(m_abstracts, k_clusters, n):\n",
    "    '''This only works if n is equal to or more than half.'''\n",
    "#     p = (1./k_clusters)**(n) * (1 - 1./k_clusters)**(m_abstracts - n)\n",
    "    \n",
    "    if 2*n == m_abstracts:\n",
    "        # Subtract the overcounted combiantions, e.g. [1, 1, 1, 2, 2, 2]\n",
    "        return sympy.binomial(m_abstracts, n) *  \\\n",
    "                   ( k_clusters * (k_clusters - 1)**(m_abstracts - n) - \\\n",
    "                     k_clusters * (k_clusters - 1) / 2 )\n",
    "        \n",
    "    elif 2*n > m_abstracts:\n",
    "        return sympy.binomial(m_abstracts, n) * k_clusters * (k_clusters - 1)**(m_abstracts - n)\n",
    "    else:\n",
    "        raise ValueError(\"Not yet implemented!\")\n",
    "\n",
    "def one_cluster_majority(session_list):\n",
    "    count = Counter(session_list)\n",
    "#     return 2*count.most_common()[0][1] >= len(session_list)\n",
    "    return (2*count.most_common()[0][1] >= len(session_list), count.most_common()[0][1])\n",
    "\n",
    "def two_cluster_majority(session_list):\n",
    "    count = Counter(session_list)\n",
    "    if len(count.most_common(2)) > 1:\n",
    "        num = count.most_common(2)[0][1] + count.most_common(2)[1][1]\n",
    "    else:\n",
    "        num = count.most_common(2)[0][1]\n",
    "        \n",
    "    return (2*num >= len(session_list), num)"
   ]
  },
  {
   "cell_type": "code",
   "execution_count": 3,
   "metadata": {
    "collapsed": false
   },
   "outputs": [
    {
     "name": "stdout",
     "output_type": "stream",
     "text": [
      "262144\n",
      "262144\n"
     ]
    }
   ],
   "source": [
    "k = 8\n",
    "m = 6\n",
    "\n",
    "# all_permutations is a function that returns an iterator. This is to save on memory.\n",
    "all_permutations = lambda: itertools.product(range(k), repeat=m)\n",
    "# print len(all_permutations)\n",
    "print sum(1 for _ in all_permutations())\n",
    "print k**m"
   ]
  },
  {
   "cell_type": "code",
   "execution_count": 4,
   "metadata": {
    "collapsed": false
   },
   "outputs": [
    {
     "name": "stdout",
     "output_type": "stream",
     "text": [
      "{3: 54320, 4: 5880, 5: 336, 6: 8}\n",
      "{3: 54320, 4: 5880, 5: 336, 6: 8}\n",
      "60544\n",
      "60544\n"
     ]
    }
   ],
   "source": [
    "count = Counter( (one_cluster_majority(x)[1] for x in all_permutations() ) )\n",
    "# print count\n",
    "print {n: exactly_n_sessions(m, k, n) for n in range(int(math.ceil(m/2.)), m+1)}\n",
    "print {n: count[n] for n in range(int(math.ceil(m/2.)), m+1)}\n",
    "print majority(m, k)\n",
    "print sum(1 for x in all_permutations() if one_cluster_majority(x)[0] )"
   ]
  },
  {
   "cell_type": "code",
   "execution_count": 5,
   "metadata": {
    "collapsed": false
   },
   "outputs": [
    {
     "name": "stdout",
     "output_type": "stream",
     "text": [
      "{4: 0.003751015625, 5: 0.000118453125, 6: 2.078125e-06, 7: 1.5625e-08}\n",
      "{4: 0.003766, 5: 0.000108, 6: 4e-06, 7: 0.0}\n",
      "0.0038715625\n",
      "0.003878\n"
     ]
    }
   ],
   "source": [
    "# For large k, can't count all the combiations. Instead, we generate random data.\n",
    "k = 20\n",
    "m = 7\n",
    "samples = int(1e6)\n",
    "\n",
    "random_permutations = lambda: ( [random.randint(0, k-1) for x in range(m)] for y in range(samples) )\n",
    "\n",
    "count = Counter( (one_cluster_majority(x)[1] for x in random_permutations() ) )\n",
    "\n",
    "print {n: float(exactly_n_sessions(m, k, n))/(k**m) for n in range(int(math.ceil(m/2.)), m+1)}\n",
    "print {n: float(count[n])/samples for n in range(int(math.ceil(m/2.)), m+1)}\n",
    "print float(majority(m, k))/(k**m)\n",
    "print sum([ float(count[n])/samples for n in range(int(math.ceil(m/2.)), m+1) ])"
   ]
  },
  {
   "cell_type": "markdown",
   "metadata": {},
   "source": [
    "#### Make a model from the DAMOP sessions"
   ]
  },
  {
   "cell_type": "code",
   "execution_count": 6,
   "metadata": {
    "collapsed": false
   },
   "outputs": [],
   "source": [
    "with open('../../damop data/damop2016.json') as f:\n",
    "    damop = json.load(f)"
   ]
  },
  {
   "cell_type": "code",
   "execution_count": 7,
   "metadata": {
    "collapsed": false
   },
   "outputs": [
    {
     "name": "stdout",
     "output_type": "stream",
     "text": [
      "[9, 7, 10, 10, 7, 10, 10, 10, 10, 10, 10, 10, 10, 10, 10, 10, 10, 10, 10, 10, 10, 9, 7, 10, 7, 10, 10, 10, 10, 10, 9, 7, 6, 10, 10, 9, 10, 10, 10, 10, 10, 10, 10, 10, 6, 10, 10, 10, 9, 10, 10, 9, 10, 9, 10, 10, 7, 8, 9]\n"
     ]
    }
   ],
   "source": [
    "damop_session_len = [ len(x['abstracts']) for x in damop\n",
    "                      if (len(x['abstracts']) > 5) and (len(x['abstracts']) < 40) ]\n",
    "print damop_session_len"
   ]
  },
  {
   "cell_type": "code",
   "execution_count": 8,
   "metadata": {
    "collapsed": true
   },
   "outputs": [],
   "source": [
    "# For each session, calculate the probability that each sessions is covered mostly by one cluster\n",
    "damop_session_prob = lambda k: [ float(majority(m, k))/(k**m) for m in damop_session_len]"
   ]
  },
  {
   "cell_type": "code",
   "execution_count": 31,
   "metadata": {
    "collapsed": false
   },
   "outputs": [
    {
     "name": "stdout",
     "output_type": "stream",
     "text": [
      "[(1, 2), (3, 2)]\n",
      "2\n",
      "2\n"
     ]
    },
    {
     "data": {
      "text/plain": [
       "(False, 4)"
      ]
     },
     "execution_count": 31,
     "metadata": {},
     "output_type": "execute_result"
    }
   ],
   "source": [
    "two_cluster_majority(generate_damop_clusters(10)[0])"
   ]
  },
  {
   "cell_type": "code",
   "execution_count": 40,
   "metadata": {
    "collapsed": false
   },
   "outputs": [],
   "source": [
    "# Randomly assign clusters to each session and count\n",
    "k = range(1, 60)\n",
    "prob_one = []\n",
    "prob_two = []\n",
    "samples = int(1e3)\n",
    "generate_damop_clusters = lambda k: [ [random.randint(0, k-1) for x in range(x)] for x in damop_session_len ]\n",
    "# print generate_damop_clusters(10)\n",
    "\n",
    "for k0 in k:\n",
    "    prob_one.append(np.mean([float(sum([one_cluster_majority(x)[0] for x in generate_damop_clusters(k0)]))/len(damop_session_len)\n",
    "                 for _ in range(samples)]))\n",
    "    prob_two.append(np.mean([float(sum([two_cluster_majority(x)[0] for x in generate_damop_clusters(k0)]))/len(damop_session_len)\n",
    "                 for _ in range(samples)]))"
   ]
  },
  {
   "cell_type": "code",
   "execution_count": 41,
   "metadata": {
    "collapsed": false
   },
   "outputs": [
    {
     "data": {
      "image/png": "[encoded data removed]",
      "text/plain": [
       "<matplotlib.figure.Figure at 0x1090e4a90>"
      ]
     },
     "metadata": {},
     "output_type": "display_data"
    }
   ],
   "source": [
    "plt.plot(k, prob_one, 'o',\n",
    "         k, prob_two, 's')\n",
    "\n",
    "with open(\"cluster-random.json\", \"w\") as f:\n",
    "    json.dump({'k': k,\n",
    "               'prob_one': prob_one,\n",
    "               'prob_two': prob_two}, f)"
   ]
  },
  {
   "cell_type": "code",
   "execution_count": null,
   "metadata": {
    "collapsed": false
   },
   "outputs": [],
   "source": [
    "#Exact estimate: this is a royal pain. Will do later (or not at all)"
   ]
  },
  {
   "cell_type": "code",
   "execution_count": null,
   "metadata": {
    "collapsed": false
   },
   "outputs": [],
   "source": [
    "# # Better estimate: sum over all the possibilities\n",
    "# # n_exactly = 6\n",
    "# k = 6\n",
    "# current_damop_session_prob = damop_session_prob(k)\n",
    "\n",
    "# data = {n: 0. for n in range(len(current_damop_session_prob)+1)}\n",
    "\n",
    "# for combo in itertools.product([True, False], repeat=len(current_damop_session_prob)):\n",
    "#     print combo\n",
    "#     current_prob = 1.\n",
    "#     sessions_majority = 0\n",
    "#     for x, y in zip(combo, current_damop_session_prob):\n",
    "#         if x == True:\n",
    "#             current_prob *= y\n",
    "#             sessions_majority += 1\n",
    "#         else:\n",
    "#             current_prob *= 1.-y\n",
    "# #     print (sessions_majority, current_prob)\n",
    "#     data[sessions_majority] += current_prob\n",
    "\n",
    "# # for n_exactly in range(len(damop_session_len)):\n",
    "    \n",
    "# print data\n",
    "# # damop_session_prob(3)"
   ]
  },
  {
   "cell_type": "code",
   "execution_count": null,
   "metadata": {
    "collapsed": true
   },
   "outputs": [],
   "source": []
  }
 ],
 "metadata": {
  "kernelspec": {
   "display_name": "Python 2",
   "language": "python",
   "name": "python2"
  },
  "language_info": {
   "codemirror_mode": {
    "name": "ipython",
    "version": 2
   },
   "file_extension": ".py",
   "mimetype": "text/x-python",
   "name": "python",
   "nbconvert_exporter": "python",
   "pygments_lexer": "ipython2",
   "version": "2.7.11"
  }
 },
 "nbformat": 4,
 "nbformat_minor": 0
}
