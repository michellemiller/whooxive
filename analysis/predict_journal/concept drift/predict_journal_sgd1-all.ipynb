{
 "cells": [
  {
   "cell_type": "markdown",
   "metadata": {},
   "source": [
    "Using SGD, which is kinda like SVM but can be trained with partial fits. \n",
    "\n",
    "Starting with just atom-ph, and comparing PR vs Nature"
   ]
  },
  {
   "cell_type": "code",
   "execution_count": 1,
   "metadata": {
    "collapsed": false
   },
   "outputs": [],
   "source": [
    "#Need to add parent directoy to sys.path to find 'metadataDB'\n",
    "import sys\n",
    "sys.path.append('../../../')\n",
    "\n",
    "%matplotlib inline\n",
    "import matplotlib.pyplot as plt \n",
    "import time\n",
    "import numpy as np\n",
    "import re\n",
    "from itertools import combinations\n",
    "import json\n",
    "\n",
    "# Natural language processing toolkit\n",
    "# To use this, run nltk.download() and download 'stopwords'\n",
    "# from nltk.corpus import stopwords\n",
    "# s=stopwords.words('english') + ['']\n",
    "\n",
    "# Machine learning\n",
    "from sklearn.feature_extraction.text import HashingVectorizer, CountVectorizer\n",
    "# from sklearn.feature_extraction.text import TfidfTransformer\n",
    "# from sklearn.naive_bayes import MultinomialNB\n",
    "# from sklearn.linear_model import LogisticRegression\n",
    "# from sklearn.svm import LinearSVC, SVC\n",
    "from sklearn.linear_model import SGDClassifier\n",
    "from sklearn.pipeline import Pipeline\n",
    "from sklearn import metrics\n",
    "from sklearn.cross_validation import train_test_split\n",
    "from sklearn.externals import joblib\n",
    "\n",
    "# SQL\n",
    "from sqlalchemy import create_engine\n",
    "from sqlalchemy.orm import sessionmaker\n",
    "from metadataDB.declareDatabase import *\n",
    "from sqlalchemy import or_, and_\n",
    "\n",
    "from datetime import date\n",
    "\n",
    "import json\n",
    "import pickle\n",
    "\n",
    "engine = create_engine(\"sqlite:///../../../arXiv_metadata.db\", echo=False)\n",
    "Base.metadata.bind = engine\n",
    "DBsession = sessionmaker(bind=engine)\n",
    "session = DBsession()"
   ]
  },
  {
   "cell_type": "code",
   "execution_count": 2,
   "metadata": {
    "collapsed": true
   },
   "outputs": [],
   "source": [
    "journals_dict = {'PRL': ['Physics Review Letters%',\n",
    "                    'Phys. Rev. Lett.%',\n",
    "                    'Phys.Rev.Lett.%',\n",
    "                    'PRL%'],\n",
    "                 'PR':  ['Physics Review%',\n",
    "                         'Phys. Rev.%',\n",
    "                         'Phys.Rev.%',\n",
    "                         'PR%'],\n",
    "                 'Nature': ['Nature%',\n",
    "                            'Nat.%',\n",
    "                            'Science%'],\n",
    "                 'APL': ['APL%',\n",
    "                         'Appl.Phys.Lett.%',\n",
    "                         'Appl. Phys. Lett.%',\n",
    "                         'Applied Physics Letters%'],\n",
    "                 'AP': ['AP%',\n",
    "                        'Appl.Phys.%',\n",
    "                        'Appl. Phys.%',\n",
    "                        'Applied Physics%'],\n",
    "                 'PL': ['Physics Letters%',\n",
    "                        'Phys. Lett.%',\n",
    "                        'Phys.Lett.%'],\n",
    "                 'All': ['%'],\n",
    "                 }\n"
   ]
  },
  {
   "cell_type": "code",
   "execution_count": 3,
   "metadata": {
    "collapsed": false
   },
   "outputs": [],
   "source": [
    "def get_abstracts(journal, date_first, date_last):\n",
    "#     query = session.query(Article)\\\n",
    "#                     .filter(*[Article.journal_ref.like(x) for x in journals_dict[journal]])\n",
    "    query = session.query(Article_Category)\\\n",
    "                    .join(Category)\\\n",
    "                    .join(Article)\\\n",
    "                    .filter(Category.name.like('%'),\n",
    "                            or_(*[Article.journal_ref.like(x) for x in journals_dict[journal]]),\n",
    "                            Article.created >= date_first,\n",
    "                            Article.created < date_last)\\\n",
    "                    .order_by(Article.created)\n",
    "#                             Article.created >= date_first,\n",
    "#                             Article.created < date_last,\n",
    "    # Don't need to clean up text: CountVectorizer will do everything\n",
    "    return ( (result.article.created, result.article.abstract, journal) for result in query )\n",
    "\n",
    "\n",
    "def learn(journals, date_first, date_last):\n",
    "    abstracts1 = get_abstracts(journals[0], date_first, date_last)\n",
    "    abstracts2 = get_abstracts(journals[1], date_first, date_last)\n",
    "    \n",
    "    half_test_size = int(round(0.1*min(len(abstracts1),len(abstracts2))))\n",
    "\n",
    "\n",
    "    X1_train, X1_test, y1_train, y1_test = train_test_split(abstracts1, [0]*len(abstracts1), test_size=half_test_size, random_state=42)\n",
    "    X2_train, X2_test, y2_train, y2_test = train_test_split(abstracts2, [1]*len(abstracts2), test_size=half_test_size, random_state=42)\n",
    "    \n",
    "    X_train = X1_train + X2_train\n",
    "    X_test = X1_test + X2_test\n",
    "    y_train = np.array(y1_train + y2_train)\n",
    "    y_test = np.array(y1_test + y2_test)\n",
    "    target_names = journals\n",
    "    \n",
    "    print (len(X1_train), len(X2_train))\n",
    "    \n",
    "    # Using a large C (overfitting) to generate a greater number of nonzero coefficients\n",
    "    # Remember, L1 norms suppress the number of nonzero coefficients\n",
    "    \n",
    "    clf = Pipeline([('vect', CountVectorizer(ngram_range=(1,3),stop_words='english')),\n",
    "                    ('tfidf', TfidfTransformer()),\n",
    "                    ('clf', LinearSVC(C=1000,penalty='l1',dual=False,fit_intercept=True))])\n",
    "    \n",
    "    try:\n",
    "        clf.fit(X_train, y_train)\n",
    "    except ValueError:\n",
    "        return {}\n",
    "#     y_predict_train = clf.predict(X_train)\n",
    "    y_predict_test = clf.predict(X_test)\n",
    "    \n",
    "#     # To save memory, I will retrain the countvectorizer on only the nonzero entries to the coefficient matrix.\n",
    "    \n",
    "#     nonzero_coefs = np.nonzero(np.squeeze(clf.named_steps['clf'].coef_))\n",
    "#     useful_words = np.array(clf.named_steps['vect'].get_feature_names())[nonzero_coefs]\n",
    "    \n",
    "#     clf2 = Pipeline([('vect', CountVectorizer(ngram_range=(1,3),stop_words='english',vocabulary=useful_words)),\n",
    "#                     ('tfidf', TfidfTransformer()),\n",
    "#                     ('clf', LinearSVC(C=10,penalty='l1',dual=False,fit_intercept=True))])\n",
    "#     clf2.fit(X_train, y_train)\n",
    "#     y_predict_test2 = clf2.predict(X_test)\n",
    "    \n",
    "#     print 'Full model'\n",
    "#     print (metrics.classification_report(y_test, y_predict_test,\n",
    "#                                     target_names=target_names))\n",
    "\n",
    "#     print metrics.confusion_matrix(y_test, y_predict_test)\n",
    "#     print 'Accuracy: %f' % (metrics.accuracy_score(y_test, y_predict_test))\n",
    "    \n",
    "#     print ''\n",
    "#     print 'Reduced model'\n",
    "#     print (metrics.classification_report(y_test, y_predict_test2,\n",
    "#                                     target_names=target_names))\n",
    "\n",
    "#     print metrics.confusion_matrix(y_test, y_predict_test2)\n",
    "#     print 'Accuracy: %f' % (metrics.accuracy_score(y_test, y_predict_test2))\n",
    "    \n",
    "#     return (clf, clf2)\n",
    "    return clf\n",
    "\n",
    "def most_important_keywords(clf, num=50):\n",
    "    \"\"\"Prints features with the highest coefficient values, per class\"\"\"\n",
    "    feature_names = clf.named_steps['vect'].get_feature_names()\n",
    "#     for i, class_label in enumerate(class_labels):\n",
    "#     top = [feature_names[x] for x in np.argsort(clf.named_steps['clf'].coef_[0])[-num:]][::-1]\n",
    "    ind = np.nonzero(clf.named_steps['clf'].coef_[0])[0]\n",
    "#     print ind\n",
    "    return {feature_names[x]: clf.named_steps['clf'].coef_[0][x] for x in ind}\n",
    "\n",
    "#     print(\" \".join(feature_names[j] for j in top10))"
   ]
  },
  {
   "cell_type": "code",
   "execution_count": 4,
   "metadata": {
    "collapsed": false
   },
   "outputs": [],
   "source": [
    "# Iterate through the two journals (currentl PR and Nature) by order of date.\n",
    "# Run each through the predictor and record the results. \n",
    "journals = ['PRL', 'Nature']\n",
    "\n",
    "def stream_abstracts():\n",
    "    i = 0\n",
    "    abstract_iter1 = get_abstracts(journals[0], date(2000,1,1), date(2016,1,1))\n",
    "    abstract_iter2 = get_abstracts(journals[1], date(2000,1,1), date(2016,1,1))\n",
    "    \n",
    "    current1 = abstract_iter1.next()\n",
    "    current2 = abstract_iter2.next()    \n",
    "    \n",
    "    # The loops stops when te first fo the two iterators runs out.\n",
    "    \n",
    "    while True:\n",
    "        # yield the abstract with the earlier date\n",
    "        if current1[0] <= current2[0]:\n",
    "            yield current1\n",
    "#             print (current1[0], current1[2])\n",
    "            current1 = abstract_iter1.next()\n",
    "        else:\n",
    "            yield current2\n",
    "#             print (current2[0], current2[2])\n",
    "            current2 = abstract_iter2.next()\n"
   ]
  },
  {
   "cell_type": "code",
   "execution_count": 5,
   "metadata": {
    "collapsed": false
   },
   "outputs": [
    {
     "name": "stdout",
     "output_type": "stream",
     "text": [
      "127.341833115\n"
     ]
    }
   ],
   "source": [
    "vect = HashingVectorizer(decode_error='ignore',\n",
    "                         n_features=2**18,\n",
    "                         non_negative=True,\n",
    "                         ngram_range=(1,3))\n",
    "# vect = CountVectorizer(ngram_range=(1,3))\n",
    "clf = SGDClassifier(alpha=.0001,\n",
    "                    n_iter=50,\n",
    "                    penalty='l1')\n",
    "i = 0\n",
    "\n",
    "y_train = []\n",
    "y_predict = []\n",
    "t = []\n",
    "\n",
    "start = time.time()\n",
    "\n",
    "for item in stream_abstracts():\n",
    "#     x_train = vect.transform(item[1:2])\n",
    "    x_train = vect.transform(item[1:2])\n",
    "    y = [int(item[2] != journals[0])]\n",
    "\n",
    "    if i > 1:\n",
    "        y_train.append(y[0])\n",
    "        y_predict.append(clf.predict(x_train).tolist()[0])\n",
    "        t.append(item[0])\n",
    "    else:\n",
    "        i += 1\n",
    "    \n",
    "    clf.partial_fit(x_train, y, [0, 1])\n",
    "    \n",
    "\n",
    "print time.time() - start"
   ]
  },
  {
   "cell_type": "code",
   "execution_count": 6,
   "metadata": {
    "collapsed": false
   },
   "outputs": [
    {
     "name": "stdout",
     "output_type": "stream",
     "text": [
      "             precision    recall  f1-score   support\n",
      "\n",
      "        PRL       0.94      0.97      0.96     31895\n",
      "     Nature       0.80      0.66      0.72      5678\n",
      "\n",
      "avg / total       0.92      0.92      0.92     37573\n",
      "\n"
     ]
    }
   ],
   "source": [
    "print metrics.classification_report(y_train, y_predict, target_names=journals)"
   ]
  },
  {
   "cell_type": "code",
   "execution_count": 7,
   "metadata": {
    "collapsed": false
   },
   "outputs": [
    {
     "name": "stdout",
     "output_type": "stream",
     "text": [
      "37573\n",
      "37573\n"
     ]
    }
   ],
   "source": [
    "print len(t)\n",
    "print len(y_train)"
   ]
  },
  {
   "cell_type": "code",
   "execution_count": 8,
   "metadata": {
    "collapsed": false
   },
   "outputs": [
    {
     "name": "stderr",
     "output_type": "stream",
     "text": [
      "/Users/emarti/anaconda/lib/python2.7/site-packages/sklearn/metrics/classification.py:1074: UndefinedMetricWarning: Precision is ill-defined and being set to 0.0 due to no predicted samples.\n",
      "  'precision', 'predicted', average, warn_for)\n"
     ]
    }
   ],
   "source": [
    "# Does accuracy improve?\n",
    "start = time.time()\n",
    "\n",
    "error = np.logical_xor(y_train, y_predict)\n",
    "stepsize = 10\n",
    "samples = range(1,len(y_train),stepsize)\n",
    "\n",
    "accuracy = [metrics.accuracy_score(y_train[:i], y_predict[:i]) for i in samples]\n",
    "recall = [metrics.recall_score(y_train[:i], y_predict[:i]) for i in samples]\n",
    "precision = [metrics.precision_score(y_train[:i], y_predict[:i]) for i in samples]\n",
    "t_window = [t[i] for i in samples]"
   ]
  },
  {
   "cell_type": "code",
   "execution_count": 9,
   "metadata": {
    "collapsed": false
   },
   "outputs": [
    {
     "name": "stdout",
     "output_type": "stream",
     "text": [
      "108.677572966\n"
     ]
    },
    {
     "data": {
      "image/png": "[encoded data removed]",
      "text/plain": [
       "<matplotlib.figure.Figure at 0x1037c8d90>"
      ]
     },
     "metadata": {},
     "output_type": "display_data"
    }
   ],
   "source": [
    "plt.figure(figsize=(12,4))\n",
    "plt.subplot(1,3,1)\n",
    "plt.plot(t_window, accuracy)\n",
    "plt.subplot(1,3,2)\n",
    "plt.plot(t_window, recall)\n",
    "plt.subplot(1,3,3)\n",
    "plt.plot(t_window, precision)\n",
    "\n",
    "print time.time() - start\n",
    "plt.gcf().autofmt_xdate()"
   ]
  },
  {
   "cell_type": "markdown",
   "metadata": {},
   "source": [
    "Now the interesting part: how do we observe concept drift?\n",
    "\n",
    "Methods are taken from: http://www.win.tue.nl/~mpechen/publications/pubs/Gama_ACMCS_AdaptationCD_accepted.pdf"
   ]
  },
  {
   "cell_type": "code",
   "execution_count": 10,
   "metadata": {
    "collapsed": false
   },
   "outputs": [
    {
     "data": {
      "image/png": "[encoded data removed]",
      "text/plain": [
       "<matplotlib.figure.Figure at 0x103809110>"
      ]
     },
     "metadata": {},
     "output_type": "display_data"
    }
   ],
   "source": [
    "#SPC method\n",
    "\n",
    "stepsize = 10\n",
    "window = 500\n",
    "actual_error = []\n",
    "expected_error = []\n",
    "t_error = []\n",
    "for i in range(1, len(error) - window, stepsize):\n",
    "    actual_error.append(np.std(error[i:(i+window)]))\n",
    "    p = np.sum(y_train[i:(i+window)])*1./window\n",
    "    expected_error.append(np.sqrt(p*(1+p)))\n",
    "    t_error.append(t[i])\n",
    "\n",
    "plt.figure(figsize=(12,4))\n",
    "plt.subplot(1,2,1)\n",
    "plt.plot(t_error, actual_error)\n",
    "plt.plot(t_error, expected_error)\n",
    "plt.gcf().autofmt_xdate()\n",
    "plt.subplot(1,2,2)\n",
    "plt.plot(t_error, np.array(actual_error)/np.array(expected_error))\n",
    "plt.gcf().autofmt_xdate()"
   ]
  },
  {
   "cell_type": "code",
   "execution_count": 11,
   "metadata": {
    "collapsed": false
   },
   "outputs": [],
   "source": [
    "with open(\"predict_journal_sgd1-all.json\", \"w\") as f:\n",
    "    pickle.dump({'t': t,\n",
    "                 'y_train': y_train,\n",
    "                 'y_predict': y_predict}, f)"
   ]
  },
  {
   "cell_type": "code",
   "execution_count": null,
   "metadata": {
    "collapsed": true
   },
   "outputs": [],
   "source": []
  }
 ],
 "metadata": {
  "kernelspec": {
   "display_name": "Python 2",
   "language": "python",
   "name": "python2"
  },
  "language_info": {
   "codemirror_mode": {
    "name": "ipython",
    "version": 2
   },
   "file_extension": ".py",
   "mimetype": "text/x-python",
   "name": "python",
   "nbconvert_exporter": "python",
   "pygments_lexer": "ipython2",
   "version": "2.7.11"
  }
 },
 "nbformat": 4,
 "nbformat_minor": 0
}
