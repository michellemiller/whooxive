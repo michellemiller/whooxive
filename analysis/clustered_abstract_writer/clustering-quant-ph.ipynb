{
 "cells": [
  {
   "cell_type": "markdown",
   "metadata": {},
   "source": [
    "Can I predict the existence of subfields with some cool unsupervised learning algorithm? \n",
    "\n",
    "For starters, let's just use regular n-grams. A more advanced version would be to look for noun phrases or J&K POS tags."
   ]
  },
  {
   "cell_type": "code",
   "execution_count": 1,
   "metadata": {
    "collapsed": false
   },
   "outputs": [],
   "source": [
    "#Need to add parent directoy to sys.path to find 'metadataDB'\n",
    "import sys\n",
    "sys.path.append('../../')\n",
    "\n",
    "%matplotlib inline\n",
    "# import matplotlib.pyplot as plt \n",
    "import time\n",
    "import numpy as np\n",
    "# import scipy as sp\n",
    "import re\n",
    "from collections import Counter\n",
    "import itertools\n",
    "import random\n",
    "import copy\n",
    "\n",
    "# Natural language processing toolkit\n",
    "# To use this, run nltk.download() and download 'stopwords'\n",
    "# from nltk.corpus import stopwords\n",
    "# s=stopwords.words('english') + ['']\n",
    "\n",
    "# Machine learning\n",
    "from sklearn.feature_extraction.text import CountVectorizer\n",
    "from sklearn.feature_extraction.text import TfidfTransformer\n",
    "from sklearn.metrics import classification_report, accuracy_score, confusion_matrix\n",
    "from sklearn.cross_validation import train_test_split, cross_val_score\n",
    "from sklearn.cluster import KMeans\n",
    "from sklearn.decomposition import SparsePCA\n",
    "# from sklearn.naive_bayes import MultinomialNB\n",
    "# from sklearn.linear_model import LogisticRegression\n",
    "from sklearn.svm import LinearSVC\n",
    "from sklearn.pipeline import Pipeline\n",
    "# from sklearn import metrics\n",
    "\n",
    "# SQL\n",
    "from sqlalchemy import create_engine\n",
    "from sqlalchemy.orm import sessionmaker\n",
    "from metadataDB.declareDatabase import *\n",
    "from sqlalchemy import or_, and_\n",
    "\n",
    "engine = create_engine(\"sqlite:///../../arXiv_metadata.db\", echo=False)\n",
    "Base.metadata.bind = engine\n",
    "DBsession = sessionmaker(bind=engine)\n",
    "session = DBsession()"
   ]
  },
  {
   "cell_type": "code",
   "execution_count": 2,
   "metadata": {
    "collapsed": false
   },
   "outputs": [],
   "source": [
    "query = session.query(Article_Category)\\\n",
    "                    .join(Category)\\\n",
    "                    .join(Article)\\\n",
    "                    .filter(Category.name.like('%quant-ph%'),\n",
    "                            )\n",
    "#                             or_(Article.journal_ref.like('Physics Review Letters%'),\n",
    "#                                           Article.journal_ref.like('Phys. Rev. Lett.%'),\n",
    "#                                           Article.journal_ref.like('PRL%')))\n",
    "\n",
    "# Clean up text\n",
    "abstracts = [' '.join(x.article.abstract.split()) for x in query]\n",
    "\n",
    "query = session.query(Article_Category)\\\n",
    "                    .join(Category)\\\n",
    "                    .join(Article)\\\n",
    "                    .filter(Category.name.like('%quant-ph%'),\n",
    "                            )\n",
    "#                             or_(Article.journal_ref.like('Physics Review Letters%'),\n",
    "#                                           Article.journal_ref.like('Phys. Rev. Lett.%'),\n",
    "#                                           Article.journal_ref.like('PRL%')))\n",
    "\n",
    "# Clean up text\n",
    "abstracts_general = [' '.join(x.article.abstract.split()) for x in query]\n",
    "\n",
    "session.close_all()"
   ]
  },
  {
   "cell_type": "code",
   "execution_count": 3,
   "metadata": {
    "collapsed": false
   },
   "outputs": [
    {
     "name": "stdout",
     "output_type": "stream",
     "text": [
      "60594\n",
      "One-dimensional scattering problem admitting a complex, PT-symmetric short-range potential V(x) is considered. Using a Runge-Kutta-discretized version of Schroedinger equation we derive the formulae for the reflection and transmission coefficients and emphasize that the only innovation emerges in fact via a complexification of one of the potential-characterizing parameters.\n"
     ]
    }
   ],
   "source": [
    "print len(abstracts)\n",
    "print abstracts[0]"
   ]
  },
  {
   "cell_type": "markdown",
   "metadata": {},
   "source": [
    "Use KMeans to find interesting subfields.\n",
    "See: http://scikit-learn.org/stable/auto_examples/text/document_clustering.html"
   ]
  },
  {
   "cell_type": "code",
   "execution_count": 4,
   "metadata": {
    "collapsed": false
   },
   "outputs": [
    {
     "name": "stdout",
     "output_type": "stream",
     "text": [
      "2013.29995084\n",
      "29.1351377964\n"
     ]
    }
   ],
   "source": [
    "n_clusters = 10\n",
    "# Reduce n_init to 10 for testing purposes.\n",
    "clf_unsupervised = Pipeline([('vect', CountVectorizer(ngram_range=(1,3), stop_words='english')),\n",
    "                             ('tfidf', TfidfTransformer()),\n",
    "                             ('clf', KMeans(n_clusters=n_clusters, n_init=10, n_jobs=-2))])\n",
    "start = time.time()\n",
    "clf_unsupervised.fit(abstracts)\n",
    "print time.time() - start\n",
    "\n",
    "start = time.time()\n",
    "predict = clf_unsupervised.predict(abstracts)\n",
    "print time.time() - start"
   ]
  },
  {
   "cell_type": "code",
   "execution_count": 5,
   "metadata": {
    "collapsed": false,
    "scrolled": false
   },
   "outputs": [
    {
     "name": "stdout",
     "output_type": "stream",
     "text": [
      "Cluster 0 (99 articles):\n",
      "withdrawn, paper withdrawn, paper, paper withdrawn author, withdrawn author, author, paper withdrawn authors, withdrawn authors, withdrawn author crucial, author crucial, article withdrawn, error, authors, withdrawn author problems, author problems, crucial, ph, 20 11 97, withdrawn 20, withdrawn 20 11\n",
      "\n",
      "Cluster 1 (9280 articles):\n",
      "photon, cavity, optical, quantum, single, light, atoms, state, atom, photons, atomic, field, laser, mode, states, frequency, single photon, phase, scheme, coupling\n",
      "\n",
      "Cluster 2 (6653 articles):\n",
      "quantum, time, dynamics, systems, state, decoherence, environment, evolution, non, control, markovian, model, classical, bath, open, phase, equation, walk, quantum systems, study\n",
      "\n",
      "Cluster 3 (14047 articles):\n",
      "quantum, states, state, space, classical, information, systems, theory, measurement, operators, paper, operator, problem, non, phase, matrix, given, dimensional, new, group\n",
      "\n",
      "Cluster 4 (4931 articles):\n",
      "quantum, mechanics, quantum mechanics, theory, bell, classical, quantum theory, inequalities, inequality, interpretation, measurement, local, non, correlations, space, physical, hidden, violation, probability, time\n",
      "\n",
      "Cluster 5 (4847 articles):\n",
      "quantum, qubit, algorithm, gates, gate, error, computation, qubits, codes, quantum computation, algorithms, computer, state, code, classical, operations, using, circuit, circuits, computing\n",
      "\n",
      "Cluster 6 (10141 articles):\n",
      "energy, potential, field, equation, wave, particle, casimir, quantum, model, function, time, force, dimensional, interaction, potentials, scattering, magnetic, method, dirac, theory\n",
      "\n",
      "Cluster 7 (2483 articles):\n",
      "key, protocol, quantum, channel, security, qkd, key distribution, quantum key, quantum key distribution, communication, protocols, secure, distribution, channels, capacity, information, secret, classical, rate, bob\n",
      "\n",
      "Cluster 8 (2851 articles):\n",
      "spin, magnetic, spins, quantum, electron, nuclear, state, field, coupling, magnetic field, chain, states, interaction, spin orbit, phase, electron spin, orbit, nuclear spin, single, model\n",
      "\n",
      "Cluster 9 (5262 articles):\n",
      "entanglement, states, state, entangled, quantum, qubit, entropy, pure, local, multipartite, bipartite, discord, entangled states, systems, measure, correlations, qubits, mixed, quantum discord, entanglement entropy\n",
      "\n"
     ]
    }
   ],
   "source": [
    "# Most important chunks. See http://scikit-learn.org/stable/auto_examples/text/document_clustering.html\n",
    "\n",
    "order_centroids = clf_unsupervised.named_steps['clf'].cluster_centers_.argsort()[:, ::-1]\n",
    "count_clusters = Counter(predict)\n",
    "\n",
    "terms =  clf_unsupervised.named_steps['vect'].get_feature_names()\n",
    "for i in range(n_clusters):\n",
    "    print \"Cluster %d (%i articles):\" % (i, count_clusters[i])\n",
    "    print ', '.join([terms[x] for x in order_centroids[i, :20]])\n",
    "    print ''"
   ]
  },
  {
   "cell_type": "code",
   "execution_count": 6,
   "metadata": {
    "collapsed": false
   },
   "outputs": [
    {
     "name": "stdout",
     "output_type": "stream",
     "text": [
      "151.159186125\n"
     ]
    }
   ],
   "source": [
    "import AbstractWriter\n",
    "reload(AbstractWriter)\n",
    "\n",
    "\n",
    "# Make the general abstract writer, transform complete list of abstracts (general vocabulary).\n",
    "writer_general = AbstractWriter.AbstractWriter(ngram=5, randomize=True, seed=42)\n",
    "start = time.time()\n",
    "writer_general.fit(abstracts_general)\n",
    "print time.time() - start\n",
    "\n",
    "\n",
    "\n",
    "# # Get abstracts in cluster\n",
    "# cluster = 8\n",
    "# current_abstracts_iterator = (x for x, y in zip(abstracts, predict) if y==cluster)\n",
    "\n",
    "# # Make a copy of the general AbstractWriter instance.\n",
    "# writer = copy.copy(writer_general)\n",
    "# start = time.time()\n",
    "# writer.fit_specialized(current_abstracts_iterator)\n",
    "# print time.time() - start\n",
    "\n",
    "# fake_abstract = writer.write_abstract()\n",
    "# print fake_abstract\n",
    "# print ''\n",
    "# print writer.find_similar(fake_abstract)"
   ]
  },
  {
   "cell_type": "code",
   "execution_count": 10,
   "metadata": {
    "collapsed": false
   },
   "outputs": [],
   "source": [
    "# This function writes abstracts as a function of (precomputed) cluster\n",
    "def writeAbstractCluster(cluster, article_number=1, check_article=True, seed=42, specialized_weight=0.8):\n",
    "    writer = AbstractWriter.AbstractWriter(ngram=writer_general.ngram,\n",
    "                                           randomize=writer_general.randomize,\n",
    "                                           seed=seed,\n",
    "                                           maxWords=writer_general.maxWords)\n",
    "    writer._data = dict(writer_general._data)\n",
    "    writer._abstracts = list(writer_general._abstracts)\n",
    "    writer._specialized_weight = specialized_weight\n",
    "#     print writer._data\n",
    "#     writer = copy.deepcopy(writer_general)\n",
    "    start = time.time()\n",
    "    current_abstracts_iterator = (x for x, y in zip(abstracts, predict) if y==cluster)\n",
    "    writer.fit_specialized(current_abstracts_iterator)\n",
    "    print time.time() - start\n",
    "    \n",
    "    for _ in range(article_number):\n",
    "        start = time.time()\n",
    "        fake_abstract = writer.write_abstract()\n",
    "        print time.time() - start\n",
    "\n",
    "        print 'New abstract: ' + fake_abstract\n",
    "        print ''\n",
    "        if check_article:\n",
    "            print 'Existing abstract: ' + writer.find_similar(fake_abstract)\n",
    "            print ''\n",
    "    return writer"
   ]
  },
  {
   "cell_type": "code",
   "execution_count": 8,
   "metadata": {
    "collapsed": true
   },
   "outputs": [],
   "source": [
    "# Write two abstracts per cluster."
   ]
  },
  {
   "cell_type": "code",
   "execution_count": 9,
   "metadata": {
    "collapsed": false,
    "scrolled": false
   },
   "outputs": [
    {
     "name": "stdout",
     "output_type": "stream",
     "text": [
      "Cluster 0 (99 articles):\n",
      "withdrawn, paper withdrawn, paper, paper withdrawn author, withdrawn author, author, paper withdrawn authors, withdrawn authors, withdrawn author crucial, author crucial, article withdrawn, error, authors, withdrawn author problems, author problems, crucial, ph, 20 11 97, withdrawn 20, withdrawn 20 11\n",
      "\n",
      "2.90811300278\n",
      "0.000174999237061\n",
      "New abstract: This paper has been withdrawn by the author because Lemma # is incorrect. This mistake is crucial in this paper.\n",
      "\n",
      "Existing abstract: [[[This paper has been withdrawn by the author because Lemma # is incorrect. This mistake is crucial in this]]] paper.\n",
      "\n",
      "0.00097393989563\n",
      "New abstract: This paper has been withdrawn by the author because it is superseded by cond mat ####### . These systems constitute quantum bits with logical states differing by one Cooper pair charge. Single and two bit operations required for quantum information applications. The uncertainty relations allow an arbitrary choice of a large number exponentially faster than any classical algorithm. The algorithm can be used to derive the Lifshitz force between parallel dielectric media. This conclusion follows from the holographic principle. In this paper I will show that this systems lead us to exact complex solutions of the Painlev e V type. Our method is a generalization of the notion of quantum discord introduced by Girolami and Adesso Phys. Rev. Lett. ### ###### #### . We conclude that the dynamics of the atoms and the cavity mode and the external continuum. The resulting time evolution equations classical versus quantum are strikingly similar in form although dissimilar in behavior. We also provide comparisons with analyses performed using spectral methods.\n",
      "\n",
      "Existing abstract: We survey the equations of continuous time quantum walks on simple one dimensional lattices which include the finite and infinite lines and the finite cycle and compare them with the classical continuous time Markov chains. The focus of our expository article is on analyzing these processes using the Laplace transform on the stochastic recurrences. [[[The resulting time evolution equations classical versus quantum are strikingly similar in form although dissimilar in behavior. We also provide comparisons with analyses performed using spectral]]] methods.\n",
      "\n",
      "Cluster 1 (9280 articles):\n",
      "photon, cavity, optical, quantum, single, light, atoms, state, atom, photons, atomic, field, laser, mode, states, frequency, single photon, phase, scheme, coupling\n",
      "\n",
      "12.240486145\n",
      "0.00025200843811\n",
      "New abstract: The phenomenon of the electromagnetic absorption by arbitrarily distributed discrete absorbers is analyzed from the photon point of view. It is assumed that the initial entangled state and the squeezed one phonon state as dark states of the same atomic quantities.\n",
      "\n",
      "Existing abstract: [[[The phenomenon of the electromagnetic absorption by arbitrarily distributed discrete absorbers is analyzed from the photon point of view. It is]]] shown that apart from the decrease in the intensity of the signal the net effect of absorption includes a relative increase in the photon bunching.\n",
      "\n",
      "0.000364065170288\n",
      "New abstract: We present a scheme for the preparation pairwise entanglement via exchange interaction manipulation and measurement of any single atom two qubit operations between any pair of the tripartite system the normally ordered moments are then applied to analyse the quench dynamics of an exactly solvable PT symmetric example of Sturmian bound states which exist in the absence of a magnetic field and obtained the maximal quantum Fisher information of the beam deflection parameter.\n",
      "\n",
      "Existing abstract: We construct [[[an exactly solvable PT symmetric example of Sturmian bound states which exist in the absence of a]]]ny confining potential. Their origin is purely topological these states live on certain nontrivial contours of complex coordinates.\n",
      "\n",
      "Cluster 2 (6653 articles):\n",
      "quantum, time, dynamics, systems, state, decoherence, environment, evolution, non, control, markovian, model, classical, bath, open, phase, equation, walk, quantum systems, study\n",
      "\n",
      "17.6287019253\n",
      "0.000293970108032\n",
      "New abstract: For the case of compact and finite dimensional physical systems as in most of the realistic scenarios losses and noise are known to nullify the advantage of adopting quantum strategies ## . In this paper this second and final step towards the controlled population transfer in complex many level quantum systems.\n",
      "\n",
      "Existing abstract: In the last years the exploitation of specific properties of quantum states has disclosed the possibility of realising tasks beyond classical limits creating the new field of quantum technologies # # # # # # # # # . Among them quantum metrology and imaging aim to improve the sensitivity and or resolution of measurements exploiting non classical features such as squeezing and quantum correlations entanglement and discordant states ## ## ## ## ## . Nevertheless [[[in most of the realistic scenarios losses and noise are known to nullify the advantage of adopting quantum strategies ## . In this paper]]] we describe in detail the first experimental realization of quantum illumination protocol aimed to target detection in a noisy environment that preserves a strong advantage over the classical counterparts even in presence of large amount of noise and losses. The experiment inspired by the theoretical ideas elaborated in ## ## ## ## see also ## ## has been performed exploiting only photon number correlations in twin beams. Thus for its simplicity it can find widespread use. Even more important by challenging the common believe that real application of quantum technologies is limited by their fragility to noise and losses it paves the way to their real application.\n",
      "\n",
      "0.000591993331909\n",
      "New abstract: Classical chaotic dynamics is characterized by a quantum error correcting code QECC many quantum operations and measurements are needed for this scheme which even beats the coherent state benchmark for entanglement distribution based on nonlocal photon subtraction when input states produced by imperfect single photon sources exhibit both vacuum and multiphoton contributions. Two models for realistic photon statistics with radically different properties of the multiphoton tail are considered. The first model assumes occasional emission of double photons and linear attenuation while the second one treats operators linear in one of the two states in the spin orientation space toward the origin of the fluctuating factors occurring in the derivation of Theorem #. See quant ph ####### for a discussion.\n",
      "\n",
      "Existing abstract: We study the operation of linear optics schemes [[[for entanglement distribution based on nonlocal photon subtraction when input states produced by imperfect single photon sources exhibit both vacuum and multiphoton contributions. Two models for realistic photon statistics with radically different properties of the multiphoton tail are considered. The first model assumes occasional emission of double photons and linear attenuation while the second one]]] is motivated by heralded sources utilizing spontaneous parametric down conversion. We find conditions for the photon statistics that guarantee generation of entanglement in the relevant qubit subspaces and compare it with classicality criteria. We also quantify the amount of entanglement that can be produced with imperfect single photon sources optimized over setup parameters using as a measure entanglement of formation. Finally we discuss verification of the generated entanglement by testing Bell s inequalities. The analysis is carried out for two schemes. The first one is the well established one photon scheme which produces a photon in a delocalized superposition state between two nodes each of them fed with one single photon at the input. As the second scheme we introduce and analyze a linear optics analog of the robust scheme based on interfering two Stokes photons emitted by atomic ensembles which does not require phase stability between the nodes.\n",
      "\n",
      "Cluster 3 (14047 articles):\n",
      "quantum, states, state, space, classical, information, systems, theory, measurement, operators, paper, operator, problem, non, phase, matrix, given, dimensional, new, group\n",
      "\n",
      "25.3220889568\n",
      "0.000663995742798\n",
      "New abstract: The quantum mechanical description of vortices in two dimensional superfluid # He flims is presented. Single vortex creation and annihilation operators in quantum mechanics is shown to have wide applicability and flexibility and is able to accomplish both the maximal fidelity and non vanishing yield.\n",
      "\n",
      "Existing abstract: A [[[quantum mechanical description of vortices in two dimensional superfluid # He flims is presented. Single vortex creation and annihilation operators]]] are defined and wavefunctions for these states are explicitly constructed. A hamitonian for these states is then proposed.\n",
      "\n",
      "0.000284910202026\n",
      "New abstract: For quantum mechanics on a torus and a robust spectrum gap and a gap in the bulk and smaller near the edges of the diamond via total internal reflection. We experimentally show that the non commutative matrices after kronecker product are similar or they are similar matrices.\n",
      "\n",
      "Existing abstract: The properties and applications of kronecker product in quantum theory is studied thoroughly. The use of kronecker product in quantum information theory to get the exact spin Hamiltonian is given. The proof of non commutativity of matrices when kronecker product is used between them is given. It is shown [[[that the non commutative matrices after kronecker product are similar or they are similar]]] matrices.\n",
      "\n",
      "Cluster 4 (4931 articles):\n",
      "quantum, mechanics, quantum mechanics, theory, bell, classical, quantum theory, inequalities, inequality, interpretation, measurement, local, non, correlations, space, physical, hidden, violation, probability, time\n",
      "\n",
      "8.25532889366\n",
      "0.00199794769287\n",
      "New abstract: I argue that accepting quantum mechanics to be universally true means that you should also believe in parallel universes. I give my assessment of Everett s theory as seen from the standard quantum circuit model of computation. The model is developed abstractly in close analogy with criteria for other forms of quantum mechanics QM attempt to escape contradictions there are many hints that indicate it could be worth while to engage in a research of this kind. Recently Arenhart and Krause have raised several arguments against this approach and claimed that taking into account the interaction of each qubit with a collection of POVMs in contrast to the standard Bose Hubbard model is enhanced for larger fillings. It is also shown that the entanglement between the components of a quantum computational type logic related to fuzzy logic. A Hilbert style calculus is developed obtaining an algebraic strong completeness theorem.\n",
      "\n",
      "Existing abstract: In ## Newton da Costa together with the author of this paper argued in favor of the possibility to consider quantum superpositions in terms of a paraconsistent approach. We claimed that even though most interpretations [[[of quantum mechanics QM attempt to escape contradictions there are many hints that indicate it could be worth while to engage in a research of this kind. Recently Arenhart and Krause]]] # # # have raised several arguments against this approach and claimed that taking into account the square of opposition quantum superpositions are better understood in terms of contrariety propositions rather than contradictory propositions. In ## we defended the Paraconsistent Approach to Quantum Superpositions PAQS and provided arguments in favor of its development. In the present paper we attempt to analyze the meanings of modality potentiality and contradiction in QM and provide further arguments of why the PAQS is better suited than the Contrariety Approach to Quantum Superpositions CAQS proposed by Arenhart and Krause to face the interpretational questions that quantum technology is forcing us to consider.\n",
      "\n",
      "0.000787019729614\n",
      "New abstract: Experiments in cognitive science and decision theory show that the ways in which infinitary mathematics arises in modern mathematical physics are discussed. Empirical science has led to the multiverse picture in which our observed universe is only one of a host of related quantum effects and points to a very interesting structure of quantum mechanics in phase space. The idea underlying this encoding is that the corresponding logical states are unphysical meaning infinitely localized in phase space. We define a suitable integration on these nonassociative spaces and find that they are irreversible during the adiabatic stages of the cycle.\n",
      "\n",
      "Existing abstract: The pigeonhole principle If you put three pigeons in two pigeonholes at least two of the pigeons end up in the same hole is an obvious yet fundamental principle of Nature as it captures the very essence of counting. Here however we show that in quantum mechanics this is not true We find instances when three quantum particles are put in two boxes yet no two particles are in the same box. Furthermore we show that the above quantum pigeonhole principle [[[is only one of a host of related quantum effects and points to a very interesting structure of quantum mechanics]]] that was hitherto unnoticed. Our results shed new light on the very notions of separability and correlations in quantum mechanics and on the nature of interactions. It also presents a new role for entanglement complementary to the usual one. Finally interferometric experiments that illustrate our effects are proposed.\n",
      "\n",
      "Cluster 5 (4847 articles):\n",
      "quantum, qubit, algorithm, gates, gate, error, computation, qubits, codes, quantum computation, algorithms, computer, state, code, classical, operations, using, circuit, circuits, computing\n",
      "\n",
      "6.22848296165\n",
      "0.000730037689209\n",
      "New abstract: We provide ways to turn ancillas into phase gates chapter # leading to irrational phase gates chapter # . We realize all the # qubit permutation gates chapter # . We realize all the # qubit permutation gates chapter # . We realize all the # qubit permutation gates chapter # . We realize all the # qubit permutation gates chapter # . We realize all the # qubit permutation gates chapter # . We realize all the # qubit permutation gates chapter # . We realize all the # qubit permutation gates chapter # . We realize all the # qubit permutation gates chapter # . We realize all the # qubit permutation gates chapter # . We realize all the # qubit permutation gates chapter # . We realize all the # qubit permutation gates chapter # . We realize all the # qubit permutation gates chapter # . We realize all the # qubit permutation gates chapter # . We realize all the # qubit permutation gates chapter # . We realize all the # qubit permutation gates chapter # . We realize all the # qubit permutation gates chapter # . We realize all the # qubit permutation gates chapter\n",
      "\n",
      "Existing abstract: [[[We provide ways to turn ancillas into phase gates chapter # leading to irrational phase gates chapter # . We realize all the # qubit permutation gates chapter # .]]]\n",
      "\n",
      "0.000813007354736\n",
      "New abstract: Tasked with the challenge to build better and better computers quantum computing and classical computing face the same conundrum the success of classical computing systems. Small quantum computing systems have been found. Here we present an alternative to these detection methods based on optimal detection theory and Gibbs sampling. On the basis of this approach in this paper we present a new unified theoretical framework that describes the full dynamics of the observed system and the observing environment. Comparison is made to the similar emergence of time in the framework of the standard Kolmogorov probability theory and on the investigations of weakly coupled Hubbard ladders. Although to an unaided eye the results of the two measurements the test is free from the objections against the traditional decoherence program.\n",
      "\n",
      "Existing abstract: [[[Tasked with the challenge to build better and better computers quantum computing and classical computing face the same conundrum the success of classical computing systems. Small quantum computing systems have been]]] demonstrated and intermediate scale systems are on the horizon capable of calculating numeric results or simulating physical systems far beyond what humans can do by hand. However to be commercially viable they must surpass what our wildly successful highly advanced classical computers can already do. At the same time those classical computers continue to advance but those advances are now constrained by thermodynamics and will soon be limited by the discrete nature of atomic matter and ultimately quantum effects. Technological advances benefit both quantum and classical machinery altering the competitive landscape. Can we build quantum computing systems that out compute classical systems capable of some ## ## logic gates per month This article will discuss the interplay in these competing and cooperating technological trends.\n",
      "\n",
      "Cluster 6 (10141 articles):\n",
      "energy, potential, field, equation, wave, particle, casimir, quantum, model, function, time, force, dimensional, interaction, potentials, scattering, magnetic, method, dirac, theory\n",
      "\n",
      "20.6061611176\n",
      "0.000561952590942\n",
      "New abstract: The mode dependent transmission of relativistic ballistic massless Dirac fermion through a graphene based double barrier structure is being investigated for various barrier parameters. We compare our results with already published work and point out the relevance of these findings to a non singular wavefunction i.e. for wavepackets with finite width boundaries and suggest an experimental verification.\n",
      "\n",
      "Existing abstract: [[[The mode dependent transmission of relativistic ballistic massless Dirac fermion through a graphene based double barrier structure is being investigated for various barrier parameters. We compare our results with already published work and point out the relevance of these findings to a]]] systematic study of the transport properties in double barrier structures. An interesting situation arises when we set the potential in the leads to zero then our #D problem reduces effectively to a #D massive Dirac equation with an effective mass proportional to the quantized wave number along the transverse direction. Furthermore we have shown that the minimal conductivity and maximal Fano factor remain insensitive to the ratio between the two potentials V # V # alpha.\n",
      "\n",
      "0.0016930103302\n",
      "New abstract: The stored ultra cold neutrons have been developed. A high density ultra cold neutron gas in the Earth s gravitational field. We show that measuring the field quadratures allows to reconstruct the characteristic function corresponding to the # # dim Ising model on a chain as a function of the polarization of the emitted radiation. It is found that the calculated density expectation value with this model agrees with the interference pattern observed in the experiment by Kirchmair emph et al. Nature textbf ### ### #### emphasizes the rich information content encoded in fluctuations. This paper assesses the Everettian approach to the measurement problem . It is shown that the path dependent formalism can provide compact description of the flux quantization and the Josephson effect quantum effects in which photons interact with quantized energy levels in the excitations spectrum of an electrical circuit incorporating this wire. The higher the phase slips probability amplitude the larger are the shifts. Phase slips occurring at different locations along the wire interfere with each other. This may also be an ideal basis for related applications such as superradiant lasers precision magnetometry or long lived quantum memories. The rate at which output systems may be generated depends crucially on\n",
      "\n",
      "Existing abstract: Superconducting order in a sufficiently narrow and infinitely long wire is destroyed at zero temperature by quantum fluctuations which induce # pi slips of the phase of the order parameter. However in a finite length wire coherent quantum phase slips would manifest themselves simply as shifts of [[[energy levels in the excitations spectrum of an electrical circuit incorporating this wire. The higher the phase slips probability amplitude the larger are the shifts. Phase slips occurring at different locations along the wire interfere with each other.]]] Due to the Aharonov Casher effect the resulting full amplitude of a phase slip depends on the offset charges surrounding the wire. Slow temporal fluctuations of the offset charges make the phase slips amplitudes random functions of time and therefore turn energy levels shifts into linewidths. We experimentally observed this effect on a long Josephson junction array acting as a slippery wire. The slip induced linewidths despite being only of order ### kHz were resolved from the flux dependent dephasing of the fluxonium qubit.\n",
      "\n",
      "Cluster 7 (2483 articles):\n",
      "key, protocol, quantum, channel, security, qkd, key distribution, quantum key, quantum key distribution, communication, protocols, secure, distribution, channels, capacity, information, secret, classical, rate, bob\n",
      "\n",
      "3.07647681236\n",
      "0.00100088119507\n",
      "New abstract: Communication between a free falling observer and his static partner holding a quantum memory initially entangled with the quantum system leads to the non self adjoint proposed ones. Inspired in the probability density of the wave packet satisfy a non conservative Pinney equation. An appropriate perturbation theory is developed based on the q deformed oscillator. It is shown that the independence of the continuum hypothesis determines status and properties of the Stieltjes zeros of the extended Heine Stieltjes polynomials of which the roots determine the projected states and the related Van Vleck zeros. It is shown that a consistent treatment solves the paradox.\n",
      "\n",
      "Existing abstract: A new angular momentum projection for systems of particles with arbitrary spins is formulated based on the Heine Stieltjes correspondence which can be regarded as the solutions of the mean field plus pairing model in the strong pairing interaction G Infinity limit. Properties [[[of the Stieltjes zeros of the extended Heine Stieltjes polynomials of which the roots determine the projected states and the related Van Vleck]]] zeros are discussed. The electrostatic interpretation of these zeros is presented. As examples applications to n nonidentical particles of spin # # and to identical bosons or fermions are made to elucidate the procedure and properties of the Stieltjes zeros and the related Van Vleck zeros. It is shown that the new angular momentum projection for n identical bosons or fermions can be simpli ed with the branching multiplicity formula of U N supset O # and the special choices of the parameters used in the projection. Especially it is shown that the solutions for identical bosons can always be expressed in terms of zeros of Jacobi polynomials. However unlike non identical particle systems the n coupled states of identical particles are non orthogonal with respect to the multiplicity label after the projection.\n",
      "\n",
      "0.000325918197632\n",
      "New abstract: We postulate the existence of universal continuous variable resource states.\n",
      "\n",
      "Existing abstract: Continuous variable cluster states offer a potentially promising method of implementing a quantum computer. This paper extends and further refines theoretical foundations and protocols for experimental implementation. We give a cluster state implementation of the cubic phase gate through photon detection which together with homodyne detection facilitates universal quantum computation. In addition we characterize the offline squeezed resources required to generate an arbitrary graph state through passive linear optics. Most significantly we prove that there are universal states for which the offline squeezing per mode does not increase with the size of the cluster. Simple representations of continuous variable graph states are introduced to analyze graph state transformations under measurement and [[[the existence of universal continuous variable resource]]] states.\n",
      "\n",
      "Cluster 8 (2851 articles):\n",
      "spin, magnetic, spins, quantum, electron, nuclear, state, field, coupling, magnetic field, chain, states, interaction, spin orbit, phase, electron spin, orbit, nuclear spin, single, model\n",
      "\n",
      "3.31350588799\n",
      "0.00131011009216\n",
      "New abstract: We have implemented a universal quantum logic gate sets the building blocks for the construction of the unitary irreducible representations of the rotation group we have argued that the quantum and classical computation. Indeed while being a restricted class commuting circuits exhibit genuine quantum effects such as superpositions and entanglement only when they are sufficiently decoupled from a lossy environment. Paradoxically a specially engineered interaction with the environment is close to a field antinode and the associated light forces provide for self trapping of the electrons which results in soliton like properties. We show that the entanglement entropy of more complicated regions including non convex and disconnected regions are obtained from the reduction map. An analysis performed on few classes of states shows that the new band around the Fermi energy of the bath.\n",
      "\n",
      "Existing abstract: Physical systems usually exhibit quantum behavior [[[such as superpositions and entanglement only when they are sufficiently decoupled from a lossy environment. Paradoxically a specially engineered interaction with the environment]]] can become a resource for the generation and protection of quantum states. This notion can be generalized to the confinement of a system into a manifold of quantum states consisting of all coherent superpositions of multiple stable steady states. We have experimentally confined the state of a harmonic oscillator to the quantum manifold spanned by two coherent states of opposite phases. In particular we have observed a Schrodinger cat state spontaneously squeeze out of vacuum before decaying into a classical mixture. This was accomplished by designing a superconducting microwave resonator whose coupling to a cold bath is dominated by photon pair exchange. This experiment opens new avenues in the fields of nonlinear quantum optics and quantum information where systems with multi dimensional steady state manifolds can be used as error corrected logical qubits.\n",
      "\n",
      "0.000508069992065\n",
      "New abstract: We investigate quantum coherences in the presence of the odd fermion strongly influences the location and nature of the phase transition especially the critical value of the dimensionless parameter m # g # # given by # cdot# # # .\n",
      "\n",
      "Existing abstract: Quantum phase transitions in a system of N bosons with angular momentum L # # s d and a single fermion with angular momentum j are investigated both classically and quantum mechanically. It is shown that [[[the presence of the odd fermion strongly influences the location and nature of the phase transition especially the critical value of the]]] control parameter at which the phase transition occurs. Experimental evidence for the U # SU # spherical to axially deformed transition in odd even nuclei is presented.\n",
      "\n",
      "Cluster 9 (5262 articles):\n",
      "entanglement, states, state, entangled, quantum, qubit, entropy, pure, local, multipartite, bipartite, discord, entangled states, systems, measure, correlations, qubits, mixed, quantum discord, entanglement entropy\n",
      "\n",
      "6.49473285675\n",
      "0.000267028808594\n",
      "New abstract: It is predicted by Schrodinger s equation without the need for a quantum gravity.\n",
      "\n",
      "Existing abstract: The Copenhagen interpretation has been remarkably successful but seems at odds with the underlying linearity of quantum mechanics. We show how it can emerge in a simple way from the underlying microscopic quantum world governed [[[by Schrodinger s equation without the need for]]] observers or their brains. In order to achieve this we assemble pieces of various pre existing ideas. Firstly we adopt a relational approach and use the eigenvectors of the reduced density matrix of a quantum sub system or equivalently the Schmidt decomposition to define the internal state of a sub system. Previous work has identified serious objections to such an interpretation because it apparently leads to macroscopic superpositions and physically unacceptable instabilities near degeneracies. We show that both these problems are solved if the sub system consists of a large number of coarse grained degrees of freedom as one expects in order to make contact with the classical world. We further argue that coarse graining is a necessary ingredient because measuring devices have both finite spatial and temporal resolutions. What results is an interpretation in which both decoherence and coarse graining play key roles and from which the rules of the Copenhagen interpretation are seen to emerge in realistic situations that include the measurement of the position of a particle and a decay process.\n",
      "\n",
      "0.00112891197205\n",
      "New abstract: Quantum metrology uses quantum states with no classical counterpart. An experimental violation of Bell s inequalities. No concepts beyond classical statistics are needed for quantum physics the differences are only apparent and result from the particularities of those classical statistical systems which include the Jarzynski equality and Bochkov Kuzovlev equality. Compared with previous methods in the literature our toy model allows for an observer to gather sufficient information to distinguish between the actual phase signal and a parasitic signal due to scattered and frequency shifted photons. Our approach can be applied to other quantum systems aiding the pursuit of high operational fidelities in quantum control.\n",
      "\n",
      "Existing abstract: Quantum mechanics can emerge from classical statistics. A typical quantum system describes an isolated subsystem of a classical statistical ensemble with infinitely many classical states. The state of this subsystem can be characterized by only a few probabilistic observables. Their expectation values define a density matrix if they obey a purity constraint . Then all the usual laws of quantum mechanics follow including Heisenberg s uncertainty relation entanglement and a [[[violation of Bell s inequalities. No concepts beyond classical statistics are needed for quantum physics the differences are only apparent and result from the particularities of those classical statistical systems which]]] admit a quantum mechanical description. Born s rule for quantum mechanical probabilities follows from the probability concept for a classical statistical ensemble. In particular we show how the non commuting properties of quantum operators are associated to the use of conditional probabilities within the classical system and how a unitary time evolution reflects the isolation of the subsystem. As an illustration we discuss a classical statistical implementation of a quantum computer.\n",
      "\n"
     ]
    }
   ],
   "source": [
    "for i in range(n_clusters):\n",
    "    print \"Cluster %d (%i articles):\" % (i, count_clusters[i])\n",
    "    print ', '.join([terms[x] for x in order_centroids[i, :20]])\n",
    "    print ''\n",
    "    writeAbstractCluster(i, 2)"
   ]
  },
  {
   "cell_type": "code",
   "execution_count": 11,
   "metadata": {
    "collapsed": false
   },
   "outputs": [
    {
     "name": "stdout",
     "output_type": "stream",
     "text": [
      "Cluster 7 (2483 articles):\n",
      "key, protocol, quantum, channel, security, qkd, key distribution, quantum key, quantum key distribution, communication, protocols, secure, distribution, channels, capacity, information, secret, classical, rate, bob\n",
      "\n",
      "5.07771587372\n",
      "0.000466108322144\n",
      "New abstract: We show how weak non linearities can be used in quantum key distribution protocols. This exposition does not require knowledge of the quantum seal offer unprecedented security for unattended monitoring systems.\n",
      "\n",
      "0.00108504295349\n",
      "New abstract: We consider the notion of canonical attacks which are the cryptographic analog of the canonical forms of positive partial transposition and of the sets of unitaries implementable by circuits over the Clifford and T library and unitaries over the ring mathbb Z # sqrt # i . Moreover we show that the resolved sideband regime where the resonance states overlap and many branch points exceptional points in the parameter space which separates the Markovian and non Markovian features are discerned in its short time structure. These two features are in concordance with each other and so purify any imperfections however prior studies suggest that the system should be compatible with micro causality rather than with algebraic independence.\n",
      "\n",
      "0.00170612335205\n",
      "New abstract: A condition for reversibility sufficiency of a quantum channel is a deterministic compact set K k t . We also discuss the physical significance of this anomaly in terms of conditional probabilistic outcomes of projective measurements. However a classical model has been recently proposed in PRL bf ## ### #### . To resolve the ill posedness problem we construct this prediction as the result of superimposing oscillations with incommensurate frequencies. Therefore E mathrm N t is a quasi periodic function of time with the parameter dependent exponent while the R enyi entropy of qubit channels and unital quantum channels. We obtain an exact analytic solution for the time evolving wave functional and study properties of generalized Bacon Shor codes which works effectively against highly biased noise dominated by dephasing. We find the optimal Bacon Shor block size as a function of the film size and the plasma frequency. The force for unit area is attractive and for a given number of particles each of which undergo isospin measurements at spacelike separated locations. The equations of motion become first order differential equations for the low energy subspace of local Hamiltonians on a D dimensional lattice. It is based on two channel Raman excitations of a\n",
      "\n",
      "0.000511884689331\n",
      "New abstract: Measurement device independent quantum key distribution protocol based on the same point of view. We analyze a simple case where the control law is explicitly determined. We experimentally implement the derived pulse sequences in three and four real dimensions.\n",
      "\n",
      "0.000479936599731\n",
      "New abstract: The existing theory of decoy state method so that it is secure if the quantum signal transmitted is only a single photon as a single qubit is sufficient for the experimental statistics to admit a preparation noncontextual model. No fixed operational equivalences are required. Violating such an inequality is therefore arguably the most direct route to an experimental refutation of noncontextuality.\n",
      "\n",
      "0.000339031219482\n",
      "New abstract: Quantum cryptography is the art and science of exploiting quantum mechanical effects in relatively massive systems. Here we focus on spin squeezing in Bose Einstein condensates. The analogue for fermionic systems would be to observe bunching.\n",
      "\n",
      "0.000205039978027\n",
      "New abstract: The method of complementary channel for analysis of reversibility sufficiency of a channel with multiple senders.\n",
      "\n",
      "0.000627040863037\n",
      "New abstract: The coding theorem for the entanglement assisted classical capacity as a function of the number of edges and U n # # is in excellent agreement with experiments. Finally we provide a characterization of separable pure state preserving affine maps is obtained.\n",
      "\n"
     ]
    },
    {
     "data": {
      "text/plain": [
       "<AbstractWriter.AbstractWriter instance at 0x10cbf0758>"
      ]
     },
     "execution_count": 11,
     "metadata": {},
     "output_type": "execute_result"
    }
   ],
   "source": [
    "i = 7\n",
    "print \"Cluster %d (%i articles):\" % (i, count_clusters[i])\n",
    "print ', '.join([terms[x] for x in order_centroids[i, :20]])\n",
    "print ''\n",
    "writeAbstractCluster(i, 8, check_article=False, seed=1492, specialized_weight=0.9)"
   ]
  },
  {
   "cell_type": "code",
   "execution_count": null,
   "metadata": {
    "collapsed": true
   },
   "outputs": [],
   "source": []
  }
 ],
 "metadata": {
  "kernelspec": {
   "display_name": "Python 2",
   "language": "python",
   "name": "python2"
  },
  "language_info": {
   "codemirror_mode": {
    "name": "ipython",
    "version": 2
   },
   "file_extension": ".py",
   "mimetype": "text/x-python",
   "name": "python",
   "nbconvert_exporter": "python",
   "pygments_lexer": "ipython2",
   "version": "2.7.11"
  }
 },
 "nbformat": 4,
 "nbformat_minor": 0
}
