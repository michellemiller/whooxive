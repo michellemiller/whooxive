{
 "cells": [
  {
   "cell_type": "markdown",
   "metadata": {},
   "source": [
    "Can I predict the existence of subfields with some cool unsupervised learning algorithm? \n",
    "\n",
    "For starters, let's just use regular n-grams. A more advanced version would be to look for noun phrases or J&K POS tags."
   ]
  },
  {
   "cell_type": "code",
   "execution_count": 22,
   "metadata": {
    "collapsed": false
   },
   "outputs": [],
   "source": [
    "#Need to add parent directoy to sys.path to find 'metadataDB'\n",
    "import sys\n",
    "sys.path.append('../../')\n",
    "\n",
    "%matplotlib inline\n",
    "# import matplotlib.pyplot as plt \n",
    "import time\n",
    "import numpy as np\n",
    "# import scipy as sp\n",
    "import re\n",
    "from collections import Counter\n",
    "import itertools\n",
    "import random\n",
    "import copy\n",
    "\n",
    "# Natural language processing toolkit\n",
    "# To use this, run nltk.download() and download 'stopwords'\n",
    "# from nltk.corpus import stopwords\n",
    "# s=stopwords.words('english') + ['']\n",
    "\n",
    "# Machine learning\n",
    "from sklearn.feature_extraction.text import CountVectorizer\n",
    "from sklearn.feature_extraction.text import TfidfTransformer\n",
    "from sklearn.metrics import classification_report, accuracy_score, confusion_matrix\n",
    "from sklearn.cross_validation import train_test_split, cross_val_score\n",
    "from sklearn.cluster import KMeans\n",
    "from sklearn.decomposition import SparsePCA\n",
    "# from sklearn.naive_bayes import MultinomialNB\n",
    "# from sklearn.linear_model import LogisticRegression\n",
    "from sklearn.svm import LinearSVC\n",
    "from sklearn.pipeline import Pipeline\n",
    "# from sklearn import metrics\n",
    "\n",
    "# SQL\n",
    "from sqlalchemy import create_engine\n",
    "from sqlalchemy.orm import sessionmaker\n",
    "from metadataDB.declareDatabase import *\n",
    "from sqlalchemy import or_, and_\n",
    "from sqlalchemy import extract\n",
    "\n",
    "engine = create_engine(\"sqlite:///../../arXiv_metadata.db\", echo=False)\n",
    "Base.metadata.bind = engine\n",
    "DBsession = sessionmaker(bind=engine)\n",
    "session = DBsession()"
   ]
  },
  {
   "cell_type": "markdown",
   "metadata": {},
   "source": [
    "For the general vocabulary, use all articles since (i.e., creatd after) 2013."
   ]
  },
  {
   "cell_type": "code",
   "execution_count": 23,
   "metadata": {
    "collapsed": false
   },
   "outputs": [],
   "source": [
    "query = session.query(Article_Category)\\\n",
    "                    .join(Category)\\\n",
    "                    .join(Article)\\\n",
    "                    .filter(Category.name.like('%atom-ph%'),\n",
    "                            )\n",
    "#                             or_(Article.journal_ref.like('Physics Review Letters%'),\n",
    "#                                           Article.journal_ref.like('Phys. Rev. Lett.%'),\n",
    "#                                           Article.journal_ref.like('PRL%')))\n",
    "\n",
    "# Clean up text\n",
    "abstracts = [' '.join(x.article.abstract.split()) for x in query]\n",
    "\n",
    "query = session.query(Article).filter(extract('year', Article.created) > 2012)\n",
    "#                             or_(Article.journal_ref.like('Physics Review Letters%'),\n",
    "#                                           Article.journal_ref.like('Phys. Rev. Lett.%'),\n",
    "#                                           Article.journal_ref.like('PRL%')))\n",
    "\n",
    "# Clean up text\n",
    "abstracts_general = [' '.join(x.abstract.split()) for x in query]\n",
    "\n",
    "session.close_all()"
   ]
  },
  {
   "cell_type": "code",
   "execution_count": 24,
   "metadata": {
    "collapsed": false
   },
   "outputs": [
    {
     "name": "stdout",
     "output_type": "stream",
     "text": [
      "178828\n"
     ]
    }
   ],
   "source": [
    "# print len(abstracts)\n",
    "print len(abstracts_general)"
   ]
  },
  {
   "cell_type": "markdown",
   "metadata": {},
   "source": [
    "Use KMeans to find interesting subfields.\n",
    "See: http://scikit-learn.org/stable/auto_examples/text/document_clustering.html"
   ]
  },
  {
   "cell_type": "code",
   "execution_count": 25,
   "metadata": {
    "collapsed": false
   },
   "outputs": [
    {
     "name": "stdout",
     "output_type": "stream",
     "text": [
      "191.118264198\n",
      "3.70438098907\n"
     ]
    }
   ],
   "source": [
    "n_clusters = 10\n",
    "# Reduce n_init to 10 for testing purposes.\n",
    "clf_unsupervised = Pipeline([('vect', CountVectorizer(ngram_range=(1,3), stop_words='english')),\n",
    "                             ('tfidf', TfidfTransformer()),\n",
    "                             ('clf', KMeans(n_clusters=n_clusters, n_init=20, n_jobs=-1))])\n",
    "start = time.time()\n",
    "clf_unsupervised.fit(abstracts)\n",
    "print time.time() - start\n",
    "\n",
    "start = time.time()\n",
    "predict = clf_unsupervised.predict(abstracts)\n",
    "print time.time() - start"
   ]
  },
  {
   "cell_type": "code",
   "execution_count": 26,
   "metadata": {
    "collapsed": false,
    "scrolled": false
   },
   "outputs": [
    {
     "name": "stdout",
     "output_type": "stream",
     "text": [
      "Cluster 0 (926 articles):\n",
      "ionization, laser, electron, field, pulse, time, pulses, harmonic, strong, attosecond, high, dependent, laser field, strong field, time dependent, hhg, generation, intense, energy, photon\n",
      "\n",
      "Cluster 1 (1021 articles):\n",
      "rydberg, atoms, bose, lattice, atom, condensate, quantum, bose einstein, einstein, interactions, state, spin, optical, interaction, gas, states, phase, atomic, dipole, dynamics\n",
      "\n",
      "Cluster 2 (455 articles):\n",
      "nuclear, electric, dipole, electric dipole, edm, moment, parity, hyperfine, relativistic, dipole moment, electron, electric dipole moment, calculations, moments, cluster, coupled cluster, atomic, spin, states, interaction\n",
      "\n",
      "Cluster 3 (682 articles):\n",
      "alpha, structure, proton, fine, fine structure, electron, mu, levels, transitions, variation, hydrogen, muonic, corrections, data, constant, calculations, results, fine structure constant, structure constant, transition\n",
      "\n",
      "Cluster 4 (420 articles):\n",
      "scattering, body, scattering length, length, range, resonances, recombination, efimov, feshbach, wave, universal, ultracold, resonance, rate, energy, dimer, atoms, interactions, van der, der\n",
      "\n",
      "Cluster 5 (660 articles):\n",
      "magnetic, field, magnetic field, spin, fields, atoms, electric, trap, magnetic fields, atomic, molecules, frequency, using, feshbach, resonances, resonance, zeeman, optical, electric field, atom\n",
      "\n",
      "Cluster 6 (1747 articles):\n",
      "laser, optical, trap, atoms, cooling, ion, state, light, beam, cavity, atomic, atom, single, frequency, ions, using, demonstrate, transition, quantum, trapping\n",
      "\n",
      "Cluster 7 (2447 articles):\n",
      "quantum, states, energy, state, atom, electron, method, potential, systems, results, atomic, atoms, theory, wave, time, spin, non, model, using, classical\n",
      "\n",
      "Cluster 8 (342 articles):\n",
      "frequency, clock, optical, clocks, transition, shift, 10, lattice, comb, laser, clock transition, uncertainty, atomic, optical frequency, stability, frequency comb, noise, shifts, fractional, cavity\n",
      "\n",
      "Cluster 9 (456 articles):\n",
      "cross, cross sections, sections, cross section, section, electron, scattering, energy, ionization, differential, energies, photoionization, differential cross, calculations, collision, collisions, elastic, ion, ev, impact\n",
      "\n"
     ]
    }
   ],
   "source": [
    "# Most important chunks. See http://scikit-learn.org/stable/auto_examples/text/document_clustering.html\n",
    "\n",
    "order_centroids = clf_unsupervised.named_steps['clf'].cluster_centers_.argsort()[:, ::-1]\n",
    "count_clusters = Counter(predict)\n",
    "\n",
    "terms =  clf_unsupervised.named_steps['vect'].get_feature_names()\n",
    "for i in range(n_clusters):\n",
    "    print \"Cluster %d (%i articles):\" % (i, count_clusters[i])\n",
    "    print ', '.join([terms[x] for x in order_centroids[i, :20]])\n",
    "    print ''"
   ]
  },
  {
   "cell_type": "code",
   "execution_count": 27,
   "metadata": {
    "collapsed": false
   },
   "outputs": [
    {
     "name": "stdout",
     "output_type": "stream",
     "text": [
      "509.964752197\n"
     ]
    }
   ],
   "source": [
    "import AbstractWriter\n",
    "reload(AbstractWriter)\n",
    "\n",
    "\n",
    "# Make the general abstract writer, transform complete list of abstracts (general vocabulary).\n",
    "writer_general = AbstractWriter.AbstractWriter(ngram=5, randomize=True, seed=42)\n",
    "start = time.time()\n",
    "writer_general.fit(abstracts_general)\n",
    "print time.time() - start\n",
    "\n",
    "\n",
    "\n",
    "# # Get abstracts in cluster\n",
    "# cluster = 8\n",
    "# current_abstracts_iterator = (x for x, y in zip(abstracts, predict) if y==cluster)\n",
    "\n",
    "# # Make a copy of the general AbstractWriter instance.\n",
    "# writer = copy.copy(writer_general)\n",
    "# start = time.time()\n",
    "# writer.fit_specialized(current_abstracts_iterator)\n",
    "# print time.time() - start\n",
    "\n",
    "# fake_abstract = writer.write_abstract()\n",
    "# print fake_abstract\n",
    "# print ''\n",
    "# print writer.find_similar(fake_abstract)"
   ]
  },
  {
   "cell_type": "code",
   "execution_count": 28,
   "metadata": {
    "collapsed": false
   },
   "outputs": [],
   "source": [
    "# This function writes abstracts as a function of (precomputed) cluster\n",
    "def writeAbstractCluster(cluster, article_number=1, check_article=True, seed=42, specialized_weight=0.9):\n",
    "    writer = AbstractWriter.AbstractWriter(ngram=writer_general.ngram,\n",
    "                                           randomize=writer_general.randomize,\n",
    "                                           seed=seed,\n",
    "                                           maxWords=writer_general.maxWords)\n",
    "    writer._data = dict(writer_general._data)\n",
    "    writer._abstracts = list(writer_general._abstracts)\n",
    "    writer._specialized_weight = specialized_weight\n",
    "#     print writer._data\n",
    "#     writer = copy.deepcopy(writer_general)\n",
    "    start = time.time()\n",
    "    current_abstracts_iterator = (x for x, y in zip(abstracts, predict) if y==cluster)\n",
    "    writer.fit_specialized(current_abstracts_iterator)\n",
    "    print time.time() - start\n",
    "    \n",
    "    for _ in range(article_number):\n",
    "        start = time.time()\n",
    "        fake_abstract = writer.write_abstract()\n",
    "        print time.time() - start\n",
    "\n",
    "        print 'New abstract: ' + fake_abstract\n",
    "        print ''\n",
    "        if check_article:\n",
    "            print 'Existing abstract: ' + writer.find_similar(fake_abstract)\n",
    "            print ''\n",
    "    return writer"
   ]
  },
  {
   "cell_type": "code",
   "execution_count": 29,
   "metadata": {
    "collapsed": true
   },
   "outputs": [],
   "source": [
    "# Write two abstracts per cluster."
   ]
  },
  {
   "cell_type": "code",
   "execution_count": 30,
   "metadata": {
    "collapsed": false,
    "scrolled": false
   },
   "outputs": [
    {
     "name": "stdout",
     "output_type": "stream",
     "text": [
      "Cluster 0 (926 articles):\n",
      "ionization, laser, electron, field, pulse, time, pulses, harmonic, strong, attosecond, high, dependent, laser field, strong field, time dependent, hhg, generation, intense, energy, photon\n",
      "\n",
      "19.9766011238\n",
      "0.0013530254364\n",
      "New abstract: We study the evolution of the system in an analytic way. After that by additionally studying the system we make a choice of mathbf K in terms of Euler Gamma functions proving that it is simple and easy to use method to generate such random number sequences. Here we introduce a versatile pick up and drop off delay up to ## minutes in a single passage. The mean number of detected antineutrinos is ### # neutrino day to be compared with its experimental value of ##.# . While this difference could be employed as mechanisms for stabilization and control in systems that require reliable operation under chaos.\n",
      "\n",
      "Existing abstract: We propose a reconstruction of the initial system of ordinary differential equations from a single observed variable. The suggested approach is applied to a certain class of systems which includes in particular the Rossler system and other chaotic systems. We develop relations and a method to pass from a model that involves the observable and its time derivatives to a real original system. To this end we first find a set of candidates [[[of the system in an analytic way. After that by additionally studying the system we make a choice]]] for the sought system.\n",
      "\n",
      "0.00249695777893\n",
      "New abstract: A formulation of quantum electrodynamics is given that applies to atoms in a strong low frequency electromagnetic field. In this case we point out a simple fact a new scalar of ### GeV would suggest an existence of distinct competitions between two jet hadronization mechanisms for different xi ln # z ranges in different centrality bins. The jet fragmentation functions for light hadron and heavy meson production measured at the Large Hadron Collider. Interference effects can range from O ## to O ### events are needed to exclude an isotropic distribution of cluster orbits we find a bistable region . In the response model we observe a Kosterlitz Thouless KT transition between the lowtemperature symmetry breaking and the resultant Dirac gap engineering through Cr substitution for Cd atoms. The manipulation of the system symmetry and dimensionality. To physically realize these peculiar phases and study their influence on the drop mobility remains unexplained. Indeed the physics behind this phenomenon and the horizontal water bridge which explanations regarding its underlying physics have led to substantial recent progress reviewed here.\n",
      "\n",
      "Existing abstract: Based on a multi phase transport model the measured jet fragmentation function ratio of Pb Pb collisions to p p collisions in CERN Large Hadron Collider experiments is decomposed into two parts corresponding to the two contributions of jet hadronization from fragmentation and coalescence. The results [[[suggest an existence of distinct competitions between two jet hadronization mechanisms for different xi ln # z ranges in different centrality bins. The jet fragmentation functions for]]] different types of hadrons mesons and baryons are proposed as a good probe to study the competition between fragmentation and coalescence for the jet hardonization in high energy heavy ion collisions.\n",
      "\n",
      "Cluster 1 (1021 articles):\n",
      "rydberg, atoms, bose, lattice, atom, condensate, quantum, bose einstein, einstein, interactions, state, spin, optical, interaction, gas, states, phase, atomic, dipole, dynamics\n",
      "\n",
      "10.6021699905\n",
      "0.00180602073669\n",
      "New abstract: Classically it is impossible to protect quantum information from a dephasing biased error model where we combine theoretical input for the leading twist nuclear shadowing the FGS model and the EKS##s EPS##s nPDF set where the spatial dependence is formulated as a mathematical optimization problem in which the central parts of these clusters. The observations were made using the Ly alpha absorption lines in the CGM of z # galaxies. The inhomogeneous distribution of neutral hydrogen during the reionization process results in significant fluctuations in the Lyman alpha line of the QSO with no offset for the other two catalogues a rescaling of the spanwise coordinate by a self similarity coefficient allows all of them to be genuinely entangled.\n",
      "\n",
      "Existing abstract: The presence of nuclear medium and collective phenomena which involve several nucleons modify the parton distribution functions of nuclei nPDFs compared to those of a free nucleon. These modifications have been investigated by different groups using global analyses of high energy nuclear reaction world data resulting in modern nPDF parametrizations with error estimates such as EPS## s HKN## and nDS. These phenomenological nPDF sets roughly agree within their uncertainty bands but have antiquarks for large x and gluons for the whole x range poorly constrained by the available data. In the kinematics accessible at the LHC this has negative impact on the interpretation of the heavy ion collision data especially for the p A benchmarking runs. The EMC region is also sensitive to the proper definition of x where the nuclear binding effects have to be taken into account and for heavy nuclei one also needs to take into account that a fraction of the nucleus momentum is carried by the equivalent photons which modifies the momentum sum rule. We study how these effects affect the predictions for the nuclear modification ratios at the LHC kinematics using a [[[model where we combine theoretical input for the leading twist nuclear shadowing the FGS model and the EKS##s EPS##s nPDF set where the spatial dependence is formulated as a]]] power series of the nuclear thickness functions T A .\n",
      "\n",
      "0.000228881835938\n",
      "New abstract: We study the modification by the presence of micro turbulent fields.\n",
      "\n",
      "Existing abstract: Hanle scattering is an important diagnostic tool to study weak solar magnetic fields. Partial frequency redistribution PRD is necessary to interpret the linear polarization observed in strong resonance lines. Usually angle averaged PRD functions are used to analyze linear polarization. However it is established that angle dependent PRD functions are often necessary to interpret polarization profiles formed in the presence of weak magnetic fields. Our aim is to present an efficient decomposition technique and the numerical method to solve the concerned angle dependent line transfer problem. Together with the standard Stokes decomposition technique we employ Fourier expansion over the outgoing azimuth angle to express in a more convenient form the angle dependent PRD function for the Hanle effect. It allows the use of angle dependent frequency domains of Bommier to solve the Hanle transfer problem. Such an approach is self consistent and accurate compared to a recent approach where angle averaged frequency domains were used to solve the same problem. We show that it is necessary to incorporate angle dependent frequency domains instead of angle averaged frequency domains to solve the Hanle transfer problem accurately especially for the Stokes U parameter. The importance of using angle dependent domains has been highlighted by taking the example of Hanle effect in the case of line transfer with vertical magnetic fields in a slab atmosphere. We have also studied the case of polarized line formation when micro turbulent magnetic fields are present. The difference between angle averaged and angle dependent solutions is enhanced [[[by the presence of micro turbulent]]] fields.\n",
      "\n",
      "Cluster 2 (455 articles):\n",
      "nuclear, electric, dipole, electric dipole, edm, moment, parity, hyperfine, relativistic, dipole moment, electron, electric dipole moment, calculations, moments, cluster, coupled cluster, atomic, spin, states, interaction\n",
      "\n",
      "9.64387798309\n",
      "0.00269079208374\n",
      "New abstract: Searches for CP violating effects in the narrow #.# eV transition in ###Th nucleus may be ### ### times larger than the stiffness sensed by applying in plane electric field leads to a two parameter modified Newtonian force law that involves an additional repulsive Yukawa potential. The surface phase behaviour depends on the initial preparation of an equilibrium state of the gravitational field. They may be in galactic space heavier than in the neighborhood of singular exceptional points. We provide typical results for the phase structure function that helps in obtaining an accurate estimate of the true arc abundance. We derive a lensing efficiency of # pm # K in the hidden order state. To end the thermal dependence of the two particle interaction at small transferred momentum q destroys power law scaling of the relaxation time. The latter emerges not due to critical slowing down in the vicinity of the energy gap to the critical temperature the self energy shows a pole structure. The latter region becomes more dominant as the interaction becomes stronger. It is also found that when the bosons become trapped within the bubble wall the stabilization mechanism lasts for only a limited sample of asteroids for which the albedo\n",
      "\n",
      "Existing abstract: We scrutinize the real frequency structure of the self energy in the superconducting state of the attractive Hubbard model within the dynamical mean field theory. Within the strong coupling superconducting phase which has been understood in terms of the Bose Einstein condensation in the literature we find two qualitatively different regions crossing over each other. In one region close to zero temperature the self energy depends on the frequency only weakly at low energy. On the other hand in the region close [[[to the critical temperature the self energy shows a pole structure. The latter region becomes more dominant as the interaction becomes stronger.]]] We reveal that the self energy pole in the latter region is generated by a coupling to a hidden fermionic excitation. The hidden fermion persists in the normal state where it yields a pseudogap. We compare these properties with those of the repulsive Hubbard model relevant for high temperature cuprate superconductors showing that hidden fermions are a key common ingredient in strongly correlated superconductivity.\n",
      "\n",
      "0.00153994560242\n",
      "New abstract: Nuclear deformation effects on the binding energies in heavy ions are investigated. Approximate formulas for the nuclear size correction and the isotope shift for deformed nuclei are derived. Combined with direct numerical evaluations these formulas are employed to reanalyse experimental data on the # nu beta beta decay. It retains ## of DEP events and rejects about half of the total amount of energy received from the various reservoirs. The generalization to systems exchanging energy volume and matter with several reservoirs with a possible conservative external force acting on the piston and the walls of the hollow plasma channel. The onset of the propeller in a #.## s pulsar at luminosity of ## ## ## detector modules respectively with a ## C.L..\n",
      "\n",
      "Existing abstract: Thermal contact is the archetype of non equilibrium processes driven by constant non equilibrium constraints when the latter are enforced by reservoirs exchanging conserved microscopic quantities. At a mesoscopic scale only the energies of the macroscopic bodies are accessible together with the configurations of the contact system. We consider a class of models where the contact system as well as macroscopic bodies have a finite number of possible configurations. The global system with only discrete degrees of freedom has no microscopic Hamiltonian dynamics but it is shown that if the microscopic dynamics is assumed to be deterministic and ergodic and to conserve energy according to some specific pattern and if the mesoscopic evolution of the global system is approximated by a Markov process as closely as possible then the mesoscopic transition rates obey three constraints. In the limit where macroscopic bodies can be considered as reservoirs at thermodynamic equilibrium but with different intensive parameters the mesoscopic transition rates turn into transition rates for the contact system and the third constraint becomes local detailed balance the latter is generically expressed in terms of the microscopic exchange entropy variation namely the opposite of the variation of the thermodynamic entropy of the reservoir involved in a given microscopic jump of the contact system configuration. For a finite time evolution after contact has been switched on we derive a fluctuation relation for the joint probability of the heat amounts [[[received from the various reservoirs. The generalization to systems exchanging energy volume and matter with several reservoirs with a possible conservative external force acting on the]]] contact system is given explicitly.\n",
      "\n",
      "Cluster 3 (682 articles):\n",
      "alpha, structure, proton, fine, fine structure, electron, mu, levels, transitions, variation, hydrogen, muonic, corrections, data, constant, calculations, results, fine structure constant, structure constant, transition\n",
      "\n",
      "9.87024784088\n",
      "0.00253391265869\n",
      "New abstract: Scalar dark matter can interact with Standard Model SM couplings but additional invisible decay modes # SM couplings to fermions and vector bosons. Using Bayesian inference we compute upper limits on the annihilation cross section set by Fermi LAT and the upcoming CALET DAMPE and Gamma ###. An important feature of this work is to develop a more systematic approach to gaining insight into the complex exciton dynamics in tetracene crystals which has been difficult to obtain high resolution maps of the circum nuclear gas of the Seyfert # galaxy NGC #### in order to determine the corresponding numbers of free parameters in these models selection tools such as the power spectrum and two point correlation function. Both I and mu mu depend on lambda and lambda . Only for the case lambda lambda # does mu mu equal the difference in the predictions of earthquakes and volcanoes and closer monitoring of ground uplift in areas where hydraulic fracturing is performed.\n",
      "\n",
      "Existing abstract: We obtain exact analytical results for the evolution of a # # dimensional Luttinger model prepared in a domain wall initial state i.e. a state with different densities on its left and right sides. Such an initial state is modeled as the ground state of a translation invariant Luttinger Hamiltonian H lambda with short range non local interaction and different chemical potentials to the left and right of the origin. The system evolves for time t # via a Hamiltonian H lambda which differs from H lambda by the strength of the interaction. Asymptotically in time as t to infty after taking the thermodynamic limit the system approaches a translation invariant steady state. This final steady state carries a current I and has an effective chemical potential difference mu mu between right and left moving fermions obtained from the [[[two point correlation function. Both I and mu mu depend on lambda and lambda . Only for the case lambda lambda # does mu mu equal the difference in the]]] initial left and right chemical potentials. Nevertheless the Landauer conductance for the final state G I mu mu has a universal value equal to the conductance quantum e # h for the spinless case.\n",
      "\n",
      "0.00209403038025\n",
      "New abstract: The collisional electron impact line widths of the #s #p transitions in Li like ions are evaluated utilizing an effective potential approach. We also present phenomenological results obtained with the length gauge is made. It is shown that in pi # fraction of such products the eigenvalues are real. Being greater than the corresponding ones estimated by the calibration of the attoclock technique which is used for theoretical simulations has been derived from the measured angular distributions. Predictions for the reaction cross sections predicted by these potentials. Even so both the experimental part and the analysis of the observed data. A range of methods which allow us to rank corpora. We also show how the boundary constants can be fixed with the help of vec k . vec p perturbation on the spin current and spin transfer toque which are useful in understanding the existing equalities and pursuing new fluctuation relations in other complex quantum systems.\n",
      "\n",
      "Existing abstract: The probability that there are k real eigenvalues for an n dimensional real random matrix is known. Here we study this for the case of products of independent random matrices. Relating the problem of the probability that the product of two real # dimensional random matrices has real eigenvalues to an issue of optimal quantum entanglement this is fully analytically solved. [[[It is shown that in pi # fraction of such products the eigenvalues are real. Being greater than the corresponding]]] known probability # sqrt # for a single matrix it is shown numerically that the probability that it all eigenvalues of a product of random matrices are real tends to unity as the number of matrices in the product increases indefinitely. Some other numerical explorations including the expected number of real eigenvalues is also presented where an exponential approach of the expected number to the dimension of the matrix seems to hold.\n",
      "\n",
      "Cluster 4 (420 articles):\n",
      "scattering, body, scattering length, length, range, resonances, recombination, efimov, feshbach, wave, universal, ultracold, resonance, rate, energy, dimer, atoms, interactions, van der, der\n",
      "\n",
      "41.548735857\n",
      "0.000497102737427\n",
      "New abstract: The multiple scattering effect on the line width can be neglected and the only multiple scattering process of relativistic electrons in crystal leads to the PXR lines broadening. Based on the obtained criteria four methods of search for promising SL TEM with the use of local orbital basis set.\n",
      "\n",
      "Existing abstract: The multiple scattering effect on the line width of the backward Parametric X ray Radiation PXR in the extremely Bragg geometry produced by low energy relativistic electrons traversing a single crystal is discussed. It is shown that there exist conditions when the influence of photo absorption [[[on the line width can be neglected and the only multiple scattering process of relativistic electrons in crystal leads to the PXR lines broadening. Based on the obtained]]] theoretical and numerical results for the line width broadening caused by the multiple scattering of ## and ## MeV relativistic electrons in a Si crystal of varying thicknesses an experiment could be performed to help to reveal the scattering effect on the PXR lines in the absence of photo absorption. This leads to a more accurate understanding of the influence of scattering phenomenon on the line width of the backward PXR and helps to a better construction of a table top narrow bandwidth X ray source for scientific and industrial applications.\n",
      "\n",
      "0.00134611129761\n",
      "New abstract: We have implemented the dynamical vertex approximation D GammaA and the dual fermion DF approach based on the impedance matched photon echo quantum memory with Raman atomic transition. The time reversed quantum memory creates generalized conditions for ideal compression decompression of time duration of the applied field. The resultant rate equations describing the evolution of the Higgs quartic interaction with the Higgs field. We end by suggesting that optimistically calculated the collected evidences by coincidences runs to that the chance for getting so good agreement by accident would be of the order ## # which are further verified by density functional theory calculation that Bi zigzag chains formed on a heterogeneous GaAs ### surface have been used to trace the molecular material HI hyperfine transition at ##cm to trace atomic hydrogen and dust emission. Through estimation of column density we locate molecular clouds. Conclusions This new reddening map shows correlation with equivalent maps in the literature validating the method of Coulomb Dissociation. The result for the one loop phases.\n",
      "\n",
      "Existing abstract: It is the purpose of the present article to collect arguments for that there should exist in fact although not necessarily yet found some law which imply an adjustment to special features to occur in the future. In our own complex action model we suggest a version in which the goal according to which the future is being arranged is to diminish the integral over time and space of the numerical square of [[[the Higgs field. We end by suggesting that optimistically calculated the collected evidences by coincidences runs to that the chance for getting so good agreement by accident would be of the order]]] of only # in #####. In addition we review that the cosmological constant being so small can be considered evidence for some influence backward in time. Anthropic principle may be considered a way of simulating influence backward in time.\n",
      "\n",
      "Cluster 5 (660 articles):\n",
      "magnetic, field, magnetic field, spin, fields, atoms, electric, trap, magnetic fields, atomic, molecules, frequency, using, feshbach, resonances, resonance, zeeman, optical, electric field, atom\n",
      "\n",
      "9.89768195152\n",
      "0.000718116760254\n",
      "New abstract: We demonstrate the non dispersive deflection of an optical beam in a Stern Gerlach magnetic field. An optical pulse is initially stored as a spin wave coherence in thermal rubidium vapour. An inhomogeneous magnetic field imprints a phase gradient onto the spin wave which upon reacceleration of the optical pulse leads to an angular deflection of the retrieved beam. We show that the recoil corrections contribute predominantly to the radiation pressure effects.\n",
      "\n",
      "Existing abstract: Radiation pressure effects in ionization by short linearly polarized laser pulses are investigated in the framework of strong field approximation in both nonrelativistic and relativistic formulations. Differences between both approaches are discussed and retardation and recoil corrections are defined. It is demonstrated how these corrections can be incorporated into the nonrelativistic approach leading to the so called quasi relativistic formulation. These three approaches are further applied to the analysis of signatures of radiation pressure in energy angular distributions of photoelectrons. It is demonstrated that for Ti Sapphire laser pulses of intensities up to ## ## mathrm W cm # predictions of the quasi relativistic formulation agree well with those of the full relativistic one and [[[that the recoil corrections contribute predominantly to the radiation pressure]]] effects.\n",
      "\n",
      "0.00184893608093\n",
      "New abstract: We investigate optically detected magnetic resonance signals. Finally the importance of the coherent infalling motion of satellite galaxies toward the cluster center. Given that the timescale of hydrogen diffusion in partially hydrogenated LaFe ## x Si x . This allows us to write the coefficients of the induced cosmological and gravity terms as well as perturbative corrections to the S parameter. The one loop action of HEFT is given in terms of a pair of circularly polarized photons each with S hbar. This question cannot be resolved using a conventional photon detector which generally cannot distinguish one photon from two simultaneous photons. However it can be desirable for experiments to visually investigate the inside of the disk of the primary using particle simulations. We presume that the axis of the jet. We argue that the commonly observed extrasolar orbital structure can be understood well enough for the extraction of the inherently weak emitter s signal. The emitter s vacuum Rabi spectra exhibit clear differences to those measured by more standard methods with improved TOA and DM precisions by factors of a few tens. We present a general solution to this issue by rotating the bias field slowly enough for the molecular polarization axis to\n",
      "\n",
      "Existing abstract: A single photon is well known to have spin S hbar which would correspond to circular polarization and all quantum transitions with photon absorption or emission correspond to DeltaS hbar. However it is also widely believed that a single photon may be linearly polarized which would correspond to a state with S #. Indeed linearly polarized single photons are central to most quantum entanglement experiments. On the contrary it has recently been suggested based on a realistic spin quantized wave picture of quantum states that a linearly polarized photon state must be a superposition [[[of a pair of circularly polarized photons each with S hbar. This question cannot be resolved using a conventional photon detector which generally cannot distinguish one photon from two simultaneous photons. However it can be]]] addressed using a superconducting microcalorimeter detector with sub eV energy resolution and high quantum efficiency QE . A careful experiment demonstrating this photon pairing could place in question some of the paradoxical central foundations of modern quantum theory including quantum entanglement and nonlocality.\n",
      "\n",
      "Cluster 6 (1747 articles):\n",
      "laser, optical, trap, atoms, cooling, ion, state, light, beam, cavity, atomic, atom, single, frequency, ions, using, demonstrate, transition, quantum, trapping\n",
      "\n",
      "11.2290399075\n",
      "0.00062894821167\n",
      "New abstract: We report an experimental demonstration of this protocol is based on a simplified Lambda V type level structure is borne out by a density matrix analysis of the sublevel structure.\n",
      "\n",
      "Existing abstract: We demonstrate extremely narrow resonances for polarization rotation in an atomic vapor. The resonances are created using a strong control laser on the same transition which polarizes the atoms due to optical pumping among the magnetic sublevels. As the power in the control laser is increased successively higher order nested polarization rotation resonances are created with progressively narrower linewidths. We study these resonances in the D # line of Rb in a room temperature vapor cell and demonstrate a width of #.## Gamma for the third order rotation. The explanation [[[based on a simplified Lambda V type level structure is borne out by a density matrix analysis of the]]] system. The dispersive lineshape and subnatural width of the resonance lends itself naturally to applications such as laser locking to atomic transitions and precision measurements.\n",
      "\n",
      "0.00237321853638\n",
      "New abstract: We present a new method to estimate the performance of Feynman s ratchet at given values of the soft breaking parameters however induce large radiative corrections to the inflaton potential is very well approximated by n # polytropes. We also perform a Fisher matrix analysis we estimate the surface magnetic field from these processes projected along the Earth s magnetic field and that the excitation gap closes at the phase boundaries because of first order phase transitions we find that decay and growth have very similar time scales and that this breaks down for strong interactions in the wire within the Tomonaga Luttinger liquid with a scatterer that allows for both coherent and incoherent behaviour. We explore the extent to which it matches the expected Debye length. For practical applications for example in dissipative particle dynamics we are able to simultaneously support the affective goals of student agency and ownership over the learning process goals that may not be maintained within reasonable limits whereas for the other it is entirely compressive nabla times delta vec u # . Both cases give equivalent results. The system equations for the star motions governed by a time dependent scale fading out as q # t sim t\n",
      "\n",
      "Existing abstract: We investigate the screening properties of Gaussian charge models of electrolyte solutions by analysing the asymptotic behaviour of the pair distribution functions. We use a combination of Monte Carlo simulations with the hyper netted chain integral equation closure and the random phase approximation to establish the conditions under which a screening length is well defined and [[[the extent to which it matches the expected Debye length. For practical applications for example in dissipative particle dynamics we are able to]]] summarise our results in succinct rules of thumb which can be used for mesoscale modeling of electrolyte solutions. We thereby establish a solid foundation for future work such as the systematic incorporation of specific ion effects.\n",
      "\n",
      "Cluster 7 (2447 articles):\n",
      "quantum, states, energy, state, atom, electron, method, potential, systems, results, atomic, atoms, theory, wave, time, spin, non, model, using, classical\n",
      "\n",
      "12.0898668766\n",
      "0.00185799598694\n",
      "New abstract: We go beyond the approximate series expansions used in the dispersion theory of finite size atoms. We demonstrate that even for this simple problem. We generalize Jacobs original argument which was for the unique impurity measure with a linear evolution map under his protocol by replacing linearity with convexity thereby making it applicable to R enyi entropies of the quantum walk. In particular we show a general method based on a Wiener Khinchin like theorem for quantum system. By comparison with exact diagonalization results and Monte Carlo data. This confirms that the TDHF approach can be used for further analysis.\n",
      "\n",
      "Existing abstract: It was first shown by Jacobs in #### that the process of qubit state purification by continuous measurement of one observable can be enhanced on average by unitary feedback control. Here we quantify this by the reduction in any one of the family of R enyi entropies S alpha with # alpha infty at some terminal time revealing the rich structure of stochastic quantum control [[[even for this simple problem. We generalize Jacobs original argument which was for the unique impurity measure with a linear evolution map under his protocol by replacing linearity with convexity thereby making it applicable to R enyi entropies]]] S alpha for alpha in a finite interval about # . Even with this generalization Jacobs argument fails to identify the surprising fact which we prove by Bellman s principle of dynamic programming that his protocol is globally optimal for all R enyi entropies whose decrease is locally maximized by that protocol. Also surprisingly even though there is a range of R enyi entropies whose decrease is always locally maximized by the null control protocol that null control protocol cannot be shown to be globally optimal in any instance. These results highlight the non intuitive relation between local and global optimality in stochastic quantum control.\n",
      "\n",
      "0.00334811210632\n",
      "New abstract: Fast control of quantum systems as the total bundle space with respectively U # and SU # gauge theories with matter in all combinations of vector and tensor p rm zz polarizations are p rm z approx pm#.## . For the deuterium beam the obtained combinations of vector and tensor calculus which may be why they were overlooked. Although the first order flow arises from writing the action as a sum of components which are defined through Mobius transforms and which are shown to be distributed according to a power law decay scaled as P m m p here m denotes the harmonic order. In this work the stopping power of a plasma. In this paper it is shown that Born s rule is a natural consequence of the interference process without the need for explicit coupled channel calculations for scattering on statically deformed nuclei we explore the possibility to mitigate line foreground contamination by progressively masking the brightest pixels in the observed map. We consider experiments targeting CO # # at z # from the COSMOS field we report the first observation of second sound in liquid Helium is carried out to verify the idea which has proved that MI was suppressed successfully\n",
      "\n",
      "Existing abstract: We address the problem of line confusion in intensity mapping surveys and [[[explore the possibility to mitigate line foreground contamination by progressively masking the brightest pixels in the observed map. We consider experiments targeting CO # # at z #]]] Ly alpha at z # and CII at z # and use simulated intensity maps which include both clustering and shot noise components of the signal and possible foregrounds in order to test the efficiency of our method. We find that for CO and Ly alpha it is quite possible to remove most of the foreground contribution from the maps via only # # pixel masking. The CII maps will be more difficult to clean however due to instrumental constraints and the high intensity foreground contamination involved. While the masking procedure sacrifices much of the astrophysical information present in our maps we demonstrate that useful cosmological information in the targeted lines can be successfully retrieved.\n",
      "\n",
      "Cluster 8 (342 articles):\n",
      "frequency, clock, optical, clocks, transition, shift, 10, lattice, comb, laser, clock transition, uncertainty, atomic, optical frequency, stability, frequency comb, noise, shifts, fractional, cavity\n",
      "\n",
      "9.53724002838\n",
      "0.000944137573242\n",
      "New abstract: We show that a fractional frequency uncertainty of ## ## we propose ###In ions sympathetically cooled by ###Yb . We discuss the sampling formulae species occupancy distributions frequency of frequencies in this context. We end the paper with a discussion of their imprecisions. We restrict to the case of symplectic and of orthogonal groups.\n",
      "\n",
      "Existing abstract: Estimating the number n of unseen species from a k sample displaying only p leq k distinct sampled species has received attention for long. It requires a model of species abundance together with a sampling model. We start with a discrete model of iid stochastic species abundances each with Gibbs Poisson distribution. A k sample drawn from the n species abundances vector is the one obtained while conditioning it on summing to k [[[. We discuss the sampling formulae species occupancy distributions frequency of frequencies in this context. We]]] then develop some aspects of the estimation of n problem from the size k of the sample and the observed value of P n k the number of distinct sampled species. It is shown that it always makes sense to study these occupancy problems from a Gibbs Poisson abundance model in the context of a population with infinitely many species. From this extension a parameter gamma naturally appears which is a measure of richness or diversity of species. We rederive the sampling formulae for a population with infinitely many species together with the distribution of the number P k of distinct sampled species. We investigate the estimation of gamma problem from the sample size k and the observed value of P k . We then exhibit a large special class of Gibbs Poisson distributions having the property that sampling from a discrete abundance model may equivalently be viewed as a sampling problem from a random partition of unity now in the continuum. When n is finite this partition may be built upon normalizing n infinitely divisible iid positive random variables by its partial sum. It is shown that the sampling process in the continuum should generically be biased on the total length appearing in the latter normalization. A construction with size biased sampling from the ranked normalized jumps of a subordinator is also supplied would the problem under study present infinitely many species. We illustrate our point of view with many examples some of which being new ones.\n",
      "\n",
      "0.00158405303955\n",
      "New abstract: We report on the influence of the two heavy primary bodies. We conduct a thorough numerical investigation of jammed materials that nonaffinity induces a critical scaling of the rheology with that of the ejected H ion. The kinematics of the Solar zenith passage on the Earth was shown as a simple harmonic motion. This analytical model used the uniform circular motion to describe the Earth s rotation rate with a precision of a few percent of the feedback energy.\n",
      "\n",
      "Existing abstract: [[[The kinematics of the Solar zenith passage on the Earth was shown as a simple harmonic motion. This analytical model used the uniform circular motion to describe the Earth s rotation]]] relative to its axis and relative to the Sun also this model considered the sunlight beams parallel and constant the obliquity of the ecliptic. We made a contrast between some data taken from of the software Stellarium #.##.# and the model we obtained an uncertainty Delta t #d this result allow to project the model as an astronomical context conducive to develop the kinematics of simple harmonic motion.\n",
      "\n",
      "Cluster 9 (456 articles):\n",
      "cross, cross sections, sections, cross section, section, electron, scattering, energy, ionization, differential, energies, photoionization, differential cross, calculations, collision, collisions, elastic, ion, ev, impact\n",
      "\n",
      "9.64545798302\n",
      "0.00175595283508\n",
      "New abstract: We propose a method of measuring topological invariants of a local gauge group define superselected quantum numbers which account for the small scale structure of dark matter halos. It is shown that dynamics has an important effect on the shape of the coupling interaction and optimization of the magnetic transport around the obstacle achieving transport efficiencies of ## with negligible heating. Finally we demonstrate the ability to solve for arbitrary affine transformations not only will allow the registration of stellar catalogues and images that are now impossible to use but also will find applications in lightweight collimators for displays and chromatically corrected imaging systems.\n",
      "\n",
      "Existing abstract: This paper presents new and efficient algorithms for matching stellar catalogues where the transformation between the coordinate systems of the two catalagoues is unknown and may include shearing. Finding a given object whether a star or asterism from the first catalogue in the second is logarithmic in time rather than polynomial yielding a dramatic speed up relative to a naive implementation. Both acceleration of the matching algorithm and [[[the ability to solve for arbitrary affine transformations not only will allow the registration of stellar catalogues and images that are now impossible to use but also will find applications in]]] machine vision and other imaging applications.\n",
      "\n",
      "0.000777006149292\n",
      "New abstract: The absolute L subshell specific electron impact ionization cross sections near the ionization threshold ## E ## keV of Lead and Thorium are obtained from the divergence and rotation of the electronic cloud surrounding the nucleus in an atom. This model is known to be the best determination of the local physical conditions of their coronae.\n",
      "\n",
      "Existing abstract: [[[The absolute L subshell specific electron impact ionization cross sections near the ionization threshold ## E ## keV of Lead and Thorium are obtained from the]]] measured L X ray production cross sections. Monte Carlo simulation is done to account for the effect of the backscattered electrons and the final experimental results are compared with calculations performed using distorted wave Born approximation and the modified relativistic binary encounter Bethe model.The sensitivity of the results on the atomic parameters is explored. Observed agreements and discrepancies between the experimental results and theoretical estimates and their dependence on the specific atomic parameters are reported.\n",
      "\n"
     ]
    }
   ],
   "source": [
    "for i in range(n_clusters):\n",
    "    print \"Cluster %d (%i articles):\" % (i, count_clusters[i])\n",
    "    print ', '.join([terms[x] for x in order_centroids[i, :20]])\n",
    "    print ''\n",
    "    writeAbstractCluster(i, 2)"
   ]
  },
  {
   "cell_type": "code",
   "execution_count": 32,
   "metadata": {
    "collapsed": false,
    "scrolled": false
   },
   "outputs": [
    {
     "name": "stdout",
     "output_type": "stream",
     "text": [
      "Cluster 0 (926 articles):\n",
      "ionization, laser, electron, field, pulse, time, pulses, harmonic, strong, attosecond, high, dependent, laser field, strong field, time dependent, hhg, generation, intense, energy, photon\n",
      "\n",
      "14.6401560307\n",
      "0.00608110427856\n",
      "New abstract: Nonlinear optical methods are becoming ubiquitous in many areas of science. They are however intrinsically non linear which results in secondary non gaussianities orders of magnitude larger than predicted by the same model. This shows that at room temperature the values of the corresponding quantum operators. It also allows us to compute several properties exactly for large N . Phase transitions at critical values of parameters where multi band dispersion curves reduce to a universal function that can be implemented in a compact setup and allows us to quantitatively study the neutrinoless double beta # nu beta beta and # nu beta beta decays is estimated to be about # ## # g Hz # # the highest reported thus far with a dual species atom interferometer experiment will also be sensitive to new physics beyond the Standard Model physics. We discuss the state of the art long range constants. This is the first detection full or marginal at these frequencies for freely propagating fields however stronger gradients can be generated in the presence of a homogeneous magnetic field gradient using two and three coupled harmonic oscillators. From the simplest EIT Lambda configuration and two coupled single cavity modes we show that each jump\n",
      "\n",
      "0.00339603424072\n",
      "New abstract: We show that dynamic exchange is a dominant effect in strong field ionization of atomic hydrogen in multi cycle and few cycle laser pulses. The experimental apparatus is calibrated by using atomic hydrogen data to remove any systematic offsets and thereby obtain accurate CEP data on other generally used noble gases such as Ar Kr and Xe. Experimental results for H are well supported by exact TDSE theoretical simulations however significant differences are observed in case of Schwarzschild geometry. This work also calculates the effect considering prograde and retrograde orbit for the light ray. Although the present work is to present an effective field theory description for forward scattering and factorization violation as part of the Chandra X ray absorption spectrum of the generating medium can modify the spectrum of high order harmonics. In particular window type Fano resonances can reduce photo absorption within a narrow spectral region and consequently lead to an enhanced emission in most cases they are likely barely resolved galaxies or pairs of galaxies undergoing large amounts of star formation. Five are new to science and deserve further study. The Be star ## Librae sits within a MIR nebula and we suggest that interaction models may struggle to fit the\n",
      "\n",
      "0.00391697883606\n",
      "New abstract: We report full dimensionality quantum and classical calculations for double ionization of laser driven helium at ### nm. Good qualitative agreement is observed. We show that starting from a few particle nucleus. The competition between the glueball and the quark scales will lead to a bias in the estimation of the timescale. The temperature dependence of magnetic susceptibility of one dimensional electrons in a magnetic field in the circle is the Hamiltonian with the operator involved through the control parameter h . In the spinglass phase h h c the excitations fermions are delocalized but become localized for h h c . Based on this assumption we have developed a method for constructing point estimates and confidence intervals for conditional probabilities of strong earthquakes under conditions on the levels of non gaussianity f NL approx#.### and remarkably the constraint on g NL is almost as strong. Even small non gaussianity is excluded if DM is composed of a # D collection of Markov jump interacting stochastic processes is studied via a renormalized mean field procedure as well as slave boson theories which account for the inflation of the Universe. phi starts with all field modes operating and maximal vacuum energy in the energy momentum\n",
      "\n",
      "0.00448513031006\n",
      "New abstract: We present an experimental and theoretical study of the unusual ferromagnetism in the one dimensional case and coherent regime the simulated results reveal noticeable differences from the celebrated Datta Das model which motivate thus an improved treatment and lead to analytic and generalized result. The simulation also allows us to quantify the extent the torus attributes to the obscuration of the near side accretion disc have also been included in the present study are based on the solution of Dirichlet problem for gauge massless fields and Faddeev Popov ghosts naturally arises. A BRST invariant action accounting for those quartic interaction terms is identified and proven to be in quantitative agreement with those from accurate emph ab initio simulations. In particular we show that under common conditions the eigenvector centrality displays a localization transition that causes most of the the mass function of starless cores which are confined by a far detuned pump. Using the Heisenberg Langevin formalism and based on the Bogoliubove de Gennes BDG equations we investigated the low lying energy states of this complex. Calculations for the radiative decay processes cross sections and rate coefficients for electron ion recombination and electron impact ionization in the same QMS. A clear discrimination of ##\n",
      "\n",
      "0.000607013702393\n",
      "New abstract: In strong field laser physics the strong field approximation by taking into account the impact of the choice of the pulse parameters leads to similar performance.\n",
      "\n",
      "0.000627994537354\n",
      "New abstract: Coherent control over photoelectron wavepackets via the use of tensor operators and the invariant mean operator average . The resulting GCM formulation can be mapped directly onto certain fragmentation models that have been previously neglected.\n",
      "\n",
      "0.003173828125\n",
      "New abstract: Present photoionization experiments cannot measure molecular frame photoelectron angular distribution and the ion sum momentum distribution of single and double ionization of CO molecules by using circularly and elliptically polarized femtosecond laser pulses thereby creating a state which breaks time inversion symmetry. We then employ a mobile impurity models to excited states that are thermally excited in hot stellar environments. In addition to particle astrophysics applications at the South Pole have been estimated in a variety of models. For a resonance with mass less than #.# M odot in the same regions signifying clear evidence of mass segregation in the massive OB association Cygnus OB# to better understand its complex morphology. HESS J#### ### was observed by Chandra ACIS during quiescence in #### March ##. In addition this source has been analysed for the presence of the fermionic vacuum term. We find that the maximum A#g deformation potential behaves similar to the soft spheres system with exponent n #.#.\n",
      "\n",
      "0.00513911247253\n",
      "New abstract: We propose a theoretical approach to study the beta decay rates of heavy nuclei such as iron or silicon. If the number density of created particles exhibits two different characteristics. For a small laser frequency the particle number density to the nucleation rate and the nucleation time due to quantum and thermal fluctuations of the hydrodynamic variables. Starting from the known unfaithful spinorial representations of the compact subalgebra K E## of the split real hyperbolic Kac Moody algebra AE #. Some exponentials of these operators generate a spinorial extension of the Weyl C algebra. In this paper we take into account the rest mass of the electron pairs in agreement with previous investigation. In addition our results show that it is possible to resolve the B to pi form factors from light cone sum rules match that derived in QCD factorization. In particular we perform accurate computations of the bound triplet S P D F and G states in the four electron Be atom. For the ##S L # state in the Be atom we also determine a number of bound states properties and the hyperfine structure in ultracold rubidium aimed at control of population dynamics and quantum state preparation. We discuss a method\n",
      "\n"
     ]
    },
    {
     "data": {
      "text/plain": [
       "<AbstractWriter.AbstractWriter instance at 0x152bc2440>"
      ]
     },
     "execution_count": 32,
     "metadata": {},
     "output_type": "execute_result"
    }
   ],
   "source": [
    "i = 0\n",
    "print \"Cluster %d (%i articles):\" % (i, count_clusters[i])\n",
    "print ', '.join([terms[x] for x in order_centroids[i, :20]])\n",
    "print ''\n",
    "writeAbstractCluster(i, 8, check_article=False, seed=1492, specialized_weight=0.9)"
   ]
  },
  {
   "cell_type": "code",
   "execution_count": null,
   "metadata": {
    "collapsed": true
   },
   "outputs": [],
   "source": []
  }
 ],
 "metadata": {
  "kernelspec": {
   "display_name": "Python 2",
   "language": "python",
   "name": "python2"
  },
  "language_info": {
   "codemirror_mode": {
    "name": "ipython",
    "version": 2
   },
   "file_extension": ".py",
   "mimetype": "text/x-python",
   "name": "python",
   "nbconvert_exporter": "python",
   "pygments_lexer": "ipython2",
   "version": "2.7.11"
  }
 },
 "nbformat": 4,
 "nbformat_minor": 0
}
