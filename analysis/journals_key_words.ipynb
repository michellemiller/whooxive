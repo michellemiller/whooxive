{
 "cells": [
  {
   "cell_type": "markdown",
   "metadata": {},
   "source": [
    "Find articles that made it to certain journals and compare key words."
   ]
  },
  {
   "cell_type": "code",
   "execution_count": 1,
   "metadata": {
    "collapsed": false
   },
   "outputs": [],
   "source": [
    "#Need to add parent directoy to sys.path to find 'metadataDB'\n",
    "import sys\n",
    "sys.path.append('../')\n",
    "\n",
    "%matplotlib inline\n",
    "import matplotlib.pyplot as plt \n",
    "import time\n",
    "import numpy as np\n",
    "\n",
    "# Natural language processing toolkit\n",
    "# To use this, run nltk.download() and download 'stopwords'\n",
    "from nltk.corpus import stopwords\n",
    "s=stopwords.words('english') + ['']\n",
    "\n",
    "# SQL\n",
    "from sqlalchemy import create_engine\n",
    "from sqlalchemy.orm import sessionmaker\n",
    "from metadataDB.declareDatabase import *\n",
    "from sqlalchemy import or_\n",
    "\n",
    "engine = create_engine(\"sqlite:///../arXiv_metadata.db\", echo=False)\n",
    "Base.metadata.bind = engine\n",
    "DBsession = sessionmaker(bind=engine)\n",
    "session = DBsession()"
   ]
  },
  {
   "cell_type": "code",
   "execution_count": 2,
   "metadata": {
    "collapsed": false
   },
   "outputs": [],
   "source": [
    "query = session.query(Article).filter(or_(Article.journal_ref.like('Physics Review Letters%'),\n",
    "                                          Article.journal_ref.like('Phys. Rev. Lett.%'),\n",
    "                                          Article.journal_ref.like('PRL%'),\n",
    "                                          ))\n",
    "# query = session.query(Article).filter(Article.journal_ref.like('PRL%'))\n",
    "resultPRL = query.all()"
   ]
  },
  {
   "cell_type": "code",
   "execution_count": 3,
   "metadata": {
    "collapsed": false
   },
   "outputs": [],
   "source": [
    "query = session.query(Article).filter(or_(Article.journal_ref.like('Nature%'),\n",
    "                                          Article.journal_ref.like('Nat.%'),\n",
    "                                          Article.journal_ref.like('Science%')))\n",
    "# query = session.query(Article).filter(Article.journal_ref.like('PRL%'))\n",
    "resultNatureScience = query.all()"
   ]
  },
  {
   "cell_type": "code",
   "execution_count": 4,
   "metadata": {
    "collapsed": false
   },
   "outputs": [
    {
     "name": "stdout",
     "output_type": "stream",
     "text": [
      "74.471748 sec., 5027 articles, 223235 words\n",
      "68 articles per second\n",
      "2998 words per second\n"
     ]
    }
   ],
   "source": [
    "abstract = dict()\n",
    "abstractPRL = dict()\n",
    "title = dict()\n",
    "titlePRL = dict()\n",
    "\n",
    "numWords = 0\n",
    "numArticles = len(resultPRL)\n",
    "\n",
    "start = time.time()\n",
    "for item in resultPRL:\n",
    "#     print item.abstract\n",
    "    for word in set((item.abstract).replace('\\n',' ') \\\n",
    "                                   .replace('\\\\','') \\\n",
    "                                   .replace('(','') \\\n",
    "                                   .replace(')','') \\\n",
    "                                   .split(' ')):\n",
    "        if (word.lower() not in s) and (word.isalpha()):\n",
    "#             if word in abstractPRL.keys():\n",
    "#                 abstractPRL[word] += 1\n",
    "#             else:\n",
    "#                 abstractPRL[word] =1\n",
    "            if word in abstract.keys():\n",
    "                abstract[word] -= 1./numArticles\n",
    "            else:\n",
    "                abstract[word] = -1./numArticles\n",
    "            numWords += 1\n",
    "            \n",
    "    for word in set((item.title).replace('\\n',' ') \\\n",
    "                               .replace('\\\\','') \\\n",
    "                               .replace('(','') \\\n",
    "                               .replace(')','') \\\n",
    "                               .split(' ')):\n",
    "        if (word.lower() not in s) and (word.isalpha()):\n",
    "#             if word in titlePRL.keys():\n",
    "#                 titlePRL[word] += 1\n",
    "#             else:\n",
    "#                 titlePRL[word] =1\n",
    "            if word in title.keys():\n",
    "                title[word] -= 1./numArticles\n",
    "            else:\n",
    "                title[word] = -1./numArticles\n",
    "            numWords += 1\n",
    "\n",
    "total_time = time.time() - start\n",
    "print \"%f sec., %i articles, %i words\" % (total_time, numArticles, numWords)\n",
    "print \"%0.0f articles per second\" % (numArticles/total_time)\n",
    "print \"%0.0f words per second\" % (numWords/total_time)"
   ]
  },
  {
   "cell_type": "code",
   "execution_count": 5,
   "metadata": {
    "collapsed": false
   },
   "outputs": [
    {
     "name": "stdout",
     "output_type": "stream",
     "text": [
      "23.829864 sec., 778 articles, 85642 words\n",
      "33 articles per second\n",
      "3594 words per second\n"
     ]
    }
   ],
   "source": [
    "abstractNature = dict()\n",
    "titleNature = dict()\n",
    "\n",
    "numWords = 0\n",
    "numArticles = len(resultNatureScience)\n",
    "\n",
    "start = time.time()\n",
    "for item in resultNatureScience:\n",
    "#     print item.abstract\n",
    "    for word in set((item.abstract).replace('\\n',' ') \\\n",
    "                                   .replace('\\\\','') \\\n",
    "                                   .replace('(','') \\\n",
    "                                   .replace(')','') \\\n",
    "                                   .split(' ')):\n",
    "        if (word.lower() not in s) and (word.isalpha()):\n",
    "#             if word in abstractNature.keys():\n",
    "#                 abstractNature[word] += 1\n",
    "#             else:\n",
    "#                 abstractNature[word] =1\n",
    "            if word in abstract.keys():\n",
    "                abstract[word] += 1./numArticles\n",
    "            else:\n",
    "                abstract[word] = 1./numArticles\n",
    "        numWords += 1\n",
    "\n",
    "    for word in set((item.title).replace('\\n',' ') \\\n",
    "                                   .replace('\\\\','') \\\n",
    "                                   .replace('(','') \\\n",
    "                                   .replace(')','') \\\n",
    "                                   .split(' ')):\n",
    "        if (word.lower() not in s) and (word.isalpha()):\n",
    "#             if word in titleNature.keys():\n",
    "#                 titleNature[word] += 1\n",
    "#             else:\n",
    "#                 titleNature[word] =1\n",
    "            if word in title.keys():\n",
    "                title[word] += 1./numArticles\n",
    "            else:\n",
    "                title[word] = 1./numArticles\n",
    "        numWords += 1\n",
    "\n",
    "total_time = time.time() - start\n",
    "print \"%f sec., %i articles, %i words\" % (total_time, numArticles, numWords)\n",
    "print \"%0.0f articles per second\" % (numArticles/total_time)\n",
    "print \"%0.0f words per second\" % (numWords/total_time)"
   ]
  },
  {
   "cell_type": "code",
   "execution_count": 6,
   "metadata": {
    "collapsed": true
   },
   "outputs": [],
   "source": [
    "session.close()"
   ]
  },
  {
   "cell_type": "code",
   "execution_count": 7,
   "metadata": {
    "collapsed": false
   },
   "outputs": [],
   "source": [
    "# Want to sort dictionary by values. Convert it to a list of tuples so we can use python's sort functions\n",
    "abstract_wordlist = sorted([(key, val) for key, val in abstract.iteritems()], key=lambda x: x[1])\n",
    "title_wordlist = sorted([(key, val) for key, val in title.iteritems()], key=lambda x: x[1])"
   ]
  },
  {
   "cell_type": "code",
   "execution_count": 8,
   "metadata": {
    "collapsed": false
   },
   "outputs": [
    {
     "name": "stdout",
     "output_type": "stream",
     "text": [
      "[(u'study', -0.0871310348283782), (u'model', -0.06751408716836448), (u'function', -0.045447641859920285), (u'behavior', -0.04364196833244424), (u'find', -0.04315334724620665), (u'dependence', -0.03972456191578318), (u'finite', -0.03935713726851853), (u'numerical', -0.038928603024388), (u'investigate', -0.03577647285634428), (u'spin', -0.0351354613109765), (u'discovery', 0.07601906005769354), (u'information', 0.07791601444743372), (u'direct', 0.07835989001295317), (u'observations', 0.08573548595936693), (u'many', 0.09409011389908373), (u'high', 0.09531332859116048), (u'stars', 0.10223098609411484), (u'may', 0.10663701359701315), (u'matter', 0.11255953071920617), (u'new', 0.11525167693427217)]\n"
     ]
    }
   ],
   "source": [
    "abstract_best_and_worst = abstract_wordlist[0:10] + abstract_wordlist[-11:-1]\n",
    "print abstract_best_and_worst"
   ]
  },
  {
   "cell_type": "code",
   "execution_count": 9,
   "metadata": {
    "collapsed": false
   },
   "outputs": [
    {
     "name": "stdout",
     "output_type": "stream",
     "text": [
      "[(u'model', -0.02082609947415061), (u'spin', -0.020428503561487704), (u'Comment', -0.019005084625285648), (u'systems', -0.017444360862652705), (u'Hall', -0.017398592587175743), (u'transition', -0.016893607424790416), (u'Phase', -0.015883637100019762), (u'Model', -0.015638687335176663), (u'States', -0.015439761534500314), (u'Dynamics', -0.014751191892827557), (u'Stars', 0.010282776349614395), (u'Star', 0.011369197592639848), (u'Galaxy', 0.011568123393316195), (u'High', 0.011828158790858408), (u'Galactic', 0.012853470437017995), (u'star', 0.012853470437017995), (u'Black', 0.012853470437017995), (u'superconductor', 0.013893867715876675), (u'Formation', 0.014398852878262008), (u'galaxies', 0.017994858611825194)]\n"
     ]
    }
   ],
   "source": [
    "title_best_and_worst = title_wordlist[0:10] + title_wordlist[-11:-1]\n",
    "print title_best_and_worst"
   ]
  },
  {
   "cell_type": "code",
   "execution_count": 10,
   "metadata": {
    "collapsed": false
   },
   "outputs": [
    {
     "data": {
      "image/png": "[encoded data removed]",
      "text/plain": [
       "<matplotlib.figure.Figure at 0x10ba35a90>"
      ]
     },
     "metadata": {},
     "output_type": "display_data"
    }
   ],
   "source": [
    "words = [x for (x,y) in abstract_best_and_worst]\n",
    "vals = np.array([y for (x,y) in abstract_best_and_worst])\n",
    "\n",
    "\n",
    "ind = np.arange(0, len(words))\n",
    "c = ['b' if x > 0 else 'r' for x in vals]\n",
    "\n",
    "plt.figure(frameon=False, figsize=(6,8))\n",
    "plt.barh(ind - 0.5,\n",
    "         vals,\n",
    "         color=c)\n",
    "plt.yticks(ind, words)\n",
    "plt.ylim(ind[0]-1, ind[-1]+1)\n",
    "plt.xlim(-1.1*np.max(np.abs(vals)), 1.1*np.max(np.abs(vals)))\n",
    "plt.title('Abstracts')\n",
    "plt.xlabel('PRL$\\qquad\\qquad\\qquad\\qquad$Nature/Science')\n",
    "plt.gca().spines['top'].set_visible(False)\n",
    "plt.gca().spines['right'].set_visible(False)\n",
    "plt.gca().spines['left'].set_visible(False)\n",
    "plt.gca().xaxis.set_ticks_position('bottom')\n",
    "plt.gca().yaxis.set_ticks_position('none')"
   ]
  },
  {
   "cell_type": "code",
   "execution_count": 11,
   "metadata": {
    "collapsed": false
   },
   "outputs": [
    {
     "data": {
      "image/png": "[encoded data removed]",
      "text/plain": [
       "<matplotlib.figure.Figure at 0x10bb67490>"
      ]
     },
     "metadata": {},
     "output_type": "display_data"
    }
   ],
   "source": [
    "words = [x for (x,y) in title_best_and_worst]\n",
    "vals = np.array([y for (x,y) in title_best_and_worst])\n",
    "\n",
    "\n",
    "ind = np.arange(0, len(words))\n",
    "c = ['b' if x > 0 else 'r' for x in vals]\n",
    "\n",
    "plt.figure(frameon=False, figsize=(6,8))\n",
    "plt.barh(ind - 0.5,\n",
    "         vals,\n",
    "         color=c)\n",
    "plt.yticks(ind, words)\n",
    "plt.ylim(ind[0]-1, ind[-1]+1)\n",
    "plt.xlim(-1.1*np.max(np.abs(vals)), 1.1*np.max(np.abs(vals)))\n",
    "plt.title('Titles')\n",
    "plt.xlabel('PRL$\\qquad\\qquad\\qquad\\qquad$Nature/Science')\n",
    "plt.gca().spines['top'].set_visible(False)\n",
    "plt.gca().spines['right'].set_visible(False)\n",
    "plt.gca().spines['left'].set_visible(False)\n",
    "plt.gca().xaxis.set_ticks_position('bottom')\n",
    "plt.gca().yaxis.set_ticks_position('none')"
   ]
  }
 ],
 "metadata": {
  "kernelspec": {
   "display_name": "Python 2",
   "language": "python",
   "name": "python2"
  },
  "language_info": {
   "codemirror_mode": {
    "name": "ipython",
    "version": 2
   },
   "file_extension": ".py",
   "mimetype": "text/x-python",
   "name": "python",
   "nbconvert_exporter": "python",
   "pygments_lexer": "ipython2",
   "version": "2.7.11"
  }
 },
 "nbformat": 4,
 "nbformat_minor": 0
}
