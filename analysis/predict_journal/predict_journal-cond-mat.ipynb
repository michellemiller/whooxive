{
 "cells": [
  {
   "cell_type": "markdown",
   "metadata": {},
   "source": [
    "Use fancy machine learning to predict whether an article makes it into Nature/Science or PRL. This time we'll only look at articles in the cond-mat section."
   ]
  },
  {
   "cell_type": "code",
   "execution_count": 85,
   "metadata": {
    "collapsed": false
   },
   "outputs": [],
   "source": [
    "#Need to add parent directoy to sys.path to find 'metadataDB'\n",
    "import sys\n",
    "sys.path.append('../')\n",
    "\n",
    "%matplotlib inline\n",
    "import matplotlib.pyplot as plt \n",
    "import time\n",
    "import numpy as np\n",
    "import scipy as sp\n",
    "\n",
    "# Natural language processing toolkit\n",
    "# To use this, run nltk.download() and download 'stopwords'\n",
    "from nltk.corpus import stopwords\n",
    "s=stopwords.words('english') + ['']\n",
    "\n",
    "# Machine learning\n",
    "from sklearn.feature_extraction.text import CountVectorizer\n",
    "from sklearn.feature_extraction.text import TfidfTransformer\n",
    "from sklearn.naive_bayes import MultinomialNB\n",
    "from sklearn.linear_model import LogisticRegression\n",
    "from sklearn.svm import LinearSVC, SVC\n",
    "from sklearn.pipeline import Pipeline\n",
    "from sklearn import metrics\n",
    "\n",
    "# SQL\n",
    "from sqlalchemy import create_engine\n",
    "from sqlalchemy.orm import sessionmaker\n",
    "from metadataDB.declareDatabase import *\n",
    "from sqlalchemy import or_, and_\n",
    "\n",
    "engine = create_engine(\"sqlite:///../arXiv_metadata.db\", echo=False)\n",
    "Base.metadata.bind = engine\n",
    "DBsession = sessionmaker(bind=engine)\n",
    "session = DBsession()"
   ]
  },
  {
   "cell_type": "code",
   "execution_count": 16,
   "metadata": {
    "collapsed": false
   },
   "outputs": [],
   "source": [
    "query = session.query(Article_Category)\\\n",
    "                    .join(Category)\\\n",
    "                    .join(Article)\\\n",
    "                    .filter(Category.name.like('%cond-mat%'),\n",
    "                            or_(Article.journal_ref.like('Physics Review Letters%'),\n",
    "                                Article.journal_ref.like('Phys. Rev. Lett.%'),\n",
    "                                Article.journal_ref.like('PRL%')))\n",
    "abstractPRL = [x.article.abstract for x in query.all()]\n",
    "titlePRL = [x.article.title for x in query.all()]"
   ]
  },
  {
   "cell_type": "code",
   "execution_count": 17,
   "metadata": {
    "collapsed": false
   },
   "outputs": [],
   "source": [
    "query = session.query(Article_Category)\\\n",
    "                    .join(Category)\\\n",
    "                    .join(Article)\\\n",
    "                    .filter(Category.name.like('%cond-mat%'),\n",
    "                            or_(Article.journal_ref.like('Nature%'),\n",
    "                                Article.journal_ref.like('Nat.%'),\n",
    "                                Article.journal_ref.like('Science%')))\n",
    "abstractNatureScience = [x.article.abstract for x in query.all()]\n",
    "titleNatureScience = [x.article.title for x in query.all()]"
   ]
  },
  {
   "cell_type": "code",
   "execution_count": 18,
   "metadata": {
    "collapsed": true
   },
   "outputs": [],
   "source": [
    "session.close_all()"
   ]
  },
  {
   "cell_type": "code",
   "execution_count": 19,
   "metadata": {
    "collapsed": false
   },
   "outputs": [],
   "source": [
    "# # Train with 80% of the data, test with 20%\n",
    "# # First start with abstracts.\n",
    "\n",
    "# indPRL = len(abstractPRL)*4/5\n",
    "# indNatureScience = len(abstractNatureScience)*4/5\n",
    "\n",
    "# train_abstract = abstractPRL[:indPRL] + abstractNatureScience[:indNatureScience]\n",
    "# train_title = titlePRL[:indPRL] + titleNatureScience[:indNatureScience]\n",
    "# train_target = [0]*indPRL + [1]*indNatureScience\n",
    "# train_target_names = ['PRL']*indPRL + ['Nature']*indNatureScience\n",
    "\n",
    "# test_abstract = abstractPRL[indPRL:] + abstractNatureScience[indNatureScience:]\n",
    "# test_title = titlePRL[indPRL:] + titleNatureScience[indNatureScience:]\n",
    "# test_target = [0]*len(abstractPRL[indPRL:]) + [1]*len(abstractNatureScience[indNatureScience:])\n",
    "# test_target_names = ['PRL', 'Nature/Science']"
   ]
  },
  {
   "cell_type": "code",
   "execution_count": 20,
   "metadata": {
    "collapsed": false
   },
   "outputs": [],
   "source": [
    "# Train with 80% of the Nature data, test with 20% of the Nature data\n",
    "# Choose the same number of PRL and Nature articles in the test sets.\n",
    "\n",
    "indNatureScience = len(abstractNatureScience)*4/5\n",
    "indPRL = len(abstractPRL) - (len(abstractNatureScience) - indNatureScience)\n",
    "\n",
    "train_abstract = abstractPRL[:indPRL] + abstractNatureScience[:indNatureScience]\n",
    "train_title = titlePRL[:indPRL] + titleNatureScience[:indNatureScience]\n",
    "train_target = [0]*indPRL + [1]*indNatureScience\n",
    "train_target_names = ['PRL']*indPRL + ['Nature']*indNatureScience\n",
    "\n",
    "test_abstract = abstractPRL[indPRL:] + abstractNatureScience[indNatureScience:]\n",
    "test_title = titlePRL[indPRL:] + titleNatureScience[indNatureScience:]\n",
    "test_target = [0]*len(abstractPRL[indPRL:]) + [1]*len(abstractNatureScience[indNatureScience:])\n",
    "test_target_names = ['PRL', 'Nature/Science']"
   ]
  },
  {
   "cell_type": "code",
   "execution_count": 21,
   "metadata": {
    "collapsed": false
   },
   "outputs": [
    {
     "name": "stdout",
     "output_type": "stream",
     "text": [
      "2690\n",
      "14180\n"
     ]
    }
   ],
   "source": [
    "print len(abstractNatureScience)\n",
    "print len(abstractPRL)"
   ]
  },
  {
   "cell_type": "code",
   "execution_count": 22,
   "metadata": {
    "collapsed": false
   },
   "outputs": [
    {
     "name": "stdout",
     "output_type": "stream",
     "text": [
      "[0 0 0 ..., 1 1 1]\n"
     ]
    }
   ],
   "source": [
    "#SVC(kernel='linear') is good\n",
    "text_abstract_clf = Pipeline([('vect', CountVectorizer(ngram_range=(1,3))),\n",
    "                              ('tfidf', TfidfTransformer()),\n",
    "                              ('clf', SVC(kernel='linear'))])\n",
    "text_abstract_clf.fit(train_abstract, train_target)\n",
    "predict_abstract = text_abstract_clf.predict(test_abstract)\n",
    "print text_abstract_clf.predict(train_abstract)"
   ]
  },
  {
   "cell_type": "code",
   "execution_count": 22,
   "metadata": {
    "collapsed": false
   },
   "outputs": [
    {
     "name": "stdout",
     "output_type": "stream",
     "text": [
      "[0 0 0 ..., 1 1 1]\n"
     ]
    }
   ],
   "source": [
    "#SVC(kernel='linear') is good\n",
    "text_abstract_clf = Pipeline([('vect', CountVectorizer(ngram_range=(1,3))),\n",
    "                              ('tfidf', TfidfTransformer()),\n",
    "                              ('clf', SVC(kernel='linear'))])\n",
    "text_abstract_clf.fit(train_abstract, train_target)\n",
    "predict_abstract = text_abstract_clf.predict(test_abstract)\n",
    "print text_abstract_clf.predict(train_abstract)"
   ]
  },
  {
   "cell_type": "code",
   "execution_count": 23,
   "metadata": {
    "collapsed": false
   },
   "outputs": [
    {
     "name": "stdout",
     "output_type": "stream",
     "text": [
      "[0 0 0 ..., 0 0 0]\n"
     ]
    }
   ],
   "source": [
    "text_title_clf = Pipeline([('vect', CountVectorizer(ngram_range=(1,2))),\n",
    "                              ('tfidf', TfidfTransformer()),\n",
    "                              ('clf', LinearSVC())])\n",
    "text_title_clf.fit(train_title, train_target)\n",
    "predict_title = text_title_clf.predict(test_title)\n",
    "print text_abstract_clf.predict(train_title)"
   ]
  },
  {
   "cell_type": "code",
   "execution_count": 24,
   "metadata": {
    "collapsed": false
   },
   "outputs": [
    {
     "name": "stdout",
     "output_type": "stream",
     "text": [
      "[0 1 0 ..., 0 0 0]\n",
      "[0 0 0 ..., 0 0 0]\n"
     ]
    }
   ],
   "source": [
    "print predict_abstract\n",
    "print predict_title"
   ]
  },
  {
   "cell_type": "code",
   "execution_count": 43,
   "metadata": {
    "collapsed": false
   },
   "outputs": [
    {
     "name": "stdout",
     "output_type": "stream",
     "text": [
      "                precision    recall  f1-score   support\n",
      "\n",
      "           PRL       0.79      0.93      0.86       538\n",
      "Nature/Science       0.91      0.76      0.83       538\n",
      "\n",
      "   avg / total       0.85      0.84      0.84      1076\n",
      "\n",
      "Accuracy score: 0.84\n"
     ]
    }
   ],
   "source": [
    "#SVC(kernel='linear')\n",
    "print(metrics.classification_report(test_target, predict_abstract,\n",
    "                                    target_names=test_target_names))\n",
    "print('Accuracy score: %0.2f' % metrics.accuracy_score(test_target, predict_abstract))"
   ]
  },
  {
   "cell_type": "code",
   "execution_count": 37,
   "metadata": {
    "collapsed": false
   },
   "outputs": [
    {
     "name": "stdout",
     "output_type": "stream",
     "text": [
      "                precision    recall  f1-score   support\n",
      "\n",
      "           PRL       0.53      0.96      0.68       538\n",
      "Nature/Science       0.78      0.14      0.24       538\n",
      "\n",
      "   avg / total       0.65      0.55      0.46      1076\n",
      "\n"
     ]
    }
   ],
   "source": [
    "#SVC(kernel='linear')\n",
    "print(metrics.classification_report(test_target, predict_title,\n",
    "                                    target_names=test_target_names))"
   ]
  },
  {
   "cell_type": "code",
   "execution_count": 41,
   "metadata": {
    "collapsed": false
   },
   "outputs": [
    {
     "name": "stdout",
     "output_type": "stream",
     "text": [
      "[[499  39]\n",
      " [129 409]]\n"
     ]
    }
   ],
   "source": [
    "print metrics.confusion_matrix(test_target, predict_abstract)"
   ]
  },
  {
   "cell_type": "code",
   "execution_count": 200,
   "metadata": {
    "collapsed": false,
    "scrolled": true
   },
   "outputs": [
    {
     "name": "stdout",
     "output_type": "stream",
     "text": [
      "Top 50 indicators of PRL:\n",
      "model, we, of the, propose, we propose, behavior, to the, we study, study the, parameters, consider, we consider, investigated, present, we discuss, scheme, method, numerical, study, investigate, condensate, mesoscopic, edge, calculations, dynamical, which is, discuss, simulations, the spin, dipolar, letter, show that, qc, conditions, distribution, scattering, gapless, values, show, we have, we investigate, show how, optomechanical, crossover, we show that, we study the, entanglement, instability, we derive, discussed\n",
      "\n",
      "Top 50 indicators of Nature/Science:\n",
      "here, here we, here we report, and, of, devices, materials, to, high, in, have, quantum, superconductivity, however, here we demonstrate, been, fundamental, has, physics, because, electronic, matter, new, their, we report, electrons, information, control, as, understanding, many, or, phenomena, report, by, graphene, here we show, superconductors, material, applications, challenge, these, such, superconducting, nanoscale, is the, yet, its, measurements, they\n"
     ]
    }
   ],
   "source": [
    "def inverseVectorizer(val):\n",
    "    return (key for key, value in text_abstract_clf.named_steps['vect'].vocabulary_.iteritems() if value == val).next()\n",
    "\n",
    "# This is super inefficient!!!\n",
    "sorted_coefs = sorted( ((i,v) for i, v in np.ndenumerate(text_abstract_clf.named_steps['clf'].coef_.todense()) ),\n",
    "                      key=lambda x: x[1] )\n",
    "\n",
    "print \"Top 50 indicators of PRL:\"\n",
    "bottom = sorted_coefs[:50]\n",
    "print \", \".join([ inverseVectorizer(item[0][1]) for item in bottom])\n",
    "print \"\"\n",
    "print \"Top 50 indicators of Nature/Science:\"\n",
    "top = list(reversed(sorted_coefs[-50:]))\n",
    "print \", \".join([ inverseVectorizer(item[0][1]) for item in top])"
   ]
  },
  {
   "cell_type": "code",
   "execution_count": 173,
   "metadata": {
    "collapsed": false
   },
   "outputs": [
    {
     "name": "stdout",
     "output_type": "stream",
     "text": [
      "[1]\n",
      "[0]\n"
     ]
    }
   ],
   "source": [
    "print text_abstract_clf.predict(['Here we report material physics devices'])\n",
    "print text_abstract_clf.predict(['We consider mesocopic dipolar model'])"
   ]
  }
 ],
 "metadata": {
  "kernelspec": {
   "display_name": "Python 2",
   "language": "python",
   "name": "python2"
  },
  "language_info": {
   "codemirror_mode": {
    "name": "ipython",
    "version": 2
   },
   "file_extension": ".py",
   "mimetype": "text/x-python",
   "name": "python",
   "nbconvert_exporter": "python",
   "pygments_lexer": "ipython2",
   "version": "2.7.11"
  }
 },
 "nbformat": 4,
 "nbformat_minor": 0
}
