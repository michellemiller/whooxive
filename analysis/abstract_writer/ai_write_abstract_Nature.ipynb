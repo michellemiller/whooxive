{
 "cells": [
  {
   "cell_type": "code",
   "execution_count": 1,
   "metadata": {
    "collapsed": true
   },
   "outputs": [],
   "source": [
    "#Need to add parent directoy to sys.path to find 'metadataDB'\n",
    "import sys\n",
    "sys.path.append('../')\n",
    "\n",
    "%matplotlib inline\n",
    "# import matplotlib.pyplot as plt \n",
    "import time\n",
    "# import numpy as np\n",
    "# import scipy as sp\n",
    "import re\n",
    "from collections import Counter\n",
    "import random\n",
    "\n",
    "# Natural language processing toolkit\n",
    "# To use this, run nltk.download() and download 'stopwords'\n",
    "# from nltk.corpus import stopwords\n",
    "# s=stopwords.words('english') + ['']\n",
    "\n",
    "# Machine learning\n",
    "# from sklearn.feature_extraction.text import CountVectorizer\n",
    "# from sklearn.feature_extraction.text import TfidfTransformer\n",
    "# from sklearn.naive_bayes import MultinomialNB\n",
    "# from sklearn.linear_model import LogisticRegression\n",
    "# from sklearn.svm import LinearSVC, SVC\n",
    "# from sklearn.pipeline import Pipeline\n",
    "# from sklearn import metrics\n",
    "\n",
    "# SQL\n",
    "from sqlalchemy import create_engine\n",
    "from sqlalchemy.orm import sessionmaker\n",
    "from metadataDB.declareDatabase import *\n",
    "from sqlalchemy import or_, and_\n",
    "\n",
    "engine = create_engine(\"sqlite:///../arXiv_metadata.db\", echo=False)\n",
    "Base.metadata.bind = engine\n",
    "DBsession = sessionmaker(bind=engine)\n",
    "session = DBsession()"
   ]
  },
  {
   "cell_type": "code",
   "execution_count": 2,
   "metadata": {
    "collapsed": true
   },
   "outputs": [],
   "source": [
    "query = session.query(Article).filter(or_(Article.journal_ref.like('Nature%'),\n",
    "                                          Article.journal_ref.like('Nat.%'),\n",
    "                                          Article.journal_ref.like('Science%')))\n",
    "abstract_all = [x.abstract for x in query.all()]\n",
    "# titleNatureScience = [x.title for x in query.all()]\n",
    "session.close_all()"
   ]
  },
  {
   "cell_type": "code",
   "execution_count": 3,
   "metadata": {
    "collapsed": false
   },
   "outputs": [
    {
     "name": "stdout",
     "output_type": "stream",
     "text": [
      "3384\n"
     ]
    }
   ],
   "source": [
    "abstract_train = abstract_all\n",
    "print len(abstract_train)"
   ]
  },
  {
   "cell_type": "markdown",
   "metadata": {},
   "source": [
    "CountVectorizer might do a cleaner job."
   ]
  },
  {
   "cell_type": "code",
   "execution_count": 4,
   "metadata": {
    "collapsed": false
   },
   "outputs": [],
   "source": [
    "class AbstractWriter:\n",
    "    '''This class will take a specific n-gram and learn to write abstracts from a few words.'''\n",
    "    _data = dict()\n",
    "    _abstracts = []\n",
    "    \n",
    "    def __init__(self, ngram, randomize=False, seed=None, maxWords=200):\n",
    "        self.ngram = ngram\n",
    "        self.randomize = randomize\n",
    "        self.seed = seed\n",
    "        self.maxWords = maxWords\n",
    "        if seed is not None:\n",
    "            random.seed(seed)\n",
    "\n",
    "    \n",
    "    def fit(self, train):\n",
    "        data_list = []\n",
    "        for item in train:\n",
    "            ind = 0\n",
    "            textlist = self.__cleanup_text(item)\n",
    "            self._abstracts.append(' '.join(textlist))\n",
    "            while ind + self.ngram - 1 < len(textlist):\n",
    "                currentTuple = tuple(textlist[ind:(ind+self.ngram-1)])\n",
    "                nextWord = textlist[ind+self.ngram-1]\n",
    "                data_list.append((tuple(textlist[ind:(ind+self.ngram-1)]),\n",
    "                                        textlist[ind+self.ngram-1]))\n",
    "                ind += 1\n",
    "        data_list.sort()\n",
    "        \n",
    "        # Now that the list is sorted, convert it into a dictionary.\n",
    "        # Since the list is sorted, each subsuquent entry is either new or a continuation of the previous one.\n",
    "\n",
    "        previousKey = None\n",
    "        for val in data_list:\n",
    "            currentKey = val[0]\n",
    "            if currentKey == previousKey:\n",
    "                self._data[currentKey].append(val[1])\n",
    "            else:\n",
    "                self._data[currentKey] = [val[1]]\n",
    "            previousKey = val[0]\n",
    "\n",
    "    def find_next_word(self, phrase):\n",
    "        '''phrase is a tuple of (typ. 3) words. Returns the next word.'''\n",
    "        # Since data is sorted, it should be possible to search quickly. I'm not doing this properly.\n",
    "        if phrase in self._data.keys():\n",
    "            solution = self._data[phrase]\n",
    "            \n",
    "            # If there are more than one result, we either return the most popular option or\n",
    "            # a random answer weighted by popularity.\n",
    "            if self.randomize:\n",
    "                return random.choice(solution)\n",
    "            else:\n",
    "                count = Counter(solution)\n",
    "                return count.most_common(1)[0][0]\n",
    "        else:\n",
    "            return None\n",
    "        \n",
    "    def write_abstract(self, beginning):\n",
    "        abstract = list(beginning)\n",
    "        nextWord = ''\n",
    "        ind = len(beginning) - self.ngram + 1\n",
    "        while (nextWord is not None) and (ind < self.maxWords):\n",
    "            nextWord = self.find_next_word(tuple(abstract[ind:(ind+self.ngram)]))\n",
    "            if nextWord is None:\n",
    "                break\n",
    "            else:\n",
    "                abstract.append(nextWord)\n",
    "                ind += 1\n",
    "        return ' '.join(abstract)\n",
    "    \n",
    "    def find_similar(self, abstract):\n",
    "        '''Have I accidentally plagarized one of the articles?\n",
    "        With too few choices, we will likely just copy an existing article.\n",
    "        Returns the longest chunk highlighted in an existing article.'''\n",
    "        first = 0\n",
    "        last = 1\n",
    "        abort = False\n",
    "        longestChunk = ''\n",
    "        longestChunkLength = 0\n",
    "\n",
    "        totalLength = len(abstract.split())\n",
    "        while first + longestChunkLength < totalLength:\n",
    "            chunk = ' '.join(abstract.split()[first:last])\n",
    "            if any(x for x in self._abstracts if chunk in x):\n",
    "                if last - first + 1 > longestChunkLength:\n",
    "                    longestChunk = chunk\n",
    "                    longestChunkLength = last - first + 1\n",
    "                last += 1\n",
    "            else:\n",
    "                first += 1\n",
    "                last = first + 1\n",
    "        \n",
    "        best_abstract = (x for x in self._abstracts if longestChunk in x).next()\n",
    "        return re.sub('(' + longestChunk + ')', '[[[' + longestChunk + ']]]', best_abstract)\n",
    "\n",
    "\n",
    "    def __cleanup_text(self, text):\n",
    "        # re from kaggle https://www.kaggle.com/c/word2vec-nlp-tutorial/details/part-1-for-beginners-bag-of-wordsi\n",
    "        # Remove punctuation. Keep periods.\n",
    "        # \n",
    "        # New trick: replace numbers with ##, which we will later replace with different numbers.\n",
    "        pattern1 = re.compile(\"[0-9]\")\n",
    "        pattern2 = re.compile(\"[^a-zA-Z#.]\")\n",
    "        # The previous pattern could make multiple spaces. Turn multiple spaces into a single space.\n",
    "        pattern3 = re.compile(\"(\\s{2,})\")\n",
    "        return pattern3.sub(\" \",\n",
    "                            pattern2.sub(\" \",\n",
    "                                         pattern1.sub(\"#\",\n",
    "                                                      text.lstrip().rstrip()))).split(' ')"
   ]
  },
  {
   "cell_type": "markdown",
   "metadata": {},
   "source": [
    "\"In this Letter, we\" is a popular phrase. Let's make a bunch of abstracts that start that way, and find if they accidentally plagarize anything."
   ]
  },
  {
   "cell_type": "code",
   "execution_count": 5,
   "metadata": {
    "collapsed": false
   },
   "outputs": [],
   "source": [
    "def InThisLetterWe(ngram):\n",
    "    writer = AbstractWriter(ngram=ngram, randomize=True, seed=42)\n",
    "    writer.fit(abstract_train)\n",
    "    basephrase = ['In','this', 'Letter', 'we']\n",
    "#     if ngram == 6:\n",
    "#         writer5 = AbstractWriter(ngram=5, randomize=True, seed=42)\n",
    "#         phrase += random.choice(['report'], ['show'])\n",
    "    if ngram == 6:\n",
    "        writer5 = AbstractWriter(ngram=5, randomize=True, seed=42)\n",
    "    for i in range(0,5):\n",
    "        if ngram == 6:\n",
    "            phrase = basephrase + [writer5.find_next_word(tuple(basephrase))]\n",
    "        else:\n",
    "            phrase = basephrase\n",
    "        currentAbstract = writer.write_abstract(phrase)\n",
    "        print 'New abstract: ' + currentAbstract\n",
    "        print ''\n",
    "        print 'Existing abstract: ' + writer.find_similar(currentAbstract)\n",
    "        print ''\n",
    "    return writer\n",
    "\n",
    "def WriteAbstract(ngram):\n",
    "    writer = AbstractWriter(ngram=ngram, randomize=True, seed=42)\n",
    "    writer.fit(abstract_train)\n",
    "    for i in range(0,5):\n",
    "        phrase = random.choice(writer._abstracts).split()[0:(ngram-1)]\n",
    "        currentAbstract = writer.write_abstract(tuple(phrase))\n",
    "        print 'New abstract: ' + currentAbstract\n",
    "        print ''\n",
    "        print 'Existing abstract: ' + writer.find_similar(currentAbstract)\n",
    "        print ''\n",
    "    return writer"
   ]
  },
  {
   "cell_type": "code",
   "execution_count": 6,
   "metadata": {
    "collapsed": false
   },
   "outputs": [
    {
     "name": "stdout",
     "output_type": "stream",
     "text": [
      "New abstract: Quantum tunneling constitutes one of the most notorious non Fermi liquid and Fermi liquid are two distinct parallel sequences of blue stragglers in many clusters are bimodal with a dominant central peak this has been shown that in these objects traces shocks in the ejecta. A few enhanced Fe features are basically aligned along the nanotube axis. While the origin of such vortices is presented in terms of alternating equilibrium and non equilibrium quantum thermodynamics. In the absence of dissipation stable composite objects are usually formed via attractive forces which allow the constituents to lower their energy by binding together. Repulsive forces separate particles in free space. We directly image such individual adatoms along with carbon chains and vacancies and investigate their dynamics via the dielectric function epsilon nu . Here we present a substantial improvement by combining a very accurate approximation to a deeper level theory which reconciles the deterministic and probabilistic aspects. We will focus on this second approach.\n",
      "\n",
      "Existing abstract: Throughout physics [[[stable composite objects are usually formed via attractive forces which allow the constituents to lower their energy by binding together. Repulsive forces separate particles in free space.]]] However in a structured environment such as a periodic potential and in the absence of dissipation stable composite objects can exist even for repulsive interactions. Here we report on the first observation of such an exotic bound state comprised of a pair of ultracold atoms in an optical lattice. Consistent with our theoretical analysis these repulsively bound pairs exhibit long lifetimes even under collisions with one another. Signatures of the pairs are also recognised in the characteristic momentum distribution and through spectroscopic measurements. There is no analogue in traditional condensed matter systems of such repulsively bound pairs due to the presence of strong decay channels. These results exemplify on a new level the strong correspondence between the optical lattice physics of ultracold bosonic atoms and the Bose Hubbard model a correspondence which is vital for future applications of these systems to the study of strongly correlated condensed matter systems and to quantum information.\n",
      "\n",
      "New abstract: Quantum mechanics can strongly influence the noise properties of highly transmitting metal molecule metal links have been made in cooling micromechanical resonators towards their quantum mechanical ground state are a new addition to the electronic fine structure near the Fermi energy with a Van Hove singularity VHS . This is a nontechnical Perspective Commentary on the recent history of this triple system and supports a scenario in between the standard entanglement and fully device independent scenarios and provide a versatile approach for probing QD photon interactions on ultra fast timescales.\n",
      "\n",
      "Existing abstract: The future of quantum communication relies on quantum networks composed by observers sharing multipartite quantum states. The certification of multipartite entanglement will be crucial to the usefulness of these networks. In many real situations it is natural to assume that some observers are more trusted than others in the sense that they have more knowledge of their measurement apparatuses. Here we propose a general method to certify all kinds of multipartite entanglement in this asymmetric scenario and experimentally demonstrate it in an optical experiment. Our results which can be seen as a definition of genuine multipartite quantum steering give a method to detect entanglement in [[[a scenario in between the standard entanglement and fully device independent scenarios and provide a]]] basis for semi device independent cryptographic applications in quantum networks.\n",
      "\n",
      "New abstract: Following Feynman and as elaborated on by Lloyd a universal quantum computation. Here we show that these extraordinary properties reveal a fundamental collective mode in superfluid # He and unconventional superconductors can provide key information on the nearby environment and indirect information on the first direct observation of antibunching of neutral fermionic atoms. Through an analysis of the mechanism controlling the magnitude of the spin valley coupled electronic structure can be excited in a one dimensional spin dependent optical dipole force can produce an effective SOC in two dimensional thin films and superlattices the ferroelectric transition of LiNbO#. The transition involves a continuous shift in the optical spectrum. Here we report the discovery of high temperature superconductivity in the cuprates. Specifically that the optimal superconducting transition temperatures. Our results characterize the sources of galactic cosmic rays is accelerated in such remnants by a Fermi surface that includes sections containing electron carriers located at the L# and L# Lagrange points of the Jupiter Sun system leading and following Jupiter by ## degrees . The asteroid ### Patroclus is the only known binary multiferroic compound CuO has a much higher value of #.## # which is sufficient to saturate the atomic transition. In this regime\n",
      "\n",
      "Existing abstract: The Trojan population consists of two swarms of asteroids following the same orbit as Jupiter and [[[located at the L# and L# Lagrange points of the Jupiter Sun system leading and following Jupiter by ## degrees . The asteroid ### Patroclus is the only known binary]]] Trojan Merline et al. #### . The orbit of this double system was hitherto unknown. Here we report that the components separated by ### km move around the system centre of mass describing roughly a circular orbit. Using the orbital parameters combined with thermal measurements to estimate the size of the components we derive a very low density of #.# g cc. The components of Patroclus are therefore very porous or composed mostly of water ice suggesting that they could have been formed in the outer part of the solar system.\n",
      "\n",
      "New abstract: Outflowing winds of multiphase plasma have been proposed and some protocols are operated even in field environments. One of the hopes is to establish their Mott parent states and explore these systems potential of realizing novel electronic states upon carrier doping. However once doped little is understood far from equilibrium. Here we report ab initio calculations reveal that its magnetic building blocks are loosely connected into a #D whole. Small interactions between the fermions form correlated high momentum neutron proton pairs. Thus in neutron rich nuclei short range interactions the progress of research on iron based superconducting field but their multiple phase separations are disadvantageous for understanding the structure of dense hydrogen remains experimentally elusive. Recent studies of the numerous practical applications of the phase diagram of these materials the process through which quantum well states observed in our Solar System including Earth. They are also ideal platforms to test quantum transport theories that are required for suppressing the condensation. Here we show that the energies of the features shared by the copper oxides and oxyclorides determine trends with the apical Cu ligand distances and find excellent agreement with ab initio calculations suggest an enhancement due to Au atoms that get closer to\n",
      "\n",
      "Existing abstract: Interest in many strongly spin orbit coupled #d transition metal oxide insulators stems from mapping their electronic structures to a J # # Mott phase. [[[One of the hopes is to establish their Mott parent states and explore these systems potential of realizing novel electronic states upon carrier doping. However once doped little is understood]]] regarding the role of their reduced Coulomb interaction U relative to their strongly correlated #d electron cousins. Here we show that upon hole doping a candidate J # # Mott insulator carriers remain localized within a nanoscale phase separated ground state. A percolative metal insulator transition occurs with interplay between localized and itinerant regions stabilizing an antiferromagnetic metallic phase beyond the critical region. Our results demonstrate a surprising parallel between doped #d and #d electron Mott systems and suggest either through the near degeneracy of nearby electronic phases or direct carrier localization that U is essential to the carrier response of this doped spin orbit Mott insulator.\n",
      "\n",
      "New abstract: Much new solid state platform ultrabrightness and interconnectivity with matter qubits. A key prerequisite for their use in optical quantum computing became feasible with the discovery of quiescent and flaring radio emission from the Cygnus region direction. For cosmic ray energies in supernova remnants and that shocks in galaxy clusters are capable of producing statistically robust detections of unshielded sources when their output is integrated over the durations of ocean voyages. It is possible to resolve the topological nature of electronic structures arises from crystal symmetries. Here we report on a hitherto unobserved long range Kondo signature for single magnetic atoms of Fe and Co buried under a Cu ### surface and occurs at voltages corresponding to the strongly correlated version of topological insulator TI ## ##. Here by performing soft x ray scattering experiments on the new FeAs based superconductors revealed phase diagrams characterized by first order evolution from antiferromagnetic to superconducting states and find it to be a half filled metal. The strong onsite Coulomb repulsion U may inhibit or completely block the intersite electron hopping t and depending on the relative importance of kinetic hopping measured by the Hubble Space Telescope observations. The color and magnitude of the s wave\n",
      "\n",
      "Existing abstract: We investigate the problem of detecting the presence of clandestine neutron sources such as would be produced by nuclear weapons containing plutonium within cargo containers. Small simple and economical semiconductor photodiode detectors affixed to the outsides of containers [[[are capable of producing statistically robust detections of unshielded sources when their output is integrated over the durations of ocean voyages. It is possible to]]] shield such sources with thick layers of neutron absorbing material and to minimize the effects of such absorbers on ambient or artificial external neutron fluxes by surrounding them with neutron reflective material.\n",
      "\n"
     ]
    },
    {
     "data": {
      "text/plain": [
       "<__main__.AbstractWriter instance at 0x103c705f0>"
      ]
     },
     "execution_count": 6,
     "metadata": {},
     "output_type": "execute_result"
    }
   ],
   "source": [
    "WriteAbstract(4)"
   ]
  },
  {
   "cell_type": "code",
   "execution_count": 7,
   "metadata": {
    "collapsed": false
   },
   "outputs": [
    {
     "name": "stdout",
     "output_type": "stream",
     "text": [
      "New abstract: Quantum mechanics the theory describing the fundamental workings of nature is famously counterintuitive it predicts that a particle can be in two places at the same time the links between the updated vertices and all other vertices are drawn anew with a fitness dependent connection probability. We show analytically and numerically that the system self organizes to a non trivial state that differs from what is obtained when the two processes are decoupled. A power law decay of dynamical and topological quantities above a threshold emerges spontaneously as well as a Lifshitz transition with a change of Fermi surface topology. Here we report high resolution radio imaging of the gamma ray emitting nova V### Mon. We find that its ejecta were shaped by the motion of the binary system some gas was expelled rapidly along the poles as a wind from the disk and sometimes a collimated jet. But these predictions have hitherto not been supported by observations. Here we report an antagonistic singularity at T c in the spectral weight of Bi # Sr # CaCu # O # delta Bi #### have a phase transition from a superfluid into an exotic Mott like state where the particle distribution exhibits plateaus at fractional\n",
      "\n",
      "Existing abstract: The interplay between topology and dynamics in complex networks is a fundamental but widely unexplored problem. Here we study this phenomenon on a prototype model in which the network is shaped by a dynamical variable. We couple the dynamics of the Bak Sneppen evolution model with the rules of the so called fitness network model for establishing the topology of a network each vertex is assigned a fitness and the vertex with minimum fitness and its neighbours are updated in each iteration. At [[[the same time the links between the updated vertices and all other vertices are drawn anew with a fitness dependent connection probability. We show analytically and numerically that the system self organizes to a non trivial state that differs from what is obtained when the two processes are decoupled. A power law decay of dynamical and topological quantities above a threshold emerges spontaneously as well as a]]] feedback between different dynamical regimes and the underlying correlation and percolation properties of the network.\n",
      "\n",
      "New abstract: The optical hybridization of the electronic states in strongly coupled molecule cavity systems have revealed unique properties such as strong spin orbit interaction in the presence of magnetic noise that was six orders of magnitude larger than existing experiments. We show that a spin dependent optical dipole force can produce an antiferromagnetic interaction J ij # d ij a where a is tunable over # a # d ij is the distance between spin pairs. These power laws correspond physically to infinite range a # Coulomb like a # monopole dipole a # and dipole dipole a # couplings. Experimentally we demonstrate excellent agreement with theory demonstrating the predictive power of our approach. In combination with recent progress on complementary dissipation mechanisms our phonon tunneling solver represents a major step towards dissipationless electronic applications without external fields.\n",
      "\n",
      "Existing abstract: The presence of long range quantum spin correlations underlies a variety of physical phenomena in condensed matter systems potentially including high temperature superconductivity. However many properties of exotic strongly correlated spin systems e.g. spin liquids have proved difficult to study in part because calculations involving N body entanglement become intractable for as few as N ## particles. Feynman divined that a quantum simulator a special purpose analog processor built using quantum particles qubits would be inherently adept at such problems. In the context of quantum magnetism a number of experiments have demonstrated the feasibility of this approach. However simulations of quantum magnetism allowing controlled tunable interactions between spins localized on #D and #D lattices of more than a few ## s of qubits have yet to be demonstrated owing in part to the technical challenge of realizing large scale qubit arrays. Here we demonstrate a variable range Ising type spin spin interaction J ij on a naturally occurring #D triangular crystal lattice of hundreds of spin # # particles #Be ions stored in a Penning trap a computationally relevant scale more than an order [[[of magnitude larger than existing experiments. We show that a spin dependent optical dipole force can produce an antiferromagnetic interaction J ij # d ij a where a is tunable over # a # d ij is the distance between spin pairs. These power laws correspond physically to infinite range a # Coulomb like a # monopole dipole a # and dipole dipole a # couplings. Experimentally we demonstrate excellent agreement with theory]]] for #.## a #.#. This demonstration coupled with the high spin count excellent quantum control and low technical complexity of the Penning trap brings within reach simulation of interesting and otherwise computationally intractable problems in quantum magnetism.\n",
      "\n",
      "New abstract: The superconducting state of iron pnictides and chalcogenides in early #### a central issue has been the microscopic origin of the AF order in iron arsenide materials with some favoring a localized picture while others supporting an itinerant point of view. More importantly there has not even been agreement about the simplest effective ground state Hamiltonian necessary to describe the AF order. Here we report inelastic neutron scattering mapping of spin wave excitations by detecting the associated local reduction in the disc s longitudinal magnetization. In addition we characterize the spin noise spectrum by NV spin relaxometry finding excellent agreement with a new thin film theory incorporating slip thus providing an original quantitative and robust tool to measure slip lengths.\n",
      "\n",
      "Existing abstract: Antiferromagnetism is relevant to high temperature high Tc superconductivity because copper oxide and iron arsenide high Tc superconductors arise from electron or hole doping of their antiferromagnetic AF ordered parent compounds. There are two broad classes of explanation for the phenomenon of antiferromagnetism in the local moment picture appropriate for the insulating copper oxides AF interactions are well described by a Heisenberg Hamiltonian while in the itinerant model suitable for metallic chromium AF order arises from quasiparticle excitations of a nested Fermi surface. There has been contradictory evidence regarding [[[the microscopic origin of the AF order in iron arsenide materials with some favoring a localized picture while others supporting an itinerant point of view. More importantly there has not even been agreement about the simplest effective ground state Hamiltonian necessary to describe the AF order. Here we report inelastic neutron scattering mapping of spin wave excitations]]] in CaFe#As# a parent compound of the iron arsenide family of superconductors. We find that the spin waves in the entire Brillouin zone can be described by an effective three dimensional local moment Heisenberg Hamiltonian but the large in plane anisotropy cannot. Therefore magnetism in the parent compounds of iron arsenide superconductors is neither purely local nor purely itinerant rather it is a complicated mix of the two.\n",
      "\n",
      "New abstract: The layered transition metal dichalcogenides TMDs have been attracting great research attentions lately for their extraordinary properties in particular the exotic spin valley coupled electronic structure can be of great interests for both fundamental physics and technological applications such as spintronics and quantum information processing applications. It has been suggested that low mass stars could not have formed before a minimum level of metal enrichment had been reached. The value of this minimum level is very uncertain but is likely to be present in cometary ices include water simple hydrocarbons oxygen sulfur and nitrogen bearing species as well as a Lifshitz transition with a change of Fermi surface topology. Here we report high resolution angle resolved photoemission measurement on heavily underdoped Bi#Sr# xLaxCuO# d system. The electronic structure of Mott insulators continues to be a major promotion for commercialized QKD providing composable security against the most general channel attacks.\n",
      "\n",
      "Existing abstract: The earliest stars to form in the Universe were the first sources of light heat and metals after the Big Bang. The products of their evolution will have had a profound impact on subsequent generations of stars. Recent studies of primordial star formation have shown that in the absence of metals elements heavier than helium the formation of stars with masses ### times that of the Sun would have been strongly favoured and [[[that low mass stars could not have formed before a minimum level of metal enrichment had been reached. The value of this minimum level is very uncertain but is likely to be]]] between ## # and ## # that of the Sun. Here we show that the recent discovery of the most iron poor star known indicates the presence of dust in extremely low metallicity gas and that this dust is crucial for the formation of lower mass second generation stars that could survive until today. The dust provides a pathway for cooling the gas that leads to fragmentation of the precursor molecular cloud into smaller clumps which become the lower mass stars.\n",
      "\n",
      "New abstract: The phase diagram of the bosonic system is universal in rescaled pressure and temperature. A triple point separates the normal gas the superfluid gas and the superfluid Efimov liquid.\n",
      "\n",
      "Existing abstract: In quantum physics Efimov trimers are bound states of three particles that fall apart like Borromean rings when one of them is removed. Initially predicted in nuclear physics these striking bosonic states are hard to observe but the unitary interactions at which they form is commonly realized in current cold atoms experiments. There they set the stage for a new class of universal physics Two body interactions are all but invisible but three body effects allow the emergence of a largely uncharted new world of many particle bound states. Three particle systems were characterized theoretically and the ground state properties of small unitary clusters computed numerically but the macroscopic many body behaviour has remained unknown. Here we show using a Path Integral Monte Carlo algorithm backed up by theoretical arguments that the unitary Bose gas presents a first order phase transition from a normal gas to a superfluid Efimov liquid. The normal gas is very well described by the available virial coefficients. At unitarity the [[[phase diagram of the bosonic system is universal in rescaled pressure and temperature. A triple point separates the normal gas the superfluid]]] Efimov liquid and a third phase the conventional superfluid gas. These two superfluid phases are separated by a critical line that ends in a critical point at high temperature. This rich phase diagram should allow for a number of experimental protocols that would probe these universal transitions between the normal gas the superfluid gas and the superfluid Efimov liquid.\n",
      "\n"
     ]
    },
    {
     "data": {
      "text/plain": [
       "<__main__.AbstractWriter instance at 0x10d86a4d0>"
      ]
     },
     "execution_count": 7,
     "metadata": {},
     "output_type": "execute_result"
    }
   ],
   "source": [
    "WriteAbstract(5)"
   ]
  },
  {
   "cell_type": "code",
   "execution_count": 8,
   "metadata": {
    "collapsed": false
   },
   "outputs": [
    {
     "name": "stdout",
     "output_type": "stream",
     "text": [
      "New abstract: Solar cells based on the organic inorganic tri halide perovskite family of materials have shown remarkable progress recently offering the prospect of low cost solar energy from devices that are very simple to process. Fundamental to understanding the operation of these devices is the exciton binding energy which has proved both difficult to measure directly and controversial. We demonstrate that by using very high magnetic fields it is possible to make an accurate and direct spectroscopic measurement of the exciton binding energy which has proved both difficult to measure directly and controversial. We demonstrate that by using very high magnetic fields it is possible to make an accurate and direct spectroscopic measurement of the exciton binding energy which we find to be strikingly different from the predictions of single particle theory. The states are mainly determined by Coulomb interactions and appear only when quantization of kinetic energy limits the screening ability of electrons. We conclude that the quantum Hall effect has a greater diversity of regimes and phase transitions than predicted by the single particle framework. Our experiments suggest a unified picture of localization in which the single particle model is valid only in the limit of strong interactions and defies a conventional BCS description.\n",
      "\n",
      "Existing abstract: [[[Solar cells based on the organic inorganic tri halide perovskite family of materials have shown remarkable progress recently offering the prospect of low cost solar energy from devices that are very simple to process. Fundamental to understanding the operation of these devices is the exciton binding energy which has proved both difficult to measure directly and controversial. We demonstrate that by using very high magnetic fields it is possible to make an accurate and direct spectroscopic measurement of the exciton binding energy which]]] we find to be only ## meV at low temperatures over three times smaller than has been previously assumed. In the room temperature phase we show that the binding energy falls to even smaller values of only a few millielectronvolts which explains their excellent device performance due to spontaneous free carrier generation following light absorption. Additionally we determine the excitonic reduced effective mass to be #.###me where me is the electron mass significantly smaller than previously estimated experimentally but in good agreement with recent calculations. Our work provides crucial information about the photophysics of these materials which will in turn allow improved optoelectronic device operation and better understanding of their electronic properties.\n",
      "\n",
      "New abstract: Observations of intensely bright star forming galaxies both close by and in the distant Universe at first glance seem to emphasize their similarity. But look a little closer and differences emerge.\n",
      "\n",
      "Existing abstract: [[[Observations of intensely bright star forming galaxies both close by and in the distant Universe at first glance seem to emphasize their similarity. But look a little closer and differences]]] emerge.\n",
      "\n",
      "New abstract: Initialization and readout of coupled quantum systems are essential ingredients for the implementation of quantum information processing based on quantum dots. Here we report on the experimental realization of opto electrical cooling a paradigm changing cooling and accumulation method for polar molecules. Its key attribute is the removal of a large fraction of the stars in massive galaxies form in the first # Gyr but uncertainties remain owing to the lack of spectra to confirm the redshifts which are estimated from the colours and the role of obscuration by dust. Here we report the results of point contact spectroscopy measurements in single crystals of PuCoGa #. Andreev reflection structures are clearly observed in the low temperature spectra and unambiguously prove that the paired superconducting electrons have wavefunction with the d wave symmetry of a four leaf clover. A straightforward analysis of the spectra provide the amplitude of the gap and its temperature dependence Delta T . We obtain Delta T # #.# pm #.# meV and a gap ratio # Delta k B T c #.# pm #.# indicating that the compound is in the regime of strong electron boson coupling. The gap value and its temperature dependence can be understood from single valley Dirac\n",
      "\n",
      "Existing abstract: A century on from its discovery a complete fundamental understanding of superconductivity is still missing. Considerable research efforts are currently devoted to elucidating mechanisms by which pairs of electrons can bind together through the mediation of a boson field different than the one associated to the vibrations of a crystal lattice. PuCoGa # a #f electron heavy fermion superconductor with a record critical temperature T c ##.# K is one of the many compounds for which the short range isotropic attraction provided by simple electron phonon coupling does not appear as an adequate glue for electron pairing. [[[Here we report the results of point contact spectroscopy measurements in single crystals of PuCoGa #. Andreev reflection structures are clearly observed in the low temperature spectra and unambiguously prove that the paired superconducting electrons have wavefunction with the d wave symmetry of a four leaf clover. A straightforward analysis of the spectra provide the amplitude of the gap and its temperature dependence Delta T . We obtain Delta T # #.# pm #.# meV and a gap ratio # Delta k B T c #.# pm #.# indicating that the compound is in the regime of strong electron boson coupling. The gap value and its temperature dependence can be]]] well reproduced within the Eliashberg theory for superconductivity if the spectral function of the mediating bosons has a spin fluctuations like shape with a peak energy of #.# meV. Electronic structure calculations combining the local density approximation with an exact diagonalization of the Anderson impurity model provide a hint about the possible origin of the fluctuations.\n",
      "\n",
      "New abstract: A Fermi gas of atoms with resonant interactions is predicted to obey universal hydrodynamics where the shear viscosity and other transport coefficients are universal functions of the density and temperature. At low temperatures the viscosity has a universal quantum scale hbar n where n is the density while at high temperatures the natural scale is p T # hbar # where p T is the thermal momentum. We employ breathing mode damping to measure the shear viscosity at low temperature. At high temperature T we employ anisotropic expansion of the cloud to find the viscosity which exhibits precise T # # scaling. In both experiments universal hydrodynamic equations including friction and heating are used to extract the viscosity. We estimate the ratio of the shear viscosity to the entropy density and compare to that of a perfect fluid.\n",
      "\n",
      "Existing abstract: [[[A Fermi gas of atoms with resonant interactions is predicted to obey universal hydrodynamics where the shear viscosity and other transport coefficients are universal functions of the density and temperature. At low temperatures the viscosity has a universal quantum scale hbar n where n is the density while at high temperatures the natural scale is p T # hbar # where p T is the thermal momentum. We employ breathing mode damping to measure the shear viscosity at low temperature. At high temperature T we employ anisotropic expansion of the cloud to find the viscosity which exhibits precise T # # scaling. In both experiments universal hydrodynamic equations including friction and heating are used to extract the viscosity. We estimate the ratio of the shear viscosity to the entropy density and compare to that of a perfect]]] fluid.\n",
      "\n",
      "New abstract: At quantum critical points QCP cite Pfeuty #### Young #### Hertz #### Chakravarty #### Millis #### Chubukov # ### Coleman #### there are quantum fluctuations on all length scales from microscopic to macroscopic lengths which remarkably can be observed at finite temperatures the regime to which all experiments are necessarily confined. A fundamental question is how high in temperature can the effects of quantum criticality persist That is can physical observables be described in terms of cognitive elements called symbolic forms Sherin #### and iii is a feasible instructional target.\n",
      "\n",
      "Existing abstract: [[[At quantum critical points QCP cite Pfeuty #### Young #### Hertz #### Chakravarty #### Millis #### Chubukov # ### Coleman #### there are quantum fluctuations on all length scales from microscopic to macroscopic lengths which remarkably can be observed at finite temperatures the regime to which all experiments are necessarily confined. A fundamental question is how high in temperature can the effects of quantum criticality persist That is can physical observables be described in terms of]]] universal scaling functions originating from the QCPs Here we answer these questions by examining exact solutions of models of correlated systems and find that the temperature can be surprisingly high. As a powerful illustration of quantum criticality we predict that the zero temperature superfluid density rho s # and the transition temperature T c of the cuprates are related by T c propto rho s # y where the exponent y is different at the two edges of the superconducting dome signifying the respective QCPs. This relationship can be tested in high quality crystals.\n",
      "\n"
     ]
    },
    {
     "data": {
      "text/plain": [
       "<__main__.AbstractWriter instance at 0x11838c680>"
      ]
     },
     "execution_count": 8,
     "metadata": {},
     "output_type": "execute_result"
    }
   ],
   "source": [
    "WriteAbstract(6)"
   ]
  }
 ],
 "metadata": {
  "kernelspec": {
   "display_name": "Python 2",
   "language": "python",
   "name": "python2"
  },
  "language_info": {
   "codemirror_mode": {
    "name": "ipython",
    "version": 2
   },
   "file_extension": ".py",
   "mimetype": "text/x-python",
   "name": "python",
   "nbconvert_exporter": "python",
   "pygments_lexer": "ipython2",
   "version": "2.7.11"
  }
 },
 "nbformat": 4,
 "nbformat_minor": 0
}
