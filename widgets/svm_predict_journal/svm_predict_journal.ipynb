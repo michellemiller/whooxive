{
 "cells": [
  {
   "cell_type": "markdown",
   "metadata": {},
   "source": [
    "Use fancy machine learning to predict whether an article makes it into Nature/Science or PRL. This time we'll only look at articles in the physics.atom-ph section."
   ]
  },
  {
   "cell_type": "code",
   "execution_count": 82,
   "metadata": {
    "collapsed": false
   },
   "outputs": [],
   "source": [
    "#Need to add parent directoy to sys.path to find 'metadataDB'\n",
    "import sys\n",
    "sys.path.append('../../')\n",
    "\n",
    "%matplotlib inline\n",
    "import matplotlib.pyplot as plt \n",
    "import time\n",
    "import numpy as np\n",
    "import re\n",
    "from itertools import combinations\n",
    "import json\n",
    "\n",
    "# Natural language processing toolkit\n",
    "# To use this, run nltk.download() and download 'stopwords'\n",
    "# from nltk.corpus import stopwords\n",
    "# s=stopwords.words('english') + ['']\n",
    "\n",
    "# Machine learning\n",
    "from sklearn.feature_extraction.text import CountVectorizer\n",
    "from sklearn.feature_extraction.text import TfidfTransformer\n",
    "from sklearn.naive_bayes import MultinomialNB\n",
    "from sklearn.linear_model import LogisticRegression\n",
    "from sklearn.svm import LinearSVC, SVC\n",
    "from sklearn.pipeline import Pipeline\n",
    "from sklearn import metrics\n",
    "from sklearn.cross_validation import train_test_split\n",
    "\n",
    "# SQL\n",
    "from sqlalchemy import create_engine\n",
    "from sqlalchemy.orm import sessionmaker\n",
    "from metadataDB.declareDatabase import *\n",
    "from sqlalchemy import or_, and_\n",
    "\n",
    "engine = create_engine(\"sqlite:///../../arXiv_metadata.db\", echo=False)\n",
    "Base.metadata.bind = engine\n",
    "DBsession = sessionmaker(bind=engine)\n",
    "session = DBsession()"
   ]
  },
  {
   "cell_type": "code",
   "execution_count": 65,
   "metadata": {
    "collapsed": true
   },
   "outputs": [],
   "source": [
    "categories = ['atom-ph', 'quant-ph', 'cond-mat', 'quant-gas', 'hep-th', 'hep-ex', '']\n",
    "categories = ['quant-ph']\n",
    "journals_dict = {'PRL': ['Physics Review Letters%',\n",
    "                    'Phys. Rev. Lett.%',\n",
    "                    'Phys.Rev.Lett.%',\n",
    "                    'PRL%'],\n",
    "                 'PR':  ['Physics Review%',\n",
    "                         'Phys. Rev.%',\n",
    "                         'Phys.Rev.%',\n",
    "                         'PR%'],\n",
    "                 'Nature': ['Nature%',\n",
    "                            'Nat.%',\n",
    "                            'Science%'],\n",
    "                 'APL': ['APL%',\n",
    "                         'Appl.Phys.Lett.%',\n",
    "                         'Appl. Phys. Lett.%',\n",
    "                         'Applied Physics Letters%'],\n",
    "                 'AP': ['AP%',\n",
    "                        'Appl.Phys.%',\n",
    "                        'Appl. Phys.%',\n",
    "                        'Applied Physics%'],\n",
    "                 'All': ['%'],\n",
    "                 }\n"
   ]
  },
  {
   "cell_type": "code",
   "execution_count": 73,
   "metadata": {
    "collapsed": false
   },
   "outputs": [],
   "source": [
    "def get_abstracts(journal, category):\n",
    "    query = session.query(Article_Category)\\\n",
    "                    .join(Category)\\\n",
    "                    .join(Article)\\\n",
    "                    .filter(Category.name.like('%' + category + '%'),\n",
    "                            or_(*[Article.journal_ref.like(x) for x in journals_dict[journal]]))\n",
    "\n",
    "    # Don't need to clean up text: CountVectorizer will do everything\n",
    "    return [ result.article.abstract for result in query ]\n",
    "\n",
    "\n",
    "def learn(journals, category):\n",
    "    abstracts1 = get_abstracts(journals[0], category)\n",
    "    abstracts2 = get_abstracts(journals[1], category)\n",
    "    \n",
    "    half_test_size = int(round(0.2*min(len(abstracts1),len(abstracts2))))\n",
    "#     print half_test_size\n",
    "\n",
    "    X1_train, X1_test, y1_train, y1_test = train_test_split(abstracts1, [0]*len(abstracts1), test_size=half_test_size, random_state=42)\n",
    "    X2_train, X2_test, y2_train, y2_test = train_test_split(abstracts2, [1]*len(abstracts2), test_size=half_test_size, random_state=42)\n",
    "\n",
    "    X_train = X1_train + X2_train\n",
    "    X_test = X1_test + X2_test\n",
    "    y_train = np.array(y1_train + y2_train)\n",
    "    y_test = np.array(y1_test + y2_test)\n",
    "    target_names = journals\n",
    "    \n",
    "    \n",
    "    clf = Pipeline([('vect', CountVectorizer(ngram_range=(1,3))),\n",
    "                    ('tfidf', TfidfTransformer()),\n",
    "                    ('clf', LinearSVC(C=1,penalty='l1',dual=False,fit_intercept=True))])\n",
    "    transform = clf.fit_transform(X_train, y_train)\n",
    "    y_predict_train = clf.predict(X_train)\n",
    "    y_predict_test = clf.predict(X_test)\n",
    "    \n",
    "    print (metrics.classification_report(y_test, y_predict_test,\n",
    "                                    target_names=target_names))\n",
    "#                                     target_names=test_target_names))\n",
    "    print metrics.confusion_matrix(y_test, y_predict_test)\n",
    "    print 'Accuracy: %f' % (metrics.accuracy_score(y_test, y_predict_test))\n",
    "\n",
    "    most_important_words = clf.named_steps['clf'].coef_.argsort()[:, ::-1]\n",
    "\n",
    "    terms =  clf.named_steps['vect'].get_feature_names()\n",
    "    result = [{'name': terms[word],\n",
    "               'value': clf.named_steps['clf'].coef_[0,word]}\n",
    "                for word in (np.concatenate((most_important_words[0, :15],\n",
    "                             most_important_words[0, -15:]))) ]\n",
    "    return result\n",
    "\n"
   ]
  },
  {
   "cell_type": "code",
   "execution_count": 91,
   "metadata": {
    "collapsed": false
   },
   "outputs": [
    {
     "name": "stdout",
     "output_type": "stream",
     "text": [
      "('atom-ph', ('PRL', 'APL'))\n",
      "6\n",
      "             precision    recall  f1-score   support\n",
      "\n",
      "        PRL       0.50      1.00      0.67         6\n",
      "        APL       0.00      0.00      0.00         6\n",
      "\n",
      "avg / total       0.25      0.50      0.33        12\n",
      "\n",
      "[[6 0]\n",
      " [6 0]]\n",
      "0.5\n",
      "('atom-ph', ('PRL', 'Nature'))\n",
      "28\n",
      "             precision    recall  f1-score   support\n",
      "\n",
      "        PRL       0.76      1.00      0.86        28\n",
      "     Nature       1.00      0.68      0.81        28\n",
      "\n",
      "avg / total       0.88      0.84      0.84        56\n",
      "\n",
      "[[28  0]\n",
      " [ 9 19]]\n",
      "0.839285714286\n",
      "('atom-ph', ('APL', 'Nature'))\n",
      "6\n",
      "             precision    recall  f1-score   support\n",
      "\n",
      "        APL       0.00      0.00      0.00         6\n",
      "     Nature       0.50      1.00      0.67         6\n",
      "\n",
      "avg / total       0.25      0.50      0.33        12\n",
      "\n",
      "[[0 6]\n",
      " [0 6]]\n",
      "0.5\n",
      "('quant-ph', ('PRL', 'APL'))\n",
      "45\n",
      "             precision    recall  f1-score   support\n",
      "\n",
      "        PRL       0.57      1.00      0.73        45\n",
      "        APL       1.00      0.24      0.39        45\n",
      "\n",
      "avg / total       0.78      0.62      0.56        90\n",
      "\n",
      "[[45  0]\n",
      " [34 11]]\n",
      "0.622222222222\n",
      "('quant-ph', ('PRL', 'Nature'))\n",
      "154\n",
      "             precision    recall  f1-score   support\n",
      "\n",
      "        PRL       0.81      0.87      0.84       154\n",
      "     Nature       0.86      0.79      0.82       154\n",
      "\n",
      "avg / total       0.83      0.83      0.83       308\n",
      "\n",
      "[[134  20]\n",
      " [ 32 122]]\n",
      "0.831168831169\n",
      "('quant-ph', ('APL', 'Nature'))\n",
      "45\n",
      "             precision    recall  f1-score   support\n",
      "\n",
      "        APL       1.00      0.36      0.52        45\n",
      "     Nature       0.61      1.00      0.76        45\n",
      "\n",
      "avg / total       0.80      0.68      0.64        90\n",
      "\n",
      "[[16 29]\n",
      " [ 0 45]]\n",
      "0.677777777778\n",
      "('cond-mat', ('PRL', 'APL'))\n",
      "637\n",
      "             precision    recall  f1-score   support\n",
      "\n",
      "        PRL       0.74      0.97      0.84       637\n",
      "        APL       0.96      0.67      0.79       637\n",
      "\n",
      "avg / total       0.85      0.82      0.82      1274\n",
      "\n",
      "[[621  16]\n",
      " [213 424]]\n",
      "0.820251177394\n",
      "('cond-mat', ('PRL', 'Nature'))\n",
      "617\n",
      "             precision    recall  f1-score   support\n",
      "\n",
      "        PRL       0.79      0.96      0.87       617\n",
      "     Nature       0.94      0.75      0.84       617\n",
      "\n",
      "avg / total       0.87      0.85      0.85      1234\n",
      "\n",
      "[[590  27]\n",
      " [155 462]]\n",
      "0.852512155592\n",
      "('cond-mat', ('APL', 'Nature'))\n",
      "617\n",
      "             precision    recall  f1-score   support\n",
      "\n",
      "        APL       0.92      0.86      0.89       617\n",
      "     Nature       0.87      0.93      0.90       617\n",
      "\n",
      "avg / total       0.89      0.89      0.89      1234\n",
      "\n",
      "[[528  89]\n",
      " [ 45 572]]\n",
      "0.891410048622\n",
      "('str-el', ('PRL', 'APL'))\n",
      "36\n",
      "             precision    recall  f1-score   support\n",
      "\n",
      "        PRL       0.56      1.00      0.72        36\n",
      "        APL       1.00      0.22      0.36        36\n",
      "\n",
      "avg / total       0.78      0.61      0.54        72\n",
      "\n",
      "[[36  0]\n",
      " [28  8]]\n",
      "0.611111111111\n",
      "('str-el', ('PRL', 'Nature'))\n",
      "110\n",
      "             precision    recall  f1-score   support\n",
      "\n",
      "        PRL       0.76      0.96      0.85       110\n",
      "     Nature       0.95      0.70      0.81       110\n",
      "\n",
      "avg / total       0.86      0.83      0.83       220\n",
      "\n",
      "[[106   4]\n",
      " [ 33  77]]\n",
      "0.831818181818\n",
      "('str-el', ('APL', 'Nature'))\n",
      "36\n",
      "             precision    recall  f1-score   support\n",
      "\n",
      "        APL       1.00      0.31      0.47        36\n",
      "     Nature       0.59      1.00      0.74        36\n",
      "\n",
      "avg / total       0.80      0.65      0.61        72\n",
      "\n",
      "[[11 25]\n",
      " [ 0 36]]\n",
      "0.652777777778\n",
      "227.488034964\n"
     ]
    }
   ],
   "source": [
    "categories = ['atom-ph', 'quant-ph', 'cond-mat', 'str-el']\n",
    "journals = ['PRL', 'APL', 'Nature']\n",
    "\n",
    "start = time.time()\n",
    "\n",
    "final_dict = dict()\n",
    "for category in categories:\n",
    "    current_dict = dict()\n",
    "    for journal_pair in combinations(journals, 2):\n",
    "        print (category, journal_pair)\n",
    "        current_dict['/'.join(journal_pair)] = learn(journal_pair, category)\n",
    "#         current_dict[journal] = keywords(journal, category)\n",
    "    if category == '':\n",
    "        category = 'All'\n",
    "    final_dict[category.replace('-', '_')] = current_dict\n",
    "\n",
    "print (time.time() - start)\n",
    "\n",
    "# print json.dumps(final_dict)\n",
    "with open('svm_journal.json', 'wb') as f:\n",
    "    json.dump(final_dict, f)\n",
    "# learn(['Nature', 'PRL'], 'atom-ph')"
   ]
  },
  {
   "cell_type": "code",
   "execution_count": 10,
   "metadata": {
    "collapsed": false
   },
   "outputs": [],
   "source": [
    "abstracts1 = get_abstracts('Nature' ,'quant-ph')\n",
    "abstracts2 = get_abstracts('PRL' ,'quant-ph')"
   ]
  },
  {
   "cell_type": "code",
   "execution_count": 83,
   "metadata": {
    "collapsed": false
   },
   "outputs": [
    {
     "name": "stdout",
     "output_type": "stream",
     "text": [
      "770\n",
      "3353\n"
     ]
    }
   ],
   "source": [
    "print len(abstracts1)\n",
    "print len(abstracts2)\n",
    "half_test_size = 500\n",
    "\n",
    "X1_train, X1_test, y1_train, y1_test = train_test_split(abstracts1, [0]*len(abstracts1), test_size=half_test_size, random_state=42)\n",
    "X2_train, X2_test, y2_train, y2_test = train_test_split(abstracts2, [1]*len(abstracts2), test_size=half_test_size, random_state=42)\n",
    "\n",
    "X_train = X1_train + X2_train\n",
    "X_test = X1_test + X2_test\n",
    "y_train = np.array(y1_train + y2_train)\n",
    "y_test = np.array(y1_test + y2_test)\n",
    "target_names = ['Nature', 'PRL']\n",
    "\n",
    "# print len(y_test)\n",
    "# print y_test"
   ]
  },
  {
   "cell_type": "code",
   "execution_count": 6,
   "metadata": {
    "collapsed": true
   },
   "outputs": [],
   "source": [
    "session.close_all()"
   ]
  },
  {
   "cell_type": "code",
   "execution_count": 7,
   "metadata": {
    "collapsed": false
   },
   "outputs": [],
   "source": [
    "# # Train with 80% of the Nature data, test with 20% of the Nature data\n",
    "# # Choose the same number of PRL and Nature articles in the test sets.\n",
    "\n",
    "# indNatureScience = len(abstractNatureScience)*4/5\n",
    "# indPRL = len(abstractPRL) - (len(abstractNatureScience) - indNatureScience)\n",
    "\n",
    "# train_abstract = abstractPRL[:indPRL] + abstractNatureScience[:indNatureScience]\n",
    "# train_title = titlePRL[:indPRL] + titleNatureScience[:indNatureScience]\n",
    "# train_target = [0]*indPRL + [1]*indNatureScience\n",
    "# train_target_names = ['PRL']*indPRL + ['Nature']*indNatureScience\n",
    "\n",
    "# test_abstract = abstractPRL[indPRL:] + abstractNatureScience[indNatureScience:]\n",
    "# test_title = titlePRL[indPRL:] + titleNatureScience[indNatureScience:]\n",
    "# test_target = [0]*len(abstractPRL[indPRL:]) + [1]*len(abstractNatureScience[indNatureScience:])\n",
    "# test_target_names = ['PRL', 'Nature/Science']"
   ]
  },
  {
   "cell_type": "code",
   "execution_count": 14,
   "metadata": {
    "collapsed": false
   },
   "outputs": [
    {
     "name": "stdout",
     "output_type": "stream",
     "text": [
      "(3123, 204)\n"
     ]
    }
   ],
   "source": [
    "#SVC(kernel='linear') is good\n",
    "clf = Pipeline([('vect', CountVectorizer(ngram_range=(1,2))),\n",
    "                ('tfidf', TfidfTransformer()),\n",
    "                ('clf', LinearSVC(C=1,penalty='l1',dual=False,fit_intercept=True))])\n",
    "transform = clf.fit_transform(X_train, y_train)\n",
    "y_predict_train = clf.predict(X_train)\n",
    "y_predict_test = clf.predict(X_test)\n",
    "# print text_abstract_clf.predict(X_train)\n",
    "print transform.shape"
   ]
  },
  {
   "cell_type": "code",
   "execution_count": 15,
   "metadata": {
    "collapsed": false
   },
   "outputs": [],
   "source": [
    "# vect = CountVectorizer(ngram_range=(1,1))\n",
    "# x_train_counts = vect.fit_transform(X_train)\n",
    "# # tfidf = TfidfTransformer.fit_transform(vect)\n",
    "# print x_train_counts.shape\n",
    "# x_train_tfidf = TfidfTransformer().fit_transform(x_train_counts)\n",
    "# print x_train_tfidf.shape\n",
    "# clf = LinearSVC(C=1,penalty='l1',dual=False,)\n",
    "# print clf.fit_transform(x_train_tfidf, y_train).shape"
   ]
  },
  {
   "cell_type": "code",
   "execution_count": 16,
   "metadata": {
    "collapsed": false
   },
   "outputs": [
    {
     "name": "stdout",
     "output_type": "stream",
     "text": [
      "             precision    recall  f1-score   support\n",
      "\n",
      "     Nature       0.97      0.35      0.51       500\n",
      "        PRL       0.60      0.99      0.75       500\n",
      "\n",
      "avg / total       0.78      0.67      0.63      1000\n",
      "\n",
      "[[174 326]\n",
      " [  6 494]]\n",
      "0.668\n"
     ]
    }
   ],
   "source": [
    "#SVC(kernel='linear')\n",
    "print(metrics.classification_report(y_test, y_predict_test,\n",
    "                                    target_names=target_names))\n",
    "#                                     target_names=test_target_names))\n",
    "print metrics.confusion_matrix(y_test, y_predict_test)\n",
    "print metrics.accuracy_score(y_test, y_predict_test)"
   ]
  }
 ],
 "metadata": {
  "kernelspec": {
   "display_name": "Python 2",
   "language": "python",
   "name": "python2"
  },
  "language_info": {
   "codemirror_mode": {
    "name": "ipython",
    "version": 2
   },
   "file_extension": ".py",
   "mimetype": "text/x-python",
   "name": "python",
   "nbconvert_exporter": "python",
   "pygments_lexer": "ipython2",
   "version": "2.7.11"
  }
 },
 "nbformat": 4,
 "nbformat_minor": 0
}
