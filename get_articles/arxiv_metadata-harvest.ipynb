{
 "cells": [
  {
   "cell_type": "code",
   "execution_count": 13,
   "metadata": {
    "collapsed": false
   },
   "outputs": [],
   "source": [
    "%matplotlib inline\n",
    "#Need to add parent directoy to sys.path to find 'metadataDB'\n",
    "import sys\n",
    "sys.path.append('../')\n",
    "\n",
    "\n",
    "from datetime import date\n",
    "import metadataDB.addArticle\n",
    "import metadataDB.getMetadata\n",
    "import metadataDB.harvest\n",
    "import time"
   ]
  },
  {
   "cell_type": "markdown",
   "metadata": {},
   "source": [
    "Run 'python declareDatabase.py' in /metadataDB the first time to create database file."
   ]
  },
  {
   "cell_type": "markdown",
   "metadata": {},
   "source": [
    "First OAI dates from 2007. Very dense in 2007-05, probably want to go by day."
   ]
  },
  {
   "cell_type": "code",
   "execution_count": 27,
   "metadata": {
    "collapsed": false
   },
   "outputs": [
    {
     "name": "stdout",
     "output_type": "stream",
     "text": [
      "(datetime.date(2016, 1, 15), datetime.date(2016, 1, 22))\n",
      "HTTP Error 503: Retry after specified interval\n",
      "Added 0 articles\n",
      "xml is long... at 0 / 3631.\n",
      "Added 0 articles\n",
      "xml is long... at 1000 / 3631.\n",
      "Added 0 articles\n",
      "xml is long... at 2000 / 3631.\n",
      "Added 0 articles\n",
      "0 articles added\n",
      "(datetime.date(2016, 1, 22), datetime.date(2016, 2, 1))\n",
      "Added 0 articles\n",
      "xml is long... at 0 / 3700.\n",
      "Added 0 articles\n",
      "xml is long... at 1000 / 3700.\n",
      "Added 0 articles\n",
      "xml is long... at 2000 / 3700.\n",
      "Added 0 articles\n",
      "0 articles added\n",
      "(datetime.date(2016, 2, 1), datetime.date(2016, 2, 8))\n",
      "Added 671 articles\n",
      "xml is long... at 0 / 2761.\n",
      "Added 790 articles\n",
      "xml is long... at 1000 / 2761.\n",
      "Added 751 articles\n",
      "2212 articles added\n",
      "(datetime.date(2016, 2, 8), datetime.date(2016, 2, 15))\n",
      "Added 300 articles\n",
      "xml is long... at 0 / 1827.\n",
      "Added 701 articles\n",
      "1001 articles added\n",
      "(datetime.date(2016, 2, 15), datetime.date(2016, 2, 22))\n",
      "Added 0 articles\n",
      "0 articles added\n"
     ]
    }
   ],
   "source": [
    "reload(metadataDB.harvest)\n",
    "reload(metadataDB.getMetadata)\n",
    "reload(metadataDB.addArticle)\n",
    "# datelist = [date(1990,1,1)] + \\\n",
    "#            [date(2007, 5, 22)] + \\\n",
    "#            [date(2007, 5, 23)] + \\\n",
    "#            [date(2007, x, 1) for x in range(6,13)] + \\\n",
    "#            [date(x, 1, 1) for x in range(2008,2017)]\n",
    "\n",
    "# datelist = [date(x, y, 1) for x in range(2015,2017) for y in range(1,13,3)]\n",
    "# datelist = [date(x, y, z) for x in range(2015,2016) for y in range(6,13,1) for z in range(1,29,7)]\n",
    "# datelist = [date(2016, y, z) for y in range(1,3,1) for z in range(1,28,7)]\n",
    "datelist = [date(2016,2,10), datelist(2016,3,1)]\n",
    "datelist = datelist[2:]\n",
    "for (fromdate, todate) in zip(datelist[0:-1], datelist[1:]):\n",
    "    print(fromdate, todate)\n",
    "    new = metadataDB.harvest.harvest(fromdate, todate)\n",
    "    try:\n",
    "        print \"%i articles added\" % new\n",
    "    except:\n",
    "        pass\n",
    "    #time.sleep(10)"
   ]
  },
  {
   "cell_type": "code",
   "execution_count": null,
   "metadata": {
    "collapsed": true
   },
   "outputs": [],
   "source": [
    "# (datetime.date(2015, 12, 15), datetime.date(2015, 12, 22))"
   ]
  }
 ],
 "metadata": {
  "kernelspec": {
   "display_name": "Python 2",
   "language": "python",
   "name": "python2"
  },
  "language_info": {
   "codemirror_mode": {
    "name": "ipython",
    "version": 2
   },
   "file_extension": ".py",
   "mimetype": "text/x-python",
   "name": "python",
   "nbconvert_exporter": "python",
   "pygments_lexer": "ipython2",
   "version": "2.7.11"
  }
 },
 "nbformat": 4,
 "nbformat_minor": 0
}
