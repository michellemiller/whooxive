{
 "cells": [
  {
   "cell_type": "code",
   "execution_count": 142,
   "metadata": {
    "collapsed": false
   },
   "outputs": [],
   "source": [
    "%matplotlib inline\n",
    "import dateutil.parser\n",
    "import datetime\n",
    "import sqlalchemy\n",
    "import urllib2\n",
    "import xml\n",
    "import xml.etree.ElementTree\n",
    "from lxml import etree\n",
    "from lxml import objectify\n",
    "from bs4 import BeautifulSoup\n",
    "import metadataDB\n",
    "import metadataDB.addArticle\n",
    "import metadataDB.getmetadata\n",
    "#import pyoai"
   ]
  },
  {
   "cell_type": "code",
   "execution_count": 2,
   "metadata": {
    "collapsed": false
   },
   "outputs": [
    {
     "data": {
      "text/plain": [
       "'1404.5631'"
      ]
     },
     "execution_count": 2,
     "metadata": {},
     "output_type": "execute_result"
    }
   ],
   "source": [
    "'1404.5631'"
   ]
  },
  {
   "cell_type": "markdown",
   "metadata": {},
   "source": [
    "arXiv's own API"
   ]
  },
  {
   "cell_type": "code",
   "execution_count": 3,
   "metadata": {
    "collapsed": false
   },
   "outputs": [],
   "source": [
    "testurl = 'http://export.arxiv.org/api/query?id_list=1404.5631v1'\n",
    "opener = urllib2.build_opener()    \n",
    "opener.addheaders = [('User-agent', 'Mozilla/5.0')]\n",
    "#try:\n",
    "response = opener.open(testurl)\n",
    "#         except urllib2.HTTPError, e:\n",
    "#             try:\n",
    "#                 response = opener.open(url2)\n",
    "#             except urllib2.HTTPError:\n",
    "#                 pass\n",
    "\n",
    "\n",
    "html = response.read()\n",
    "response.close()\n",
    "soup = BeautifulSoup(html)"
   ]
  },
  {
   "cell_type": "code",
   "execution_count": 4,
   "metadata": {
    "collapsed": false
   },
   "outputs": [
    {
     "name": "stdout",
     "output_type": "stream",
     "text": [
      "<?xml version=\"1.0\" encoding=\"UTF-8\"?>\n",
      "<feed xmlns=\"http://www.w3.org/2005/Atom\">\n",
      "  <link href=\"http://arxiv.org/api/query?search_query%3D%26id_list%3D1404.5631v1%26start%3D0%26max_results%3D10\" rel=\"self\" type=\"application/atom+xml\"/>\n",
      "  <title type=\"html\">ArXiv Query: search_query=&amp;id_list=1404.5631v1&amp;start=0&amp;max_results=10</title>\n",
      "  <id>http://arxiv.org/api/7DXjTgMBOCY0WEb+xQ/BH+DpGtk</id>\n",
      "  <updated>2016-01-17T00:00:00-05:00</updated>\n",
      "  <opensearch:totalResults xmlns:opensearch=\"http://a9.com/-/spec/opensearch/1.1/\">1</opensearch:totalResults>\n",
      "  <opensearch:startIndex xmlns:opensearch=\"http://a9.com/-/spec/opensearch/1.1/\">0</opensearch:startIndex>\n",
      "  <opensearch:itemsPerPage xmlns:opensearch=\"http://a9.com/-/spec/opensearch/1.1/\">10</opensearch:itemsPerPage>\n",
      "  <entry>\n",
      "    <id>http://arxiv.org/abs/1404.5631v1</id>\n",
      "    <updated>2014-04-22T20:00:40Z</updated>\n",
      "    <published>2014-04-22T20:00:40Z</published>\n",
      "    <title>Coherent magnon optics in a ferromagnetic spinor Bose-Einstein\n",
      "  condensate</title>\n",
      "    <summary>  We measure the mass, gap, and magnetic moment of a magnon in the\n",
      "ferromagnetic $F=1$ spinor Bose-Einstein condensate of $^{87}$Rb. We find an\n",
      "unusually heavy magnon mass of $1.038(2)_\\mathrm{stat}(8)_\\mathrm{sys}$ times\n",
      "the atomic mass, as determined by interfering standing and running coherent\n",
      "magnon waves within the dense and trapped condensed gas. This measurement is\n",
      "shifted significantly from theoretical estimates. The magnon energy gap of\n",
      "$h\\times 2.5(1)_\\mathrm{stat}(2)_\\mathrm{sys}\\;\\mathrm{Hz}$ and the effective\n",
      "magnetic moment of $-1.04(2)_\\mathrm{stat}(8)\\,\\mu_\\textrm{bare}$ times the\n",
      "atomic magnetic moment are consistent with mean-field predictions. The nonzero\n",
      "energy gap arises from magnetic dipole-dipole interactions.\n",
      "</summary>\n",
      "    <author>\n",
      "      <name>G. Edward Marti</name>\n",
      "    </author>\n",
      "    <author>\n",
      "      <name>Andrew MacRae</name>\n",
      "    </author>\n",
      "    <author>\n",
      "      <name>Ryan Olf</name>\n",
      "    </author>\n",
      "    <author>\n",
      "      <name>Sean Lourette</name>\n",
      "    </author>\n",
      "    <author>\n",
      "      <name>Fang Fang</name>\n",
      "    </author>\n",
      "    <author>\n",
      "      <name>Dan M. Stamper-Kurn</name>\n",
      "    </author>\n",
      "    <arxiv:doi xmlns:arxiv=\"http://arxiv.org/schemas/atom\">10.1103/PhysRevLett.113.155302</arxiv:doi>\n",
      "    <link title=\"doi\" href=\"http://dx.doi.org/10.1103/PhysRevLett.113.155302\" rel=\"related\"/>\n",
      "    <arxiv:comment xmlns:arxiv=\"http://arxiv.org/schemas/atom\">5 pages, 3 figures</arxiv:comment>\n",
      "    <arxiv:journal_ref xmlns:arxiv=\"http://arxiv.org/schemas/atom\">Phys. Rev. Lett. 113, 155302 (2014)</arxiv:journal_ref>\n",
      "    <link href=\"http://arxiv.org/abs/1404.5631v1\" rel=\"alternate\" type=\"text/html\"/>\n",
      "    <link title=\"pdf\" href=\"http://arxiv.org/pdf/1404.5631v1\" rel=\"related\" type=\"application/pdf\"/>\n",
      "    <arxiv:primary_category xmlns:arxiv=\"http://arxiv.org/schemas/atom\" term=\"cond-mat.quant-gas\" scheme=\"http://arxiv.org/schemas/atom\"/>\n",
      "    <category term=\"cond-mat.quant-gas\" scheme=\"http://arxiv.org/schemas/atom\"/>\n",
      "    <category term=\"physics.atom-ph\" scheme=\"http://arxiv.org/schemas/atom\"/>\n",
      "    <category term=\"quant-ph\" scheme=\"http://arxiv.org/schemas/atom\"/>\n",
      "  </entry>\n",
      "</feed>\n",
      "\n"
     ]
    }
   ],
   "source": [
    "print html"
   ]
  },
  {
   "cell_type": "markdown",
   "metadata": {},
   "source": [
    "The OAI-PMH interface\n",
    "\n",
    "Remember to handle XML vulnerabilities!\n",
    "\n",
    "https://docs.python.org/2/library/xml.html#xml-vulnerabilities"
   ]
  },
  {
   "cell_type": "code",
   "execution_count": 5,
   "metadata": {
    "collapsed": false
   },
   "outputs": [
    {
     "data": {
      "text/plain": [
       "'http://export.arxiv.org/oai2?verb=GetRecord&identifier=oai:arXiv.org:0804.2273&metadataPrefix=arXiv'"
      ]
     },
     "execution_count": 5,
     "metadata": {},
     "output_type": "execute_result"
    }
   ],
   "source": [
    "# A single record\n",
    "'http://export.arxiv.org/oai2?verb=GetRecord&identifier=oai:arXiv.org:0804.2273&metadataPrefix=arXiv'"
   ]
  },
  {
   "cell_type": "code",
   "execution_count": 157,
   "metadata": {
    "collapsed": false
   },
   "outputs": [],
   "source": [
    "#testurl = 'http://export.arxiv.org/oai2?verb=ListRecords&set=physics:cond-mat&from=2015-01-01&until=2015-02-01&metadataPrefix=arXiv'\n",
    "testurl = 'http://export.arxiv.org/oai2?verb=ListRecords&set=physics&from=2015-01-01&until=2015-02-01&metadataPrefix=arXiv'\n",
    "#testurl = 'http://export.arxiv.org/oai2?verb=ListRecords&set=math&from=2015-01-01&until=2015-01-03&metadataPrefix=arXiv'\n",
    "opener = urllib2.build_opener()    \n",
    "opener.addheaders = [('User-agent', 'Mozilla/5.0')]\n",
    "#try:\n",
    "# response = opener.open(testurl)\n",
    "# html = response.read()\n",
    "# response.close()"
   ]
  },
  {
   "cell_type": "code",
   "execution_count": 158,
   "metadata": {
    "collapsed": false
   },
   "outputs": [],
   "source": [
    "response = opener.open(testurl)\n",
    "# html = response.read()\n",
    "# response.close()"
   ]
  },
  {
   "cell_type": "code",
   "execution_count": 159,
   "metadata": {
    "collapsed": true
   },
   "outputs": [],
   "source": [
    "html = response.read()\n",
    "response.close()"
   ]
  },
  {
   "cell_type": "code",
   "execution_count": 160,
   "metadata": {
    "collapsed": false
   },
   "outputs": [
    {
     "name": "stdout",
     "output_type": "stream",
     "text": [
      "<?xml version=\"1.0\" encoding=\"UTF-8\"?>\n",
      "<OAI-PMH xmlns=\"http://www.openarchives.org/OAI/2.0/\" xmlns:xsi=\"http://www.w3.org/2001/XMLSchema-instance\" xsi:schemaLocation=\"http://www.openarchives.org/OAI/2.0/ http://www.openarchives.org/OAI/2.0/OAI-PMH.xsd\">\n",
      "<responseDate>2016-01-18T03:37:43Z</responseDate>\n",
      "<request verb=\"ListRecords\" until=\"2015-01-27\" from=\"2014-01-26\" metadataPrefix=\"arXiv\" set=\"physics:cond-mat\">http://export.arxiv.org/oai2</request>\n",
      "<ListRecords>\n",
      "<record>\n",
      "<header>\n",
      " <identifier>oai:arXiv.org:0704.3713</identifier>\n",
      " <datestamp>2014-02-11</datestamp>\n",
      " <setSpec>physics:cond-mat</setSpec>\n",
      "</header>\n",
      "<metadata>\n",
      " <arXiv xmlns=\"http://arxiv.org/OAI/arXiv/\" xmlns:xsi=\"http://www.w3.org/2001/XMLSchema-instance\" xsi:schemaLocation=\"http://arxiv.org/OAI/arXiv/ http://arxiv.org/OAI/arXiv.xsd\">\n",
      " <id>0704.3713</id><created>2007-04-27</created><updated>2008-01-04</updated><authors><author><keyname>Choudhary</keyname><forenames>S. K.</forenames></author><author><keyname>Gupta</keyname><forenames>A. K.</forenames></author></authors><title>Shear-strain-induced Spatially Varying Super-lattice Structures on\n",
      "  Graphite studied by STM</title><categories>cond-mat.other</categories><comments>14 pages, 6 figures</comments><doi>10.1088/0953-8984/20/22/225008</doi><abstract>  We report on the Scanning Tunneling Microscope (STM) observation of linear\n",
      "fringes together with spatially varying super-lattice structures on (0001)\n",
      "graphite (HOPG) surface. The structure, present in a region of a layer bounded\n",
      "by two straight carbon fibers, varies from a hexagonal lattice of 6nm\n",
      "periodicity to nearly a square lattice of 13nm periodicity. It then changes\n",
      "into a one-dimensional (1-D) fringe-like pattern before relaxing into a\n",
      "pattern-free region. We attribute this surface structure to a shear strain\n",
      "giving rise to a spatially varying rotation of the affected graphite layer\n",
      "relative to the bulk substrate. We propose a simple method to understand these\n",
      "moire patterns by looking at the fixed \n"
     ]
    }
   ],
   "source": [
    "print html[0:2000]"
   ]
  },
  {
   "cell_type": "code",
   "execution_count": 161,
   "metadata": {
    "collapsed": false
   },
   "outputs": [],
   "source": [
    "#e = xml.etree.ElementTree.fromstring(html)\n",
    "e = etree.fromstring(html)"
   ]
  },
  {
   "cell_type": "code",
   "execution_count": 134,
   "metadata": {
    "collapsed": false
   },
   "outputs": [
    {
     "name": "stdout",
     "output_type": "stream",
     "text": [
      "<Element {http://arxiv.org/OAI/arXiv/}arXiv at 0x1088c75a8>\n",
      "id - 0712.4067, 0\n",
      "created - 2007-12-25, 0\n",
      "authors - None, 2\n",
      "title - Plasmonic nature of van der Waals forces between nanoparticles, 0\n",
      "categories - cond-mat.other, 0\n",
      "comments - 4 pages 5 figures, 0\n",
      "journal-ref - Plasmonics 4, 31-36 (2009), 0\n",
      "doi - 10.1007/s11468-008-9074-y, 0\n",
      "abstract -   We propose a new approach to calculate van der Waals forces between\n",
      "nanoparticles where the van der Waals energy can be reduced to the energy of\n",
      "elementary surface plasmon oscillations in nanoparticles. The general theory is\n",
      "applied to describe the interaction between 2 metallic nanoparticles and\n",
      "between a nanoparticle and a perfectly conducting plane. Our results could be\n",
      "used to prove experimentally the existence of plasmonic molecules and to\n",
      "elaborate new control mechanisms for the adherence of nanoparticles between\n",
      "each other or onto surfaces.\n",
      ", 0\n",
      "id - 1104.3147, 0\n",
      "created - 2011-04-15, 0\n",
      "updated - 2011-12-13, 0\n",
      "authors - None, 4\n",
      "title - Spin squeezing inequalities for arbitrary spin, 0\n",
      "categories - quant-ph cond-mat.quant-gas physics.atom-ph, 0\n",
      "comments - 4 pages + 2 page supplement, no figures, revtex4; v2: more detailed\n",
      "  explanation, some proofs were moved to the Appendix, published version, 0\n",
      "journal-ref - Phys. Rev. Lett. 107, 240502 (2011), 0\n",
      "doi - 10.1103/PhysRevLett.107.240502, 0\n",
      "license - http://arxiv.org/licenses/nonexclusive-distrib/1.0/, 0\n",
      "abstract -   We determine the complete set of generalized spin squeezing inequalities,\n",
      "given in terms of the collective angular momentum components, for particles\n",
      "with an arbitrary spin. They can be used for the experimental detection of\n",
      "entanglement in an ensemble in which the particles cannot be individually\n",
      "addressed. We also present a large set of criteria involving collective\n",
      "observables different from the angular momentum coordinates. We show that some\n",
      "of the inequalities can be used to detect k-particle entanglement and bound\n",
      "entanglement.\n",
      ", 0\n",
      "id - 1203.3797, 0\n",
      "created - 2012-03-16, 0\n",
      "updated - 2013-10-21, 0\n",
      "authors - None, 5\n",
      "title - Macroscopic singlet states for gradient magnetometry, 0\n",
      "categories - quant-ph cond-mat.quant-gas physics.atom-ph, 0\n",
      "comments - 15 pages including 5 figures + 7 pages supplement, revtex4; published\n",
      "  version, 0\n",
      "journal-ref - Phys. Rev. A 88, 013626 (2013), 0\n",
      "doi - 10.1103/PhysRevA.88.013626, 0\n",
      "license - http://arxiv.org/licenses/nonexclusive-distrib/1.0/, 0\n",
      "abstract -   We present a method for measuring magnetic field gradients with macroscopic\n",
      "singlet states realized with ensembles of spin-j particles. While the singlet\n",
      "state is completely insensitive to homogeneous magnetic fields, the variance of\n",
      "its collective spin components is highly sensitive to field gradients. We\n",
      "compute the dynamics of this variance analytically for a chain of spins and\n",
      "also for an ensemble of particles with a given density distribution. We find an\n",
      "upper bound on how precisely the field gradient can be estimated from the\n",
      "measured data. Based on our calculations, differential magnetometry can be\n",
      "carried out with cold atomic ensembles using a multipartite singlet state\n",
      "obtained via spin squeezing. On the other hand, comparing the metrological\n",
      "properties of the experimentally prepared state to that of the ideal singlet\n",
      "can be used as further evidence that a singlet state has indeed been created.\n",
      ", 0\n"
     ]
    }
   ],
   "source": [
    "stupidPrefix = '{http://arxiv.org/OAI/arXiv/}'\n",
    "i = 0\n",
    "print e[2][0][1][0]\n",
    "for item in e.iterfind('.//' + stupidPrefix + 'arXiv'):\n",
    "    #print item['{http://arxiv.org/OAI/arXiv/}id']\n",
    "    for child in item.getchildren():\n",
    "        print \"%s - %s, %i\" % (child.tag.replace(stupidPrefix, ''), child.text, len(child.getchildren()))\n",
    "    i+= 1\n",
    "    if i > 2:\n",
    "        break"
   ]
  },
  {
   "cell_type": "code",
   "execution_count": 135,
   "metadata": {
    "collapsed": false
   },
   "outputs": [
    {
     "name": "stdout",
     "output_type": "stream",
     "text": [
      "<Element {http://arxiv.org/OAI/arXiv/}arXiv at 0x10886ac20>\n",
      "{'updated': '2013-10-21', 'doi': '10.1103/PhysRevA.88.013626', 'title': 'Macroscopic singlet states for gradient magnetometry', 'abstract': '  We present a method for measuring magnetic field gradients with macroscopic\\nsinglet states realized with ensembles of spin-j particles. While the singlet\\nstate is completely insensitive to homogeneous magnetic fields, the variance of\\nits collective spin components is highly sensitive to field gradients. We\\ncompute the dynamics of this variance analytically for a chain of spins and\\nalso for an ensemble of particles with a given density distribution. We find an\\nupper bound on how precisely the field gradient can be estimated from the\\nmeasured data. Based on our calculations, differential magnetometry can be\\ncarried out with cold atomic ensembles using a multipartite singlet state\\nobtained via spin squeezing. On the other hand, comparing the metrological\\nproperties of the experimentally prepared state to that of the ideal singlet\\ncan be used as further evidence that a singlet state has indeed been created.\\n', 'created': '2012-03-16', 'journal_ref': 'Phys. Rev. A 88, 013626 (2013)', 'comments': '15 pages including 5 figures + 7 pages supplement, revtex4; published\\n  version', 'authors': [{'affiliation': None, 'name': 'Inigo Urizar-Lanz'}, {'affiliation': None, 'name': 'Philipp Hyllus'}, {'affiliation': None, 'name': 'Inigo L. Egusquiza'}, {'affiliation': None, 'name': 'Morgan W. Mitchell'}, {'affiliation': None, 'name': 'Geza Toth'}], 'id': '1203.3797', 'categories': ['quant-ph', 'cond-mat.quant-gas', 'physics.atom-ph']}\n"
     ]
    }
   ],
   "source": [
    "print item\n",
    "\n",
    "keywords = ['id',\n",
    "            'created',\n",
    "            'updated',\n",
    "            'title',\n",
    "            'categories',\n",
    "            'comments',\n",
    "            'doi',\n",
    "            'abstract',\n",
    "            'journal-ref']\n",
    "\n",
    "currentDict = {}\n",
    "for key in keywords:\n",
    "    try:\n",
    "        currentDict[key.replace('-','_')] = item.find(stupidPrefix + key).text\n",
    "    except:\n",
    "        currentDict[key.replace('-','_')] = None\n",
    "        \n",
    "currentDict['authors'] = []\n",
    "for author in item.find(stupidPrefix + 'authors').getchildren():\n",
    "    currentAuthor = {'name': author[1].text + ' ' + author[0].text}\n",
    "    try:\n",
    "        currentAuthor['affiliation'] = author[3]\n",
    "    except:\n",
    "        currentAuthor['affiliation'] = None\n",
    "    currentDict['authors'].append(currentAuthor)\n",
    "\n",
    "currentDict['categories'] = currentDict['categories'].split(' ')\n",
    "\n",
    "print currentDict\n",
    "#for child in item.find(stupidPrefix + 'authors'):\n",
    "#    print child.getchildren()"
   ]
  },
  {
   "cell_type": "code",
   "execution_count": 136,
   "metadata": {
    "collapsed": false
   },
   "outputs": [
    {
     "name": "stdout",
     "output_type": "stream",
     "text": [
      "<Element {http://arxiv.org/OAI/arXiv/}arXiv at 0x1087ce998>\n",
      "0712.4067\n",
      "1104.3147\n",
      "1203.3797\n",
      "1204.1593\n",
      "1206.5649\n",
      "1207.7278\n",
      "1210.0033\n",
      "1212.4390\n",
      "1212.5479\n",
      "1212.6238\n",
      "1302.2450\n",
      "1307.1323\n",
      "1307.2805\n",
      "1308.3698\n",
      "1310.2269\n",
      "1310.5312\n",
      "1311.0019\n",
      "1312.2213\n",
      "1401.4076\n",
      "1401.4319\n",
      "1401.8156\n",
      "1402.6104\n",
      "1403.0049\n",
      "1403.2008\n",
      "1403.2259\n",
      "1404.0719\n",
      "1404.3602\n",
      "1404.5216\n",
      "1404.5631\n",
      "1404.6177\n",
      "1405.0385\n",
      "1405.4878\n",
      "1405.5693\n",
      "1405.7090\n",
      "1405.7689\n",
      "1406.1674\n",
      "1406.4675\n",
      "1406.6876\n",
      "1407.0647\n",
      "1407.4564\n",
      "1407.5365\n",
      "1407.5805\n",
      "1407.7384\n",
      "1407.7397\n",
      "1408.0069\n",
      "1408.0966\n",
      "1408.1186\n",
      "1408.1875\n",
      "1408.2838\n",
      "1408.3675\n",
      "1408.3681\n",
      "1408.4350\n",
      "1408.5004\n",
      "1408.5884\n",
      "1409.1173\n",
      "1409.1277\n",
      "1409.4277\n",
      "1409.5070\n",
      "1409.5232\n",
      "1409.5643\n",
      "1409.7359\n",
      "1409.7893\n",
      "1409.8590\n",
      "1410.1145\n",
      "1410.3850\n",
      "1410.3995\n",
      "1410.5528\n",
      "1410.5765\n",
      "1410.6003\n",
      "1410.8778\n",
      "1411.1587\n",
      "1411.3331\n",
      "1411.5339\n",
      "1411.6315\n",
      "1411.6468\n",
      "1412.4817\n",
      "1412.5407\n",
      "1412.5818\n",
      "1412.7698\n",
      "1501.01942\n",
      "1501.02065\n",
      "1501.03597\n",
      "1501.03650\n",
      "1501.04086\n",
      "1501.04530\n",
      "1501.05009\n",
      "1501.05663\n",
      "1501.05711\n",
      "1501.05726\n",
      "1501.05729\n",
      "1501.05735\n",
      "1501.05743\n",
      "1501.05765\n",
      "1501.05774\n",
      "1501.05787\n",
      "1501.05796\n",
      "1501.05835\n",
      "1501.05862\n",
      "1501.05868\n",
      "1501.05884\n",
      "1501.05906\n",
      "1501.05972\n",
      "1501.05982\n",
      "1501.05984\n",
      "1501.05993\n",
      "1501.06040\n",
      "1501.06064\n",
      "1501.06078\n",
      "1501.06081\n",
      "1501.06138\n",
      "1501.06139\n",
      "1501.06144\n",
      "1501.06154\n",
      "1501.06156\n",
      "1501.06196\n",
      "1501.06203\n",
      "1501.06217\n",
      "1501.06292\n",
      "1501.06334\n",
      "1501.06335\n",
      "1501.06356\n",
      "1501.06358\n",
      "1501.06378\n",
      "1501.06399\n",
      "1501.06421\n",
      "1501.06437\n",
      "1501.06438\n",
      "1501.06458\n",
      "1501.06486\n",
      "1501.06514\n",
      "1501.06531\n"
     ]
    }
   ],
   "source": [
    "stupidPrefix = '{http://arxiv.org/OAI/arXiv/}'\n",
    "i = 0\n",
    "print e[2][0][1][0]\n",
    "for item in e.iterfind('.//' + stupidPrefix + 'arXiv'):\n",
    "    print item.find(stupidPrefix+'id').text\n",
    "#     for child in item.getchildren():\n",
    "#         print child.tag\n",
    "#         print \"%s - %s, %i\" % (child.tag.replace(stupidPrefix, ''), child.text, len(child.getchildren()))"
   ]
  },
  {
   "cell_type": "code",
   "execution_count": 137,
   "metadata": {
    "collapsed": false
   },
   "outputs": [
    {
     "data": {
      "text/plain": [
       "{'abstract': '  We present a method for measuring magnetic field gradients with macroscopic\\nsinglet states realized with ensembles of spin-j particles. While the singlet\\nstate is completely insensitive to homogeneous magnetic fields, the variance of\\nits collective spin components is highly sensitive to field gradients. We\\ncompute the dynamics of this variance analytically for a chain of spins and\\nalso for an ensemble of particles with a given density distribution. We find an\\nupper bound on how precisely the field gradient can be estimated from the\\nmeasured data. Based on our calculations, differential magnetometry can be\\ncarried out with cold atomic ensembles using a multipartite singlet state\\nobtained via spin squeezing. On the other hand, comparing the metrological\\nproperties of the experimentally prepared state to that of the ideal singlet\\ncan be used as further evidence that a singlet state has indeed been created.\\n',\n",
       " 'authors': [{'affiliation': None, 'name': 'Inigo Urizar-Lanz'},\n",
       "  {'affiliation': None, 'name': 'Philipp Hyllus'},\n",
       "  {'affiliation': None, 'name': 'Inigo L. Egusquiza'},\n",
       "  {'affiliation': None, 'name': 'Morgan W. Mitchell'},\n",
       "  {'affiliation': None, 'name': 'Geza Toth'}],\n",
       " 'categories': ['quant-ph', 'cond-mat.quant-gas', 'physics.atom-ph'],\n",
       " 'comments': '15 pages including 5 figures + 7 pages supplement, revtex4; published\\n  version',\n",
       " 'created': '2012-03-16',\n",
       " 'doi': '10.1103/PhysRevA.88.013626',\n",
       " 'id': '1203.3797',\n",
       " 'journal_ref': 'Phys. Rev. A 88, 013626 (2013)',\n",
       " 'title': 'Macroscopic singlet states for gradient magnetometry',\n",
       " 'updated': '2013-10-21'}"
      ]
     },
     "execution_count": 137,
     "metadata": {},
     "output_type": "execute_result"
    }
   ],
   "source": [
    "currentDict"
   ]
  },
  {
   "cell_type": "code",
   "execution_count": 139,
   "metadata": {
    "collapsed": false
   },
   "outputs": [
    {
     "name": "stdout",
     "output_type": "stream",
     "text": [
      "['updated', 'doi', 'title', 'abstract', 'created', 'journal_ref', 'comments', 'authors', 'id', 'categories']\n",
      "1203.3797\n",
      "False\n"
     ]
    }
   ],
   "source": [
    "#reload(metadataDB)\n",
    "#reload(metadataDB.declare)\n",
    "#metadataDB.declare\n",
    "reload(metadataDB.addArticle)\n",
    "metadataDB.addArticle.addArticle(currentDict)"
   ]
  },
  {
   "cell_type": "code",
   "execution_count": 115,
   "metadata": {
    "collapsed": false,
    "scrolled": true
   },
   "outputs": [
    {
     "data": {
      "text/plain": [
       "[{'affiliation': None, 'name': 'Giuseppe Vitagliano'},\n",
       " {'affiliation': None, 'name': 'Philipp Hyllus'},\n",
       " {'affiliation': None, 'name': 'Inigo L. Egusquiza'},\n",
       " {'affiliation': None, 'name': 'Geza Toth'}]"
      ]
     },
     "execution_count": 115,
     "metadata": {},
     "output_type": "execute_result"
    }
   ],
   "source": [
    "currentDict['authors']"
   ]
  },
  {
   "cell_type": "code",
   "execution_count": 63,
   "metadata": {
    "collapsed": false
   },
   "outputs": [
    {
     "data": {
      "text/plain": [
       "datetime.datetime(2016, 1, 17, 0, 0)"
      ]
     },
     "execution_count": 63,
     "metadata": {},
     "output_type": "execute_result"
    }
   ],
   "source": [
    "dateutil.parser.parse('2011-04-05')"
   ]
  },
  {
   "cell_type": "code",
   "execution_count": 156,
   "metadata": {
    "collapsed": false
   },
   "outputs": [
    {
     "data": {
      "text/plain": [
       "'http://export.arxiv.org/oai2?verb=ListRecords&set=2015-01-26&from=2015-01-28&until=physics:cond-mat&metadataPrefix=arXiv'"
      ]
     },
     "execution_count": 156,
     "metadata": {},
     "output_type": "execute_result"
    }
   ],
   "source": [
    "reload(metadataDB.getmetadata)\n",
    "metadataDB.getmetadata.constructURL()"
   ]
  },
  {
   "cell_type": "code",
   "execution_count": 153,
   "metadata": {
    "collapsed": false
   },
   "outputs": [
    {
     "data": {
      "text/plain": [
       "'2015-01-06'"
      ]
     },
     "execution_count": 153,
     "metadata": {},
     "output_type": "execute_result"
    }
   ],
   "source": [
    "from datetime import date\n",
    "a = date(2015,1,6)\n",
    "a.isoformat()"
   ]
  },
  {
   "cell_type": "code",
   "execution_count": null,
   "metadata": {
    "collapsed": true
   },
   "outputs": [],
   "source": []
  }
 ],
 "metadata": {
  "kernelspec": {
   "display_name": "Python 2",
   "language": "python",
   "name": "python2"
  },
  "language_info": {
   "codemirror_mode": {
    "name": "ipython",
    "version": 2
   },
   "file_extension": ".py",
   "mimetype": "text/x-python",
   "name": "python",
   "nbconvert_exporter": "python",
   "pygments_lexer": "ipython2",
   "version": "2.7.11"
  }
 },
 "nbformat": 4,
 "nbformat_minor": 0
}
