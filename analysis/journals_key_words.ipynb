{
 "cells": [
  {
   "cell_type": "markdown",
   "metadata": {},
   "source": [
    "Find articles that made it to certain journals and compare key words."
   ]
  },
  {
   "cell_type": "code",
   "execution_count": 81,
   "metadata": {
    "collapsed": false
   },
   "outputs": [],
   "source": [
    "#Need to add parent directoy to sys.path to find 'metadataDB'\n",
    "import sys\n",
    "sys.path.append('../')\n",
    "\n",
    "%matplotlib inline\n",
    "import matplotlib.pyplot as plt \n",
    "import time\n",
    "import numpy as np\n",
    "\n",
    "# Natural language processing toolkit\n",
    "# To use this, run nltk.download() and download 'stopwords'\n",
    "from nltk.corpus import stopwords\n",
    "s=stopwords.words('english') + ['']\n",
    "\n",
    "# SQL\n",
    "from sqlalchemy import create_engine\n",
    "from sqlalchemy.orm import sessionmaker\n",
    "from metadataDB.declareDatabase import *\n",
    "from sqlalchemy import or_\n",
    "\n",
    "engine = create_engine(\"sqlite:///../arXiv_metadata.db\", echo=False)\n",
    "Base.metadata.bind = engine\n",
    "DBsession = sessionmaker(bind=engine)\n",
    "session = DBsession()"
   ]
  },
  {
   "cell_type": "code",
   "execution_count": 2,
   "metadata": {
    "collapsed": false
   },
   "outputs": [],
   "source": [
    "query = session.query(Article).filter(or_(Article.journal_ref.like('Physics Review Letters%'),\n",
    "                                          Article.journal_ref.like('Phys. Rev. Lett.%'),\n",
    "                                          Article.journal_ref.like('PRL%'),\n",
    "                                          ))\n",
    "# query = session.query(Article).filter(Article.journal_ref.like('PRL%'))\n",
    "resultPRL = query.all()"
   ]
  },
  {
   "cell_type": "code",
   "execution_count": 3,
   "metadata": {
    "collapsed": false
   },
   "outputs": [],
   "source": [
    "query = session.query(Article).filter(or_(Article.journal_ref.like('Nature%'),\n",
    "                                          Article.journal_ref.like('Nat.%'),\n",
    "                                          Article.journal_ref.like('Science%')))\n",
    "# query = session.query(Article).filter(Article.journal_ref.like('PRL%'))\n",
    "resultNatureScience = query.all()"
   ]
  },
  {
   "cell_type": "code",
   "execution_count": 118,
   "metadata": {
    "collapsed": false
   },
   "outputs": [
    {
     "name": "stdout",
     "output_type": "stream",
     "text": [
      "76.333514 sec., 3652 abstracts, 142236 words\n",
      "48 abstracts per second\n",
      "1863 words per second\n"
     ]
    }
   ],
   "source": [
    "abstract = dict()\n",
    "abstractPRL = dict()\n",
    "\n",
    "numWords = 0\n",
    "numAbstracts = len(resultPRL)\n",
    "\n",
    "start = time.time()\n",
    "for item in resultPRL:\n",
    "#     print item.abstract\n",
    "    for word in set((item.abstract).replace('\\n',' ') \\\n",
    "                                   .replace('\\\\','') \\\n",
    "                                   .replace('(','') \\\n",
    "                                   .replace(')','') \\\n",
    "                                   .split(' ')):\n",
    "        if (word.lower() not in s) and (word.isalpha()):\n",
    "            if word in abstractPRL.keys():\n",
    "                abstractPRL[word] += 1\n",
    "            else:\n",
    "                abstractPRL[word] =1\n",
    "            if word in abstract.keys():\n",
    "                abstract[word] -= 1./numAbstracts\n",
    "            else:\n",
    "                abstract[word] = -1./numAbstracts\n",
    "            numWords += 1\n",
    "\n",
    "total_time = time.time() - start\n",
    "print \"%f sec., %i abstracts, %i words\" % (total_time, numAbstracts, numWords)\n",
    "print \"%0.0f abstracts per second\" % (numAbstracts/total_time)\n",
    "print \"%0.0f words per second\" % (numWords/total_time)"
   ]
  },
  {
   "cell_type": "code",
   "execution_count": 119,
   "metadata": {
    "collapsed": false
   },
   "outputs": [
    {
     "name": "stdout",
     "output_type": "stream",
     "text": [
      "24.557072 sec., 630 abstracts, 63640 words\n",
      "26 abstracts per second\n",
      "2592 words per second\n"
     ]
    }
   ],
   "source": [
    "abstractNature = dict()\n",
    "titleNature = dict()\n",
    "\n",
    "numWords = 0\n",
    "numAbstracts = len(resultNatureScience)\n",
    "\n",
    "start = time.time()\n",
    "for item in resultNatureScience:\n",
    "#     print item.abstract\n",
    "    for word in set((item.abstract).replace('\\n',' ') \\\n",
    "                                   .replace('\\\\','') \\\n",
    "                                   .replace('(','') \\\n",
    "                                   .replace(')','') \\\n",
    "                                   .split(' ')):\n",
    "        if (word.lower() not in s) and (word.isalpha()):\n",
    "            if word in abstractNature.keys():\n",
    "                abstractNature[word] += 1\n",
    "            else:\n",
    "                abstractNature[word] =1\n",
    "            if word in abstract.keys():\n",
    "                abstract[word] += 1./numAbstracts\n",
    "            else:\n",
    "                abstract[word] = 1./numAbstracts\n",
    "        numWords += 1\n",
    "\n",
    "total_time = time.time() - start\n",
    "print \"%f sec., %i abstracts, %i words\" % (total_time, numAbstracts, numWords)\n",
    "print \"%0.0f abstracts per second\" % (numAbstracts/total_time)\n",
    "print \"%0.0f words per second\" % (numWords/total_time)"
   ]
  },
  {
   "cell_type": "code",
   "execution_count": 120,
   "metadata": {
    "collapsed": false
   },
   "outputs": [],
   "source": [
    "# Want to sort dictionary by values. Convert it to a list of tuples so we can use python's sort functions\n",
    "wordslist = sorted([(key, val) for key, val in abstract.iteritems()], key=lambda x: x[1])"
   ]
  },
  {
   "cell_type": "code",
   "execution_count": 121,
   "metadata": {
    "collapsed": false
   },
   "outputs": [
    {
     "name": "stdout",
     "output_type": "stream",
     "text": [
      "[(u'study', -0.0868026217423821), (u'model', -0.06971870164641344), (u'find', -0.04759470783567195), (u'numerical', -0.03993549957405402), (u'finite', -0.03638015264521304), (u'behavior', -0.03600375528086367), (u'investigate', -0.034245205931953085), (u'consider', -0.03319251030094417), (u'leads', -0.031832090265825404), (u'dependence', -0.031404405500791044), (u'discovery', 0.07399989568664267), (u'observations', 0.076785062327231), (u'quantum', 0.07694500947512402), (u'stars', 0.07854361167614177), (u'information', 0.08410525217754118), (u'high', 0.09032145899615784), (u'may', 0.09104469827361367), (u'many', 0.0928162867921903), (u'matter', 0.11422573410525204), (u'new', 0.12026634677237066)]\n"
     ]
    }
   ],
   "source": [
    "words_best_and_worst = wordslist[0:10] + wordslist[-11:-1]\n",
    "print words_best_and_worst"
   ]
  },
  {
   "cell_type": "code",
   "execution_count": 122,
   "metadata": {
    "collapsed": false
   },
   "outputs": [
    {
     "data": {
      "image/png": "[encoded data removed]",
      "text/plain": [
       "<matplotlib.figure.Figure at 0x1127ae790>"
      ]
     },
     "metadata": {},
     "output_type": "display_data"
    }
   ],
   "source": [
    "words = [x for (x,y) in words_best_and_worst]\n",
    "vals = np.array([y for (x,y) in words_best_and_worst])\n",
    "\n",
    "\n",
    "ind = np.arange(0, len(words))\n",
    "c = ['b' if x > 0 else 'r' for x in vals]\n",
    "\n",
    "plt.figure(frameon=False, figsize=(6,8))\n",
    "plt.barh(ind - 0.5,\n",
    "         vals,\n",
    "         color=c)\n",
    "plt.yticks(ind, words)\n",
    "plt.ylim(ind[0]-1, ind[-1]+1)\n",
    "plt.xlim(-1.1*np.max(np.abs(vals)), 1.1*np.max(np.abs(vals)))\n",
    "plt.xlabel('PRL$\\qquad\\qquad\\qquad$Nature/Science')\n",
    "plt.gca().spines['top'].set_visible(False)\n",
    "plt.gca().spines['right'].set_visible(False)\n",
    "plt.gca().spines['left'].set_visible(False)\n",
    "plt.gca().xaxis.set_ticks_position('bottom')\n",
    "plt.gca().yaxis.set_ticks_position('none')"
   ]
  },
  {
   "cell_type": "code",
   "execution_count": null,
   "metadata": {
    "collapsed": true
   },
   "outputs": [],
   "source": [
    "session.close()"
   ]
  },
  {
   "cell_type": "code",
   "execution_count": null,
   "metadata": {
    "collapsed": true
   },
   "outputs": [],
   "source": []
  }
 ],
 "metadata": {
  "kernelspec": {
   "display_name": "Python 2",
   "language": "python",
   "name": "python2"
  },
  "language_info": {
   "codemirror_mode": {
    "name": "ipython",
    "version": 2
   },
   "file_extension": ".py",
   "mimetype": "text/x-python",
   "name": "python",
   "nbconvert_exporter": "python",
   "pygments_lexer": "ipython2",
   "version": "2.7.11"
  }
 },
 "nbformat": 4,
 "nbformat_minor": 0
}
