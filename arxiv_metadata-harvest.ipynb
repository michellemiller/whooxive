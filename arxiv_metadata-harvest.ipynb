{
 "cells": [
  {
   "cell_type": "code",
   "execution_count": 4,
   "metadata": {
    "collapsed": false
   },
   "outputs": [],
   "source": [
    "%matplotlib inline\n",
    "#import dateutil.parser\n",
    "from datetime import date, timedelta\n",
    "#import sqlalchemy\n",
    "#import urllib2\n",
    "#import xml\n",
    "#import xml.etree.ElementTree\n",
    "#from lxml import etree\n",
    "#from lxml import objectify\n",
    "#from bs4 import BeautifulSoup\n",
    "#import metadataDB\n",
    "import metadataDB.addArticle\n",
    "import metadataDB.getMetadata\n",
    "import metadataDB.harvest\n",
    "#import itertools\n",
    "import time\n",
    "#import pyoai"
   ]
  },
  {
   "cell_type": "markdown",
   "metadata": {},
   "source": [
    "First OAI dates from 2007. Very dense in 2007-05, probably want to go by the day."
   ]
  },
  {
   "cell_type": "code",
   "execution_count": null,
   "metadata": {
    "collapsed": false
   },
   "outputs": [
    {
     "name": "stdout",
     "output_type": "stream",
     "text": [
      "(datetime.date(2009, 1, 1), datetime.date(2009, 4, 1))\n",
      "xml is long... at 0 / 8168.\n",
      "xml is long... at 1000 / 8168."
     ]
    }
   ],
   "source": [
    "reload(metadataDB.harvest)\n",
    "# datelist = [date(1990,1,1)] + \\\n",
    "#            [date(2007, 5, 22)] + \\\n",
    "#            [date(2007, 5, 23)] + \\\n",
    "#            [date(2007, x, 1) for x in range(6,13)] + \\\n",
    "#            [date(x, y, 1) for x in range(2008,2016) for y in range(1,13)]\n",
    "#datelist = [date(x, 1, 1) for x in range(2008,2016)]\n",
    "datelist = [date(x, y, 1) for x in range(2009,2016) for y in range(1,13,3)]\n",
    "#datelist = [date(2015,2,1), date(2015,2,2)]\n",
    "for (fromdate, todate) in zip(datelist[0:-1], datelist[1:]):\n",
    "    print(fromdate, todate)\n",
    "    new = metadataDB.harvest.harvest(fromdate, todate)\n",
    "    try:\n",
    "        print \"%i articles added\" % new\n",
    "    except:\n",
    "        pass\n",
    "    time.sleep(30)"
   ]
  },
  {
   "cell_type": "code",
   "execution_count": null,
   "metadata": {
    "collapsed": true
   },
   "outputs": [],
   "source": []
  }
 ],
 "metadata": {
  "kernelspec": {
   "display_name": "Python 2",
   "language": "python",
   "name": "python2"
  },
  "language_info": {
   "codemirror_mode": {
    "name": "ipython",
    "version": 2
   },
   "file_extension": ".py",
   "mimetype": "text/x-python",
   "name": "python",
   "nbconvert_exporter": "python",
   "pygments_lexer": "ipython2",
   "version": "2.7.11"
  }
 },
 "nbformat": 4,
 "nbformat_minor": 0
}
