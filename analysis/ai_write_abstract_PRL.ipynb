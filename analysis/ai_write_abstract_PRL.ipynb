{
 "cells": [
  {
   "cell_type": "code",
   "execution_count": 1,
   "metadata": {
    "collapsed": true
   },
   "outputs": [],
   "source": [
    "#Need to add parent directoy to sys.path to find 'metadataDB'\n",
    "import sys\n",
    "sys.path.append('../')\n",
    "\n",
    "%matplotlib inline\n",
    "# import matplotlib.pyplot as plt \n",
    "import time\n",
    "# import numpy as np\n",
    "# import scipy as sp\n",
    "import re\n",
    "from collections import Counter\n",
    "import random\n",
    "\n",
    "# Natural language processing toolkit\n",
    "# To use this, run nltk.download() and download 'stopwords'\n",
    "# from nltk.corpus import stopwords\n",
    "# s=stopwords.words('english') + ['']\n",
    "\n",
    "# Machine learning\n",
    "# from sklearn.feature_extraction.text import CountVectorizer\n",
    "# from sklearn.feature_extraction.text import TfidfTransformer\n",
    "# from sklearn.naive_bayes import MultinomialNB\n",
    "# from sklearn.linear_model import LogisticRegression\n",
    "# from sklearn.svm import LinearSVC, SVC\n",
    "# from sklearn.pipeline import Pipeline\n",
    "# from sklearn import metrics\n",
    "\n",
    "# SQL\n",
    "from sqlalchemy import create_engine\n",
    "from sqlalchemy.orm import sessionmaker\n",
    "from metadataDB.declareDatabase import *\n",
    "from sqlalchemy import or_, and_\n",
    "\n",
    "engine = create_engine(\"sqlite:///../arXiv_metadata.db\", echo=False)\n",
    "Base.metadata.bind = engine\n",
    "DBsession = sessionmaker(bind=engine)\n",
    "session = DBsession()"
   ]
  },
  {
   "cell_type": "code",
   "execution_count": 2,
   "metadata": {
    "collapsed": true
   },
   "outputs": [],
   "source": [
    "query = session.query(Article).filter(or_(Article.journal_ref.like('Physics Review Letters%'),\n",
    "                                          Article.journal_ref.like('Phys. Rev. Lett.%'),\n",
    "                                          Article.journal_ref.like('PRL%')))\n",
    "# query = session.query(Article).filter(or_(Article.journal_ref.like('Nature%'),\n",
    "#                                           Article.journal_ref.like('Nat.%'),\n",
    "#                                           Article.journal_ref.like('Science%')))\n",
    "abstract_all = [x.abstract for x in query.all()]\n",
    "# titleNatureScience = [x.title for x in query.all()]\n",
    "session.close_all()"
   ]
  },
  {
   "cell_type": "code",
   "execution_count": 3,
   "metadata": {
    "collapsed": false
   },
   "outputs": [
    {
     "name": "stdout",
     "output_type": "stream",
     "text": [
      "14390\n"
     ]
    }
   ],
   "source": [
    "abstract_train = abstract_all\n",
    "print len(abstract_train)"
   ]
  },
  {
   "cell_type": "markdown",
   "metadata": {},
   "source": [
    "CountVectorizer might do a cleaner job."
   ]
  },
  {
   "cell_type": "code",
   "execution_count": 4,
   "metadata": {
    "collapsed": false
   },
   "outputs": [],
   "source": [
    "class AbstractWriter:\n",
    "    '''This class will take a specific n-gram and learn to write abstracts from a few words.'''\n",
    "    _data = dict()\n",
    "    _abstracts = []\n",
    "    \n",
    "    def __init__(self, ngram, randomize=False, seed=None, maxWords=200):\n",
    "        self.ngram = ngram\n",
    "        self.randomize = randomize\n",
    "        self.seed = seed\n",
    "        self.maxWords = maxWords\n",
    "        if seed is not None:\n",
    "            random.seed(seed)\n",
    "\n",
    "    \n",
    "    def fit(self, train):\n",
    "        data_list = []\n",
    "        for item in train:\n",
    "            ind = 0\n",
    "            textlist = self.__cleanup_text(item)\n",
    "            self._abstracts.append(' '.join(textlist))\n",
    "            while ind + self.ngram - 1 < len(textlist):\n",
    "                currentTuple = tuple(textlist[ind:(ind+self.ngram-1)])\n",
    "                nextWord = textlist[ind+self.ngram-1]\n",
    "                data_list.append((tuple(textlist[ind:(ind+self.ngram-1)]),\n",
    "                                        textlist[ind+self.ngram-1]))\n",
    "                ind += 1\n",
    "        data_list.sort()\n",
    "        \n",
    "        # Now that the list is sorted, convert it into a dictionary.\n",
    "        # Since the list is sorted, each subsuquent entry is either new or a continuation of the previous one.\n",
    "\n",
    "        previousKey = None\n",
    "        for val in data_list:\n",
    "            currentKey = val[0]\n",
    "            if currentKey == previousKey:\n",
    "                self._data[currentKey].append(val[1])\n",
    "            else:\n",
    "                self._data[currentKey] = [val[1]]\n",
    "            previousKey = val[0]\n",
    "\n",
    "    def find_next_word(self, phrase):\n",
    "        '''phrase is a tuple of (typ. 3) words. Returns the next word.'''\n",
    "        # Since data is sorted, it should be possible to search quickly. I'm not doing this properly.\n",
    "        if phrase in self._data.keys():\n",
    "            solution = self._data[phrase]\n",
    "            \n",
    "            # If there are more than one result, we either return the most popular option or\n",
    "            # a random answer weighted by popularity.\n",
    "            if self.randomize:\n",
    "                return random.choice(solution)\n",
    "            else:\n",
    "                count = Counter(solution)\n",
    "                return count.most_common(1)[0][0]\n",
    "        else:\n",
    "            return None\n",
    "        \n",
    "    def write_abstract(self, beginning):\n",
    "        abstract = list(beginning)\n",
    "        nextWord = ''\n",
    "        ind = len(beginning) - self.ngram + 1\n",
    "        while (nextWord is not None) and (ind < self.maxWords):\n",
    "            nextWord = self.find_next_word(tuple(abstract[ind:(ind+self.ngram)]))\n",
    "            if nextWord is None:\n",
    "                break\n",
    "            else:\n",
    "                abstract.append(nextWord)\n",
    "                ind += 1\n",
    "        return ' '.join(abstract)\n",
    "    \n",
    "    def find_similar(self, abstract):\n",
    "        '''Have I accidentally plagarized one of the articles?\n",
    "        With too few choices, we will likely just copy an existing article.\n",
    "        Returns the longest chunk highlighted in an existing article.'''\n",
    "        first = 0\n",
    "        last = 1\n",
    "        abort = False\n",
    "        longestChunk = ''\n",
    "        longestChunkLength = 0\n",
    "\n",
    "        totalLength = len(abstract.split())\n",
    "        while first + longestChunkLength < totalLength:\n",
    "            chunk = ' '.join(abstract.split()[first:last])\n",
    "            if any(x for x in self._abstracts if chunk in x):\n",
    "                if last - first + 1 > longestChunkLength:\n",
    "                    longestChunk = chunk\n",
    "                    longestChunkLength = last - first + 1\n",
    "                last += 1\n",
    "            else:\n",
    "                first += 1\n",
    "                last = first + 1\n",
    "        \n",
    "        best_abstract = (x for x in self._abstracts if longestChunk in x).next()\n",
    "        return re.sub('(' + longestChunk + ')', '[[[' + longestChunk + ']]]', best_abstract)\n",
    "\n",
    "\n",
    "    def __cleanup_text(self, text):\n",
    "        # re from kaggle https://www.kaggle.com/c/word2vec-nlp-tutorial/details/part-1-for-beginners-bag-of-wordsi\n",
    "        # Remove punctuation. Keep periods.\n",
    "        # \n",
    "        # New trick: replace numbers with ##, which we will later replace with different numbers.\n",
    "        pattern1 = re.compile(\"[0-9]\")\n",
    "        pattern2 = re.compile(\"[^a-zA-Z#.]\")\n",
    "        # The previous pattern could make multiple spaces. Turn multiple spaces into a single space.\n",
    "        pattern3 = re.compile(\"(\\s{2,})\")\n",
    "        return pattern3.sub(\" \",\n",
    "                            pattern2.sub(\" \",\n",
    "                                         pattern1.sub(\"#\",\n",
    "                                                      text.lstrip().rstrip()))).split(' ')"
   ]
  },
  {
   "cell_type": "markdown",
   "metadata": {},
   "source": [
    "\"In this Letter, we\" is a popular phrase. Let's make a bunch of abstracts that start that way, and find if they accidentally plagarize anything."
   ]
  },
  {
   "cell_type": "code",
   "execution_count": 16,
   "metadata": {
    "collapsed": false
   },
   "outputs": [],
   "source": [
    "def InThisLetterWe(ngram):\n",
    "    writer = AbstractWriter(ngram=ngram, randomize=True, seed=42)\n",
    "    writer.fit(abstract_train)\n",
    "    basephrase = ['In','this', 'Letter', 'we']\n",
    "#     if ngram == 6:\n",
    "#         writer5 = AbstractWriter(ngram=5, randomize=True, seed=42)\n",
    "#         phrase += random.choice(['report'], ['show'])\n",
    "    if ngram == 6:\n",
    "        writer5 = AbstractWriter(ngram=5, randomize=True, seed=42)\n",
    "    for i in range(0,5):\n",
    "        if ngram == 6:\n",
    "            phrase = basephrase + [writer5.find_next_word(tuple(basephrase))]\n",
    "        else:\n",
    "            phrase = basephrase\n",
    "        currentAbstract = writer.write_abstract(phrase)\n",
    "        print 'New abstract: ' + currentAbstract\n",
    "        print ''\n",
    "        print 'Existing abstract: ' + writer.find_similar(currentAbstract)\n",
    "        print ''\n",
    "    return writer\n",
    "\n",
    "def WriteAbstract(ngram):\n",
    "    writer = AbstractWriter(ngram=ngram, randomize=True, seed=42)\n",
    "    writer.fit(abstract_train)\n",
    "    for i in range(0,5):\n",
    "        phrase = random.choice(writer._abstracts).split()[0:(ngram-1)]\n",
    "        currentAbstract = writer.write_abstract(tuple(phrase))\n",
    "        print 'New abstract: ' + currentAbstract\n",
    "        print ''\n",
    "        print 'Existing abstract: ' + writer.find_similar(currentAbstract)\n",
    "        print ''\n",
    "    return writer"
   ]
  },
  {
   "cell_type": "code",
   "execution_count": 6,
   "metadata": {
    "collapsed": false
   },
   "outputs": [
    {
     "name": "stdout",
     "output_type": "stream",
     "text": [
      "New abstract: In this Letter we report a distinct additional contribution to thermal conductivity. Moreover this low temperature contribution prevails a definite conclusion on the validity or violation of the symmetry breaking is enormously stronger for heterovalent substitution so that the initial state of the incident photons form a pulse train which enters the loops. Dynamically controlled loop coupling ratios allow the construction of a protocol that mimicking what happens to the guests of the hotel maps the amplitudes of transmitted and reflected waves in the interacting two qubit system is probed by extensive quantum Monte Carlo simulations under strong Coulombic couplings. The present results suggest that the quantum metallic phase following the magnetic field we reveal a novel evolution mechanism forcing the LBs to follow varying dispersion diffraction conditions until they leave their existence range and decay.\n",
      "\n",
      "Existing abstract: We report the first experimental observation of #D LBs excited by femtosecond pulses in a system featuring quasi instantaneous cubic nonlinearity and a periodic transversally modulated refractive index. Stringent evidence of the excitation of LBs is based on time gated images and spectra which perfectly match our numerical simulations. Furthermore [[[we reveal a novel evolution mechanism forcing the LBs to follow varying dispersion diffraction conditions until they leave their existence range and]]] decay.\n",
      "\n",
      "New abstract: In this Letter we show that a perfect Penrose tiling PPT layer can be grown with particle number conservation laws which lead to persistent shearbanding. These features are due to dephasing collisions inelastic collisions between three atoms. These observations are consistent with those of other modes due to different lattice constants a and c.\n",
      "\n",
      "Existing abstract: A local growth algorithm for a decagonal quasicrystal is presented. We [[[show that a perfect Penrose tiling PPT layer can be grown]]] on a decapod tiling layer by a three dimensional #D local rule growth. Once a PPT layer begins to form on the upper layer successive #D PPT layers can be added on top resulting in a perfect decagonal quasicrystalline structure in bulk with a point defect only on the bottom surface layer. Our growth rule shows that an ideal quasicrystal structure can be constructed by a local growth algorithm in #D contrary to the necessity of non local information for a #D PPT growth.\n",
      "\n",
      "New abstract: In this Letter we study a particle hole symmetric case. If in addition the dynamics of gels and that of the spin wave velocity for waveguide geometries where the resulting spatiotemporal pattern is constrained by the topological vacuum charge of the conformal field theory on classical space times it excludes the Planck era. Using techniques from loop quantum gravity acquires a boundary term that is typically neglected. Contrary to the longstanding view that shear thickening drives the transition from a flat phase to a pinned emph ferromagnetic Wigner crystal of fermions of fractional charge e e # quasielectron state is identified as the fast and slow conical localized waves. Such excitation corresponds to enhanced nonlinear transmission tunneling in the DQD is mediated by highly organized sarcomeres which act as traps that can dramatically increase the atomic spontaneous emission. It is shown that the use of the BaFe # x Co x O # O # . Two surface channels of very different behaviors were identified. The sheet carrier density of one channel remained constant at # x ## ## MeV below DK threshold in a lattice in various quantum optical systems. In the presence of multiple dishonest parties. In this work we revisit\n",
      "\n",
      "Existing abstract: With high quality topological insulator TI Bi#Se# thin films we report thickness independent transport properties over wide thickness ranges. Conductance remained nominally constant as the sample thickness changed from ### to # QL QL quintuple layer # QL # nm [[[. Two surface channels of very different behaviors were identified. The sheet carrier density of one channel remained constant at #]]].# x ## ## cm # down to # QL while the other which exhibited quantum oscillations remained constant at # x ## ## cm # only down to # QL. The weak antilocalization parameters also exhibited similar thickness independence. These two channels are most consistent with the topological surface states and the surface accumulation layers respectively.\n",
      "\n",
      "New abstract: In this Letter we focus on the impurity distribution in the thin film substrate which can be a powerful tool to measure restriction lengths in confined systems with walls internal obstacles or pre existing shocks. It remains unclear however whether DDT can occur in such charge ordered systems due to electron hole pairs are trapped within the molecule and are able to relax without conserving total magnetization. We present a new technique that provides massively parallel comb spectroscopy sensitive specifically to ions through the combination of cavity enhanced direct frequency comb spectroscopy of trapped ions microwave fields in the presence of strong particle interactions.\n",
      "\n",
      "Existing abstract: We have demonstrated [[[a new technique that provides massively parallel comb spectroscopy sensitive specifically to ions through the combination of cavity enhanced direct frequency comb spectroscopy]]] with velocity modulation spectroscopy. Using this novel system we have measured electronic transitions of HfF and achieved a fractional absorption sensitivity of # x ## # recorded over #### simultaneous channels spanning ### cm # around ### nm with an absolute frequency accuracy of ## MHz #.### cm # . A fully sampled spectrum consisting of interleaved measurements is acquired in ## minutes.\n",
      "\n",
      "New abstract: In this Letter we address the question of whether current induced forces both in and out degree equal to # # embedded in a CdTe planar microcavity sample. By the use of graphene and its metallic substrate.\n",
      "\n",
      "Existing abstract: We perform quantum tomography on one dimensional polariton condensates spontaneously occurring in linear disorder valleys [[[in a CdTe planar microcavity sample. By the use of]]] optical interferometric techniques we determine the first order coherence function and the amplitude and phase of the order parameter of the condensate providing a full reconstruction of the single particle density matrix for the polariton system. The experimental data are used as input to theoretically test the consistency of Penrose Onsager criterion for Bose Einstein condensation in the framework of nonequilibrium polariton condensates. The results confirm the pertinence and validity of the criterion for a non equilibrium condensed gas.\n",
      "\n"
     ]
    },
    {
     "data": {
      "text/plain": [
       "<__main__.AbstractWriter instance at 0x105fe1c68>"
      ]
     },
     "execution_count": 6,
     "metadata": {},
     "output_type": "execute_result"
    }
   ],
   "source": [
    "InThisLetterWe(4)"
   ]
  },
  {
   "cell_type": "code",
   "execution_count": 7,
   "metadata": {
    "collapsed": false
   },
   "outputs": [
    {
     "name": "stdout",
     "output_type": "stream",
     "text": [
      "New abstract: In this Letter we report a direct experimental implementation of such a witness in a room temperature microfabricated surface trap without the use of quantum resources. Such benchmarks have been established for special families of input states like coherent states and particular subclasses of squeezed states. Here we present a coherent memory using a pulsed magnetic field gradient and demonstrate the storage and retrieval process of single photon level coherent pulse. This reliable quantum memory is a crucial step toward quantum networks based on solid state devices. The multimode capacity of rare earth based optical processor goes beyond the temporal and the spectral degree of freedom which might provide a useful tool for photonic information processing.\n",
      "\n",
      "Existing abstract: Here we present the quantum storage of three dimensional orbital angular momentum photonic entanglement in a rare earth ion doped crystal. The properties of the entanglement and the storage process are confirmed by the violation of the Bell type inequality generalized to three dimensions after storage S #.### pm#.### . The fidelity of the memory process is #.### pm#.### as determined through complete quantum process tomography in three dimensions. An assessment of the visibility of the stored weak coherent pulses in higher dimensional spaces demonstrates that the memory is highly reliable for ## spatial modes. These results pave the way towards the construction of high dimensional and multiplexed quantum repeaters [[[based on solid state devices. The multimode capacity of rare earth based optical processor goes beyond the temporal and the spectral degree of freedom which might provide a useful tool for photonic information]]] processing.\n",
      "\n",
      "New abstract: In this Letter we present a theory which allows us to constrain new WIMP nucleon spin independent parameter space for WIMP nucleon scattering for WIMP masses # GeV c#.\n",
      "\n",
      "Existing abstract: SuperCDMS is an experiment designed to directly detect Weakly Interacting Massive Particles WIMPs a favored candidate for dark matter ubiquitous in the Universe. In this paper we present WIMP search results using a calorimetric technique we call CDMSlite which relies on voltage assisted Luke Neganov amplification of the ionization energy deposited by particle interactions. The data were collected with a single #.# kg germanium detector running for ## live days at the Soudan Underground Laboratory. A low energy threshold of ### eVee electron equivalent was obtained [[[which allows us to constrain new WIMP nucleon spin independent parameter space for WIMP]]] masses below # GeV c#.\n",
      "\n",
      "New abstract: In this Letter we show that by localizing a single electron spin coupled to a bath of ultracold fermions.\n",
      "\n",
      "Existing abstract: We present a theory for spin selective Aharonov Bohm oscillations in a lateral triple quantum dot. We show that to understand the Aharonov Bohm AB effect in an interacting electron system within a triple quantum dot molecule TQD where the dots lie in a ring configuration requires one to not only consider electron charge but also spin. Using a Hubbard model supported by microscopic calculations [[[we show that by localizing a single electron spin]]] in one of the dots the current through the TQD molecule depends not only on the flux but also on the relative orientation of the spin of the incoming and localized electrons. AB oscillations are predicted only for the spin singlet electron complex resulting in a magnetic field tunable spin valve .\n",
      "\n",
      "New abstract: In this Letter we pose the question of whether quantum theory is optimal for randomness i.e. is it the most nonlocal theory that allows maximal randomness certification We answer this question in the negative by identifying a larger than quantum set of correlations capable of this feat. Not only are these results relevant to understanding quantum mechanics fundamental features but also put fundamental restrictions on device independent protocols based on the no signaling principle. This is shown by proving that in the semidefinite programming for the discrimination the optimality condition corresponds to the constraint that quantum theory cannot be used for locomotion at low Reynolds number in an infinite fluid or near a rigid surface. Here we show that when the QC strength is comparable to or larger than the effective dimensionless conductance g of the sample.\n",
      "\n",
      "Existing abstract: Correlations that violate a Bell Inequality are said to be nonlocal i.e. they do not admit a local and deterministic explanation. Great effort has been devoted to study how the amount of nonlocality as measured by a Bell inequality violation serves to quantify the amount of randomness present in observed correlations. In this work we reverse this research program and ask what do the randomness certification capabilities of a theory tell us about the nonlocality of that theory. We find that contrary to initial intuition maximally nonlocal theories cannot allow maximal randomness certification. We go on and show that quantum theory in contrast permits certification of maximal randomness in all dichotomic scenarios. We hence [[[pose the question of whether quantum theory is optimal for randomness i.e. is it the most nonlocal theory that allows maximal randomness certification We answer this question in the negative by identifying a larger than quantum set of correlations capable of this feat. Not only are these results relevant to understanding quantum mechanics fundamental features but also put fundamental restrictions on device independent protocols based on the no signaling principle.]]]\n",
      "\n",
      "New abstract: In this Letter we strengthen and extend the connection between simulation and estimation to exploit simulation routines that do not exactly compute the probability of experimental data known as the likelihood function. Rather we provide an explicit algorithm for estimating parameters of physical models given access to a simulator which is only capable of producing sample outcomes. Since our algorithm does not require any subjective choice by the user. Numerical tests have been performed on two dimensional electron gases out of equilibrium can generate a fictitious vector potential with intriguing signatures in interference and Hall measurements. Detailed predictions are made for graphene where the effect is enhanced by pseudospin exchange.\n",
      "\n",
      "Existing abstract: [[[In this Letter we strengthen and extend the connection between simulation and estimation to exploit simulation routines that do not exactly compute the probability of experimental data known as the likelihood function. Rather we provide an explicit algorithm for estimating parameters of physical models given access to a simulator which is only capable of producing sample outcomes. Since our algorithm does not require]]] that a simulator be able to efficiently compute exact probabilities it is able to exponentially outperform standard algorithms based on exact computation. In this way our algorithm opens the door for the application of new insights and resources to the problem of characterizing large quantum systems which is exponentially intractable using standard simulation resources.\n",
      "\n"
     ]
    },
    {
     "data": {
      "text/plain": [
       "<__main__.AbstractWriter instance at 0x104973638>"
      ]
     },
     "execution_count": 7,
     "metadata": {},
     "output_type": "execute_result"
    }
   ],
   "source": [
    "InThisLetterWe(5)"
   ]
  },
  {
   "cell_type": "code",
   "execution_count": 8,
   "metadata": {
    "collapsed": false
   },
   "outputs": [
    {
     "name": "stdout",
     "output_type": "stream",
     "text": [
      "New abstract: In this Letter we report a direct experimental implementation of such a witness in a room temperature nuclear magnetic resonance setup which provides a proof of concept demonstration for the usefulness of discord in sensing applications. Discordant probes are shown to guarantee a nonzero precision in the estimation procedure for different generating Hamiltonians while classically correlated probes are unable to accomplish the estimation in a worst case setting. This work establishes a rigorous and direct operational interpretation for general quantum correlations shedding light on their potential for quantum technology.\n",
      "\n",
      "Existing abstract: Quantum metrology exploits quantum mechanical laws to improve the precision in estimating technologically relevant parameters such as phase frequency or magnetic fields. Probe states are usually tailored on the particular dynamics whose parameters are being estimated. Here we consider a novel framework where quantum estimation is performed in an interferometric configuration using bipartite probe states prepared when only the spectrum of the generating Hamiltonian is known. We introduce a figure of merit for the scheme given by the worst case precision over all suitable Hamiltonians and prove that it amounts exactly to a computable measure of discord type quantum correlations for the input probe. We complement our theoretical results with a metrology experiment realized in a highly controllable [[[room temperature nuclear magnetic resonance setup which provides a proof of concept demonstration for the usefulness of discord in sensing applications. Discordant probes are shown to guarantee a nonzero precision in the estimation procedure for different generating Hamiltonians while classically correlated probes are unable to accomplish the estimation in a worst case setting. This work establishes a rigorous and direct operational interpretation for general quantum correlations shedding light on their potential for quantum]]] technology.\n",
      "\n",
      "New abstract: In this Letter we discuss the quantum critical behavior at the boundaries of a Mott insulating region. A local compressibility defined to characterize the Mott insulating phase has a non trivial critical exponent. Both the local compressibility and the variance of the local density show universality with respect to the confining potential. We determine a generic phase diagram in terms of Rashba coupling Tomonaga Luttinger stiffness and backward scattering strength. We identify the parameter regimes with a dynamically generated spin gap and show where the Luttinger liquid prevails. We also discuss the consequences for the operation of the Datta Das transistor.\n",
      "\n",
      "Existing abstract: Using quantum Monte Carlo simulations we show that the one dimensional fermionic Hubbard model in a harmonic potential displays [[[quantum critical behavior at the boundaries of a Mott insulating region. A local compressibility defined to characterize the Mott insulating phase has a non trivial critical exponent. Both the local compressibility and the variance of the local density show universality with respect to the confining potential. We determine a generic phase diagram]]] that allows the prediction of the phases to be observed in experiments with ultracold fermionic atoms trapped on optical lattices.\n",
      "\n",
      "New abstract: In this Letter we study a simple quasispecies model for evolution in two different habitats with different fitness landscapes coupled through one way migration. Our model applies to asexual rapidly evolving organisms such as microbes. Our key finding is a dynamical phase transition at a critical doping near x #.###.\n",
      "\n",
      "Existing abstract: Migration between different habitats is ubiquitous among biological populations. [[[In this Letter we study a simple quasispecies model for evolution in two different habitats with different fitness landscapes coupled through one way migration. Our model applies to asexual rapidly evolving organisms such as microbes. Our key finding is a dynamical phase transition at a critical]]] value of the migration rate. The time to reach steady state diverges at this critical migration rate. Above the transition the population is dominated by immigrants from the primary habitat. Below the transition the genetic composition of the population is highly non trivial with multiple coexisting quasispecies which are not native to either habitat. Using results from localization theory we show that the critical migration rate may be very small demonstrating that evolutionary outcomes can be very sensitive to even a small amount of migration.\n",
      "\n",
      "New abstract: In this Letter we derive the Fisher information and the ensuing Cramer Rao sensitivity limit for parameter estimation by continuous measurements on an open quantum system. We introduce two degenerate Wilson chains for current carrying left and right moving electrons reflecting time reversal symmetry in the superconducting state. A peak in the temperature dependence of the scaling functions. For the hard core boson model we find z #.## # nu #.## # and eta #.# # with a critical hopping parameter of t c #.#### # . In both cases do we find a correlation length exponent consistent with nu # saturating the bound nu ge # d as well as a value of z significantly larger than previous studies and for the quantum rotor model we find z #.## # nu #.## # and eta #.## # with a critical field of h c #.## # while for the quantum rotor model consistent with z d .\n",
      "\n",
      "Existing abstract: We determine the dynamical critical exponent z appearing at the Bose glass to superfluid transition in two dimensions by performing large scale numerical studies of two microscopically different quantum models within the universality class The hard core boson model and the quantum rotor soft core model both subject to strong on site disorder. By performing many simulations at different system size L and inverse temperature beta close to the quantum critical point the position of the critical point and the critical exponents z nu and eta can be determined independently of any prior assumptions of the numerical value of z . This is done by a careful scaling analysis close to the critical point with a particular focus on the temperature dependence of the scaling functions. For the hard core boson model we find z #.## # nu #.## # and eta #.## # with a critical field of h c #.## # while for the quantum rotor [[[model we find z #.## # nu #.## # and eta #.# # with a critical hopping parameter of t c #.#### # . In both cases do we find a correlation length exponent consistent with nu # saturating the bound nu ge # d as well as a value of z significantly larger than previous studies and for the quantum rotor model]]] consistent with z d .\n",
      "\n",
      "New abstract: In this Letter we focus on the peculiarity of some systems to distribute entanglement between distant parties. Even in realistic models like the spin # Heisenberg chain sizable entanglement is present between arbitrarily distant particles. We show that long distance entanglement appears for values of the microscopic parameters which do not coincide with known quantum critical points hence signaling a transition detected only by genuine quantum correlations.\n",
      "\n",
      "Existing abstract: Most quantum system with short ranged interactions show a fast decay of entanglement with the distance. [[[In this Letter we focus on the peculiarity of some systems to distribute entanglement between distant parties. Even in realistic models like the spin # Heisenberg chain sizable entanglement is present between arbitrarily distant particles. We show that long distance entanglement appears for values of the microscopic parameters which do not coincide with known quantum critical points hence signaling a transition detected only by genuine quantum]]] correlations.\n",
      "\n"
     ]
    },
    {
     "data": {
      "text/plain": [
       "<__main__.AbstractWriter instance at 0x10d9fd5f0>"
      ]
     },
     "execution_count": 8,
     "metadata": {},
     "output_type": "execute_result"
    }
   ],
   "source": [
    "InThisLetterWe(6)"
   ]
  },
  {
   "cell_type": "code",
   "execution_count": 17,
   "metadata": {
    "collapsed": false
   },
   "outputs": [
    {
     "name": "stdout",
     "output_type": "stream",
     "text": [
      "New abstract: We study the Kondo effect as in heavy fermion compound CeRhIn#. When long range antiferromagnetic correlations. The physics in the proximity of the superconducting gap affect qubits differently from quasiparticles at the impurity which results in a novel waveguide architecture. The TeO# slab waveguide deposited on a W ### single crystal were measured down to very low temperatures although the correlation length xi psi v F Delta psi approx #.# ell # . We speculate that this latter behavior is due to the damping enhancement. Without it a much shorter attosecond timescale.\n",
      "\n",
      "Existing abstract: We present the first numerical computation of the neutral fermion gap Delta psi in the nu # # quantum Hall state which is analogous to the energy gap for a Bogoliubov de Gennes quasiparticle in a superconductor. We find Delta psi approx #.### frac e # epsilon ell # comparable to the charge gap and discuss the implications for topological quantum information processing. We also deduce an effective Fermi velocity v F for neutral fermions from the low energy spectra for odd numbers of electrons and thereby obtain a [[[correlation length xi psi v F Delta psi approx #.# ell # . We]]] comment on the implications of our results for electronic mechanisms of superconductivity more generally.\n",
      "\n",
      "New abstract: By quantum calibration we name an experimental procedure for the mean square charge radius of ### ### and ### K. Magnetic reflections are observed below ### meV and an unusual nonlinear evolution of the spectral hole.\n",
      "\n",
      "Existing abstract: We present single crystal neutron diffraction measurements on multiferroic LuFe#O# showing phase transitions at [[[### and ### K. Magnetic reflections are observed below]]] each transition indicating that the magnetic interactions in LuFe#O# are # dimensional #D in character. The magnetic structure is refined as a ferrimagnetic spin configuration below the ### K transition. While #D magnetic correlations persists below ### K a significant broadening of the magnetic peaks is observed along with the build up of a diffuse component to the magnetic scattering.\n",
      "\n",
      "New abstract: We investigate shot noise for spin polarized interactions of H atoms with the probe beams. We describe the generation of coherence by Franck Condon filtering of collision energies and scattering lengths a # a # and away from half filling due to the Poissonian backscattering of fractionally charged quasiparticles appearing in the same direction as the collision progresses with the onset of ferromagnetism can be related to percolation of a particular vortex pattern is selected only when anharmonic fluctuations are taken and compared to recent experimental data on it fully untwinned YBa # Cu # O # and that the interaction of a pair of superconducting qubits with a continuum of propagating field modes and extraction of the critical point is universal that is the foundation of classical electrodynamic coupling. Our experimental and theoretical controversies over the optical properties of a class of quantum many body systems The need for these decays are ensuremath cal B xspace ensuremath B # s rightarrow K pi pi final state and by the ions phase. These features are altered qualitatively by physiological perturbations. Further we quantify the distinguishability of the two spin components and five others are hidden variables representing local spin spin interaction is amplified\n",
      "\n",
      "Existing abstract:  noindent A search for the decays B # s rightarrow mu mu mu mu and B # rightarrow mu mu mu mu is performed using data corresponding to an integrated luminosity of #.# ensuremath fb # xspace collected with the LHCb detector in ####. The number of candidates observed is consistent with the expected background and assuming phase space models of the decays limits on the branching fractions are set ensuremath cal B xspace B # s rightarrow mu mu mu mu #.# #.# times ## # and ensuremath cal B xspace B # rightarrow mu mu mu mu #.# #.# times ## # at ## ## confidence level. In addition limits are set in the context of a supersymmetric model which allows for the B # s meson to decay into a scalar S and pseudoscalar particle P where S and P have masses of #.# GeV and ###.# MeV respectively both resonances decay into mu mu . The branching fraction limits [[[for these decays are ensuremath cal B xspace ensuremath B # s rightarrow]]] SP xspace #.# #.# times ## # and ensuremath cal B xspace ensuremath B # rightarrow SP xspace #.# #.# times ## # at ## ## confidence level.\n",
      "\n",
      "New abstract: Ising type non Abelian state. In three quantum Hall interferometers of different sizes in thick gold films. We identify and quantify the strength of perturbation. Theoretical arguments relate our scaling laws for the quasiparticle properties of a small ferromagnetic next nearest neighbor interaction and that the statistical error is taken into account as well as generating highly singular spectra for them. It also has general applications in model building beyond the SM wherever alignment between exotic and SM sources of flavor violation and hence this must involve a Penrose process. However while the MES is of measure zero for # qubit states almost all # qubit states almost all # qubit states almost all # qubit states which is dominated by the interaction strength depends on the structure of single layer black phosphorus and the effect of a linear chain of repeater stations each capable of reliable local quantum computation and precision measurements are discussed.\n",
      "\n",
      "Existing abstract: We present a fully perturbative mechanism that naturally generates mass hierarchies for the Standard Model SM fermions in a flavor blind sector. The dynamics generating the mass hierarchies can therefore be independent from the source of flavor violation and hence this dynamics may operate at a much lower scale. This mechanism works by dynamically enforcing simultaneous diagonalization alignment among a set of flavor breaking spurions [[[as well as generating highly singular spectra for them. It also has general applications in model building beyond the SM wherever alignment between exotic and SM sources of flavor violation]]] is desired.\n",
      "\n",
      "New abstract: We study the realization of # qubit quantum logic gates of a quantum phase transition between silent and chaotic activity. By analyzing the Shubnikov de Haas oscillations four Fermi surfaces are identified and measured quantitatively from their different response when pumping in opposite directions. The mechanism is interpreted as the two dimensional #D Indium Phenylene Organometallic Framework IPOF that realizes a topologically nontrivial band gap is around ## meV. Moreover a simplified tight binding model that realizes the single Dirac cone through first principles calculations of structure and properties of Mott insulators realized in ### bilayers of perovskite transition metal oxides rotational and tilting GdFeO # type distortion lifts the t #g electrons and they substantially contribute to the structure of jet induced medium excitation and expanding hot spots on the dihadron azimuthal correlation with both small and large noise in dependence of applied displacements in phase space. Such settings give rise to robust vortex soliton tori i.e. three dimensional vortex solitons with topological charges S. The family with S # and S # # #D antiferromagnetic insulator Sr #CuCl #O #. We identify both a single and when multiple states are Bose selected in a non interacting spin frac # # chain\n",
      "\n",
      "Existing abstract: We find that the recently introduced model of self trapping supported by a spatially growing strength of a repulsive nonlinearity gives [[[rise to robust vortex soliton tori i.e. three dimensional vortex solitons with topological charges S. The family with S #]]] is completely stable while the one with S # has alternating regions of stability and instability. The families are nearly exactly reproduced in an analytical form by the Thomas Fermi approximation TFA . Unstable states with S # and # split into persistently rotating pairs or triangles of unitary vortices. Application of a moderate torque to the vortex torus initiates a persistent precession mode with the torus axle moving along a conical surface. A strong torque heavily deforms the vortex solitons but nonetheless they restore themselves with the axle oriented according to the vectorial addition of angular momenta.\n",
      "\n"
     ]
    },
    {
     "data": {
      "text/plain": [
       "<__main__.AbstractWriter instance at 0x150353638>"
      ]
     },
     "execution_count": 17,
     "metadata": {},
     "output_type": "execute_result"
    }
   ],
   "source": [
    "WriteAbstract(4)"
   ]
  },
  {
   "cell_type": "code",
   "execution_count": 18,
   "metadata": {
    "collapsed": false
   },
   "outputs": [
    {
     "name": "stdout",
     "output_type": "stream",
     "text": [
      "New abstract: We analyze the interplay between intra pocket and inter pocket pairing depending on the ellipticity of electron pockets and the strength of its quantum component.\n",
      "\n",
      "Existing abstract: Pairing symmetry in recently discovered Fe based metallic superconductors AFe # Se # A K Rb Cs with high transition temperature T c sim ## K is currently a subject of intensive debates. These systems contain only electron pockets according to photoemission and differ from the majority of Fe based superconductors in which both electron and hole pockets are present. Both d wave and s wave pairing symmetries have been proposed for AFe # Se # but a d wave gap generally has nodes while experiments clearly point to no nodal behavior and a conventional s wave gap is inconsistent with the observation of the neutron resonance below T c . We argue that current theories of pairing in such systems are incomplete and must include not only intra pocket pairing condensate but also inter pocket condensate made of fermions belonging to different electron pockets. [[[We analyze the interplay between intra pocket and inter pocket pairing depending on the ellipticity of electron pockets and the strength of]]] their hybridization and show that hybridization brings the system into a new s state in which the gap changes sign between hybridized pockets. This state has the full gap and at the same time supports spin resonance in agreement with the data. Near the boundary of s state we found a long thought s id state which breaks time reversal symmetry.\n",
      "\n",
      "New abstract: We report on the deterministic preparation of antiferromagnetic Heisenberg spin chains consisting of up to four fermionic atoms in a one dimensional #D electron gas #DEG adjacent to an interdigitated superconductor ferromagnet structure. An advantage of this setup is that the #DEG can induce the required Zeeman splitting and superconductivity from a single interface allowing one to utilize a wide class of inequivalent channels none of which can simulate each other. We also consider the case of uniform threshold finding that the two exponents reduce to the mean field ones.\n",
      "\n",
      "Existing abstract: We show that a topological phase supporting Majorana fermions can form in a [[[#D electron gas #DEG adjacent to an interdigitated superconductor ferromagnet structure. An advantage of this setup is that the #DEG can induce the required Zeeman splitting and superconductivity from a single interface allowing one to utilize a wide class of]]] #DEGs including the surface states of bulk InAs. We demonstrate that the interdigitated device supports a robust topological phase when the finger spacing lambda is smaller than half of the Fermi wavelength lambda F. In this regime the electrons effectively see a smeared Zeeman splitting and pairing field despite the interdigitation. The topological phase survives even in the opposite limit lambda lambda F # though with a reduced bulk gap. We describe how to electrically generate a vortex in this setup to trap a Majorana mode and predict an anomalous Fraunhofer pattern that provides a sharp signature of chiral Majorana edge states.\n",
      "\n",
      "New abstract: So far it has been shown that such passive linear optical devices generate a superexponentially large amount of number path entanglement. A logical question to ask is whether this entanglement may be exploited for example for enhancing the sensitivity of N##N states for increasing the capacity of a channel or for multiplexing multiple channels into a single one.\n",
      "\n",
      "Existing abstract: Quantum number path entanglement is a resource for super sensitive quantum metrology and in particular provides for sub shotnoise or even Heisenberg limited sensitivity. However such number path entanglement has thought to have been resource intensive to create in the first place typically requiring either very strong nonlinearities or nondeterministic preparation schemes with feed forward which are difficult to implement. Very recently arising from the study of quantum random walks with multi photon walkers as well as the study of the computational complexity of passive linear optical interferometers fed with single photon inputs [[[it has been shown that such passive linear optical devices generate a superexponentially large amount of number path entanglement. A logical question to ask is whether this entanglement may be exploited for]]] quantum metrology. We answer that question here in the affirmative by showing that a simple passive linear optical interferometer fed with only uncorrelated single photon inputs coupled with simple single mode disjoint photodetection is capable of significantly beating the shotnoise limit. Our result implies a pathway forward to practical quantum metrology with readily available technology.\n",
      "\n",
      "New abstract: Applying focused ion beam FIB nanotomography and Rutherford backscattering spectroscopy RBS to dealloyed platinum aluminum thin films an in depth analysis of the dominating physical mechanisms of porosity formation during the dealloying process is performed. The dynamical porosity formation due to the dissolution of the less noble aluminum in the alloy is treated as result of a reaction diffusion system. The RBS analysis yields that the porosity formation is mainly caused by a linearly propagating diffusion front i.e. the liquid solid interface with a uniform speed of ## # nm s when using a #M aqueous NaOH solution at room temperature. The decay rate obtained from luminescence decay curves increases with the emission frequency in a supra linear way. This dependence is explained by the theoretical model and observed in the experiments. The intrinsic phonon induced pure dephasing of the zero phonon line and both the relaxation and linewidth are found to follow a power law f proportional to V #.# . This finding supported by other consistent indicators implies a novel quantitative criterion to single out the collective degrees of freedom of photonic qubits using linear optical tools only. By means of a kinetic equation we analyze the spin spin correlations and block\n",
      "\n",
      "Existing abstract: [[[Applying focused ion beam FIB nanotomography and Rutherford backscattering spectroscopy RBS to dealloyed platinum aluminum thin films an in depth analysis of the dominating physical mechanisms of porosity formation during the dealloying process is performed. The dynamical porosity formation due to the dissolution of the less noble aluminum in the alloy is treated as result of a reaction diffusion system. The RBS analysis yields that the porosity formation is mainly caused by a linearly propagating diffusion front i.e. the liquid solid interface with a uniform speed of ## # nm s when using a #M aqueous NaOH solution at room temperature. The]]] experimentally observed front evolution is captured by the normal diffusive Fisher Kolmogorov Petrovskii Piskounov FKPP equation and can be interpreted as a branching random walk phenomenon. The etching front produces a gradual porosity with an enhanced porosity in the surface near regions of the thin film due to prolonged exposure of the alloy to the alkaline solution.\n",
      "\n",
      "New abstract: Using the four terminal Landauer B u ttiker formula we show that the S # # Heisenberg model on the honeycomb lattice in a magnetic field we search for the non Abelian quantum Hall states were obtained from studying special multi particle interaction Hamiltonians whose unique ground states are the model FQH wave functions and our Bloch basis allows for a mutatis mutandis transcription of these model wave functions to the fractional Chern insulator in non equilibrium quantum transport through molecular junctions is assessed by analyzing the IV curve of a generic two level model using self consistent many body perturbation theory calculations reveal a high sensitivity of the new technique.\n",
      "\n",
      "Existing abstract: We introduce a Bloch like basis in a C component lowest Landau level fractional quantum Hall FQH effect which entangles the real and internal degrees of freedom and preserves an Nx x Ny full lattice translational symmetry. We implement the Haldane pseudopotential Hamiltonians in this new basis. Their [[[ground states are the model FQH wave functions and our Bloch basis allows for a mutatis mutandis transcription of these model wave functions to the fractional Chern insulator]]] of arbitrary Chern number C obtaining wave functions different from all previous proposals. For C # our wave functions are related to color dependent magnetic flux inserted versions of Halperin and non Abelian color singlet states. We then provide large size numerical results for both the C # and C # cases. This new approach leads to improved overlaps compared to previous proposals. We also discuss the adiabatic continuation from the fractional Chern insulator to the FQH in our Bloch basis both from the energy and the entanglement spectrum perspectives.\n",
      "\n"
     ]
    },
    {
     "data": {
      "text/plain": [
       "<__main__.AbstractWriter instance at 0x185402098>"
      ]
     },
     "execution_count": 18,
     "metadata": {},
     "output_type": "execute_result"
    }
   ],
   "source": [
    "WriteAbstract(5)"
   ]
  },
  {
   "cell_type": "code",
   "execution_count": 19,
   "metadata": {
    "collapsed": false
   },
   "outputs": [
    {
     "name": "stdout",
     "output_type": "stream",
     "text": [
      "New abstract: Artificial gauge fields open new possibilities to realize quantum many body systems with present technology. Remarkably the emergence of thermal states does not follow from a coupling to an environment but is a result of the physics of the pnictides.\n",
      "\n",
      "Existing abstract: We establish a setting atoms in optical superlattices with period # in which one can experimentally probe signatures of the process of local relaxation and apparent thermalization in non equilibrium dynamics without the need of addressing single sites. This opens up a way to explore the convergence of subsystems to maximum entropy states in quenched [[[quantum many body systems with present technology. Remarkably the emergence of thermal states does not follow from a coupling to an environment but is a result of the]]] complex non equilibrium dynamics in closed systems. We explore ways of measuring the relevant signatures of thermalization in this analogue quantum simulation of a relaxation process exploiting the possibilities offered by optical superlattices.\n",
      "\n",
      "New abstract: The Stark effect in hydrogen and the cubic anharmonic oscillator furnish examples of quantum systems where the perturbation results in a certain ionization probability by tunneling processes. Accordingly the perturbed ground state energy is shifted and broadened thus acquiring an imaginary part which is considered to be a paradigm of nonperturbative behavior. Here we demonstrate how the electromagnetic field of a superconducting microwave resonator can be coupled to a semiconductor double quantum dot. We calculated the adiabatic charge transfer when surface gates are modulated in time. Because of spin orbit coupling in a ferromagnet and is not specific to a particular tunnel device design. The lateral geometry allows us to link directly normal anisotropic magnetoresistance AMR and TAMR. This indicates that TAMR may be observable in other materials showing a comparable AMR at room temperature such as transition metal alloys.\n",
      "\n",
      "Existing abstract: [[[The Stark effect in hydrogen and the cubic anharmonic oscillator furnish examples of quantum systems where the perturbation results in a certain ionization probability by tunneling processes. Accordingly the perturbed ground state energy is shifted and broadened thus acquiring an imaginary part which is considered to be a paradigm of nonperturbative behavior. Here we demonstrate how the]]] low order coefficients of a divergent perturbation series can be used to obtain excellent approximations to both real and imaginary parts of the perturbed ground state eigenenergy. The key is to use analytic continuation functions with a built in analytic structure within the complex plane of the coupling constant which is tailored by means of Bender Wu dispersion relations. In the examples discussed the analytic continuation functions are Gauss hypergeometric functions which take as input fourth order perturbation theory and return excellent approximations to the complex perturbed eigenvalue. These functions are Borel consistent and dramatically outperform widely used Pad e and Borel Pad e approaches even for rather large values of the coupling constant.\n",
      "\n",
      "New abstract: We investigate the nonlinear dynamics of two coupled annular Bose Einstein condensates BECs . Nature of single particle states is thoroughly examined in the Landau level basis and is shown to support the formation of half quantum vortex. In the presence of external T breaking fields non local topological correlation is established among these fields which is an experimentally observable manifestation of the emergent supersymmetry.\n",
      "\n",
      "Existing abstract: We examine the combined effects of Rashba spin orbit SO coupling and rotation on trapped spinor [[[Bose Einstein condensates BECs . Nature of single particle states is thoroughly examined in the Landau level basis and is shown to support the formation of half quantum vortex. In the presence of]]] weak s wave interactions the ground state at strong SO coupling develops ring like structures with domains whose number shows step behavior with increasing rotation. For fast rotation case the vortex pattern favors triangular lattice accompanied by the density depletion in the central region and weakened Skyrmionic character as the SO coupling is enhanced. Giant vortex formation is facilitated when SO coupling and rotation are both strong.\n",
      "\n",
      "New abstract: We study the coupling of a single nitrogen vacancy center in diamond to achieve enhanced magnetic field sensitivity. Based on dual frequency microwave pulsing the scheme works in arbitrary magnetic bias fields and is twice as sensitive to ac magnetic fields as conventional two level magnetometry. We derive the spin evolution operator for dual frequency microwave excitation and show its effectiveness for double quantum state swaps. Using multipulse sequences of up to ### pulses under optimized conditions we show enhancement of the SNR by up to a factor of ## and the world s best limit by a factor of N. Since the number of features that can be etched on a two dimensional surface scales inversely as the square of the momentum q exchanged in the collision. We compute neutrino fluxes small frequency separations surface helium abundances sound speed profiles and convective zone depths for a number of models showing more than a # sigma preference for q # models over others and over the Standard Solar Model. The preferred mass # GeV and reference dark matter nucleon cross section ## ## cm # at ## GeV c # and ## confidence level.\n",
      "\n",
      "Existing abstract: We discuss multipulse magnetometry that exploits all three magnetic sublevels of the S # [[[nitrogen vacancy center in diamond to achieve enhanced magnetic field sensitivity. Based on dual frequency microwave pulsing the scheme works in arbitrary magnetic bias fields and is twice as sensitive to ac magnetic fields as conventional two level magnetometry. We derive the spin evolution operator for dual frequency microwave excitation and show its effectiveness for double quantum state swaps. Using multipulse sequences of up to ### pulses under optimized conditions we show enhancement of the SNR by up to a factor of]]] # in detecting NMR statistical signals with a # times enhancement theoretically possible.\n",
      "\n",
      "New abstract: The line shape of the Kondo signature shows an oscillatory behavior as a function of the Widom insertion probability approximately collapse onto a master curve. Parallel and average normal diffusivities are strongly coupled at high densities and deviate from bulk fluid behavior.\n",
      "\n",
      "Existing abstract: We study the diffusive dynamics of a hard sphere fluid confined between parallel smooth hard walls. The position dependent diffusion coefficient normal to the walls is larger in regions of high local packing density. High density regions also have the largest available volume consistent with the fast local diffusivity. Indeed local and global diffusivities [[[as a function of the Widom insertion probability approximately collapse onto a master curve. Parallel and average normal diffusivities are strongly coupled at high densities and deviate from bulk fluid]]] behavior.\n",
      "\n"
     ]
    },
    {
     "data": {
      "text/plain": [
       "<__main__.AbstractWriter instance at 0x17564e1b8>"
      ]
     },
     "execution_count": 19,
     "metadata": {},
     "output_type": "execute_result"
    }
   ],
   "source": [
    "WriteAbstract(6)"
   ]
  },
  {
   "cell_type": "markdown",
   "metadata": {},
   "source": [
    "Deterministic: always choose the most popular word."
   ]
  },
  {
   "cell_type": "code",
   "execution_count": 9,
   "metadata": {
    "collapsed": false
   },
   "outputs": [
    {
     "name": "stdout",
     "output_type": "stream",
     "text": [
      "15.7712628841\n",
      "a function of the interaction strength and the cavity is suppressed for very flexible membranes. In the less deformable regime we observe a strong reduction of the effective mass of the top quark mass and the strength of the electron spin resonance ESR and decoherence. We propose spin resolved quantum rate equations with correlation functions in Laplace space for the analytical derivation of these results.\n",
      "\n",
      "Here we observe the formation of a spin # # Heisenberg antiferromagnet on a square lattice with a nearest neighbor interaction and filling. The coexistence of these two quantities shows how our results may be relevant for the design of a novel class of materials with high conversion efficiency. Some strategies have been used to determine the temperature dependence of the spin orbit coupling in the electronic structure of the material and represents the number of atoms in a one dimensional optical lattice. We show that the spin orbit coupling in the electronic structure of the material and represents the number of atoms in a one dimensional optical lattice. We show that the spin orbit coupling in the electronic structure of the material and represents the number of atoms in a one dimensional optical lattice. We show that the spin orbit coupling in the electronic structure of the material and represents the number of atoms in a one dimensional optical lattice. We show that the spin orbit coupling in the electronic structure of the material and represents the number of atoms in a one dimensional optical lattice. We show that the spin orbit coupling in the electronic structure of the material and represents\n",
      "\n",
      "We measure the mass of the top quark mass and the strength of the electron spin resonance ESR and decoherence. We propose spin resolved quantum rate equations with correlation functions in Laplace space for the analytical derivation of these results.\n",
      "\n",
      "In this Letter we show that the spin orbit coupling in the electronic structure of the material and represents the number of atoms in a one dimensional optical lattice. We show that the spin orbit coupling in the electronic structure of the material and represents the number of atoms in a one dimensional optical lattice. We show that the spin orbit coupling in the electronic structure of the material and represents the number of atoms in a one dimensional optical lattice. We show that the spin orbit coupling in the electronic structure of the material and represents the number of atoms in a one dimensional optical lattice. We show that the spin orbit coupling in the electronic structure of the material and represents the number of atoms in a one dimensional optical lattice. We show that the spin orbit coupling in the electronic structure of the material and represents the number of atoms in a one dimensional optical lattice. We show that the spin orbit coupling in the electronic structure of the material and represents the number of atoms in a one dimensional optical lattice. We show that the spin orbit coupling in the electronic structure of the material and represents the number\n",
      "560.76898694\n"
     ]
    }
   ],
   "source": [
    "# 4 grams: take 3 words and predict the 4th\n",
    "start = time.time()\n",
    "writer4 = AbstractWriter(ngram=4)\n",
    "writer4.fit(abstract_train)\n",
    "print time.time() - start\n",
    "abstract1a = writer4.write_abstract(['a', 'function', 'of', 'the'])\n",
    "abstract2a = writer4.write_abstract(['Here','we', 'observe', 'the'])\n",
    "abstract3a = writer4.write_abstract(['We','measure', 'the', 'mass'])\n",
    "abstract4a = writer4.write_abstract(['In','this', 'Letter', 'we'])\n",
    "print abstract1a\n",
    "print ''\n",
    "print abstract2a\n",
    "print ''\n",
    "print abstract3a\n",
    "print ''\n",
    "print abstract4a\n",
    "print time.time() - start"
   ]
  },
  {
   "cell_type": "code",
   "execution_count": 10,
   "metadata": {
    "collapsed": false
   },
   "outputs": [
    {
     "name": "stdout",
     "output_type": "stream",
     "text": [
      "17.3439519405\n",
      "a function of the interaction strength and temperature. At low temperature thermal fluctuations induce magnetic long range order of the Eu #f moments.\n",
      "\n",
      "Here we observe the phenomenon of sudden transition of quantum correlations when local phase and amplitude damping channels are applied to the case of a single impurity immersed in a Fermi sea close to an interspecies p wave Feshbach resonance. We show that the spin orbit interaction and the crossing of the critical point. We also make a quantitative prediction on increasing the upper critical field B c# T of the superconductor. We predict an enhancement of the shot noise in the tubes. In contrast to Coulomb drag of the average current the noise locking is based on a data sample corresponding to an integrated luminosity of #.# fb # collected with the LHCb detector at a center of mass energy of # TeV collected by the CDF II detector at the Fermilab Tevatron Collider. We derive ## CL upper limits on the branching fractions are set ensuremath cal B xspace B # s rightarrow K pi #.## pm #.## mathrm stat pm #.## mathrm syst and mathcal A B # s rightarrow K pi #.## pm #.## mathrm stat pm #.## mathrm syst and mathcal A B # s rightarrow K pi #.## pm #.## mathrm stat pm #.## mathrm syst and mathcal\n",
      "\n",
      "We measure the mass of the light CP even Higgs boson M h can directly be predicted from the other parameters of the model. The expected Berezinskii Kosterlitz Thouless transition is a unique two dimensional phase transition separating two phases with exponentially and power law decaying correlations respectively. In disordered systems these correlations propagate along favorable paths with the transition marking the point where global coherence is lost. Here we propose an experimental scheme to study spin orbit coupling SOC . As a competition between SOC and population imbalance the finite temperature phase diagram of the model is a phase transition to the high temperature and or short length limit using a combination of a vortex ring and a vortex line. Direct imaging of the nodal surface represents dynamics beyond superfluid hydrodynamics calling for a microscopic description of unitary fermionic superfluids out of equilibrium.\n",
      "\n",
      "In this Letter we show that the system exhibits a magnetically hidden order in which the particles move in the same direction. This is achieved through an all optical scheme operating at high particle densities ## ## cm # s # . Accurate quantum scattering calculations based on ab initio and scaled interaction potentials show that collision induced spin relaxation of conduction electrons in bulk silicon. We find a surprisingly subtle interference of the Elliott and Yafet processes affecting the spin relaxation over a wide temperature range # suggests that pairing occurs at temperatures considerably above Tc and it thus appeared quite natural for us to associate the opening of the pseudogap and the superconducting phases in Bi # Sr # CaCu # O # delta Bi #### and ortho II YBa # Cu # O # delta Bi #### and ortho II YBa # Cu # O # delta Bi #### and ortho II YBa # Cu # O # delta Bi #### and ortho II YBa # Cu # O # delta Bi #### and ortho II YBa # Cu # O # delta Bi #### and ortho II YBa # Cu # O # delta Bi #### and ortho II YBa\n",
      "538.254809856\n"
     ]
    }
   ],
   "source": [
    "# 5 grams: take 4 words and predict the 5th\n",
    "start = time.time()\n",
    "writer5 = AbstractWriter(ngram=5)\n",
    "writer5.fit(abstract_train)\n",
    "print time.time() - start\n",
    "abstract1b = writer5.write_abstract(['a', 'function', 'of', 'the'])\n",
    "abstract2b = writer5.write_abstract(['Here','we', 'observe', 'the'])\n",
    "abstract3b = writer5.write_abstract(['We','measure', 'the', 'mass'])\n",
    "abstract4b = writer5.write_abstract(['In','this', 'Letter', 'we'])\n",
    "print abstract1b\n",
    "print ''\n",
    "print abstract2b\n",
    "print ''\n",
    "print abstract3b\n",
    "print ''\n",
    "print abstract4b\n",
    "print time.time() - start"
   ]
  },
  {
   "cell_type": "code",
   "execution_count": 11,
   "metadata": {
    "collapsed": false
   },
   "outputs": [
    {
     "name": "stdout",
     "output_type": "stream",
     "text": [
      "17.2727239132\n",
      "a function of the interaction strength and other relevant properties characterizing the Fermi liquid behavior effective mass discontinuity at the Fermi surface and pair correlation function. In the high density regime the anisotropic effect plays an important role. We find phase transitions from singlet pairing to FFLO and further to S z # triplet pairing can generally take place upon increasing the magnetic field when strong charge fluctuations coexist with spin fluctuations and ii the enhancement of the charge fluctuations lead to a significant increase of the pairing correlations and critical temperature relative to the homogeneous system when the modulation length scale is sufficiently large. With a separable form of the irreducible particle particle vertex we show that optimized superconductivity is obtained for moderate modulation strength due to a delicate balance between the number of high degree nodes in the network and the topological distance between them dictates the existence or absence of such a threshold. In particular small world random networks with a degree distribution decaying slower than an exponential have a vanishing epidemic threshold in the thermodynamic limit.\n",
      "\n",
      "Here we observe the phenomenon of photon blockade through second order correlation function measurements. The experiments clearly demonstrate antibunching in a continuously pumped source of single microwave photons measured using microwave beam splitters linear amplifiers and quadrature amplitude detectors. We also investigate resonance fluorescence and Rayleigh scattering in Mollow triplet like spectra.\n",
      "\n",
      "We measure the mass of the top quark in lepton jets final states using the full sample of Tevatron sqrt s #.## TeV proton antiproton collisions recorded by the CDF II detector. The top quark mass and the mass of the excited core hole in contrast to the spin coherent case . In the infinite mass limit the spin incoherent problem can be mapped onto an effective one dimensional configuration coordinate diagram. Our approach is implemented based on density functional theory and the local density approximation. This transition has lately been reported to lead to orbital ordering and a quenching of the local spin magnetic moment. Our results hint towards an orbital ordering scenario which markedly different from the previously proposed scheme preserves the local S # moment at the Ru sites in the low temperature phase. The unusual magnetic behaviour is interpreted by the formation of spin ladders which result from the structural changes occurring at the transition and are characterized by antiferromagnetic coupling along the rungs.\n",
      "\n",
      "In this Letter we show that by operating the oscillator at special points in the parameter space tunable by a single parameter. At sufficiently low temperatures complete spin polarization may be achieved provided repulsive interaction between electrons is not too strong.\n",
      "421.882521868\n"
     ]
    }
   ],
   "source": [
    "# 6 grams: take 5 words and predict the 6th\n",
    "start = time.time()\n",
    "writer6 = AbstractWriter(ngram=6, randomize=True, seed=42)\n",
    "writer6.fit(abstract_train)\n",
    "print time.time() - start\n",
    "abstract1c = writer6.write_abstract(['a', 'function', 'of', 'the', 'interaction'])\n",
    "abstract2c = writer6.write_abstract(['Here','we', 'observe', 'the', 'phenomenon'])\n",
    "abstract3c = writer6.write_abstract(['We','measure', 'the', 'mass', 'of'])\n",
    "abstract4c = writer6.write_abstract(['In','this', 'Letter', 'we', 'show'])\n",
    "print abstract1c\n",
    "print ''\n",
    "print abstract2c\n",
    "print ''\n",
    "print abstract3c\n",
    "print ''\n",
    "print abstract4c\n",
    "print time.time() - start"
   ]
  },
  {
   "cell_type": "markdown",
   "metadata": {},
   "source": [
    "Randomized approach. The next word is weighted by its frequency in previous documents."
   ]
  },
  {
   "cell_type": "code",
   "execution_count": 12,
   "metadata": {
    "collapsed": false
   },
   "outputs": [
    {
     "name": "stdout",
     "output_type": "stream",
     "text": [
      "17.1299350262\n",
      "a function of the noise affecting the full set of nonlinear equations that involve arbitrary dephasing Hamiltonian operators.\n",
      "\n",
      "Here we observe the lattice induced phase shifts for inferring the variation of inclusive jet production are performed using the information obtained from the former in the absence of gapped states of the corner opening angle and was recently proposed as a mechanism for significantly enhancing the fidelity. Our scheme is particularly useful in the low energy Fermi liquid fixed point in the disordered phase. Analogies to the feedback effect in unconventional heavy fermion superconductors U # x Th x Be ## and UPt # we speculate that the small Pr behavior is due to the antibonding Cu O related band while the hump is mainly formed by its bonding counterpart with a c axis bilayer coupling induced splitting of about ### nm at the ODT. We argue that current neutron star observations exclude asymmetric bosonic non interacting dark matter models. We establish the correspondence between a non classical moment of inertia I their quadrupole moment Q t approx ##.# eb is close to the band center. Depending on the shaking strength the clustering can be directed either towards the compartment initially containing mainly small particles or to the temperature which requires much larger void for the enhancement and becomes maximum during the\n",
      "\n",
      "We measure the mass differences and the width of sample. The magnetic field dependence of coherent echoes in amorphous solids. We show that the potential at its minimum when computed by the plane wave model including excitonic polariton dispersion relation. This provides a device specific fingerprint which allows to compare different devices and architectures and predict the initial number of vortices inside the electron droplet. The theory predicts that i for the RVB liquid on a square lattice. Its ground state is stabilized in a wide range of DM masses from keV to weak scales. An exponential hierarchy between the DM mass and the AF zone boundary. In addition we show that various shapes triangular elliptic acuminate or spatulate can be observed experimentally in Bose Einstein condensates. For the fermion boson mixture ##K ##Rb we obtain a violation of the Suyama Yamaguchi inequality tauNL # # fNL # where fNL and tauNL denote the amplitude of the driving. This transition is first order lowering the value of the diffusion coefficient vanishes throughout much of the parameter space for WIMP nucleon scattering in the S # # XY model where each spin degree of freedom to the SU # case of the spin polarized\n",
      "\n",
      "In this Letter we report direct measurement of magnetic coherence length. The possible origin of the low energy physics can be used as a diagnostic tool to identify different mechanisms of post transcriptional regulation. To address this issue from an emergent gravity standpoint by using an atomic nanolayer with tunable thickness and atomic density. The cooperative Lamb shift and the scattering angle. This effect is discussed for the first time up to ### ### directions while maintaining a strong three dimensional topological insulator TI for the case of d # dimensional dense mixtures of particles or decreasing concentration of the Mn atoms. This effect enables dissipationless charge current in some classes of graph topologies.\n",
      "691.434141159\n"
     ]
    }
   ],
   "source": [
    "# 4 grams: take 3 words and predict the 4th\n",
    "start = time.time()\n",
    "writer4rand = AbstractWriter(ngram=4, randomize=True, seed=42)\n",
    "writer4rand.fit(abstract_train)\n",
    "print time.time() - start\n",
    "abstract1a = writer4rand.write_abstract(['a', 'function', 'of', 'the'])\n",
    "abstract2a = writer4rand.write_abstract(['Here','we', 'observe', 'the'])\n",
    "abstract3a = writer4rand.write_abstract(['We','measure', 'the', 'mass'])\n",
    "abstract4a = writer4rand.write_abstract(['In','this', 'Letter', 'we'])\n",
    "print abstract1a\n",
    "print ''\n",
    "print abstract2a\n",
    "print ''\n",
    "print abstract3a\n",
    "print ''\n",
    "print abstract4a\n",
    "print time.time() - start"
   ]
  },
  {
   "cell_type": "code",
   "execution_count": 13,
   "metadata": {
    "collapsed": false
   },
   "outputs": [
    {
     "name": "stdout",
     "output_type": "stream",
     "text": [
      "31.7281160355\n",
      "a function of the number of data points provided i.e. given a large enough data set two point clouds can always be recognized as different clusters as long as their separation is non zero. In contrast for the sparse networks studied here a cluster structure remains undetectable even in an infinitely large network if a critical separation is not exceeded. We give analytic formulas for this critical separation as a function of interdot distance. Slight mismatch introduced in the fabrication of epitaxial superconducting LaFeAs O F thin films we performed an extensive study of bismuth s infrared conductivity under pressure. In contrast to the #D hybridized thin film an additional weakly field dependent longitudinal resistance is observed in the temperature dependence of the TEP shows a change of slope at T ### K and the Kohler rule breaks down above ## ### K range. The Fermi surface consists of six disconnected segments consistent with recent theoretical calculations of exciton Bohr radii for SWNTs suggest that their positions do not change at all even near the Mott density. In addition we found that resonant excitation of the neutral NV changes the charge state recovering its negative configuration. This type of conversion significantly improves spectral stability\n",
      "\n",
      "Here we observe the phenomenon of sudden transition of quantum correlations when local phase and amplitude damping channels are applied to the O N Wilson Fisher fixed point describing the QC Ising model when N #. We focus on the soft medium induced emissions which control the energy transport at large angles with respect to the Kohn Sham potentials is related to the unique band structure of MgB # is of a conventional nature thus implying that electron correlations are weak and may be of little importance to the superconductivity in the iron arsenic based system arises from a different mechanism.\n",
      "\n",
      "We measure the mass difference Delta m # between the D #### and the D# and the natural line width Gamma of the transition D #### D# pi . The data were recorded with the CDF II detector at the Fermilab Tevatron. Using the complete sqrt s #.## TeV and collected by the CDF II detector at the Fermilab Tevatron. Charm quark candidates are selected through the identification of an electron or muon and at least four jets. We analyze ppbar collisions data corresponding to an integrated luminosity of ##.# fb # . The angular distributions are studied in events with at least three jets and large missing transverse momentum produced in proton proton collisions at a center of mass energy of # TeV collected with the CMS detector at the LHC and corresponds to an integrated luminosity of ##.# inverse femtobarns and was collected at sqrt s # TeV with the LHCb experiment at the Large Hadron Collider. Our results are consistent with the opening of a gap in its single particle spectrum while the Hamiltonian is gapless and compute the correlations between the magnitudes and the recurrence times are fundamental. A general form for the distribution is derived imposing only the self\n",
      "\n",
      "In this Letter we derive a general model that embodies a continuous deformation between these seemingly unrelated models. We show that the spreading rate is limited by the quantum noise of the atoms. To reduce this noise it has been suggested to use entangled atomic ensembles with reduced atomic noise. Potentially this can push the stability all the way to the realization of # qubit quantum logic gates with spins in silicon and highlight the necessity to adopt gating schemes compatible with weak J coupling strengths.\n",
      "1199.58841491\n"
     ]
    }
   ],
   "source": [
    "# 5 grams: take 4 words and predict the 5th\n",
    "start = time.time()\n",
    "writer5rand = AbstractWriter(ngram=5, randomize=True, seed=42)\n",
    "writer5rand.fit(abstract_train)\n",
    "print time.time() - start\n",
    "abstract1b = writer5rand.write_abstract(['a', 'function', 'of', 'the'])\n",
    "abstract2b = writer5rand.write_abstract(['Here','we', 'observe', 'the'])\n",
    "abstract3b = writer5rand.write_abstract(['We','measure', 'the', 'mass'])\n",
    "abstract4b = writer5rand.write_abstract(['In','this', 'Letter', 'we'])\n",
    "print abstract1b\n",
    "print ''\n",
    "print abstract2b\n",
    "print ''\n",
    "print abstract3b\n",
    "print ''\n",
    "print abstract4b\n",
    "print time.time() - start"
   ]
  },
  {
   "cell_type": "code",
   "execution_count": 14,
   "metadata": {
    "collapsed": false
   },
   "outputs": [
    {
     "name": "stdout",
     "output_type": "stream",
     "text": [
      "56.1883370876\n",
      "a function of the interaction strength and other relevant properties characterizing the Fermi liquid behavior effective mass discontinuity at the Fermi surface and pair correlation function. In the high density regime the anisotropic effect plays an important role. We find phase transitions from singlet pairing to FFLO and further to S z # triplet pairing can generally take place upon increasing the magnetic field when strong charge fluctuations coexist with spin fluctuations and ii the enhancement of the charge fluctuations lead to a significant increase of the pairing correlations and critical temperature relative to the homogeneous system when the modulation length scale is sufficiently large. With a separable form of the irreducible particle particle vertex we show that optimized superconductivity is obtained for moderate modulation strength due to a delicate balance between the number of high degree nodes in the network and the topological distance between them dictates the existence or absence of such a threshold. In particular small world random networks with a degree distribution decaying slower than an exponential have a vanishing epidemic threshold in the thermodynamic limit.\n",
      "\n",
      "Here we observe the phenomenon of photon blockade through second order correlation function measurements. The experiments clearly demonstrate antibunching in a continuously pumped source of single microwave photons measured using microwave beam splitters linear amplifiers and quadrature amplitude detectors. We also investigate resonance fluorescence and Rayleigh scattering in Mollow triplet like spectra.\n",
      "\n",
      "We measure the mass of the top quark in lepton jets final states using the full sample of Tevatron sqrt s #.## TeV proton antiproton collisions recorded by the CDF II detector. The top quark mass and the mass of the excited core hole in contrast to the spin coherent case . In the infinite mass limit the spin incoherent problem can be mapped onto an effective one dimensional configuration coordinate diagram. Our approach is implemented based on density functional theory and the local density approximation. This transition has lately been reported to lead to orbital ordering and a quenching of the local spin magnetic moment. Our results hint towards an orbital ordering scenario which markedly different from the previously proposed scheme preserves the local S # moment at the Ru sites in the low temperature phase. The unusual magnetic behaviour is interpreted by the formation of spin ladders which result from the structural changes occurring at the transition and are characterized by antiferromagnetic coupling along the rungs.\n",
      "\n",
      "In this Letter we show that by operating the oscillator at special points in the parameter space tunable by a single parameter. At sufficiently low temperatures complete spin polarization may be achieved provided repulsive interaction between electrons is not too strong.\n",
      "896.768646955\n"
     ]
    }
   ],
   "source": [
    "# 6 grams: take 5 words and predict the 6th\n",
    "start = time.time()\n",
    "writer6rand = AbstractWriter(ngram=6, randomize=True, seed=42)\n",
    "writer6rand.fit(abstract_train)\n",
    "print time.time() - start\n",
    "abstract1c = writer6rand.write_abstract(['a', 'function', 'of', 'the', 'interaction'])\n",
    "abstract2c = writer6rand.write_abstract(['Here','we', 'observe', 'the', 'phenomenon'])\n",
    "abstract3c = writer6rand.write_abstract(['We','measure', 'the', 'mass', 'of'])\n",
    "abstract4c = writer6rand.write_abstract(['In','this', 'Letter', 'we', 'show'])\n",
    "print abstract1c\n",
    "print ''\n",
    "print abstract2c\n",
    "print ''\n",
    "print abstract3c\n",
    "print ''\n",
    "print abstract4c\n",
    "print time.time() - start"
   ]
  },
  {
   "cell_type": "code",
   "execution_count": 15,
   "metadata": {
    "collapsed": false
   },
   "outputs": [],
   "source": [
    "# for item in abstract_train:\n",
    "#     if 'we measure the mass of the' in item:\n",
    "#         print item\n",
    "# print ''\n",
    "\n",
    "# for item in abstract_train:\n",
    "#     if 'in this letter we show that the spin' in item.lower():\n",
    "#         print item\n",
    "# print ''\n",
    "\n",
    "# for item in abstract_train:\n",
    "#     if 'a function of the interaction' in item.lower():\n",
    "#         print item\n",
    "# print ''\n",
    "\n",
    "# for item in abstract_train:\n",
    "#     if 'here we observe the phenomenon' in item.lower():\n",
    "#         print item\n",
    "# print ''\n",
    "\n",
    "# for item in abstract_train:\n",
    "#     if 'leads to the emergence' in item.lower():\n",
    "#         print item\n",
    "# print ''\n",
    "\n"
   ]
  },
  {
   "cell_type": "markdown",
   "metadata": {},
   "source": [
    "What does the data tell us about entropy of abstracts? See \"Prediction and Entropy of Printed English\" by C. Shannon, http://languagelog.ldc.upenn.edu/myl/Shannon1950.pdf "
   ]
  },
  {
   "cell_type": "code",
   "execution_count": null,
   "metadata": {
    "collapsed": true
   },
   "outputs": [],
   "source": []
  }
 ],
 "metadata": {
  "kernelspec": {
   "display_name": "Python 2",
   "language": "python",
   "name": "python2"
  },
  "language_info": {
   "codemirror_mode": {
    "name": "ipython",
    "version": 2
   },
   "file_extension": ".py",
   "mimetype": "text/x-python",
   "name": "python",
   "nbconvert_exporter": "python",
   "pygments_lexer": "ipython2",
   "version": "2.7.11"
  }
 },
 "nbformat": 4,
 "nbformat_minor": 0
}
