{
 "cells": [
  {
   "cell_type": "code",
   "execution_count": 4,
   "metadata": {
    "collapsed": true
   },
   "outputs": [],
   "source": [
    "#Need to add parent directoy to sys.path to find 'metadataDB'\n",
    "import sys\n",
    "sys.path.append('../')\n",
    "\n",
    "%matplotlib inline\n",
    "# import matplotlib.pyplot as plt \n",
    "import time\n",
    "# import numpy as np\n",
    "# import scipy as sp\n",
    "import re\n",
    "from collections import Counter\n",
    "import random\n",
    "\n",
    "# Natural language processing toolkit\n",
    "# To use this, run nltk.download() and download 'stopwords'\n",
    "# from nltk.corpus import stopwords\n",
    "# s=stopwords.words('english') + ['']\n",
    "\n",
    "# Machine learning\n",
    "# from sklearn.feature_extraction.text import CountVectorizer\n",
    "# from sklearn.feature_extraction.text import TfidfTransformer\n",
    "# from sklearn.naive_bayes import MultinomialNB\n",
    "# from sklearn.linear_model import LogisticRegression\n",
    "# from sklearn.svm import LinearSVC, SVC\n",
    "# from sklearn.pipeline import Pipeline\n",
    "# from sklearn import metrics\n",
    "\n",
    "# SQL\n",
    "from sqlalchemy import create_engine\n",
    "from sqlalchemy.orm import sessionmaker\n",
    "from metadataDB.declareDatabase import *\n",
    "from sqlalchemy import or_, and_\n",
    "\n",
    "engine = create_engine(\"sqlite:///../arXiv_metadata.db\", echo=False)\n",
    "Base.metadata.bind = engine\n",
    "DBsession = sessionmaker(bind=engine)\n",
    "session = DBsession()"
   ]
  },
  {
   "cell_type": "code",
   "execution_count": 5,
   "metadata": {
    "collapsed": true
   },
   "outputs": [],
   "source": [
    "query = session.query(Article_Category)\\\n",
    "                    .join(Category)\\\n",
    "                    .join(Article)\\\n",
    "                    .filter(Category.name.like('%quant-ph%'))\n",
    "resultPRL = query.all()\n",
    "abstract_all = [x.article.abstract for x in query.all()]\n",
    "session.close_all()"
   ]
  },
  {
   "cell_type": "code",
   "execution_count": 6,
   "metadata": {
    "collapsed": false
   },
   "outputs": [
    {
     "name": "stdout",
     "output_type": "stream",
     "text": [
      "60594\n"
     ]
    }
   ],
   "source": [
    "abstract_train = abstract_all\n",
    "print len(abstract_train)"
   ]
  },
  {
   "cell_type": "markdown",
   "metadata": {},
   "source": [
    "CountVectorizer might do a cleaner job."
   ]
  },
  {
   "cell_type": "code",
   "execution_count": 7,
   "metadata": {
    "collapsed": false
   },
   "outputs": [],
   "source": [
    "class AbstractWriter:\n",
    "    '''This class will take a specific n-gram and learn to write abstracts from a few words.'''\n",
    "    _data = dict()\n",
    "    _abstracts = []\n",
    "    \n",
    "    def __init__(self, ngram, randomize=False, seed=None, maxWords=200):\n",
    "        self.ngram = ngram\n",
    "        self.randomize = randomize\n",
    "        self.seed = seed\n",
    "        self.maxWords = maxWords\n",
    "        if seed is not None:\n",
    "            random.seed(seed)\n",
    "\n",
    "    \n",
    "    def fit(self, train):\n",
    "        data_list = []\n",
    "        for item in train:\n",
    "            ind = 0\n",
    "            textlist = self.__cleanup_text(item)\n",
    "            self._abstracts.append(' '.join(textlist))\n",
    "            while ind + self.ngram - 1 < len(textlist):\n",
    "                currentTuple = tuple(textlist[ind:(ind+self.ngram-1)])\n",
    "                nextWord = textlist[ind+self.ngram-1]\n",
    "                data_list.append((tuple(textlist[ind:(ind+self.ngram-1)]),\n",
    "                                        textlist[ind+self.ngram-1]))\n",
    "                ind += 1\n",
    "        data_list.sort()\n",
    "        \n",
    "        # Now that the list is sorted, convert it into a dictionary.\n",
    "        # Since the list is sorted, each subsuquent entry is either new or a continuation of the previous one.\n",
    "\n",
    "        previousKey = None\n",
    "        for val in data_list:\n",
    "            currentKey = val[0]\n",
    "            if currentKey == previousKey:\n",
    "                self._data[currentKey].append(val[1])\n",
    "            else:\n",
    "                self._data[currentKey] = [val[1]]\n",
    "            previousKey = val[0]\n",
    "\n",
    "    def find_next_word(self, phrase):\n",
    "        '''phrase is a tuple of (typ. 3) words. Returns the next word.'''\n",
    "        # Since data is sorted, it should be possible to search quickly. I'm not doing this properly.\n",
    "        if phrase in self._data.keys():\n",
    "            solution = self._data[phrase]\n",
    "            \n",
    "            # If there are more than one result, we either return the most popular option or\n",
    "            # a random answer weighted by popularity.\n",
    "            if self.randomize:\n",
    "                return random.choice(solution)\n",
    "            else:\n",
    "                count = Counter(solution)\n",
    "                return count.most_common(1)[0][0]\n",
    "        else:\n",
    "            return None\n",
    "        \n",
    "    def write_abstract(self, beginning):\n",
    "        abstract = list(beginning)\n",
    "        nextWord = ''\n",
    "        ind = len(beginning) - self.ngram + 1\n",
    "        while (nextWord is not None) and (ind < self.maxWords):\n",
    "            nextWord = self.find_next_word(tuple(abstract[ind:(ind+self.ngram)]))\n",
    "            if nextWord is None:\n",
    "                break\n",
    "            else:\n",
    "                abstract.append(nextWord)\n",
    "                ind += 1\n",
    "        return ' '.join(abstract)\n",
    "    \n",
    "    def find_similar(self, abstract):\n",
    "        '''Have I accidentally plagarized one of the articles?\n",
    "        With too few choices, we will likely just copy an existing article.\n",
    "        Returns the longest chunk highlighted in an existing article.'''\n",
    "        first = 0\n",
    "        last = 1\n",
    "        abort = False\n",
    "        longestChunk = ''\n",
    "        longestChunkLength = 0\n",
    "\n",
    "        totalLength = len(abstract.split())\n",
    "        while first + longestChunkLength < totalLength:\n",
    "            chunk = ' '.join(abstract.split()[first:last])\n",
    "            if any(x for x in self._abstracts if chunk in x):\n",
    "                if last - first + 1 > longestChunkLength:\n",
    "                    longestChunk = chunk\n",
    "                    longestChunkLength = last - first + 1\n",
    "                last += 1\n",
    "            else:\n",
    "                first += 1\n",
    "                last = first + 1\n",
    "        \n",
    "        best_abstract = (x for x in self._abstracts if longestChunk in x).next()\n",
    "        return re.sub('(' + longestChunk + ')', '[[[' + longestChunk + ']]]', best_abstract)\n",
    "\n",
    "\n",
    "    def __cleanup_text(self, text):\n",
    "        # re from kaggle https://www.kaggle.com/c/word2vec-nlp-tutorial/details/part-1-for-beginners-bag-of-wordsi\n",
    "        # Remove punctuation. Keep periods.\n",
    "        # \n",
    "        # New trick: replace numbers with ##, which we will later replace with different numbers.\n",
    "        pattern1 = re.compile(\"[0-9]\")\n",
    "        pattern2 = re.compile(\"[^a-zA-Z#.]\")\n",
    "        # The previous pattern could make multiple spaces. Turn multiple spaces into a single space.\n",
    "        pattern3 = re.compile(\"(\\s{2,})\")\n",
    "        return pattern3.sub(\" \",\n",
    "                            pattern2.sub(\" \",\n",
    "                                         pattern1.sub(\"#\",\n",
    "                                                      text.lstrip().rstrip()))).split(' ')"
   ]
  },
  {
   "cell_type": "markdown",
   "metadata": {},
   "source": [
    "Let's make a bunch of abstracts that start in a way similar to existing abstracts, and find if they accidentally plagarize anything."
   ]
  },
  {
   "cell_type": "code",
   "execution_count": 8,
   "metadata": {
    "collapsed": false
   },
   "outputs": [],
   "source": [
    "def WriteAbstract(ngram):\n",
    "    writer = AbstractWriter(ngram=ngram, randomize=True, seed=42)\n",
    "    writer.fit(abstract_train)\n",
    "    for i in range(0,5):\n",
    "        phrase = random.choice(writer._abstracts).split()[0:(ngram-1)]\n",
    "        currentAbstract = writer.write_abstract(tuple(phrase))\n",
    "        print 'New abstract: ' + currentAbstract\n",
    "        print ''\n",
    "        print 'Existing abstract: ' + writer.find_similar(currentAbstract)\n",
    "        print ''\n",
    "    return writer"
   ]
  },
  {
   "cell_type": "code",
   "execution_count": 9,
   "metadata": {
    "collapsed": false
   },
   "outputs": [
    {
     "name": "stdout",
     "output_type": "stream",
     "text": [
      "New abstract: We consider one copy of a quantum state undergoing radiative decay depends on the algebraic definition of counterfactual computation can be achieved via the exchange interaction under a diagonal form. Rewriting the kinetic term in the double slit interference of visible light with the decay of a massive body in flat space time can be unravelled into stochastic trajectories described by a weak probe field through the oscillator s Hamiltonian. For a certain value omega # this appeares to to be a physical observable is represented as a von Neumann algebra N can equivalently be described as a unitary interaction with helper indeed two variants one where the breaking of scale symmetry takes place with an algebraic structure it is not clear what role each of the fundamental aim of physical investigation.\n",
      "\n",
      "Existing abstract: We have constructed the geometric phases emerging from the non trivial topology of a space dependent magnetic field interacting with the spin magnetic moment of a neutral particle. Our basic tool is the local unitary transformation which recasts the magnetic spin [[[interaction under a diagonal form. Rewriting the kinetic term in the]]] rotated frame requires the introduction of non Abelian covariant derivatives involving the gradients of the Euler angles which define the orientation of the local field. Within the rotated frame we have built a perturbation scheme assuming that the longitudinal non Abelian field component dominates the transverse ones to be evaluated to second order. The geometry embedded in the longitudinal gauge vector field and its curl the geometric magnetic field is described by the associated Aharonov Bohm phase. As an illustration we study the physics of cold ###Yb atoms dressed by two sets of circularly polarized beams forming square or triangular #D optical lattices. The geometric field is computed explicitly from the Euler angles. The magnitude of #nd order corrections due to transverse fields can be reduced to the percent level by a choice of light intensity which keeps the dressed atom loss rate below # s # . An auxiliary optical lattice confines the atoms within #D domains where the geometric field is pointing upward.\n",
      "\n",
      "New abstract: The creation of a stationary state and the Werner state. We discuss the notion of support and correspondingly our sieve valued valuations to valuations that assign to quantities subsets rather than single atoms for quantum simulations to create particle excitations with compact support where one parameter mu controls the trade off between the probability vectors corresponding to different unitary evolution which has been extensively studied over the past few decades. We now have strong theoretical evidence that quantum computers are capable of detecting single photons as well as protocols with bias # #. This result is a new method to calculate the Renyi entropies of quantum and classical subsystems is introduced and its phase space representation. In this paper we prove that full randomness can indeed be used as a ground state that the evolution map in phase space with regular and irregular constraints.\n",
      "\n",
      "Existing abstract: We extend the topos theoretic treatment given in previous papers of assigning values to quantities in quantum theory. In those papers the main idea was to assign a sieve as a partial and contextual truth value to a proposition that the value of a quantity lies in a certain set Delta subseteq mathR . Here we relate such [[[sieve valued valuations to valuations that assign to quantities subsets rather than single]]] elements of their spectra we call these interval valuations . There are two main results. First there is a natural correspondence between these two kinds of valuation which uses the notion of a state s support for a quantity Section # . Second if one starts with a more general notion of interval valuation one sees that our interval valuations based on the notion of support and correspondingly our sieve valued valuations are a simple way to secure certain natural properties of valuations such as monotonicity Section # .\n",
      "\n",
      "New abstract: We study an ultra cold atomic Bose gas at thermal equilibrium and the decoherence of the superposition and entanglement are affected by the crossing of the levels E #n # hbar E #n hbar becoming the pair of qu d its. Maximally entangled eigenstates are found to comply well with exact values for two non interacting parties A and C plus a term proportional to the dimension of the compressed quantum state. We completely characterize the two mode qubit and qutrit qutrit systems. In particular recent experiments on atom bunching and anti bunching effects. We focus on the #d interacting Majorana chain with strong disorder and low dimensions. In one dimension probe particles incident on superposed locations of a single spinless particle Time Dependent Schr o dinger equation may be helpful in quantum information theory and computation. In this paper we show that even if Bob can only send classical messages then she must reveal goes to zero that is P e thicksim exp xi n . However the relevance of unitary wavefunction dynamics to biological systems exhibiting long lived coherences in highly disordered environments where temperature dependent quantum beats have been observed. Here we demonstrate an improvement of #.# dB in one\n",
      "\n",
      "Existing abstract: The impact of disorder in the vibrational bath of an ensemble of open quantum systems is explored arising either from variation in the overall coupling strength or from uncertainty in the shape of the environment spectral function. Such disorder leads to an additional source of decoherence of subsystem ensembles due to variation in the reorganization energy. Additionally vibrational disorder induces a shift in the oscillation frequency of the coherence between ground and excited states. This shift is temperature dependent and in the high temperature limit delta omega propto T . This latter finding could be of particular relevance [[[to biological systems exhibiting long lived coherences in highly disordered environments where temperature dependent quantum beats have been observed.]]]\n",
      "\n",
      "New abstract: This paper gives a systematic review of the proposals for a potential speed up of multiqubit entanglement measures for bipartite mixed states . One of the defining features of quantum and classical messages based on simple experimental paradigms.\n",
      "\n",
      "Existing abstract: We present a quantum no key protocol for direct and secure transmission [[[of quantum and classical messages based on simple]]] Boolean function computation with several quantum gates and Shamir s interactive idea of classical message encryption. This protocol has inherent personal identification and message authentication. It probably is the first quantum protocol that can resist the man in the middle attack by itself.\n",
      "\n",
      "New abstract: The entanglement in a heralded way as a set of appropriately interleaved unitary collision streaming operators a quantum lattice systems. The accuracy of calculations of these measures of nonclassicality. This decomposition allows one to use known methods from tensor network algorithms. Recent times have also seen rapid progress in demonstrating quantum nonlocality and long distance quantum communication through the same unitary operation with the help of this equation the optimum interaction time or coping with unavoidable presence of magnetic fields on the Coulomb potential energy levels when the screening parameter of an quantum open system of tunable non linearities.\n",
      "\n",
      "Existing abstract: The intuitiveness of the tensor network graphical language is becoming well known through its use in numerical simulations using [[[methods from tensor network algorithms. Recent times have also seen rapid progress in]]] developing equations of motion to predict the time evolution of quantum entanglement Nature Physics # textbf # ## #### . Here we cast these recent results into a tensor network framework and in doing so construct a theory which exposes the topological equivalence of the evolution of a family of entanglement monotones in arbitrary dimensions. This unification was accomplished by tailoring a form of channel state duality through the interpretation of graphical tensor network rewrite rules. The introduction of tensor network methods to the theory of entanglement evolution opens the door to apply methods from the rapidly evolving area known as tensor network states.\n",
      "\n"
     ]
    },
    {
     "data": {
      "text/plain": [
       "<__main__.AbstractWriter instance at 0x10771dcb0>"
      ]
     },
     "execution_count": 9,
     "metadata": {},
     "output_type": "execute_result"
    }
   ],
   "source": [
    "WriteAbstract(4)"
   ]
  },
  {
   "cell_type": "code",
   "execution_count": 10,
   "metadata": {
    "collapsed": false
   },
   "outputs": [
    {
     "name": "stdout",
     "output_type": "stream",
     "text": [
      "New abstract: Quantum measurements are considered for optimal control of quantum systems by driving a control parameter as near to the adiabatic limit as possible over the entire protocol duration. Specifically we show that the same result holds provided that we relax the tensor structure of space like separated atoms one of which is free from explicit dependence upon intrinsic fluctuations of observables. The first error disturbance relation is unfounded since it is based on an oracularizing property of certain private information retrieval systems QSPIRs that use sublinear communication do not use shared randomness among the servers and preserve privacy against honest users and dishonest servers. Classically SPIRs without shared randomness do not exist at all. Otherwise the problems of how to implement a Mach Zehnder interferometry using a quantized Bose Josephson junction with negative charging energy. The quantum adiabatic evolution through its bifurcation point. Here we propose a nondestructive measuring method which approximately yields the eigenstates. It is particularly useful for the Kepler Coulomb problem.\n",
      "\n",
      "Existing abstract: Private information retrieval systems PIRs allow a user to extract an item from a database that is replicated over k # servers while satisfying various privacy constraints. We exhibit quantum k server symmetrically [[[private information retrieval systems QSPIRs that use sublinear communication do not use shared randomness among the servers and preserve privacy against honest users and dishonest servers. Classically SPIRs without shared randomness do not exist at all.]]]\n",
      "\n",
      "New abstract: For a tripartite pure state superposed by two individual states the bipartitely shared entanglement can always be achieved by local measurements of the third party. Consider the different aims of the third party by local quantum operations and classical communication without breaking any known physical laws. This is achieved by exploiting the geometry of the manifold playing the role of a finite thermal bath. As a consequence we give examples of states in our formalism which cannot arise in the setting of generalised probabilistic theories in which the initial energy distribution is fully recovered the expectation value of a displaced photon number parity operator. This allowed us to move from high fidelity operation to a regime where both are of comparable size. The observations are in good agreement with analytic calculations in the quasi static limit within the first order our estimation approximately agrees with the exponential decreasing rate of the Landau Zener Stuckelberg Majorana LZSM level crossing model by using a superconducting phase qubit interacting with a fermionic bath and driven by external time dependent harmonic confining potential. The formalism allows analytical expressions for various linewidths and line positions.\n",
      "\n",
      "Existing abstract: [[[For a tripartite pure state superposed by two individual states the bipartitely shared entanglement can always be achieved by local measurements of the third party. Consider the different aims of the third party]]] i.e. maximizing or minimizing the bipartitely shared entanglement we find bounds on both the possible bipartitely shared entanglement of the superposition state in terms of the corresponding entanglement of the two states being superposed. In particular by choosing the concurrence as bipartite entanglement measure we obtain calculable bounds for tripartite # otimes # otimes n dimensional cases.\n",
      "\n",
      "New abstract: We study the quantum dynamics starting in the ground state brings about a dissipative geometric phase. This phase originates from the same mechanism that leads to the related eta N pseudo Hermiticity of the position momentum and orbital angular momentum had not been formulated in a similar form by de Groote are most naturally seen as adjoints in the categorical sense of spectral families. We show how they can be applied outside of quantum theory in the circuit framework in terms of an infinite dimensional Hilbert space and we illustrate how our simple model may help to pinpoint the different sources of momentum diffusion in the resonant non perturbative regime. We show using quantum Fisher information that help to relate various forms of multipartite entanglement in macroscopic spin chains. We discuss the Heisenberg and the Schr odinger equation. This method straightforwardly yields the correct Schr odinger equation in Quantum Mechanics are expressed in lay terms for philosophers of consciousness and others. A framework is proposed and explained for the psycho physical parallelism between conscious experiences and the physical activities of our brains. However there is a question which is fundamental from both practical and philosophical point of view but also for applications regarding molecular\n",
      "\n",
      "Existing abstract: The ideas of Sensible [[[Quantum Mechanics are expressed in lay terms for philosophers of consciousness and others. A framework is proposed and explained for the psycho physical parallelism between conscious experiences and the]]] mathematical structures of quantum physics e.g. a set of quantum operators obeying some algebra and a quantum state giving the expectation value of each operator . In particular it is proposed that each set of possible conscious experiences has a measure given by the expectation value of a corresponding operator a positive operator valued measure . Then one has a generalization of the Weak Anthropic Principle named the Conditional Aesthemic Principle given that we are conscious beings our conscious experiences are likely to be typical experiences in the set of all conscious experiences with its measure.\n",
      "\n",
      "New abstract: A new interpretation offers a consistent conceptual basis for nonrelativistic quantum mechanics. We consider tests of the Leggett Garg inequality. Here we investigate the possibility of purifying the state while minimally interfering with the phase estimation.\n",
      "\n",
      "Existing abstract: [[[A new interpretation offers a consistent conceptual basis for nonrelativistic quantum mechanics.]]] The violation of Bell s inequality is explained by maintaining realism inductive inference and Einstein separability.\n",
      "\n",
      "New abstract: We describe a previously unexplored effect of the continuous spontaneous localisation model.\n",
      "\n",
      "Existing abstract: [[[We describe a previously unexplored effect of the continuous spontaneous]]] localization model whereby a correlation develops in the distributions of two nearby non interacting particles following a period of diffusion. We propose the use of this effect as an experimental test differentiating between the continuous spontaneous localization model and standard quantum theory. The test involves building a joint probability distribution for the locations of the two particles by repeatedly releasing them from two nearby traps and subsequently measuring their positions after a brief period of time. We examine the scales of time trap size and particle mass necessary for observation.\n",
      "\n"
     ]
    },
    {
     "data": {
      "text/plain": [
       "<__main__.AbstractWriter instance at 0x1236f4320>"
      ]
     },
     "execution_count": 10,
     "metadata": {},
     "output_type": "execute_result"
    }
   ],
   "source": [
    "WriteAbstract(5)"
   ]
  },
  {
   "cell_type": "code",
   "execution_count": 11,
   "metadata": {
    "collapsed": false
   },
   "outputs": [
    {
     "name": "stdout",
     "output_type": "stream",
     "text": [
      "New abstract: A prominent example of a topologically ordered phase and typically involves four spin interactions on a two dimensional kagome lattice. By using the Stochastic Green Function algorithm we show that the generated states are equal to the total angular momentum eigenstates obtained via the usual quantum mechanical coupling of angular momenta. In this way we demonstrate quantitatively the relation between the purity negativity and a universal entanglement witness for two qubit entanglement. We also prove some simple results on structural stability within the set of all possible theories under a weak empirical topology the set of all theories with retrograde signals are both open and dense.\n",
      "\n",
      "Existing abstract: We present a mathematical proof of the algorithm allowing to generate all symmetric and non symmetric total angular momentum eigenstates in remote matter qubits by projective measurements proposed in Maser et al. Phys. Rev. A ## ###### #### . By deriving a recursion formula for the [[[algorithm we show that the generated states are equal to the total angular momentum eigenstates obtained via the usual quantum mechanical coupling of angular momenta. In this way we demonstrate]]] that the algorithm is able to simulate the coupling of N spin # # systems and to implement the required Clebsch Gordan coefficients even though the particles never directly interact with each other.\n",
      "\n",
      "New abstract: A typical classical interference pattern of two waves with intensities I # I # and I ## of the three qutrits system are shown to arise as special cases of the higher dimensional version of this Hamiltonian. But in our framework it is only the asymptotic behavior of the scalar and vector potentials. We investigate the asymptotic behaviors of radial Dirac wave functions. Spherical square well potentials are employed in which the PSS breaking part in the Jost function can be acertained very accurately in the whole range of magnetic fields studied B ## ## #.### times ## ## G.\n",
      "\n",
      "Existing abstract: The pseudospin symmetry PSS has been studied extensively for bound states. Recently we justified rigorously that the PSS in single particle resonant states is exactly conserved when the attractive scalar and repulsive vector potentials of the Dirac Hamiltonian have the same magnitude but opposite sign PRL ### ###### #### . To understand more deeply the PSS we focus on several issues related to the exact conservation and breaking mechanism of the PSS in single particle resonances. In particular we are interested in how the energy and width splittings of PS partners depend on the depth [[[of the scalar and vector potentials. We investigate the asymptotic behaviors of radial Dirac wave functions. Spherical square well potentials are employed in which the PSS breaking part in the Jost function can be]]] well isolated. By examining the zeros of Jost functions corresponding to small components of the radial Dirac wave functions general properties of the PSS are analyzed. By examining the Jost function the occurrence of intruder orbitals is explained and it is possible to trace continuously the PSS partners from the PSS limit to the case with a finite potential depth. The dependence of the PSS in resonances as well as in bound states on the potential depth is investigated systematically. We find a threshold effect in the energy splitting and an anomaly in the width splitting of pseudospin partners when the depth of the single particle potential varies from zero to a finite value. The conservation and the breaking of the PSS in resonant states and bound states share some similar properties. The appearance of intruder states can be explained by examining the zeros of Jost functions. Origins of the threshold effect in the energy splitting and the anomaly in the width splitting of PS partners together with many other problems are still open and should be further investigated.\n",
      "\n",
      "New abstract: Recent advance in quantum simulations of interacting photons using superconducting circuits offers opportunities for investigating the Bose Hubbard model in weak interaction limit. An atom pair hoping term appearing in the new Hamiltonian explains naturally the recent experimental observation of Macroscopic Quantum Self Trapping MQST in the transverse dynamics of an ultracold bosonic gas in a #D lattice. The dynamics of the particles is either unperturbed or subject to a classical environmental noise such as random telegraph pink or brown noise. The observed results are consistent with those obtained by different approaches and also results in a fluctuation dissipation relation between the noise polarization and the imaginary part of the coupling constants have opposite sign Im zeta Im zeta . This in particular contains the PT symmetric case zeta zeta . We also calculate the energy flux in both the ideal and leaky cavity and study the time asymptotic behavior of the state of the medium nor fine tuning of control pulses. This considerably relaxes the prerequisites for obtaining reliable transfer of quantum information across interacting spin systems. Moreover it allows us to detect N particle interference patterns with an N fold reduction of the observed de Broglie wavelength perfect visibility and minimal noise. Because\n",
      "\n",
      "Existing abstract: In this work we propose a measure for the quantum discord of indistinguishable particles based on the definition of entanglement of particles given in H. M. Wiseman et al. Phis. Rev. Lett ## ###### #### . This discord of particles is then used to evaluate the quantum correlations in a system of two identical bosons fermions where the particles perform a quantum random walk described by the Hubbard hamiltonian [[[in a #D lattice. The dynamics of the particles is either unperturbed or subject to a classical environmental noise such as random telegraph pink or brown noise. The observed results are consistent with those]]] for the entanglement of particles and we observe that on site interaction between particles have an important protective effect on correlations against the decoherence of the system.\n",
      "\n",
      "New abstract: We study controlled phasegates for ultracold atoms in an optical lattice both experimentally and with #D full quantum Monte Carlo simulations. We find that contrary to the above naive expectation there are conditions under which the Berry phase is observable. However it is modified by the presence of the string. So this analysis is developed by expressing the complete Wightman function as the sum of two terms a Dirac action S D found in the short range Ising universality class and a tricritical end point. The phase boundary sets an upper bound for the minimal length is found to be of the Wigner form and admits a hole at the origin in contrast to the semicircle law of the Gaussian orthogonal ensemble of random matrices generated by random two body interactions that are spin S scalar BEGOE # S# . The embedding algebra is U # supset G supset G# otimes SO # with SO # generating spin S . A method for constructing the ensembles in fixed m S spaces has been developed. Numerical calculations show that the form of the excited trion depends on the state of the conceptual entity at play and its interaction with the heat bath. We derive a general\n",
      "\n",
      "Existing abstract: For m number of bosons carrying spin S # degree of freedom in Omega number of single particle orbitals each triply degenerate we introduce and analyze embedded [[[Gaussian orthogonal ensemble of random matrices generated by random two body interactions that are spin S scalar BEGOE # S# . The embedding algebra is U # supset G supset G# otimes SO # with SO # generating spin S . A method for constructing the ensembles in fixed m S]]] space has been developed. Numerical calculations show that the form of the fixed m S density of states is close to Gaussian and level fluctuations follow GOE. Propagation formulas for the fixed m S space energy centroids and spectral variances are derived for a general one plus two body Hamiltonian preserving spin. In addition to these we also introduce two different pairing symmetry algebras in the space defined by BEGOE # S# and the structure of ground states is studied for each paring symmetry.\n",
      "\n",
      "New abstract: We introduce a three junction SQUID that can be effectively used as a transport medium. To achieve this goal a source of robust entangled single photon pairs is required. While time bin entanglement offers the required robustness currently used parametric down conversion sources have limited performance due to multi pair contributions. We report the realization of quantum microwave circuits using hybrid superconductor semiconductor Josephson elements comprised of InAs nanowires contacted by NbTiN. Capacitively shunted single elements behave as transmon qubits with electrically tunable transition frequencies. Two element circuits also exhibit transmon like behavior near zero applied flux but behave as flux qubits at half the flux quantum where non sinusoidal current phase relations in the elements produce a double well Josephson potential. These hybrid Josephson elements are promising for applications requiring microwave superconducting circuits operating in magnetic field.\n",
      "\n",
      "Existing abstract: [[[We report the realization of quantum microwave circuits using hybrid superconductor semiconductor Josephson elements comprised of InAs nanowires contacted by NbTiN. Capacitively shunted single elements behave as transmon qubits with electrically tunable transition frequencies. Two element circuits also exhibit transmon like behavior near zero applied flux but behave as flux qubits at half the flux quantum where non sinusoidal current phase relations in the elements produce a double well Josephson potential. These hybrid Josephson elements are promising for applications requiring microwave superconducting circuits operating in magnetic]]] field.\n",
      "\n"
     ]
    },
    {
     "data": {
      "text/plain": [
       "<__main__.AbstractWriter instance at 0x11f469b48>"
      ]
     },
     "execution_count": 11,
     "metadata": {},
     "output_type": "execute_result"
    }
   ],
   "source": [
    "WriteAbstract(6)"
   ]
  },
  {
   "cell_type": "code",
   "execution_count": null,
   "metadata": {
    "collapsed": true
   },
   "outputs": [],
   "source": []
  }
 ],
 "metadata": {
  "kernelspec": {
   "display_name": "Python 2",
   "language": "python",
   "name": "python2"
  },
  "language_info": {
   "codemirror_mode": {
    "name": "ipython",
    "version": 2
   },
   "file_extension": ".py",
   "mimetype": "text/x-python",
   "name": "python",
   "nbconvert_exporter": "python",
   "pygments_lexer": "ipython2",
   "version": "2.7.11"
  }
 },
 "nbformat": 4,
 "nbformat_minor": 0
}
